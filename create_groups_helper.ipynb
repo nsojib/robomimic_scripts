{
 "cells": [
  {
   "cell_type": "code",
   "execution_count": 1,
   "metadata": {},
   "outputs": [],
   "source": [
    "import os\n",
    "import json\n",
    "import h5py\n",
    "import numpy as np\n",
    "\n",
    "import robomimic\n",
    "import robomimic.utils.file_utils as FileUtils\n",
    "import robomimic.utils.env_utils as EnvUtils\n",
    "import robomimic.utils.obs_utils as ObsUtils\n",
    "import imageio\n",
    "import tqdm \n",
    "import glob\n",
    "import argparse\n",
    "from create_groups import create_hdf5_filter_key"
   ]
  },
  {
   "cell_type": "code",
   "execution_count": 2,
   "metadata": {},
   "outputs": [],
   "source": [
    "# dataset_path_base_can = \"/home/ns/collect_robomimic_demos/processed/can_image_sub.hdf5\"\n",
    "# dataset_path_base_lift = \"/home/ns/collect_robomimic_demos/processed/lift_image_300_v1.hdf5\"\n",
    "# dataset_path_base_lift= \"/home/ns/collect_robomimic_demos/processed/lift_image_300_30_norm.hdf5\"\n",
    "dataset_path_base_can = \"/home/ns/collect_robomimic_demos/processed/can_image_100_v1_sub.hdf5\""
   ]
  },
  {
   "cell_type": "code",
   "execution_count": 3,
   "metadata": {},
   "outputs": [],
   "source": [
    "dataset_path_base=dataset_path_base_can"
   ]
  },
  {
   "cell_type": "code",
   "execution_count": 4,
   "metadata": {},
   "outputs": [
    {
     "name": "stdout",
     "output_type": "stream",
     "text": [
      "Number of demos:  100\n",
      "Max length:  420\n",
      "Min length:  204\n",
      "Mean length:  283.9\n",
      "Median length:  280.0\n",
      "\n",
      "expert <HDF5 dataset \"expert\": shape (100,), type \"|S8\">\n",
      "\n",
      "max_id: 100\n",
      "next_id: 101\n"
     ]
    }
   ],
   "source": [
    "f_base = h5py.File(dataset_path_base, \"r+\")\n",
    "demos = list(f_base[\"data\"].keys())\n",
    "\n",
    "lengths=[]\n",
    "demos_minmax={}\n",
    "for demo_name in demos:\n",
    "    demo=f_base['data'][demo_name]\n",
    "    num_samples=demo.attrs['num_samples']\n",
    "    lengths.append(num_samples)\n",
    "\n",
    "    action=f_base['data'][demo_name]['actions']\n",
    "    action=np.array(action) \n",
    "    demos_minmax[demo_name] = (np.min(action, axis=0), np.max(action, axis=0))\n",
    "\n",
    "\n",
    "lengths=np.array(lengths)\n",
    "\n",
    "print('Number of demos: ', len(demos))\n",
    "print('Max length: ', np.max(lengths))\n",
    "print('Min length: ', np.min(lengths))\n",
    "print('Mean length: ', np.mean(lengths))\n",
    "print('Median length: ', np.median(lengths))\n",
    "print('')\n",
    "\n",
    "for key in f_base['mask'].keys():\n",
    "    print(key, f_base['mask'][key])\n",
    "\n",
    "print('')\n",
    "max_id=np.max([int(demo.split('_')[1]) for demo in demos])\n",
    "print(f'max_id: {max_id}')\n",
    "\n",
    "next_id=max_id+1\n",
    "print(f'next_id: {next_id}')"
   ]
  },
  {
   "cell_type": "code",
   "execution_count": 5,
   "metadata": {},
   "outputs": [],
   "source": [
    "# demos_expert=[f'demo_{id}' for id in range(1, 100+1)]\n",
    "# demos_expert = np.array(demos_expert, dtype='S16') \n",
    "\n",
    "# hdf5_path=dataset_path_base \n",
    "\n",
    "# filter_keys=sorted([elem for elem in demos_expert])\n",
    "# filter_name=\"expert\"\n",
    "# filter_lengths = create_hdf5_filter_key(hdf5_path=hdf5_path, demo_keys=filter_keys, key_name=filter_name)"
   ]
  },
  {
   "cell_type": "code",
   "execution_count": 12,
   "metadata": {},
   "outputs": [
    {
     "data": {
      "text/plain": [
       "['demo_1', 'demo_10', 'demo_100', 'demo_11', 'demo_12']"
      ]
     },
     "execution_count": 12,
     "metadata": {},
     "output_type": "execute_result"
    }
   ],
   "source": [
    "expert_names=[b.decode('utf-8') for b in f_base['mask']['expert'] ]\n",
    "expert_names[:5]"
   ]
  },
  {
   "cell_type": "code",
   "execution_count": 13,
   "metadata": {},
   "outputs": [
    {
     "data": {
      "text/plain": [
       "(100, 30)"
      ]
     },
     "execution_count": 13,
     "metadata": {},
     "output_type": "execute_result"
    }
   ],
   "source": [
    "good_demos=[demo.decode('utf-8') for demo in f_base['mask']['expert']]\n",
    "bad_demos=[demo.decode('utf-8') for demo in f_base['mask']['intentional']]\n",
    "len(good_demos), len(bad_demos)"
   ]
  },
  {
   "cell_type": "code",
   "execution_count": 14,
   "metadata": {},
   "outputs": [
    {
     "data": {
      "text/plain": [
       "(100,)"
      ]
     },
     "execution_count": 14,
     "metadata": {},
     "output_type": "execute_result"
    }
   ],
   "source": [
    "goodbad = good_demos[:80]  + bad_demos[:20] \n",
    " \n",
    "goodbad=np.array(goodbad, dtype='S8')\n",
    "goodbad.shape"
   ]
  },
  {
   "cell_type": "code",
   "execution_count": 15,
   "metadata": {},
   "outputs": [],
   "source": [
    "hdf5_path=dataset_path_base\n",
    "\n",
    "filter_keys=sorted([elem for elem in goodbad])\n",
    "filter_name='g80b20i'\n",
    "filter_lengths = create_hdf5_filter_key(hdf5_path=hdf5_path, demo_keys=filter_keys, key_name=filter_name)"
   ]
  },
  {
   "cell_type": "code",
   "execution_count": null,
   "metadata": {},
   "outputs": [],
   "source": []
  },
  {
   "cell_type": "code",
   "execution_count": 23,
   "metadata": {},
   "outputs": [],
   "source": [
    "# demos_failed=[f'demo_{id}' for id in range(201, 300+1)]\n",
    "# demos_failed = np.array(demos_failed, dtype='S16') \n",
    "\n",
    "# hdf5_path=dataset_path_base \n",
    "\n",
    "# filter_keys=sorted([elem for elem in demos_failed])\n",
    "# filter_name=\"failed\"\n",
    "# filter_lengths = create_hdf5_filter_key(hdf5_path=hdf5_path, demo_keys=filter_keys, key_name=filter_name)"
   ]
  },
  {
   "cell_type": "code",
   "execution_count": null,
   "metadata": {},
   "outputs": [],
   "source": []
  },
  {
   "cell_type": "code",
   "execution_count": 16,
   "metadata": {},
   "outputs": [],
   "source": [
    "f_base.close()"
   ]
  },
  {
   "cell_type": "code",
   "execution_count": 5,
   "metadata": {},
   "outputs": [],
   "source": [
    "# del f_base['mask']['train']\n",
    "# del f_base['mask']['valid']"
   ]
  },
  {
   "cell_type": "markdown",
   "metadata": {},
   "source": [
    "### create group from text file (no data copy)"
   ]
  },
  {
   "cell_type": "code",
   "execution_count": 10,
   "metadata": {},
   "outputs": [
    {
     "data": {
      "text/plain": [
       "22"
      ]
     },
     "execution_count": 10,
     "metadata": {},
     "output_type": "execute_result"
    }
   ],
   "source": [
    "demos_txt=[]\n",
    "with open('tmp_txts/bad_touch.txt') as f:\n",
    "    lines=f.readlines()\n",
    "    for line in lines:\n",
    "        demos_txt.append(line.strip().split('.')[0])\n",
    "len(demos_txt)"
   ]
  },
  {
   "cell_type": "code",
   "execution_count": 11,
   "metadata": {},
   "outputs": [
    {
     "data": {
      "text/plain": [
       "['demo_104', 'demo_109', 'demo_110', 'demo_112', 'demo_113']"
      ]
     },
     "execution_count": 11,
     "metadata": {},
     "output_type": "execute_result"
    }
   ],
   "source": [
    "demos_txt[:5]"
   ]
  },
  {
   "cell_type": "code",
   "execution_count": 12,
   "metadata": {},
   "outputs": [],
   "source": [
    "demos_txt = np.array(demos_txt, dtype='S16') \n",
    "\n",
    "hdf5_path=dataset_path_base \n",
    "\n",
    "filter_keys=sorted([elem for elem in demos_txt])\n",
    "filter_name=\"bad_touch\"\n",
    "filter_lengths = create_hdf5_filter_key(hdf5_path=hdf5_path, demo_keys=filter_keys, key_name=filter_name)"
   ]
  },
  {
   "cell_type": "code",
   "execution_count": 13,
   "metadata": {},
   "outputs": [],
   "source": [
    "f_base.close()"
   ]
  },
  {
   "cell_type": "code",
   "execution_count": null,
   "metadata": {},
   "outputs": [],
   "source": []
  },
  {
   "cell_type": "code",
   "execution_count": null,
   "metadata": {},
   "outputs": [],
   "source": []
  },
  {
   "cell_type": "code",
   "execution_count": 5,
   "metadata": {},
   "outputs": [],
   "source": [
    "def copy_demos(f1, f2, demos2copy, next_id):\n",
    "    new_demos=[]\n",
    "    i=next_id\n",
    "    for demo_name in tqdm.tqdm(demos2copy):\n",
    "        demo2=f2['data'][demo_name]\n",
    "        num_samples= demo2.attrs['num_samples']\n",
    "        model_file= demo2.attrs['model_file']\n",
    "\n",
    "        bdemo_name=\"demo_\"+str(i)\n",
    "        new_demos.append(bdemo_name)\n",
    "        i = i+1\n",
    "\n",
    "        f1[\"data\"].create_group(bdemo_name)\n",
    "\n",
    "\n",
    "        ks=['actions', 'dones', 'rewards', 'states']\n",
    "        for k in ks:\n",
    "            kdata = demo2[k]\n",
    "            f1[\"data\"][bdemo_name].create_dataset(k, data=kdata)\n",
    "\n",
    "        obs_keys =demo2['obs'].keys()\n",
    "        next_obs_keys= demo['next_obs'].keys()\n",
    "        for k in obs_keys:\n",
    "            kdata = demo2['obs'][k]\n",
    "            f1[\"data\"][bdemo_name].create_dataset(f'obs/{k}', data=kdata)\n",
    "        for k in next_obs_keys:\n",
    "            kdata = demo2['next_obs'][k]\n",
    "            f1[\"data\"][bdemo_name].create_dataset(f'next_obs/{k}', data=kdata)\n",
    "\n",
    "        f1[\"data\"][bdemo_name].attrs[\"num_samples\"] = num_samples\n",
    "        f1[\"data\"][bdemo_name].attrs[\"model_file\"] = model_file\n",
    "\n",
    "    # f.close()\n",
    "    f2.close()\n",
    "    return i , new_demos"
   ]
  },
  {
   "cell_type": "code",
   "execution_count": 7,
   "metadata": {},
   "outputs": [],
   "source": [
    "dataset_paths_can=[\n",
    "    \"/home/ns/collect_robomimic_demos/Alyssa/PickPlaceCan_01_27_2024_04_35PM_AlyssaColandreo/demo_image.hdf5\",\n",
    "    \"/home/ns/collect_robomimic_demos/Benjamin/PickPlaceCan_01_29_2024_02_44PM_Benjamin/demo_image.hdf5\",\n",
    "    \"/home/ns/collect_robomimic_demos/Elbert/PickPlaceCan_01_26_2024_06_40PM_Elbert/demo_image.hdf5\", \n",
    "    \"/home/ns/collect_robomimic_demos/Emma/PickPlaceCan_01_27_2024_10_41AM_Emma/demo_image.hdf5\", \n",
    "    \"/home/ns/collect_robomimic_demos/James/PickPlaceCan_01_27_2024_03_37PM_JaJamesonDunsford/demo_image.hdf5\",\n",
    "    \"/home/ns/collect_robomimic_demos/Lancaster/PickPlaceCan_01_29_2024_01_39PM_lancaster/demo_image.hdf5\", \n",
    "    \"/home/ns/collect_robomimic_demos/Mia/PickPlaceCan_01_28_2024_10_12AM_Mia/demo_image.hdf5\", \n",
    "    \"/home/ns/collect_robomimic_demos/Nalene/PickPlaceCan_01_26_2024_05_17PM_nalene/demo_image.hdf5\",\n",
    "    \"/home/ns/collect_robomimic_demos/Nusrat/PickPlaceCan_01_29_2024_12_03PM_Nusrat/demo_image.hdf5\", \n",
    "    \"/home/ns/collect_robomimic_demos/sumaya/PickPlaceCan_01_27_2024_01_30PM_sumayaakter/demo_image.hdf5\",\n",
    "    \"/home/ns/collect_robomimic_demos/tazul/PickPlaceCan_01_27_2024_12_40PM_tazulislam/demo_image.hdf5\",\n",
    "    \"/home/ns/collect_robomimic_demos/PickPlaceCan_02_04_2024_12_33PM_default/demo_image.hdf5\"\n",
    "]"
   ]
  },
  {
   "cell_type": "code",
   "execution_count": 2,
   "metadata": {},
   "outputs": [],
   "source": [
    "#lift good\n",
    "dataset_paths_good_lift=[\n",
    "    \"/home/ns/collect_robomimic_demos/Alyssa/Lift_01_27_2024_04_29PM_AlyssaColandreo/demo_image.hdf5\",\n",
    "    \"/home/ns/collect_robomimic_demos/Benjamin/Lift_01_29_2024_02_36PM_Benjamin/demo_image.hdf5\",\n",
    "    \"/home/ns/collect_robomimic_demos/Elbert/Lift_01_26_2024_06_34PM_Elbert/demo_image.hdf5\",\n",
    "    \"/home/ns/collect_robomimic_demos/Emma/Lift_01_27_2024_10_34AM_Emma/demo_image.hdf5\",\n",
    "    \"/home/ns/collect_robomimic_demos/James/Lift_01_27_2024_03_31PM_JamesonDunsford/demo_image.hdf5\",\n",
    "    \"/home/ns/collect_robomimic_demos/Lancaster/Lift_01_29_2024_01_28PM_Lancaster/demo_image.hdf5\",\n",
    "    \"/home/ns/collect_robomimic_demos/Mia/Lift_01_28_2024_10_00AM_Mia/demo_image.hdf5\",\n",
    "    \"/home/ns/collect_robomimic_demos/Nalene/Lift_01_26_2024_05_12PM_nalene/demo_image.hdf5\",\n",
    "    \"/home/ns/collect_robomimic_demos/Nusrat/Lift_01_29_2024_11_53AM_Nusrat/demo_image.hdf5\" \n",
    "]"
   ]
  },
  {
   "cell_type": "code",
   "execution_count": 6,
   "metadata": {},
   "outputs": [],
   "source": [
    "dataset_paths_failed_lift=[\n",
    "    \"/home/ns/collect_robomimic_demos/Alyssa/Lift_01_27_2024_04_29PM_AlyssaColandreo/demo_image.hdf5\",\n",
    "    \"/home/ns/collect_robomimic_demos/Benjamin/Lift_01_29_2024_02_36PM_Benjamin/demo_image.hdf5\",\n",
    "    \"/home/ns/collect_robomimic_demos/Elbert/Lift_01_26_2024_06_34PM_Elbert/demo_image.hdf5\",\n",
    "    \"/home/ns/collect_robomimic_demos/Emma/Lift_01_27_2024_10_34AM_Emma/demo_image.hdf5\",\n",
    "    \"/home/ns/collect_robomimic_demos/James/Lift_01_27_2024_03_31PM_JamesonDunsford/demo_image.hdf5\",\n",
    "    \"/home/ns/collect_robomimic_demos/Lancaster/Lift_01_29_2024_01_28PM_Lancaster/demo_image.hdf5\",\n",
    "    \"/home/ns/collect_robomimic_demos/Mia/Lift_01_28_2024_10_00AM_Mia/demo_image.hdf5\",\n",
    "    \"/home/ns/collect_robomimic_demos/Nalene/Lift_01_26_2024_05_12PM_nalene/demo_image.hdf5\",\n",
    "    \"/home/ns/collect_robomimic_demos/Nusrat/Lift_01_29_2024_11_53AM_Nusrat/demo_image.hdf5\",\n",
    "    \"/home/ns/collect_robomimic_demos/sumaya/Lift_01_27_2024_01_20PM_sumayaakter/demo_image.hdf5\",\n",
    "    \"/home/ns/collect_robomimic_demos/tazul/Lift_01_27_2024_12_28PM_tazul/demo_image.hdf5\",\n",
    "    \"/home/ns/collect_robomimic_demos/ola/Lift_01_25_2024_05_25PM_ola/demo_image.hdf5\"\n",
    "]"
   ]
  },
  {
   "cell_type": "code",
   "execution_count": 6,
   "metadata": {},
   "outputs": [],
   "source": [
    "dataset_paths_int_lift=[\n",
    "        \"/home/ns/collect_robomimic_demos/Lift_02_05_2024_01_45PM_intentional/demo_image.hdf5\"\n",
    "        ]\n",
    "\n",
    "dataset_paths_int_can=[\n",
    "        \"/home/ns/collect_robomimic_demos/PickPlaceCan_02_05_2024_03_27PM_intentional/demo_image.hdf5\"\n",
    "        ]"
   ]
  },
  {
   "cell_type": "code",
   "execution_count": null,
   "metadata": {},
   "outputs": [],
   "source": []
  },
  {
   "cell_type": "code",
   "execution_count": null,
   "metadata": {},
   "outputs": [],
   "source": []
  },
  {
   "cell_type": "code",
   "execution_count": 7,
   "metadata": {},
   "outputs": [],
   "source": [
    "# group=\"try_failed\" \n",
    "# group=\"hl\"\n",
    "# group=\"slow_timeout\"\n",
    "# group=\"good\"\n",
    "\n",
    "group=\"intentional\"\n",
    "dataset_paths=dataset_paths_int_can"
   ]
  },
  {
   "cell_type": "code",
   "execution_count": null,
   "metadata": {},
   "outputs": [],
   "source": []
  },
  {
   "cell_type": "code",
   "execution_count": 8,
   "metadata": {},
   "outputs": [
    {
     "name": "stdout",
     "output_type": "stream",
     "text": [
      "/home/ns/collect_robomimic_demos/PickPlaceCan_02_05_2024_03_27PM_intentional/videos/intentional 30\n"
     ]
    },
    {
     "name": "stderr",
     "output_type": "stream",
     "text": [
      "100%|██████████| 30/30 [00:44<00:00,  1.47s/it]\n"
     ]
    }
   ],
   "source": [
    "new_demoss=[]\n",
    "for dataset_path in dataset_paths:\n",
    "    path=os.path.dirname(dataset_path)\n",
    "    video_group=path+\"/videos/\"+group\n",
    "    files=glob.glob(video_group+\"/*.mp4\")\n",
    "    demos2copy = [os.path.basename(file).replace(\".mp4\", \"\") for file in files]\n",
    "    \n",
    "\n",
    "    # print(video_group, len(demos2copy))\n",
    "\n",
    "    if len(demos2copy)==0: \n",
    "        continue \n",
    "\n",
    "    print(video_group, len(demos2copy))\n",
    "    f2 = h5py.File(dataset_path, \"r\")\n",
    "    next_id, new_demos=copy_demos(f_base, f2, demos2copy, next_id)\n",
    "    new_demoss.extend(new_demos) \n",
    "    \n",
    "# f_base.close()"
   ]
  },
  {
   "cell_type": "code",
   "execution_count": 26,
   "metadata": {},
   "outputs": [],
   "source": [
    "# "
   ]
  },
  {
   "cell_type": "code",
   "execution_count": null,
   "metadata": {},
   "outputs": [],
   "source": []
  },
  {
   "cell_type": "code",
   "execution_count": 11,
   "metadata": {},
   "outputs": [
    {
     "data": {
      "text/plain": [
       "'/home/ns/collect_robomimic_demos/tazul/Lift_01_27_2024_12_28PM_tazul/demo_image.hdf5'"
      ]
     },
     "execution_count": 11,
     "metadata": {},
     "output_type": "execute_result"
    }
   ],
   "source": [
    "dataset_path"
   ]
  },
  {
   "cell_type": "code",
   "execution_count": 12,
   "metadata": {},
   "outputs": [
    {
     "data": {
      "text/plain": [
       "['demo-False_8', 'demo-False_16', 'demo-False_1', 'demo-False_21']"
      ]
     },
     "execution_count": 12,
     "metadata": {},
     "output_type": "execute_result"
    }
   ],
   "source": [
    "demos2copy[:4]"
   ]
  },
  {
   "cell_type": "code",
   "execution_count": null,
   "metadata": {},
   "outputs": [],
   "source": []
  },
  {
   "cell_type": "code",
   "execution_count": 9,
   "metadata": {},
   "outputs": [
    {
     "data": {
      "text/plain": [
       "['demo_101',\n",
       " 'demo_102',\n",
       " 'demo_103',\n",
       " 'demo_104',\n",
       " 'demo_105',\n",
       " 'demo_106',\n",
       " 'demo_107',\n",
       " 'demo_108',\n",
       " 'demo_109',\n",
       " 'demo_110',\n",
       " 'demo_111',\n",
       " 'demo_112',\n",
       " 'demo_113',\n",
       " 'demo_114',\n",
       " 'demo_115',\n",
       " 'demo_116',\n",
       " 'demo_117',\n",
       " 'demo_118',\n",
       " 'demo_119',\n",
       " 'demo_120',\n",
       " 'demo_121',\n",
       " 'demo_122',\n",
       " 'demo_123',\n",
       " 'demo_124',\n",
       " 'demo_125',\n",
       " 'demo_126',\n",
       " 'demo_127',\n",
       " 'demo_128',\n",
       " 'demo_129',\n",
       " 'demo_130']"
      ]
     },
     "execution_count": 9,
     "metadata": {},
     "output_type": "execute_result"
    }
   ],
   "source": [
    "new_demoss"
   ]
  },
  {
   "cell_type": "code",
   "execution_count": 8,
   "metadata": {},
   "outputs": [],
   "source": [
    "f_base.close()"
   ]
  },
  {
   "cell_type": "code",
   "execution_count": null,
   "metadata": {},
   "outputs": [],
   "source": []
  },
  {
   "cell_type": "code",
   "execution_count": 10,
   "metadata": {},
   "outputs": [
    {
     "data": {
      "text/plain": [
       "array([b'demo_101', b'demo_102', b'demo_103', b'demo_104', b'demo_105',\n",
       "       b'demo_106', b'demo_107', b'demo_108', b'demo_109', b'demo_110',\n",
       "       b'demo_111', b'demo_112', b'demo_113', b'demo_114', b'demo_115',\n",
       "       b'demo_116', b'demo_117', b'demo_118', b'demo_119', b'demo_120',\n",
       "       b'demo_121', b'demo_122', b'demo_123', b'demo_124', b'demo_125',\n",
       "       b'demo_126', b'demo_127', b'demo_128', b'demo_129', b'demo_130'],\n",
       "      dtype='|S16')"
      ]
     },
     "execution_count": 10,
     "metadata": {},
     "output_type": "execute_result"
    }
   ],
   "source": [
    "demos_group= np.array(new_demoss, dtype='S16') \n",
    "demos_group"
   ]
  },
  {
   "cell_type": "code",
   "execution_count": 11,
   "metadata": {},
   "outputs": [],
   "source": [
    "hdf5_path=dataset_path_base \n",
    "\n",
    "# filter_keys=sorted([elem for elem in demos_expert])\n",
    "# filter_name=\"expert\"\n",
    "# filter_lengths = create_hdf5_filter_key(hdf5_path=hdf5_path, demo_keys=filter_keys, key_name=filter_name)\n",
    "\n",
    "filter_keys=sorted([elem for elem in demos_group])\n",
    "filter_name=\"intentional\"\n",
    "filter_lengths = create_hdf5_filter_key(hdf5_path=hdf5_path, demo_keys=filter_keys, key_name=filter_name)"
   ]
  },
  {
   "cell_type": "code",
   "execution_count": null,
   "metadata": {},
   "outputs": [],
   "source": []
  },
  {
   "cell_type": "code",
   "execution_count": 13,
   "metadata": {},
   "outputs": [],
   "source": [
    "f_base.close()"
   ]
  },
  {
   "cell_type": "code",
   "execution_count": null,
   "metadata": {},
   "outputs": [],
   "source": []
  },
  {
   "cell_type": "code",
   "execution_count": null,
   "metadata": {},
   "outputs": [],
   "source": []
  },
  {
   "cell_type": "code",
   "execution_count": 4,
   "metadata": {},
   "outputs": [
    {
     "ename": "NameError",
     "evalue": "name 'demos2copy' is not defined",
     "output_type": "error",
     "traceback": [
      "\u001b[0;31m---------------------------------------------------------------------------\u001b[0m",
      "\u001b[0;31mNameError\u001b[0m                                 Traceback (most recent call last)",
      "\u001b[0;32m/tmp/ipykernel_406261/2871621464.py\u001b[0m in \u001b[0;36m<module>\u001b[0;34m\u001b[0m\n\u001b[0;32m----> 1\u001b[0;31m \u001b[0mdemos2copy\u001b[0m\u001b[0;34m\u001b[0m\u001b[0;34m\u001b[0m\u001b[0m\n\u001b[0m",
      "\u001b[0;31mNameError\u001b[0m: name 'demos2copy' is not defined"
     ]
    }
   ],
   "source": [
    "demos2copy"
   ]
  },
  {
   "cell_type": "code",
   "execution_count": null,
   "metadata": {},
   "outputs": [],
   "source": []
  },
  {
   "cell_type": "code",
   "execution_count": null,
   "metadata": {},
   "outputs": [],
   "source": []
  },
  {
   "cell_type": "code",
   "execution_count": null,
   "metadata": {},
   "outputs": [],
   "source": []
  }
 ],
 "metadata": {
  "kernelspec": {
   "display_name": "robomimic_venv",
   "language": "python",
   "name": "python3"
  },
  "language_info": {
   "codemirror_mode": {
    "name": "ipython",
    "version": 3
   },
   "file_extension": ".py",
   "mimetype": "text/x-python",
   "name": "python",
   "nbconvert_exporter": "python",
   "pygments_lexer": "ipython3",
   "version": "3.7.16"
  },
  "orig_nbformat": 4
 },
 "nbformat": 4,
 "nbformat_minor": 2
}
