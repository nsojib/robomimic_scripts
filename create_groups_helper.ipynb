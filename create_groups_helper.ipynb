{
 "cells": [
  {
   "cell_type": "code",
   "execution_count": 1,
   "metadata": {},
   "outputs": [],
   "source": [
    "import os\n",
    "import json\n",
    "import h5py\n",
    "import numpy as np\n",
    "\n",
    "import robomimic\n",
    "import robomimic.utils.file_utils as FileUtils\n",
    "import robomimic.utils.env_utils as EnvUtils\n",
    "import robomimic.utils.obs_utils as ObsUtils\n",
    "import imageio\n",
    "import tqdm \n",
    "import glob\n",
    "import argparse\n",
    "from create_groups import create_hdf5_filter_key"
   ]
  },
  {
   "cell_type": "code",
   "execution_count": 2,
   "metadata": {},
   "outputs": [],
   "source": [
    "# dataset_path_base=\"/home/ns/collect_robomimic_demos/sojib_can_expert/PickPlaceCan_01_30_2024_01_45PM_sojib/can_mix_v0.hdf5\"\n",
    "dataset_path_base_lift = \"/home/ns/collect_robomimic_demos/Lift_01_30_2024_05_03PM_sojib/lift_mixed_v0.hdf5\""
   ]
  },
  {
   "cell_type": "code",
   "execution_count": 3,
   "metadata": {},
   "outputs": [],
   "source": [
    "dataset_path_base=dataset_path_base_lift"
   ]
  },
  {
   "cell_type": "code",
   "execution_count": 4,
   "metadata": {},
   "outputs": [
    {
     "name": "stdout",
     "output_type": "stream",
     "text": [
      "Number of demos:  300\n",
      "Max length:  800\n",
      "Min length:  116\n",
      "Mean length:  375.99\n",
      "Median length:  212.0\n",
      "\n",
      "expert <HDF5 dataset \"expert\": shape (100,), type \"|S16\">\n",
      "failed <HDF5 dataset \"failed\": shape (100,), type \"|S16\">\n",
      "good <HDF5 dataset \"good\": shape (100,), type \"|S16\">\n",
      "train <HDF5 dataset \"train\": shape (90,), type \"|S13\">\n",
      "valid <HDF5 dataset \"valid\": shape (10,), type \"|S12\">\n",
      "\n",
      "max_id: 300\n",
      "next_id: 301\n"
     ]
    }
   ],
   "source": [
    "f_base = h5py.File(dataset_path_base, \"r+\")\n",
    "demos = list(f_base[\"data\"].keys())\n",
    "\n",
    "lengths=[]\n",
    "demos_minmax={}\n",
    "for demo_name in demos:\n",
    "    demo=f_base['data'][demo_name]\n",
    "    num_samples=demo.attrs['num_samples']\n",
    "    lengths.append(num_samples)\n",
    "\n",
    "    action=f_base['data'][demo_name]['actions']\n",
    "    action=np.array(action) \n",
    "    demos_minmax[demo_name] = (np.min(action, axis=0), np.max(action, axis=0))\n",
    "\n",
    "\n",
    "lengths=np.array(lengths)\n",
    "\n",
    "print('Number of demos: ', len(demos))\n",
    "print('Max length: ', np.max(lengths))\n",
    "print('Min length: ', np.min(lengths))\n",
    "print('Mean length: ', np.mean(lengths))\n",
    "print('Median length: ', np.median(lengths))\n",
    "print('')\n",
    "\n",
    "for key in f_base['mask'].keys():\n",
    "    print(key, f_base['mask'][key])\n",
    "\n",
    "print('')\n",
    "max_id=np.max([int(demo.split('_')[1]) for demo in demos])\n",
    "print(f'max_id: {max_id}')\n",
    "\n",
    "next_id=max_id+1\n",
    "print(f'next_id: {next_id}')"
   ]
  },
  {
   "cell_type": "code",
   "execution_count": 6,
   "metadata": {},
   "outputs": [],
   "source": [
    "f_base.close()"
   ]
  },
  {
   "cell_type": "code",
   "execution_count": 5,
   "metadata": {},
   "outputs": [],
   "source": [
    "# del f_base['mask']['train']\n",
    "# del f_base['mask']['valid']"
   ]
  },
  {
   "cell_type": "code",
   "execution_count": 5,
   "metadata": {},
   "outputs": [],
   "source": [
    "def copy_demos(f1, f2, demos2copy, next_id):\n",
    "    new_demos=[]\n",
    "    i=next_id\n",
    "    for demo_name in tqdm.tqdm(demos2copy):\n",
    "        demo2=f2['data'][demo_name]\n",
    "        num_samples= demo2.attrs['num_samples']\n",
    "        model_file= demo2.attrs['model_file']\n",
    "\n",
    "        bdemo_name=\"demo_\"+str(i)\n",
    "        new_demos.append(bdemo_name)\n",
    "        i = i+1\n",
    "\n",
    "        f1[\"data\"].create_group(bdemo_name)\n",
    "\n",
    "\n",
    "        ks=['actions', 'dones', 'rewards', 'states']\n",
    "        for k in ks:\n",
    "            kdata = demo2[k]\n",
    "            f1[\"data\"][bdemo_name].create_dataset(k, data=kdata)\n",
    "\n",
    "        obs_keys =demo2['obs'].keys()\n",
    "        next_obs_keys= demo['next_obs'].keys()\n",
    "        for k in obs_keys:\n",
    "            kdata = demo2['obs'][k]\n",
    "            f1[\"data\"][bdemo_name].create_dataset(f'obs/{k}', data=kdata)\n",
    "        for k in next_obs_keys:\n",
    "            kdata = demo2['next_obs'][k]\n",
    "            f1[\"data\"][bdemo_name].create_dataset(f'next_obs/{k}', data=kdata)\n",
    "\n",
    "        f1[\"data\"][bdemo_name].attrs[\"num_samples\"] = num_samples\n",
    "        f1[\"data\"][bdemo_name].attrs[\"model_file\"] = model_file\n",
    "\n",
    "    # f.close()\n",
    "    f2.close()\n",
    "    return i , new_demos"
   ]
  },
  {
   "cell_type": "code",
   "execution_count": 7,
   "metadata": {},
   "outputs": [],
   "source": [
    "dataset_paths_can=[\n",
    "    \"/home/ns/collect_robomimic_demos/Alyssa/PickPlaceCan_01_27_2024_04_35PM_AlyssaColandreo/demo_image.hdf5\",\n",
    "    \"/home/ns/collect_robomimic_demos/Benjamin/PickPlaceCan_01_29_2024_02_44PM_Benjamin/demo_image.hdf5\",\n",
    "    \"/home/ns/collect_robomimic_demos/Elbert/PickPlaceCan_01_26_2024_06_40PM_Elbert/demo_image.hdf5\", \n",
    "    \"/home/ns/collect_robomimic_demos/Emma/PickPlaceCan_01_27_2024_10_41AM_Emma/demo_image.hdf5\", \n",
    "    \"/home/ns/collect_robomimic_demos/James/PickPlaceCan_01_27_2024_03_37PM_JaJamesonDunsford/demo_image.hdf5\",\n",
    "    \"/home/ns/collect_robomimic_demos/Lancaster/PickPlaceCan_01_29_2024_01_39PM_lancaster/demo_image.hdf5\", \n",
    "    \"/home/ns/collect_robomimic_demos/Mia/PickPlaceCan_01_28_2024_10_12AM_Mia/demo_image.hdf5\", \n",
    "    \"/home/ns/collect_robomimic_demos/Nalene/PickPlaceCan_01_26_2024_05_17PM_nalene/demo_image.hdf5\",\n",
    "    \"/home/ns/collect_robomimic_demos/Nusrat/PickPlaceCan_01_29_2024_12_03PM_Nusrat/demo_image.hdf5\", \n",
    "    \"/home/ns/collect_robomimic_demos/sumaya/PickPlaceCan_01_27_2024_01_30PM_sumayaakter/demo_image.hdf5\",\n",
    "    \"/home/ns/collect_robomimic_demos/tazul/PickPlaceCan_01_27_2024_12_40PM_tazulislam/demo_image.hdf5\"\n",
    "]"
   ]
  },
  {
   "cell_type": "code",
   "execution_count": 6,
   "metadata": {},
   "outputs": [],
   "source": [
    "dataset_paths_lift=[\n",
    "    \"/home/ns/collect_robomimic_demos/Alyssa/Lift_01_27_2024_04_29PM_AlyssaColandreo/demo_image.hdf5\",\n",
    "    \"/home/ns/collect_robomimic_demos/Benjamin/Lift_01_29_2024_02_36PM_Benjamin/demo_image.hdf5\",\n",
    "    \"/home/ns/collect_robomimic_demos/Elbert/Lift_01_26_2024_06_34PM_Elbert/demo_image.hdf5\",\n",
    "    \"/home/ns/collect_robomimic_demos/Emma/Lift_01_27_2024_10_34AM_Emma/demo_image.hdf5\",\n",
    "    \"/home/ns/collect_robomimic_demos/James/Lift_01_27_2024_03_31PM_JamesonDunsford/demo_image.hdf5\",\n",
    "    \"/home/ns/collect_robomimic_demos/Lancaster/Lift_01_29_2024_01_28PM_Lancaster/demo_image.hdf5\",\n",
    "    \"/home/ns/collect_robomimic_demos/Mia/Lift_01_28_2024_10_00AM_Mia/demo_image.hdf5\",\n",
    "    \"/home/ns/collect_robomimic_demos/Nalene/Lift_01_26_2024_05_12PM_nalene/demo_image.hdf5\",\n",
    "    \"/home/ns/collect_robomimic_demos/Nusrat/Lift_01_29_2024_11_53AM_Nusrat/demo_image.hdf5\",\n",
    "    \"/home/ns/collect_robomimic_demos/ola/Lift_01_25_2024_05_25PM_ola/demo_image.hdf5\",\n",
    "    \"/home/ns/collect_robomimic_demos/sumaya/Lift_01_27_2024_01_20PM_sumayaakter/demo_image.hdf5\",\n",
    "    \"/home/ns/collect_robomimic_demos/tazul/Lift_01_27_2024_12_28PM_tazul/demo_image.hdf5\"\n",
    "]"
   ]
  },
  {
   "cell_type": "code",
   "execution_count": null,
   "metadata": {},
   "outputs": [],
   "source": []
  },
  {
   "cell_type": "code",
   "execution_count": null,
   "metadata": {},
   "outputs": [],
   "source": []
  },
  {
   "cell_type": "code",
   "execution_count": 7,
   "metadata": {},
   "outputs": [],
   "source": [
    "group=\"try_failed\" \n",
    "# group=\"hl\"\n",
    "# group=\"slow_timeout\""
   ]
  },
  {
   "cell_type": "code",
   "execution_count": 8,
   "metadata": {},
   "outputs": [],
   "source": [
    "dataset_paths=dataset_paths_lift"
   ]
  },
  {
   "cell_type": "code",
   "execution_count": 9,
   "metadata": {},
   "outputs": [
    {
     "name": "stdout",
     "output_type": "stream",
     "text": [
      "/home/ns/collect_robomimic_demos/Alyssa/Lift_01_27_2024_04_29PM_AlyssaColandreo/videos/try_failed 0\n"
     ]
    },
    {
     "name": "stderr",
     "output_type": "stream",
     "text": [
      "0it [00:00, ?it/s]"
     ]
    },
    {
     "name": "stderr",
     "output_type": "stream",
     "text": [
      "\n"
     ]
    },
    {
     "name": "stdout",
     "output_type": "stream",
     "text": [
      "/home/ns/collect_robomimic_demos/Benjamin/Lift_01_29_2024_02_36PM_Benjamin/videos/try_failed 2\n"
     ]
    },
    {
     "name": "stderr",
     "output_type": "stream",
     "text": [
      "100%|██████████| 2/2 [00:02<00:00,  1.03s/it]\n"
     ]
    },
    {
     "name": "stdout",
     "output_type": "stream",
     "text": [
      "/home/ns/collect_robomimic_demos/Elbert/Lift_01_26_2024_06_34PM_Elbert/videos/try_failed 0\n"
     ]
    },
    {
     "name": "stderr",
     "output_type": "stream",
     "text": [
      "0it [00:00, ?it/s]\n"
     ]
    },
    {
     "name": "stdout",
     "output_type": "stream",
     "text": [
      "/home/ns/collect_robomimic_demos/Emma/Lift_01_27_2024_10_34AM_Emma/videos/try_failed 2\n"
     ]
    },
    {
     "name": "stderr",
     "output_type": "stream",
     "text": [
      "100%|██████████| 2/2 [00:01<00:00,  1.18it/s]\n"
     ]
    },
    {
     "name": "stdout",
     "output_type": "stream",
     "text": [
      "/home/ns/collect_robomimic_demos/James/Lift_01_27_2024_03_31PM_JamesonDunsford/videos/try_failed 0\n"
     ]
    },
    {
     "name": "stderr",
     "output_type": "stream",
     "text": [
      "0it [00:00, ?it/s]\n"
     ]
    },
    {
     "name": "stdout",
     "output_type": "stream",
     "text": [
      "/home/ns/collect_robomimic_demos/Lancaster/Lift_01_29_2024_01_28PM_Lancaster/videos/try_failed 7\n"
     ]
    },
    {
     "name": "stderr",
     "output_type": "stream",
     "text": [
      "100%|██████████| 7/7 [00:06<00:00,  1.07it/s]\n"
     ]
    },
    {
     "name": "stdout",
     "output_type": "stream",
     "text": [
      "/home/ns/collect_robomimic_demos/Mia/Lift_01_28_2024_10_00AM_Mia/videos/try_failed 18\n"
     ]
    },
    {
     "name": "stderr",
     "output_type": "stream",
     "text": [
      "100%|██████████| 18/18 [00:24<00:00,  1.37s/it]\n"
     ]
    },
    {
     "name": "stdout",
     "output_type": "stream",
     "text": [
      "/home/ns/collect_robomimic_demos/Nalene/Lift_01_26_2024_05_12PM_nalene/videos/try_failed 0\n"
     ]
    },
    {
     "name": "stderr",
     "output_type": "stream",
     "text": [
      "0it [00:00, ?it/s]\n"
     ]
    },
    {
     "name": "stdout",
     "output_type": "stream",
     "text": [
      "/home/ns/collect_robomimic_demos/Nusrat/Lift_01_29_2024_11_53AM_Nusrat/videos/try_failed 15\n"
     ]
    },
    {
     "name": "stderr",
     "output_type": "stream",
     "text": [
      "100%|██████████| 15/15 [00:14<00:00,  1.06it/s]\n"
     ]
    },
    {
     "name": "stdout",
     "output_type": "stream",
     "text": [
      "/home/ns/collect_robomimic_demos/ola/Lift_01_25_2024_05_25PM_ola/videos/try_failed 9\n"
     ]
    },
    {
     "name": "stderr",
     "output_type": "stream",
     "text": [
      "100%|██████████| 9/9 [00:08<00:00,  1.12it/s]\n"
     ]
    },
    {
     "name": "stdout",
     "output_type": "stream",
     "text": [
      "/home/ns/collect_robomimic_demos/sumaya/Lift_01_27_2024_01_20PM_sumayaakter/videos/try_failed 22\n"
     ]
    },
    {
     "name": "stderr",
     "output_type": "stream",
     "text": [
      "100%|██████████| 22/22 [00:47<00:00,  2.17s/it]\n"
     ]
    },
    {
     "name": "stdout",
     "output_type": "stream",
     "text": [
      "/home/ns/collect_robomimic_demos/tazul/Lift_01_27_2024_12_28PM_tazul/videos/try_failed 25\n"
     ]
    },
    {
     "name": "stderr",
     "output_type": "stream",
     "text": [
      "100%|██████████| 25/25 [00:21<00:00,  1.16it/s]\n"
     ]
    }
   ],
   "source": [
    "new_demoss=[]\n",
    "for dataset_path in dataset_paths:\n",
    "    path=os.path.dirname(dataset_path)\n",
    "    video_group=path+\"/videos/\"+group\n",
    "    files=glob.glob(video_group+\"/*.mp4\")\n",
    "    demos2copy = [os.path.basename(file).replace(\".mp4\", \"\") for file in files]\n",
    "    \n",
    "\n",
    "    print(video_group, len(demos2copy))\n",
    "    \n",
    "    f2 = h5py.File(dataset_path, \"r\")\n",
    "    next_id, new_demos=copy_demos(f_base, f2, demos2copy, next_id)\n",
    "    new_demoss.append(new_demos)\n",
    "    f2.close()\n",
    "    \n",
    "f_base.close()"
   ]
  },
  {
   "cell_type": "code",
   "execution_count": 10,
   "metadata": {},
   "outputs": [
    {
     "data": {
      "text/plain": [
       "[[],\n",
       " ['demo_201', 'demo_202'],\n",
       " [],\n",
       " ['demo_203', 'demo_204'],\n",
       " [],\n",
       " ['demo_205',\n",
       "  'demo_206',\n",
       "  'demo_207',\n",
       "  'demo_208',\n",
       "  'demo_209',\n",
       "  'demo_210',\n",
       "  'demo_211'],\n",
       " ['demo_212',\n",
       "  'demo_213',\n",
       "  'demo_214',\n",
       "  'demo_215',\n",
       "  'demo_216',\n",
       "  'demo_217',\n",
       "  'demo_218',\n",
       "  'demo_219',\n",
       "  'demo_220',\n",
       "  'demo_221',\n",
       "  'demo_222',\n",
       "  'demo_223',\n",
       "  'demo_224',\n",
       "  'demo_225',\n",
       "  'demo_226',\n",
       "  'demo_227',\n",
       "  'demo_228',\n",
       "  'demo_229'],\n",
       " [],\n",
       " ['demo_230',\n",
       "  'demo_231',\n",
       "  'demo_232',\n",
       "  'demo_233',\n",
       "  'demo_234',\n",
       "  'demo_235',\n",
       "  'demo_236',\n",
       "  'demo_237',\n",
       "  'demo_238',\n",
       "  'demo_239',\n",
       "  'demo_240',\n",
       "  'demo_241',\n",
       "  'demo_242',\n",
       "  'demo_243',\n",
       "  'demo_244'],\n",
       " ['demo_245',\n",
       "  'demo_246',\n",
       "  'demo_247',\n",
       "  'demo_248',\n",
       "  'demo_249',\n",
       "  'demo_250',\n",
       "  'demo_251',\n",
       "  'demo_252',\n",
       "  'demo_253'],\n",
       " ['demo_254',\n",
       "  'demo_255',\n",
       "  'demo_256',\n",
       "  'demo_257',\n",
       "  'demo_258',\n",
       "  'demo_259',\n",
       "  'demo_260',\n",
       "  'demo_261',\n",
       "  'demo_262',\n",
       "  'demo_263',\n",
       "  'demo_264',\n",
       "  'demo_265',\n",
       "  'demo_266',\n",
       "  'demo_267',\n",
       "  'demo_268',\n",
       "  'demo_269',\n",
       "  'demo_270',\n",
       "  'demo_271',\n",
       "  'demo_272',\n",
       "  'demo_273',\n",
       "  'demo_274',\n",
       "  'demo_275'],\n",
       " ['demo_276',\n",
       "  'demo_277',\n",
       "  'demo_278',\n",
       "  'demo_279',\n",
       "  'demo_280',\n",
       "  'demo_281',\n",
       "  'demo_282',\n",
       "  'demo_283',\n",
       "  'demo_284',\n",
       "  'demo_285',\n",
       "  'demo_286',\n",
       "  'demo_287',\n",
       "  'demo_288',\n",
       "  'demo_289',\n",
       "  'demo_290',\n",
       "  'demo_291',\n",
       "  'demo_292',\n",
       "  'demo_293',\n",
       "  'demo_294',\n",
       "  'demo_295',\n",
       "  'demo_296',\n",
       "  'demo_297',\n",
       "  'demo_298',\n",
       "  'demo_299',\n",
       "  'demo_300']]"
      ]
     },
     "execution_count": 10,
     "metadata": {},
     "output_type": "execute_result"
    }
   ],
   "source": [
    "new_demoss"
   ]
  },
  {
   "cell_type": "code",
   "execution_count": 8,
   "metadata": {},
   "outputs": [],
   "source": [
    "f_base.close()"
   ]
  },
  {
   "cell_type": "code",
   "execution_count": 13,
   "metadata": {},
   "outputs": [
    {
     "data": {
      "text/plain": [
       "(100,)"
      ]
     },
     "execution_count": 13,
     "metadata": {},
     "output_type": "execute_result"
    }
   ],
   "source": [
    "nds=np.hstack(new_demoss)\n",
    "nds.shape"
   ]
  },
  {
   "cell_type": "code",
   "execution_count": 17,
   "metadata": {},
   "outputs": [
    {
     "data": {
      "text/plain": [
       "array([b'demo_201', b'demo_202', b'demo_203', b'demo_204', b'demo_205',\n",
       "       b'demo_206', b'demo_207', b'demo_208', b'demo_209', b'demo_210',\n",
       "       b'demo_211', b'demo_212', b'demo_213', b'demo_214', b'demo_215',\n",
       "       b'demo_216', b'demo_217', b'demo_218', b'demo_219', b'demo_220',\n",
       "       b'demo_221', b'demo_222', b'demo_223', b'demo_224', b'demo_225',\n",
       "       b'demo_226', b'demo_227', b'demo_228', b'demo_229', b'demo_230',\n",
       "       b'demo_231', b'demo_232', b'demo_233', b'demo_234', b'demo_235',\n",
       "       b'demo_236', b'demo_237', b'demo_238', b'demo_239', b'demo_240',\n",
       "       b'demo_241', b'demo_242', b'demo_243', b'demo_244', b'demo_245',\n",
       "       b'demo_246', b'demo_247', b'demo_248', b'demo_249', b'demo_250',\n",
       "       b'demo_251', b'demo_252', b'demo_253', b'demo_254', b'demo_255',\n",
       "       b'demo_256', b'demo_257', b'demo_258', b'demo_259', b'demo_260',\n",
       "       b'demo_261', b'demo_262', b'demo_263', b'demo_264', b'demo_265',\n",
       "       b'demo_266', b'demo_267', b'demo_268', b'demo_269', b'demo_270',\n",
       "       b'demo_271', b'demo_272', b'demo_273', b'demo_274', b'demo_275',\n",
       "       b'demo_276', b'demo_277', b'demo_278', b'demo_279', b'demo_280',\n",
       "       b'demo_281', b'demo_282', b'demo_283', b'demo_284', b'demo_285',\n",
       "       b'demo_286', b'demo_287', b'demo_288', b'demo_289', b'demo_290',\n",
       "       b'demo_291', b'demo_292', b'demo_293', b'demo_294', b'demo_295',\n",
       "       b'demo_296', b'demo_297', b'demo_298', b'demo_299', b'demo_300'],\n",
       "      dtype='|S16')"
      ]
     },
     "execution_count": 17,
     "metadata": {},
     "output_type": "execute_result"
    }
   ],
   "source": [
    "demos_group= np.array(np.hstack(new_demoss), dtype='S16') \n",
    "demos_group"
   ]
  },
  {
   "cell_type": "code",
   "execution_count": 18,
   "metadata": {},
   "outputs": [],
   "source": [
    "hdf5_path=dataset_path_base \n",
    "\n",
    "# filter_keys=sorted([elem for elem in demos_expert])\n",
    "# filter_name=\"expert\"\n",
    "# filter_lengths = create_hdf5_filter_key(hdf5_path=hdf5_path, demo_keys=filter_keys, key_name=filter_name)\n",
    "\n",
    "filter_keys=sorted([elem for elem in demos_group])\n",
    "filter_name=\"failed\"\n",
    "filter_lengths = create_hdf5_filter_key(hdf5_path=hdf5_path, demo_keys=filter_keys, key_name=filter_name)"
   ]
  },
  {
   "cell_type": "code",
   "execution_count": 19,
   "metadata": {},
   "outputs": [],
   "source": [
    "f_base.close()"
   ]
  },
  {
   "cell_type": "code",
   "execution_count": null,
   "metadata": {},
   "outputs": [],
   "source": []
  },
  {
   "cell_type": "code",
   "execution_count": null,
   "metadata": {},
   "outputs": [],
   "source": []
  },
  {
   "cell_type": "code",
   "execution_count": 3,
   "metadata": {},
   "outputs": [
    {
     "data": {
      "text/plain": [
       "('cdf', 'abc')"
      ]
     },
     "execution_count": 3,
     "metadata": {},
     "output_type": "execute_result"
    }
   ],
   "source": [
    "a='abc'\n",
    "\n",
    "b=a\n",
    "\n",
    "a='cdf'\n",
    "\n",
    "a,b"
   ]
  },
  {
   "cell_type": "code",
   "execution_count": null,
   "metadata": {},
   "outputs": [],
   "source": []
  },
  {
   "cell_type": "code",
   "execution_count": null,
   "metadata": {},
   "outputs": [],
   "source": []
  }
 ],
 "metadata": {
  "kernelspec": {
   "display_name": "robomimic_venv",
   "language": "python",
   "name": "python3"
  },
  "language_info": {
   "codemirror_mode": {
    "name": "ipython",
    "version": 3
   },
   "file_extension": ".py",
   "mimetype": "text/x-python",
   "name": "python",
   "nbconvert_exporter": "python",
   "pygments_lexer": "ipython3",
   "version": "3.7.16"
  },
  "orig_nbformat": 4
 },
 "nbformat": 4,
 "nbformat_minor": 2
}
