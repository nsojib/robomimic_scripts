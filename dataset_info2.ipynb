{
 "cells": [
  {
   "cell_type": "code",
   "execution_count": 1,
   "metadata": {},
   "outputs": [],
   "source": [
    "import os\n",
    "import json\n",
    "import h5py\n",
    "import numpy as np\n",
    "\n",
    "import robomimic\n",
    "import robomimic.utils.file_utils as FileUtils\n",
    "import robomimic.utils.env_utils as EnvUtils\n",
    "import robomimic.utils.obs_utils as ObsUtils\n",
    "import imageio\n",
    "import tqdm"
   ]
  },
  {
   "cell_type": "code",
   "execution_count": 2,
   "metadata": {},
   "outputs": [],
   "source": [
    "dataset_path = \"/home/ns/robosuite/collects/1705874644_525442/demo101_jan21_image_group.hdf5\" \n",
    "dataset_path = \"/home/ns/collect_robomimic_demos/Elbert/NutAssemblySquare_01_26_2024_06_52PM_elbert/demo_image.hdf5\"\n",
    "dataset_path = \"/home/ns/collect_robomimic_demos/Elbert/PickPlaceCan_01_26_2024_06_40PM_Elbert/demo_image.hdf5\"\n",
    "dataset_path = \"/home/ns/collect_robomimic_demos/Brooke/PickPlaceCan_01_26_2024_02_19PM_Brooke/demo_image.hdf5\"\n",
    "dataset_path = \"/home/ns/collect_robomimic_demos/processed/lift_mixed_v0.hdf5\"\n",
    "\n",
    "# dataset_path = \"/home/ns/collect_robomimic_demos/sojib_can_expert/PickPlaceCan_01_30_2024_02_33PM_sojib/demo_image.hdf5\"\n",
    "# dataset_path = \"/home/ns/collect_robomimic_demos/sojib_square_expert/NutAssemblySquare_02_01_2024_06_38PM_sojib/square_mix_v0.hdf5\"\n",
    "dataset_path = \"/home/ns/collect_robomimic_demos/processed/can_image_sub.hdf5\"\n",
    "\n",
    "dataset_path = \"/home/ns/collect_robomimic_demos/processed/can_image_100_v1_sub.hdf5\" \n",
    "\n",
    "dataset_path = \"/home/ns1254/robomimic/datasets/square/mh/image_v141.hdf5\"\n",
    "\n",
    "dataset_path = \"/home/ns1254/data_robomimic/carl_dataset/mixed_human_original/square_carl_mix_v3_180.hdf5\""
   ]
  },
  {
   "cell_type": "code",
   "execution_count": 3,
   "metadata": {},
   "outputs": [],
   "source": [
    "f = h5py.File(dataset_path, \"r\")\n",
    "demos = list(f[\"data\"].keys())"
   ]
  },
  {
   "cell_type": "code",
   "execution_count": 4,
   "metadata": {},
   "outputs": [
    {
     "data": {
      "text/plain": [
       "180"
      ]
     },
     "execution_count": 4,
     "metadata": {},
     "output_type": "execute_result"
    }
   ],
   "source": [
    "len(demos)"
   ]
  },
  {
   "cell_type": "code",
   "execution_count": 5,
   "metadata": {},
   "outputs": [
    {
     "name": "stdout",
     "output_type": "stream",
     "text": [
      "Number of demos:  180\n",
      "Max length:  1400\n",
      "Min length:  123\n",
      "Mean length:  513.0\n",
      "Median length:  240.0\n",
      "\n",
      "bad <HDF5 dataset \"bad\": shape (20,), type \"|S16\">\n",
      "expert <HDF5 dataset \"expert\": shape (100,), type \"|S16\">\n",
      "intentional <HDF5 dataset \"intentional\": shape (20,), type \"|S16\">\n",
      "other_task <HDF5 dataset \"other_task\": shape (20,), type \"|S16\">\n",
      "p20b <HDF5 dataset \"p20b\": shape (100,), type \"|S8\">\n",
      "p20i <HDF5 dataset \"p20i\": shape (100,), type \"|S8\">\n",
      "p20o <HDF5 dataset \"p20o\": shape (100,), type \"|S8\">\n",
      "p20tg <HDF5 dataset \"p20tg\": shape (100,), type \"|S8\">\n",
      "try_good <HDF5 dataset \"try_good\": shape (20,), type \"|S16\">\n"
     ]
    }
   ],
   "source": [
    "lengths=[]\n",
    "demos_minmax={}\n",
    "for demo_name in demos:\n",
    "    demo=f['data'][demo_name]\n",
    "    num_samples=demo.attrs['num_samples']\n",
    "    lengths.append(num_samples)\n",
    "\n",
    "    action=f['data'][demo_name]['actions']\n",
    "    action=np.array(action) \n",
    "    demos_minmax[demo_name] = (np.min(action, axis=0), np.max(action, axis=0))\n",
    "\n",
    "\n",
    "lengths=np.array(lengths)\n",
    "\n",
    "print('Number of demos: ', len(demos))\n",
    "print('Max length: ', np.max(lengths))\n",
    "print('Min length: ', np.min(lengths))\n",
    "print('Mean length: ', np.mean(lengths))\n",
    "print('Median length: ', np.median(lengths))\n",
    "\n",
    "print()\n",
    "\n",
    "for key in f['mask'].keys():\n",
    "    print(key, f['mask'][key])"
   ]
  },
  {
   "cell_type": "code",
   "execution_count": 6,
   "metadata": {},
   "outputs": [
    {
     "data": {
      "text/plain": [
       "<KeysViewHDF5 ['data', 'mask', 'maxs', 'mins']>"
      ]
     },
     "execution_count": 6,
     "metadata": {},
     "output_type": "execute_result"
    }
   ],
   "source": [
    "f.keys()"
   ]
  },
  {
   "cell_type": "code",
   "execution_count": 7,
   "metadata": {},
   "outputs": [],
   "source": [
    "# del f['mask']['train']\n",
    "# del f['mask']['valid']"
   ]
  },
  {
   "cell_type": "code",
   "execution_count": null,
   "metadata": {},
   "outputs": [],
   "source": []
  },
  {
   "cell_type": "code",
   "execution_count": 8,
   "metadata": {},
   "outputs": [],
   "source": [
    "np.set_printoptions(precision=4, suppress=True)"
   ]
  },
  {
   "cell_type": "code",
   "execution_count": 9,
   "metadata": {},
   "outputs": [
    {
     "name": "stdout",
     "output_type": "stream",
     "text": [
      "mins:  [-0.6051 -0.6037 -5.6893  0.      0.     -0.45   -1.    ]\n",
      "maxs:  [1.2542 0.3913 1.0814 0.     0.     0.45   1.    ]\n"
     ]
    }
   ],
   "source": [
    "mins,maxs=[],[]\n",
    "for demo_name in demos_minmax.keys():\n",
    "    min,max= demos_minmax[demo_name]\n",
    "    mins.append(min)\n",
    "    maxs.append(max)\n",
    "\n",
    "mins=np.min(mins, axis=0)\n",
    "maxs=np.max(maxs, axis=0) \n",
    "print('mins: ', mins)\n",
    "print('maxs: ', maxs)"
   ]
  },
  {
   "cell_type": "code",
   "execution_count": 10,
   "metadata": {},
   "outputs": [
    {
     "name": "stdout",
     "output_type": "stream",
     "text": [
      "is_normalized: False\n"
     ]
    }
   ],
   "source": [
    "is_normalized='mins' in f.keys()\n",
    "print(f'is_normalized: {is_normalized}')\n",
    "\n",
    "if is_normalized:\n",
    "    print('mins: ', np.array(f['mins']))\n",
    "    print('maxs: ', np.array(f['maxs']))"
   ]
  },
  {
   "cell_type": "code",
   "execution_count": null,
   "metadata": {},
   "outputs": [],
   "source": []
  },
  {
   "cell_type": "code",
   "execution_count": 6,
   "metadata": {},
   "outputs": [
    {
     "name": "stdout",
     "output_type": "stream",
     "text": [
      "mask: expert (100) length-min: 204 mean: 283.9 max: 420 unique: (77,)\n",
      "mask: g80b20i (100) length-min: 204 mean: 437.59 max: 1200 unique: (73,)\n",
      "mask: intentional (30) length-min: 486 mean: 1072.0 max: 1200 unique: (14,)\n"
     ]
    }
   ],
   "source": [
    "for key in f['mask'].keys():\n",
    "    # print(key, f['mask'][key])\n",
    "    demo_names=[b.decode('utf-8') for b in f['mask'][key] ]\n",
    "\n",
    "    lengths=[]\n",
    "    demos_minmax={}\n",
    "    for demo_name in demo_names:\n",
    "        demo=f['data'][demo_name]\n",
    "        num_samples=demo.attrs['num_samples']\n",
    "        lengths.append(num_samples) \n",
    "    lengths=np.array(lengths)\n",
    "\n",
    "    print(f'mask: {key} ({len(lengths)}) length-min: {np.min(lengths)} mean: {np.mean(lengths)} max: {np.max(lengths)} unique: {np.unique(lengths).shape}')"
   ]
  },
  {
   "cell_type": "code",
   "execution_count": 12,
   "metadata": {},
   "outputs": [],
   "source": [
    "# lengths"
   ]
  },
  {
   "cell_type": "code",
   "execution_count": 7,
   "metadata": {},
   "outputs": [],
   "source": [
    "f.close()"
   ]
  },
  {
   "cell_type": "code",
   "execution_count": null,
   "metadata": {},
   "outputs": [],
   "source": []
  },
  {
   "cell_type": "code",
   "execution_count": null,
   "metadata": {},
   "outputs": [],
   "source": []
  },
  {
   "cell_type": "code",
   "execution_count": null,
   "metadata": {},
   "outputs": [],
   "source": [
    "names=[b.decode('utf-8') for b in f['mask']['expert']]\n",
    "len(names)"
   ]
  },
  {
   "cell_type": "code",
   "execution_count": null,
   "metadata": {},
   "outputs": [],
   "source": [
    "names"
   ]
  },
  {
   "cell_type": "code",
   "execution_count": null,
   "metadata": {},
   "outputs": [],
   "source": []
  },
  {
   "cell_type": "code",
   "execution_count": null,
   "metadata": {},
   "outputs": [],
   "source": []
  },
  {
   "cell_type": "code",
   "execution_count": null,
   "metadata": {},
   "outputs": [],
   "source": []
  },
  {
   "cell_type": "code",
   "execution_count": null,
   "metadata": {},
   "outputs": [],
   "source": []
  }
 ],
 "metadata": {
  "kernelspec": {
   "display_name": "robomimic_venv",
   "language": "python",
   "name": "python3"
  },
  "language_info": {
   "codemirror_mode": {
    "name": "ipython",
    "version": 3
   },
   "file_extension": ".py",
   "mimetype": "text/x-python",
   "name": "python",
   "nbconvert_exporter": "python",
   "pygments_lexer": "ipython3",
   "version": "3.8.17"
  },
  "orig_nbformat": 4
 },
 "nbformat": 4,
 "nbformat_minor": 2
}
