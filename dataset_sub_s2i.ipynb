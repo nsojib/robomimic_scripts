{
 "cells": [
  {
   "cell_type": "code",
   "execution_count": 1,
   "metadata": {},
   "outputs": [
    {
     "name": "stdout",
     "output_type": "stream",
     "text": [
      "\u001b[33mROBOMIMIC WARNING(\n",
      "    No private macro file found!\n",
      "    It is recommended to use a private macro file\n",
      "    To setup, run: python /home/ns1254/miniconda3/envs/equidiff/lib/python3.9/site-packages/robomimic/scripts/setup_macros.py\n",
      ")\u001b[0m\n"
     ]
    }
   ],
   "source": [
    "import os\n",
    "import json\n",
    "import h5py\n",
    "import numpy as np\n",
    "\n",
    "import robomimic\n",
    "import robomimic.utils.file_utils as FileUtils\n",
    "import robomimic.utils.env_utils as EnvUtils\n",
    "import robomimic.utils.obs_utils as ObsUtils\n",
    "import imageio\n",
    "import tqdm\n",
    "from robomimic.utils.file_utils import create_hdf5_filter_key"
   ]
  },
  {
   "cell_type": "code",
   "execution_count": null,
   "metadata": {},
   "outputs": [],
   "source": []
  },
  {
   "cell_type": "code",
   "execution_count": 2,
   "metadata": {},
   "outputs": [],
   "source": [
    "# dataset_path = \"/home/ns1254/data_franka/bellpepper_oma/ola_114.hdf5\"\n",
    "dataset_path = \"/home/ns1254/robomimic/datasets/can/mh/image_v141.hdf5\"\n",
    "\n",
    "# dataset_path = \"/home/ns1254/robomimic/datasets/square/mh/image_v141.hdf5\"\n",
    "\n",
    "f_org = h5py.File(dataset_path, \"r\")\n",
    "demos = list(f_org[\"data\"].keys())"
   ]
  },
  {
   "cell_type": "code",
   "execution_count": null,
   "metadata": {},
   "outputs": [],
   "source": []
  },
  {
   "cell_type": "code",
   "execution_count": 3,
   "metadata": {},
   "outputs": [
    {
     "name": "stdout",
     "output_type": "stream",
     "text": [
      "Number of demos:  300\n",
      "Max length:  1050\n",
      "Min length:  98\n",
      "Mean length:  209.18666666666667\n"
     ]
    }
   ],
   "source": [
    "lengths=[]\n",
    "for demo_name in demos:\n",
    "    demo=f_org['data'][demo_name]\n",
    "    num_samples=demo.attrs['num_samples']\n",
    "    lengths.append(num_samples)\n",
    "\n",
    "lengths=np.array(lengths)\n",
    "\n",
    "print('Number of demos: ', len(demos))\n",
    "print('Max length: ', np.max(lengths))\n",
    "print('Min length: ', np.min(lengths))\n",
    "print('Mean length: ', np.mean(lengths))"
   ]
  },
  {
   "cell_type": "code",
   "execution_count": 4,
   "metadata": {},
   "outputs": [
    {
     "data": {
      "text/plain": [
       "<KeysViewHDF5 ['20_percent', '20_percent_train', '20_percent_valid', '50_percent', '50_percent_train', '50_percent_valid', 'better', 'better_operator_1', 'better_operator_1_train', 'better_operator_1_valid', 'better_operator_2', 'better_operator_2_train', 'better_operator_2_valid', 'better_train', 'better_valid', 'okay', 'okay_better', 'okay_better_train', 'okay_better_valid', 'okay_operator_1', 'okay_operator_1_train', 'okay_operator_1_valid', 'okay_operator_2', 'okay_operator_2_train', 'okay_operator_2_valid', 'okay_train', 'okay_valid', 'train', 'valid', 'worse', 'worse_better', 'worse_better_train', 'worse_better_valid', 'worse_okay', 'worse_okay_train', 'worse_okay_valid', 'worse_operator_1', 'worse_operator_1_train', 'worse_operator_1_valid', 'worse_operator_2', 'worse_operator_2_train', 'worse_operator_2_valid', 'worse_train', 'worse_valid']>"
      ]
     },
     "execution_count": 4,
     "metadata": {},
     "output_type": "execute_result"
    }
   ],
   "source": [
    "f_org['mask'].keys()"
   ]
  },
  {
   "cell_type": "code",
   "execution_count": null,
   "metadata": {},
   "outputs": [],
   "source": []
  },
  {
   "cell_type": "code",
   "execution_count": 5,
   "metadata": {},
   "outputs": [],
   "source": [
    "def copy_group(src_group, dest_group):\n",
    "    # Copy attributes\n",
    "    for attr_name, attr_value in src_group.attrs.items():\n",
    "        dest_group.attrs[attr_name] = attr_value\n",
    "\n",
    "    for key, item in src_group.items():\n",
    "        if isinstance(item, h5py.Group):\n",
    "            # Create a new group in the destination and recursively copy contents\n",
    "            new_group = dest_group.create_group(key)\n",
    "            copy_group(item, new_group)\n",
    "        elif isinstance(item, h5py.Dataset):\n",
    "            # Copy datasets\n",
    "            dataset = dest_group.create_dataset(key, data=item[...])\n",
    "            # Copy attributes for the dataset\n",
    "            for attr_name, attr_value in item.attrs.items():\n",
    "                dataset.attrs[attr_name] = attr_value\n",
    "\n",
    "\n",
    "def copy_demos(f_src, f_dest, demos2copy, next_id):\n",
    "    new_demo_names=[]\n",
    "    i=next_id\n",
    "    for demo_name in tqdm.tqdm(demos2copy):\n",
    "        demo=f_src['data'][demo_name]  \n",
    "\n",
    "        demo_name_new=\"demo_\"+str(i) \n",
    "        new_demo=f_dest[\"data\"].create_group(demo_name_new) \n",
    "        copy_group(demo, new_demo) \n",
    "\n",
    "        new_demo_names.append(demo_name_new)\n",
    "        i = i+1\n",
    "\n",
    "    return i , new_demo_names"
   ]
  },
  {
   "cell_type": "code",
   "execution_count": null,
   "metadata": {},
   "outputs": [],
   "source": []
  },
  {
   "cell_type": "code",
   "execution_count": 6,
   "metadata": {},
   "outputs": [],
   "source": [
    "# demos"
   ]
  },
  {
   "cell_type": "code",
   "execution_count": 7,
   "metadata": {},
   "outputs": [
    {
     "data": {
      "text/plain": [
       "(100,)"
      ]
     },
     "execution_count": 7,
     "metadata": {},
     "output_type": "execute_result"
    }
   ],
   "source": [
    "can_30_ids = []\n",
    "for i in range(300):\n",
    "    if i%10==1:\n",
    "        can_30_ids.append(i)\n",
    "can_30_ids = np.array(can_30_ids)\n",
    "can_30_ids.shape\n",
    "\n",
    "can_100_ids=[]\n",
    "for i in range(300):\n",
    "    if i%3==1:\n",
    "        can_100_ids.append(i)\n",
    "can_100_ids = np.array(can_100_ids)\n",
    "can_100_ids.shape"
   ]
  },
  {
   "cell_type": "code",
   "execution_count": 8,
   "metadata": {},
   "outputs": [
    {
     "data": {
      "text/plain": [
       "['demo_1',\n",
       " 'demo_4',\n",
       " 'demo_7',\n",
       " 'demo_10',\n",
       " 'demo_13',\n",
       " 'demo_16',\n",
       " 'demo_19',\n",
       " 'demo_22',\n",
       " 'demo_25',\n",
       " 'demo_28',\n",
       " 'demo_31',\n",
       " 'demo_34',\n",
       " 'demo_37',\n",
       " 'demo_40',\n",
       " 'demo_43',\n",
       " 'demo_46',\n",
       " 'demo_49',\n",
       " 'demo_52',\n",
       " 'demo_55',\n",
       " 'demo_58',\n",
       " 'demo_61',\n",
       " 'demo_64',\n",
       " 'demo_67',\n",
       " 'demo_70',\n",
       " 'demo_73',\n",
       " 'demo_76',\n",
       " 'demo_79',\n",
       " 'demo_82',\n",
       " 'demo_85',\n",
       " 'demo_88',\n",
       " 'demo_91',\n",
       " 'demo_94',\n",
       " 'demo_97',\n",
       " 'demo_100',\n",
       " 'demo_103',\n",
       " 'demo_106',\n",
       " 'demo_109',\n",
       " 'demo_112',\n",
       " 'demo_115',\n",
       " 'demo_118',\n",
       " 'demo_121',\n",
       " 'demo_124',\n",
       " 'demo_127',\n",
       " 'demo_130',\n",
       " 'demo_133',\n",
       " 'demo_136',\n",
       " 'demo_139',\n",
       " 'demo_142',\n",
       " 'demo_145',\n",
       " 'demo_148',\n",
       " 'demo_151',\n",
       " 'demo_154',\n",
       " 'demo_157',\n",
       " 'demo_160',\n",
       " 'demo_163',\n",
       " 'demo_166',\n",
       " 'demo_169',\n",
       " 'demo_172',\n",
       " 'demo_175',\n",
       " 'demo_178',\n",
       " 'demo_181',\n",
       " 'demo_184',\n",
       " 'demo_187',\n",
       " 'demo_190',\n",
       " 'demo_193',\n",
       " 'demo_196',\n",
       " 'demo_199',\n",
       " 'demo_202',\n",
       " 'demo_205',\n",
       " 'demo_208',\n",
       " 'demo_211',\n",
       " 'demo_214',\n",
       " 'demo_217',\n",
       " 'demo_220',\n",
       " 'demo_223',\n",
       " 'demo_226',\n",
       " 'demo_229',\n",
       " 'demo_232',\n",
       " 'demo_235',\n",
       " 'demo_238',\n",
       " 'demo_241',\n",
       " 'demo_244',\n",
       " 'demo_247',\n",
       " 'demo_250',\n",
       " 'demo_253',\n",
       " 'demo_256',\n",
       " 'demo_259',\n",
       " 'demo_262',\n",
       " 'demo_265',\n",
       " 'demo_268',\n",
       " 'demo_271',\n",
       " 'demo_274',\n",
       " 'demo_277',\n",
       " 'demo_280',\n",
       " 'demo_283',\n",
       " 'demo_286',\n",
       " 'demo_289',\n",
       " 'demo_292',\n",
       " 'demo_295',\n",
       " 'demo_298']"
      ]
     },
     "execution_count": 8,
     "metadata": {},
     "output_type": "execute_result"
    }
   ],
   "source": [
    "# demos2copy = [f\"demo_{i}\" for i in can_30_ids]\n",
    "demos2copy = [f\"demo_{i}\" for i in can_100_ids]\n",
    "demos2copy"
   ]
  },
  {
   "cell_type": "code",
   "execution_count": null,
   "metadata": {},
   "outputs": [],
   "source": []
  },
  {
   "cell_type": "code",
   "execution_count": 9,
   "metadata": {},
   "outputs": [],
   "source": [
    "# square_50_ids = []\n",
    "# for i in range(300):\n",
    "#     if i%6==1:\n",
    "#         square_50_ids.append(i)\n",
    "# square_50_ids = np.array(square_50_ids)\n",
    "# print(square_50_ids.shape)\n",
    "\n",
    "# square_150_ids=[]\n",
    "# for i in range(300):\n",
    "#     if i%2==1:\n",
    "#         square_150_ids.append(i)\n",
    "# square_150_ids = np.array(square_150_ids)\n",
    "# print(square_150_ids.shape)"
   ]
  },
  {
   "cell_type": "code",
   "execution_count": 10,
   "metadata": {},
   "outputs": [],
   "source": [
    "# demos2copy = [f\"demo_{i}\" for i in square_50_ids]\n",
    "# demos2copy = [f\"demo_{i}\" for i in square_150_ids]\n",
    "# demos2copy"
   ]
  },
  {
   "cell_type": "code",
   "execution_count": null,
   "metadata": {},
   "outputs": [],
   "source": []
  },
  {
   "cell_type": "code",
   "execution_count": null,
   "metadata": {},
   "outputs": [],
   "source": []
  },
  {
   "cell_type": "code",
   "execution_count": null,
   "metadata": {},
   "outputs": [],
   "source": []
  },
  {
   "cell_type": "markdown",
   "metadata": {},
   "source": [
    "### create sub data"
   ]
  },
  {
   "cell_type": "code",
   "execution_count": 11,
   "metadata": {},
   "outputs": [
    {
     "data": {
      "text/plain": [
       "(100,\n",
       " ['demo_1',\n",
       "  'demo_4',\n",
       "  'demo_7',\n",
       "  'demo_10',\n",
       "  'demo_13',\n",
       "  'demo_16',\n",
       "  'demo_19',\n",
       "  'demo_22',\n",
       "  'demo_25',\n",
       "  'demo_28',\n",
       "  'demo_31',\n",
       "  'demo_34',\n",
       "  'demo_37',\n",
       "  'demo_40',\n",
       "  'demo_43',\n",
       "  'demo_46',\n",
       "  'demo_49',\n",
       "  'demo_52',\n",
       "  'demo_55',\n",
       "  'demo_58',\n",
       "  'demo_61',\n",
       "  'demo_64',\n",
       "  'demo_67',\n",
       "  'demo_70',\n",
       "  'demo_73',\n",
       "  'demo_76',\n",
       "  'demo_79',\n",
       "  'demo_82',\n",
       "  'demo_85',\n",
       "  'demo_88',\n",
       "  'demo_91',\n",
       "  'demo_94',\n",
       "  'demo_97',\n",
       "  'demo_100',\n",
       "  'demo_103',\n",
       "  'demo_106',\n",
       "  'demo_109',\n",
       "  'demo_112',\n",
       "  'demo_115',\n",
       "  'demo_118',\n",
       "  'demo_121',\n",
       "  'demo_124',\n",
       "  'demo_127',\n",
       "  'demo_130',\n",
       "  'demo_133',\n",
       "  'demo_136',\n",
       "  'demo_139',\n",
       "  'demo_142',\n",
       "  'demo_145',\n",
       "  'demo_148',\n",
       "  'demo_151',\n",
       "  'demo_154',\n",
       "  'demo_157',\n",
       "  'demo_160',\n",
       "  'demo_163',\n",
       "  'demo_166',\n",
       "  'demo_169',\n",
       "  'demo_172',\n",
       "  'demo_175',\n",
       "  'demo_178',\n",
       "  'demo_181',\n",
       "  'demo_184',\n",
       "  'demo_187',\n",
       "  'demo_190',\n",
       "  'demo_193',\n",
       "  'demo_196',\n",
       "  'demo_199',\n",
       "  'demo_202',\n",
       "  'demo_205',\n",
       "  'demo_208',\n",
       "  'demo_211',\n",
       "  'demo_214',\n",
       "  'demo_217',\n",
       "  'demo_220',\n",
       "  'demo_223',\n",
       "  'demo_226',\n",
       "  'demo_229',\n",
       "  'demo_232',\n",
       "  'demo_235',\n",
       "  'demo_238',\n",
       "  'demo_241',\n",
       "  'demo_244',\n",
       "  'demo_247',\n",
       "  'demo_250',\n",
       "  'demo_253',\n",
       "  'demo_256',\n",
       "  'demo_259',\n",
       "  'demo_262',\n",
       "  'demo_265',\n",
       "  'demo_268',\n",
       "  'demo_271',\n",
       "  'demo_274',\n",
       "  'demo_277',\n",
       "  'demo_280',\n",
       "  'demo_283',\n",
       "  'demo_286',\n",
       "  'demo_289',\n",
       "  'demo_292',\n",
       "  'demo_295',\n",
       "  'demo_298'])"
      ]
     },
     "execution_count": 11,
     "metadata": {},
     "output_type": "execute_result"
    }
   ],
   "source": [
    "group_name = \"bad\"\n",
    "# demos2copy =[demo.decode('utf-8') for demo in f_org['mask'][group_name]]\n",
    "# demos2copy=sorted(demos2copy, key=lambda x: int(x.split('_')[-1]))\n",
    "len(demos2copy), demos2copy"
   ]
  },
  {
   "cell_type": "code",
   "execution_count": 12,
   "metadata": {},
   "outputs": [
    {
     "name": "stdout",
     "output_type": "stream",
     "text": [
      "env_args\n",
      "total\n"
     ]
    }
   ],
   "source": [
    "for key in f_org['data'].attrs.keys():\n",
    "    print(key)"
   ]
  },
  {
   "cell_type": "code",
   "execution_count": null,
   "metadata": {},
   "outputs": [],
   "source": []
  },
  {
   "cell_type": "code",
   "execution_count": null,
   "metadata": {},
   "outputs": [],
   "source": []
  },
  {
   "cell_type": "code",
   "execution_count": 13,
   "metadata": {},
   "outputs": [
    {
     "data": {
      "text/plain": [
       "'/home/ns1254/robomimic/datasets/can/mh/image_v141_can100.hdf5'"
      ]
     },
     "execution_count": 13,
     "metadata": {},
     "output_type": "execute_result"
    }
   ],
   "source": [
    "dataset_path_sub =dataset_path\n",
    "dataset_path_sub=dataset_path_sub.replace(\".hdf5\", \"\")+\"_can100.hdf5\"\n",
    "dataset_path_sub"
   ]
  },
  {
   "cell_type": "code",
   "execution_count": 14,
   "metadata": {},
   "outputs": [
    {
     "data": {
      "text/plain": [
       "<HDF5 group \"/mask\" (0 members)>"
      ]
     },
     "execution_count": 14,
     "metadata": {},
     "output_type": "execute_result"
    }
   ],
   "source": [
    "f_sub = h5py.File(dataset_path_sub, \"w\") \n",
    "f_sub.create_group(\"data\")\n",
    "f_sub.create_group(\"mask\")"
   ]
  },
  {
   "cell_type": "code",
   "execution_count": 15,
   "metadata": {},
   "outputs": [],
   "source": [
    "#copy attributes of exist.\n",
    "key='env_args'\n",
    "f_sub['data'].attrs[key]=f_org['data'].attrs[key]"
   ]
  },
  {
   "cell_type": "code",
   "execution_count": 16,
   "metadata": {},
   "outputs": [
    {
     "name": "stdout",
     "output_type": "stream",
     "text": [
      "copying demos...\n"
     ]
    },
    {
     "name": "stderr",
     "output_type": "stream",
     "text": [
      "100%|██████████| 100/100 [00:02<00:00, 39.53it/s]\n"
     ]
    }
   ],
   "source": [
    "print('copying demos...') \n",
    "next_id , new_demo_names=copy_demos(f_src=f_org, f_dest=f_sub, demos2copy=demos2copy, next_id=0)"
   ]
  },
  {
   "cell_type": "code",
   "execution_count": 17,
   "metadata": {},
   "outputs": [],
   "source": [
    "f_org.close()\n",
    "f_sub.close()"
   ]
  },
  {
   "cell_type": "code",
   "execution_count": null,
   "metadata": {},
   "outputs": [],
   "source": []
  },
  {
   "cell_type": "code",
   "execution_count": null,
   "metadata": {},
   "outputs": [],
   "source": []
  },
  {
   "cell_type": "code",
   "execution_count": null,
   "metadata": {},
   "outputs": [],
   "source": []
  },
  {
   "cell_type": "code",
   "execution_count": null,
   "metadata": {},
   "outputs": [],
   "source": []
  },
  {
   "cell_type": "code",
   "execution_count": null,
   "metadata": {},
   "outputs": [],
   "source": []
  },
  {
   "cell_type": "code",
   "execution_count": null,
   "metadata": {},
   "outputs": [],
   "source": []
  }
 ],
 "metadata": {
  "kernelspec": {
   "display_name": "equidiff",
   "language": "python",
   "name": "python3"
  },
  "language_info": {
   "codemirror_mode": {
    "name": "ipython",
    "version": 3
   },
   "file_extension": ".py",
   "mimetype": "text/x-python",
   "name": "python",
   "nbconvert_exporter": "python",
   "pygments_lexer": "ipython3",
   "version": "3.9.18"
  },
  "orig_nbformat": 4
 },
 "nbformat": 4,
 "nbformat_minor": 2
}
