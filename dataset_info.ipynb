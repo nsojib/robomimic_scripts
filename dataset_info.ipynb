{
 "cells": [
  {
   "cell_type": "code",
   "execution_count": 1,
   "metadata": {},
   "outputs": [],
   "source": [
    "import os\n",
    "import json\n",
    "import h5py\n",
    "import numpy as np\n",
    "\n",
    "import robomimic\n",
    "import robomimic.utils.file_utils as FileUtils\n",
    "import robomimic.utils.env_utils as EnvUtils\n",
    "import robomimic.utils.obs_utils as ObsUtils\n",
    "import imageio\n",
    "import tqdm"
   ]
  },
  {
   "cell_type": "code",
   "execution_count": 2,
   "metadata": {},
   "outputs": [],
   "source": [
    "dataset_path = \"/home/ns/robosuite/collects/1705874644_525442/demo101_jan21_image_group.hdf5\" \n",
    "dataset_path = \"/home/ns/collect_robomimic_demos/Elbert/NutAssemblySquare_01_26_2024_06_52PM_elbert/demo_image.hdf5\"\n",
    "dataset_path = \"/home/ns/collect_robomimic_demos/Elbert/PickPlaceCan_01_26_2024_06_40PM_Elbert/demo_image.hdf5\"\n",
    "dataset_path = \"/home/ns/collect_robomimic_demos/Brooke/PickPlaceCan_01_26_2024_02_19PM_Brooke/demo_image.hdf5\"\n",
    "dataset_path = \"/home/ns/collect_robomimic_demos/Lift_01_30_2024_05_03PM_sojib/lift_mixed_v0.hdf5\"\n",
    "\n",
    "# dataset_path = \"/home/ns/collect_robomimic_demos/sojib_can_expert/PickPlaceCan_01_30_2024_02_33PM_sojib/demo_image.hdf5\"\n",
    "# dataset_path = \"/home/ns/collect_robomimic_demos/sojib_square_expert/NutAssemblySquare_02_01_2024_06_38PM_sojib/square_mix_v0.hdf5\"\n",
    "# dataset_path = \"/home/ns/collect_robomimic_demos/sojib_can_expert/PickPlaceCan_01_30_2024_01_45PM_sojib/can_mix_v0.hdf5\""
   ]
  },
  {
   "cell_type": "code",
   "execution_count": 3,
   "metadata": {},
   "outputs": [],
   "source": [
    "f = h5py.File(dataset_path, \"r\")\n",
    "demos = list(f[\"data\"].keys())"
   ]
  },
  {
   "cell_type": "code",
   "execution_count": 4,
   "metadata": {},
   "outputs": [
    {
     "name": "stdout",
     "output_type": "stream",
     "text": [
      "Number of demos:  300\n",
      "Max length:  800\n",
      "Min length:  116\n",
      "Mean length:  375.99\n",
      "Median length:  212.0\n"
     ]
    }
   ],
   "source": [
    "lengths=[]\n",
    "demos_minmax={}\n",
    "for demo_name in demos:\n",
    "    demo=f['data'][demo_name]\n",
    "    num_samples=demo.attrs['num_samples']\n",
    "    lengths.append(num_samples)\n",
    "\n",
    "    action=f['data'][demo_name]['actions']\n",
    "    action=np.array(action) \n",
    "    demos_minmax[demo_name] = (np.min(action, axis=0), np.max(action, axis=0))\n",
    "\n",
    "\n",
    "lengths=np.array(lengths)\n",
    "\n",
    "print('Number of demos: ', len(demos))\n",
    "print('Max length: ', np.max(lengths))\n",
    "print('Min length: ', np.min(lengths))\n",
    "print('Mean length: ', np.mean(lengths))\n",
    "print('Median length: ', np.median(lengths))"
   ]
  },
  {
   "cell_type": "code",
   "execution_count": 5,
   "metadata": {},
   "outputs": [
    {
     "name": "stdout",
     "output_type": "stream",
     "text": [
      "expert <HDF5 dataset \"expert\": shape (100,), type \"|S16\">\n",
      "failed <HDF5 dataset \"failed\": shape (100,), type \"|S16\">\n",
      "good <HDF5 dataset \"good\": shape (100,), type \"|S16\">\n"
     ]
    }
   ],
   "source": [
    "for key in f['mask'].keys():\n",
    "    print(key, f['mask'][key])"
   ]
  },
  {
   "cell_type": "code",
   "execution_count": 6,
   "metadata": {},
   "outputs": [
    {
     "data": {
      "text/plain": [
       "<KeysViewHDF5 ['data', 'mask', 'maxs', 'mins']>"
      ]
     },
     "execution_count": 6,
     "metadata": {},
     "output_type": "execute_result"
    }
   ],
   "source": [
    "f.keys()"
   ]
  },
  {
   "cell_type": "code",
   "execution_count": 7,
   "metadata": {},
   "outputs": [],
   "source": [
    "np.set_printoptions(precision=4, suppress=True)"
   ]
  },
  {
   "cell_type": "code",
   "execution_count": 8,
   "metadata": {},
   "outputs": [
    {
     "name": "stdout",
     "output_type": "stream",
     "text": [
      "mins:  [-1.     -1.     -1.1062 -1.     -1.     -1.     -1.    ]\n",
      "maxs:  [1.2542 1.     1.0814 0.     0.     1.     1.    ]\n"
     ]
    }
   ],
   "source": [
    "mins,maxs=[],[]\n",
    "for demo_name in demos_minmax.keys():\n",
    "    min,max= demos_minmax[demo_name]\n",
    "    mins.append(min)\n",
    "    maxs.append(max)\n",
    "\n",
    "mins=np.min(mins, axis=0)\n",
    "maxs=np.max(maxs, axis=0) \n",
    "print('mins: ', mins)\n",
    "print('maxs: ', maxs)"
   ]
  },
  {
   "cell_type": "code",
   "execution_count": 9,
   "metadata": {},
   "outputs": [
    {
     "name": "stdout",
     "output_type": "stream",
     "text": [
      "is_normalized: True\n",
      "mins:  [-0.3861 -0.3678 -1.1138  0.      0.     -0.3    -1.    ]\n",
      "maxs:  [0.6259 0.3797 1.1079 0.     0.     0.3    1.    ]\n"
     ]
    }
   ],
   "source": [
    "is_normalized='mins' in f.keys()\n",
    "print(f'is_normalized: {is_normalized}')\n",
    "\n",
    "if is_normalized:\n",
    "    print('mins: ', np.array(f['mins']))\n",
    "    print('maxs: ', np.array(f['maxs']))"
   ]
  },
  {
   "cell_type": "code",
   "execution_count": 10,
   "metadata": {},
   "outputs": [],
   "source": [
    "f.close()"
   ]
  },
  {
   "cell_type": "code",
   "execution_count": null,
   "metadata": {},
   "outputs": [],
   "source": []
  },
  {
   "cell_type": "code",
   "execution_count": null,
   "metadata": {},
   "outputs": [],
   "source": []
  },
  {
   "cell_type": "code",
   "execution_count": 14,
   "metadata": {},
   "outputs": [
    {
     "data": {
      "text/plain": [
       "10"
      ]
     },
     "execution_count": 14,
     "metadata": {},
     "output_type": "execute_result"
    }
   ],
   "source": [
    "names=[b.decode('utf-8') for b in f['mask']['expert']]\n",
    "len(names)"
   ]
  },
  {
   "cell_type": "code",
   "execution_count": 15,
   "metadata": {},
   "outputs": [
    {
     "data": {
      "text/plain": [
       "['demo-Tru',\n",
       " 'demo-Tru',\n",
       " 'demo-Tru',\n",
       " 'demo-Tru',\n",
       " 'demo-Tru',\n",
       " 'demo-Tru',\n",
       " 'demo-Tru',\n",
       " 'demo-Tru',\n",
       " 'demo-Tru',\n",
       " 'demo-Tru']"
      ]
     },
     "execution_count": 15,
     "metadata": {},
     "output_type": "execute_result"
    }
   ],
   "source": [
    "names"
   ]
  },
  {
   "cell_type": "code",
   "execution_count": null,
   "metadata": {},
   "outputs": [],
   "source": []
  },
  {
   "cell_type": "code",
   "execution_count": null,
   "metadata": {},
   "outputs": [],
   "source": []
  },
  {
   "cell_type": "code",
   "execution_count": null,
   "metadata": {},
   "outputs": [],
   "source": []
  },
  {
   "cell_type": "code",
   "execution_count": null,
   "metadata": {},
   "outputs": [],
   "source": []
  }
 ],
 "metadata": {
  "kernelspec": {
   "display_name": "robomimic_venv",
   "language": "python",
   "name": "python3"
  },
  "language_info": {
   "codemirror_mode": {
    "name": "ipython",
    "version": 3
   },
   "file_extension": ".py",
   "mimetype": "text/x-python",
   "name": "python",
   "nbconvert_exporter": "python",
   "pygments_lexer": "ipython3",
   "version": "3.7.16"
  },
  "orig_nbformat": 4
 },
 "nbformat": 4,
 "nbformat_minor": 2
}
