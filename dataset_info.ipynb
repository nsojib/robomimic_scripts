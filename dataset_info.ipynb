{
 "cells": [
  {
   "cell_type": "code",
   "execution_count": 8,
   "metadata": {},
   "outputs": [],
   "source": [
    "import os\n",
    "import json\n",
    "import h5py\n",
    "import numpy as np\n",
    "\n",
    "import robomimic\n",
    "import robomimic.utils.file_utils as FileUtils\n",
    "import robomimic.utils.env_utils as EnvUtils\n",
    "import robomimic.utils.obs_utils as ObsUtils\n",
    "import imageio\n",
    "import tqdm\n",
    "from robomimic.utils.file_utils import create_hdf5_filter_key\n",
    "import shutil"
   ]
  },
  {
   "cell_type": "code",
   "execution_count": 9,
   "metadata": {},
   "outputs": [],
   "source": [
    "# dataset_path = \"/home/ns1254/data_robomimic/carl_dataset/mixed_human_original/lift_carl_mix_v1_240.hdf5\"\n",
    "# dataset_path = \"/home/ns1254/data_robomimic/carl_dataset/mixed_human_original/lift_carl_mix_v3_340.hdf5\"\n",
    "# dataset_path = \"/home/ns1254/data_robomimic/carl_dataset/mixed_human_original/can_carl_mix_v3_510.hdf5\"\n",
    "# dataset_path = \"/home/ns1254/data_robomimic/carl_dataset/mixed_human_original/square_expert_245.hdf5\"\n",
    "\n",
    "# dataset_path = \"/home/ns1254/data_robomimic/carl_dataset/square_better_plus.hdf5\"\n",
    "\n",
    "# dataset_path = \"/home/ns1254/data_robomimic/sawyer/dclose_10d_gb81.hdf5\"\n",
    "# dataset_path = \"/home/ns1254/robomimic/datasets/can/paired/image+groups_v141.hdf5\"\n",
    "# dataset_path = \"/home/ns1254/robomimic/datasets/can/mh/image_v141+groups.hdf5\"\n",
    "dataset_path = \"/home/ns1254/robomimic/datasets/lift/mh/image_v141.hdf5\"\n",
    "\n",
    "dataset_path = \"/home/ns1254/data_robomimic/carl_dataset/mixed_human_original/lift_carl_mix_v4_260.hdf5\"\n",
    "\n",
    "# dataset_path = \"/home/ns1254/robomimic/datasets/can/paired/image+groups_v141.hdf5\"\n",
    "\n",
    "dataset_path = \"/home/ns1254/data_robomimic/lift_image_real_robomimic.hdf5\"\n",
    "\n",
    "dataset_path = \"/home/ns1254/data_robomimic/carl_dataset/mixed_human_original/square_carl_mix_v3_180.hdf5\"\n",
    "dataset_path = \"/home/ns1254/data_robomimic/carl_dataset/mixed_human_original/square_expert_245.hdf5\"\n",
    "\n",
    "dataset_path = \"/home/ns1254/data_robomimic/carl_dataset/mixed_human_original/square_carl_mix_v3_180.hdf5\""
   ]
  },
  {
   "cell_type": "code",
   "execution_count": 10,
   "metadata": {},
   "outputs": [],
   "source": [
    "f = h5py.File(dataset_path, \"r\")\n",
    "demos = list(f[\"data\"].keys())"
   ]
  },
  {
   "cell_type": "code",
   "execution_count": 11,
   "metadata": {},
   "outputs": [],
   "source": [
    "if 'env_args' in f['data'].attrs.keys():\n",
    "    env_args =  f[\"data\"].attrs[\"env_args\"]\n",
    "else:\n",
    "    env_args= '{env_name: no-env-args}'\n",
    "# env_args"
   ]
  },
  {
   "cell_type": "code",
   "execution_count": null,
   "metadata": {},
   "outputs": [],
   "source": []
  },
  {
   "cell_type": "code",
   "execution_count": 12,
   "metadata": {},
   "outputs": [
    {
     "name": "stdout",
     "output_type": "stream",
     "text": [
      "Number of demos:  180\n",
      "Max length:  1400\n",
      "Min length:  123\n",
      "Mean length:  513.0\n"
     ]
    }
   ],
   "source": [
    "lengths=[]\n",
    "for demo_name in demos:\n",
    "    demo=f['data'][demo_name]\n",
    "    num_samples=demo.attrs['num_samples']\n",
    "    lengths.append(num_samples)\n",
    "\n",
    "lengths=np.array(lengths)\n",
    "\n",
    "print('Number of demos: ', len(demos))\n",
    "print('Max length: ', np.max(lengths))\n",
    "print('Min length: ', np.min(lengths))\n",
    "print('Mean length: ', np.mean(lengths))"
   ]
  },
  {
   "cell_type": "code",
   "execution_count": 13,
   "metadata": {},
   "outputs": [
    {
     "data": {
      "text/plain": [
       "<KeysViewHDF5 []>"
      ]
     },
     "execution_count": 13,
     "metadata": {},
     "output_type": "execute_result"
    }
   ],
   "source": [
    "# print all the attributes of the dataset\n",
    "\n",
    "f.attrs.keys()\n",
    "\n",
    "# f[\"data\"].attrs[\"env_args\"]"
   ]
  },
  {
   "cell_type": "code",
   "execution_count": null,
   "metadata": {},
   "outputs": [],
   "source": []
  },
  {
   "cell_type": "code",
   "execution_count": 14,
   "metadata": {},
   "outputs": [
    {
     "name": "stdout",
     "output_type": "stream",
     "text": [
      "bad <HDF5 dataset \"bad\": shape (20,), type \"|S16\">\n",
      "expert <HDF5 dataset \"expert\": shape (100,), type \"|S16\">\n",
      "intentional <HDF5 dataset \"intentional\": shape (20,), type \"|S16\">\n",
      "other_task <HDF5 dataset \"other_task\": shape (20,), type \"|S16\">\n",
      "p20b <HDF5 dataset \"p20b\": shape (100,), type \"|S8\">\n",
      "p20i <HDF5 dataset \"p20i\": shape (100,), type \"|S8\">\n",
      "p20o <HDF5 dataset \"p20o\": shape (100,), type \"|S8\">\n",
      "p20tg <HDF5 dataset \"p20tg\": shape (100,), type \"|S8\">\n",
      "try_good <HDF5 dataset \"try_good\": shape (20,), type \"|S16\">\n"
     ]
    }
   ],
   "source": [
    "for key in f['mask'].keys():\n",
    "    print(key, f['mask'][key])"
   ]
  },
  {
   "cell_type": "code",
   "execution_count": 15,
   "metadata": {},
   "outputs": [],
   "source": [
    "# g60b40"
   ]
  },
  {
   "cell_type": "code",
   "execution_count": 9,
   "metadata": {},
   "outputs": [
    {
     "data": {
      "text/plain": [
       "(210, ['demo_10', 'demo_100', 'demo_103'])"
      ]
     },
     "execution_count": 9,
     "metadata": {},
     "output_type": "execute_result"
    }
   ],
   "source": [
    "demos_expert=[b.decode('utf-8') for b in f['mask']['expert']]\n",
    "len(demos_expert), demos_expert[:3]"
   ]
  },
  {
   "cell_type": "code",
   "execution_count": 10,
   "metadata": {},
   "outputs": [
    {
     "name": "stdout",
     "output_type": "stream",
     "text": [
      "Max length:  648\n",
      "Min length:  318\n",
      "Mean length:  446.0047619047619\n"
     ]
    }
   ],
   "source": [
    "lengths_expert=[]\n",
    "for demo_name in demos_expert:\n",
    "    demo=f['data'][demo_name]\n",
    "    num_samples=demo.attrs['num_samples']\n",
    "    lengths_expert.append(num_samples)\n",
    "\n",
    "lengths_expert=np.array(lengths_expert)\n",
    "\n",
    "print('Max length: ', np.max(lengths_expert))\n",
    "print('Min length: ', np.min(lengths_expert))\n",
    "print('Mean length: ', np.mean(lengths_expert))"
   ]
  },
  {
   "cell_type": "code",
   "execution_count": null,
   "metadata": {},
   "outputs": [],
   "source": []
  },
  {
   "cell_type": "code",
   "execution_count": 9,
   "metadata": {},
   "outputs": [
    {
     "data": {
      "text/plain": [
       "<KeysViewHDF5 ['data', 'mask', 'maxs', 'mins']>"
      ]
     },
     "execution_count": 9,
     "metadata": {},
     "output_type": "execute_result"
    }
   ],
   "source": [
    "f.keys()"
   ]
  },
  {
   "cell_type": "code",
   "execution_count": null,
   "metadata": {},
   "outputs": [],
   "source": []
  },
  {
   "cell_type": "code",
   "execution_count": 10,
   "metadata": {},
   "outputs": [],
   "source": [
    "# Max length:  206\n",
    "# Min length:  116\n",
    "# Mean length:  139.51"
   ]
  },
  {
   "cell_type": "code",
   "execution_count": 11,
   "metadata": {},
   "outputs": [
    {
     "name": "stdout",
     "output_type": "stream",
     "text": [
      "[-0.75  -1.16  -5.689  0.     0.    -0.6   -1.   ]\n",
      "[1.373 1.205 1.071 0.    0.    0.45  1.   ]\n"
     ]
    }
   ],
   "source": [
    "mins=np.array( f['mins'] )\n",
    "maxs=np.array( f['maxs'] )\n",
    "\n",
    "\n",
    "np.set_printoptions(precision=3, suppress=True)\n",
    "\n",
    "print(mins)\n",
    "print(maxs)"
   ]
  },
  {
   "cell_type": "code",
   "execution_count": null,
   "metadata": {},
   "outputs": [],
   "source": [
    "# [-1.148 -1.427 -2.574  0.     0.    -0.6   -1.   ]\n",
    "# [1.373 1.369 1.081 0.    0.    0.45  1.   ]"
   ]
  },
  {
   "cell_type": "code",
   "execution_count": 8,
   "metadata": {},
   "outputs": [],
   "source": [
    "f.close()"
   ]
  },
  {
   "cell_type": "code",
   "execution_count": null,
   "metadata": {},
   "outputs": [],
   "source": []
  },
  {
   "cell_type": "code",
   "execution_count": 10,
   "metadata": {},
   "outputs": [
    {
     "data": {
      "text/plain": [
       "(66, 7)"
      ]
     },
     "execution_count": 10,
     "metadata": {},
     "output_type": "execute_result"
    }
   ],
   "source": [
    "demo=f['data'][demos[0]]\n",
    "actions=demo['actions']\n",
    "actions.shape"
   ]
  },
  {
   "cell_type": "code",
   "execution_count": 11,
   "metadata": {},
   "outputs": [
    {
     "data": {
      "text/plain": [
       "array([ 1.,  1.,  1.,  1.,  1.,  1.,  1.,  1.,  1.,  1.,  1.,  1.,  1.,\n",
       "        1.,  1.,  1.,  1.,  1.,  1.,  1.,  1.,  1.,  1.,  1.,  1.,  1.,\n",
       "        1.,  1.,  1.,  1.,  1.,  1.,  1.,  1.,  1.,  1.,  1.,  1.,  1.,\n",
       "        1.,  1.,  1.,  1.,  1., -1., -1., -1., -1., -1., -1., -1., -1.,\n",
       "       -1., -1., -1., -1., -1., -1., -1., -1., -1., -1., -1., -1., -1.,\n",
       "       -1.])"
      ]
     },
     "execution_count": 11,
     "metadata": {},
     "output_type": "execute_result"
    }
   ],
   "source": [
    "actions[:,6]"
   ]
  },
  {
   "cell_type": "code",
   "execution_count": 12,
   "metadata": {},
   "outputs": [
    {
     "data": {
      "text/plain": [
       "array([[-0.01728681, -0.01287809,  0.02150786,  0.03470355, -0.08398321,\n",
       "        -0.26471839,  1.        ],\n",
       "       [-0.02903676, -0.03145326,  0.04185413,  0.03068078, -0.0828308 ,\n",
       "        -0.27059845,  1.        ],\n",
       "       [-0.045291  , -0.0456926 ,  0.05257651,  0.03653023, -0.08349406,\n",
       "        -0.27933578,  1.        ]])"
      ]
     },
     "execution_count": 12,
     "metadata": {},
     "output_type": "execute_result"
    }
   ],
   "source": [
    "actions[:3,:]"
   ]
  },
  {
   "cell_type": "code",
   "execution_count": null,
   "metadata": {},
   "outputs": [],
   "source": []
  },
  {
   "cell_type": "code",
   "execution_count": null,
   "metadata": {},
   "outputs": [],
   "source": []
  },
  {
   "cell_type": "code",
   "execution_count": null,
   "metadata": {},
   "outputs": [],
   "source": []
  },
  {
   "cell_type": "code",
   "execution_count": null,
   "metadata": {},
   "outputs": [],
   "source": []
  },
  {
   "cell_type": "code",
   "execution_count": null,
   "metadata": {},
   "outputs": [],
   "source": []
  },
  {
   "cell_type": "code",
   "execution_count": null,
   "metadata": {},
   "outputs": [],
   "source": []
  },
  {
   "cell_type": "code",
   "execution_count": 15,
   "metadata": {},
   "outputs": [
    {
     "data": {
      "text/plain": [
       "['demo_1',\n",
       " 'demo_100',\n",
       " 'demo_102',\n",
       " 'demo_103',\n",
       " 'demo_104',\n",
       " 'demo_105',\n",
       " 'demo_107',\n",
       " 'demo_108',\n",
       " 'demo_109',\n",
       " 'demo_11']"
      ]
     },
     "execution_count": 15,
     "metadata": {},
     "output_type": "execute_result"
    }
   ],
   "source": [
    "# goodbad=[name.decode('utf-8') for name in f['mask']['goodbad']]\n",
    "goodbad=[name.decode('utf-8') for name in f['mask']['g100b25']]\n",
    "goodbad[:10]"
   ]
  },
  {
   "cell_type": "code",
   "execution_count": 16,
   "metadata": {},
   "outputs": [
    {
     "data": {
      "text/plain": [
       "(125, 125)"
      ]
     },
     "execution_count": 16,
     "metadata": {},
     "output_type": "execute_result"
    }
   ],
   "source": [
    "len(goodbad), np.unique(goodbad, return_counts=True)[1].sum()"
   ]
  },
  {
   "cell_type": "code",
   "execution_count": 17,
   "metadata": {},
   "outputs": [
    {
     "name": "stdout",
     "output_type": "stream",
     "text": [
      "Number of demos:  125\n",
      "Max length:  696\n",
      "Min length:  129\n",
      "Mean length:  227.544\n"
     ]
    }
   ],
   "source": [
    "lengths=[]\n",
    "demos=goodbad\n",
    "for demo_name in demos:\n",
    "    demo=f['data'][demo_name]\n",
    "    num_samples=demo.attrs['num_samples']\n",
    "    lengths.append(num_samples)\n",
    "\n",
    "lengths=np.array(lengths)\n",
    "\n",
    "print('Number of demos: ', len(demos))\n",
    "print('Max length: ', np.max(lengths))\n",
    "print('Min length: ', np.min(lengths))\n",
    "print('Mean length: ', np.mean(lengths))"
   ]
  },
  {
   "cell_type": "code",
   "execution_count": 18,
   "metadata": {},
   "outputs": [
    {
     "data": {
      "text/plain": [
       "[696, 683, 669, 633, 611, 608, 595, 595, 566, 554]"
      ]
     },
     "execution_count": 18,
     "metadata": {},
     "output_type": "execute_result"
    }
   ],
   "source": [
    "# choose top 30 demos by length from lengths\n",
    "\n",
    "sorted_idx=np.argsort(lengths)[::-1]\n",
    "sorted_demos=[demos[idx] for idx in sorted_idx]\n",
    "sorted_lengths=[lengths[idx] for idx in sorted_idx]\n",
    "sorted_lengths[:10]"
   ]
  },
  {
   "cell_type": "code",
   "execution_count": 22,
   "metadata": {},
   "outputs": [
    {
     "data": {
      "text/plain": [
       "['demo_178',\n",
       " 'demo_153',\n",
       " 'demo_160',\n",
       " 'demo_167',\n",
       " 'demo_157',\n",
       " 'demo_89',\n",
       " 'demo_46',\n",
       " 'demo_99',\n",
       " 'demo_129',\n",
       " 'demo_60']"
      ]
     },
     "execution_count": 22,
     "metadata": {},
     "output_type": "execute_result"
    }
   ],
   "source": [
    "sorted_demos[20:30]"
   ]
  },
  {
   "cell_type": "code",
   "execution_count": null,
   "metadata": {},
   "outputs": [],
   "source": []
  },
  {
   "cell_type": "code",
   "execution_count": 20,
   "metadata": {},
   "outputs": [
    {
     "data": {
      "text/plain": [
       "['demo_150',\n",
       " 'demo_149',\n",
       " 'demo_176',\n",
       " 'demo_156',\n",
       " 'demo_175',\n",
       " 'demo_173',\n",
       " 'demo_172',\n",
       " 'demo_155',\n",
       " 'demo_165',\n",
       " 'demo_142',\n",
       " 'demo_152',\n",
       " 'demo_170',\n",
       " 'demo_169',\n",
       " 'demo_147',\n",
       " 'demo_162',\n",
       " 'demo_163',\n",
       " 'demo_144',\n",
       " 'demo_174',\n",
       " 'demo_148',\n",
       " 'demo_151',\n",
       " 'demo_178',\n",
       " 'demo_153',\n",
       " 'demo_160',\n",
       " 'demo_167',\n",
       " 'demo_157']"
      ]
     },
     "execution_count": 20,
     "metadata": {},
     "output_type": "execute_result"
    }
   ],
   "source": [
    "sorted_demos[:25]"
   ]
  },
  {
   "cell_type": "code",
   "execution_count": null,
   "metadata": {},
   "outputs": [],
   "source": []
  },
  {
   "cell_type": "code",
   "execution_count": null,
   "metadata": {},
   "outputs": [],
   "source": []
  },
  {
   "cell_type": "code",
   "execution_count": 9,
   "metadata": {},
   "outputs": [
    {
     "data": {
      "image/png": "[encoded data removed]",
      "text/plain": [
       "<Figure size 640x480 with 1 Axes>"
      ]
     },
     "metadata": {},
     "output_type": "display_data"
    }
   ],
   "source": [
    "# plot histogram of lengths\n",
    "import matplotlib.pyplot as plt\n",
    "plt.hist(lengths, bins=10)\n",
    "plt.show()"
   ]
  },
  {
   "cell_type": "code",
   "execution_count": null,
   "metadata": {},
   "outputs": [],
   "source": []
  },
  {
   "cell_type": "code",
   "execution_count": 10,
   "metadata": {},
   "outputs": [
    {
     "data": {
      "text/plain": [
       "25"
      ]
     },
     "execution_count": 10,
     "metadata": {},
     "output_type": "execute_result"
    }
   ],
   "source": [
    "new_demos=[name.decode('utf-8') for name in f['mask']['new_demos']]\n",
    "short_demos=[]\n",
    "for demo_name in new_demos:\n",
    "    demo=f['data'][demo_name]\n",
    "    num_samples=demo.attrs['num_samples']\n",
    "    if num_samples<700:\n",
    "        short_demos.append(demo_name)\n",
    "\n",
    "len(short_demos)"
   ]
  },
  {
   "cell_type": "code",
   "execution_count": null,
   "metadata": {},
   "outputs": [],
   "source": []
  },
  {
   "cell_type": "code",
   "execution_count": 21,
   "metadata": {},
   "outputs": [
    {
     "data": {
      "text/plain": [
       "['demo_142',\n",
       " 'demo_144',\n",
       " 'demo_147',\n",
       " 'demo_148',\n",
       " 'demo_149',\n",
       " 'demo_150',\n",
       " 'demo_151',\n",
       " 'demo_152',\n",
       " 'demo_153',\n",
       " 'demo_155',\n",
       " 'demo_156',\n",
       " 'demo_157',\n",
       " 'demo_160',\n",
       " 'demo_162',\n",
       " 'demo_163',\n",
       " 'demo_165',\n",
       " 'demo_167',\n",
       " 'demo_169',\n",
       " 'demo_170',\n",
       " 'demo_172',\n",
       " 'demo_173',\n",
       " 'demo_174',\n",
       " 'demo_175',\n",
       " 'demo_176',\n",
       " 'demo_178']"
      ]
     },
     "execution_count": 21,
     "metadata": {},
     "output_type": "execute_result"
    }
   ],
   "source": [
    "short_demos"
   ]
  },
  {
   "cell_type": "code",
   "execution_count": null,
   "metadata": {},
   "outputs": [],
   "source": []
  },
  {
   "cell_type": "code",
   "execution_count": null,
   "metadata": {},
   "outputs": [],
   "source": []
  },
  {
   "cell_type": "code",
   "execution_count": null,
   "metadata": {},
   "outputs": [],
   "source": []
  },
  {
   "cell_type": "code",
   "execution_count": 7,
   "metadata": {},
   "outputs": [
    {
     "data": {
      "text/plain": [
       "(-1.0, 1.0)"
      ]
     },
     "execution_count": 7,
     "metadata": {},
     "output_type": "execute_result"
    }
   ],
   "source": [
    "demo_name='demo_72'\n",
    "action=f['data'][demo_name]['actions']\n",
    "action=np.array(action)\n",
    "np.min(action), np.max(action)"
   ]
  },
  {
   "cell_type": "code",
   "execution_count": 9,
   "metadata": {},
   "outputs": [
    {
     "data": {
      "text/plain": [
       "<KeysViewHDF5 ['actions', 'dones', 'next_obs', 'obs', 'rewards', 'states']>"
      ]
     },
     "execution_count": 9,
     "metadata": {},
     "output_type": "execute_result"
    }
   ],
   "source": [
    "f['data'][demo_name].keys()"
   ]
  },
  {
   "cell_type": "code",
   "execution_count": 10,
   "metadata": {},
   "outputs": [
    {
     "data": {
      "text/plain": [
       "<KeysViewHDF5 ['agentview_image', 'object', 'robot0_eef_pos', 'robot0_eef_quat', 'robot0_eef_vel_ang', 'robot0_eef_vel_lin', 'robot0_eye_in_hand_image', 'robot0_gripper_qpos', 'robot0_gripper_qvel', 'robot0_joint_pos', 'robot0_joint_pos_cos', 'robot0_joint_pos_sin', 'robot0_joint_vel']>"
      ]
     },
     "execution_count": 10,
     "metadata": {},
     "output_type": "execute_result"
    }
   ],
   "source": [
    "f['data'][demo_name]['obs'].keys()"
   ]
  },
  {
   "cell_type": "code",
   "execution_count": 11,
   "metadata": {},
   "outputs": [
    {
     "data": {
      "text/plain": [
       "(168, 84, 84, 3)"
      ]
     },
     "execution_count": 11,
     "metadata": {},
     "output_type": "execute_result"
    }
   ],
   "source": [
    "f['data'][demo_name]['obs']['robot0_eye_in_hand_image'].shape"
   ]
  },
  {
   "cell_type": "code",
   "execution_count": 13,
   "metadata": {},
   "outputs": [
    {
     "data": {
      "text/plain": [
       "<KeysViewHDF5 ['model_file', 'num_samples']>"
      ]
     },
     "execution_count": 13,
     "metadata": {},
     "output_type": "execute_result"
    }
   ],
   "source": [
    "f['data'][demo_name].attrs.keys()"
   ]
  },
  {
   "cell_type": "code",
   "execution_count": null,
   "metadata": {},
   "outputs": [],
   "source": []
  },
  {
   "cell_type": "code",
   "execution_count": 16,
   "metadata": {},
   "outputs": [],
   "source": [
    "mins=[]\n",
    "maxs=[]\n",
    "for demo_name in gp:\n",
    "    action=f['data'][demo_name]['actions']\n",
    "    action=np.array(action) \n",
    "    mins.append(np.min(action))\n",
    "    maxs.append(np.max(action))\n"
   ]
  },
  {
   "cell_type": "code",
   "execution_count": 18,
   "metadata": {},
   "outputs": [
    {
     "data": {
      "text/plain": [
       "(-5.893424988008723, 1.0)"
      ]
     },
     "execution_count": 18,
     "metadata": {},
     "output_type": "execute_result"
    }
   ],
   "source": [
    "np.min(mins), np.max(maxs)"
   ]
  },
  {
   "cell_type": "code",
   "execution_count": 19,
   "metadata": {},
   "outputs": [
    {
     "data": {
      "text/plain": [
       "<HDF5 group \"/data/demo_73\" (3 members)>"
      ]
     },
     "execution_count": 19,
     "metadata": {},
     "output_type": "execute_result"
    }
   ],
   "source": [
    "data=f['data'][demo_name]\n",
    "data"
   ]
  },
  {
   "cell_type": "code",
   "execution_count": 22,
   "metadata": {},
   "outputs": [
    {
     "data": {
      "text/plain": [
       "<KeysViewHDF5 ['robot0_eef_pos', 'robot0_eye_in_hand_image', 'robot0_joint_pos', 'robot0_joint_vel']>"
      ]
     },
     "execution_count": 22,
     "metadata": {},
     "output_type": "execute_result"
    }
   ],
   "source": [
    "data['obs'].keys()"
   ]
  },
  {
   "cell_type": "code",
   "execution_count": 25,
   "metadata": {},
   "outputs": [
    {
     "data": {
      "text/plain": [
       "(-1.098, 0.256)"
      ]
     },
     "execution_count": 25,
     "metadata": {},
     "output_type": "execute_result"
    }
   ],
   "source": [
    "v=data['obs']['robot0_joint_vel']\n",
    "v=np.array(v)\n",
    "np.min(v), np.max(v)"
   ]
  },
  {
   "cell_type": "code",
   "execution_count": 26,
   "metadata": {},
   "outputs": [
    {
     "data": {
      "text/plain": [
       "(-1.445, 0.889)"
      ]
     },
     "execution_count": 26,
     "metadata": {},
     "output_type": "execute_result"
    }
   ],
   "source": [
    "mins=[]\n",
    "maxs=[]\n",
    "for demo_name in gp:\n",
    "    data=f['data'][demo_name]\n",
    "    v=data['obs']['robot0_joint_vel']\n",
    "    v=np.array(v)\n",
    "    mins.append(np.min(v))\n",
    "    maxs.append(np.max(v))\n",
    "\n",
    "np.min(mins), np.max(maxs)"
   ]
  },
  {
   "cell_type": "code",
   "execution_count": 27,
   "metadata": {},
   "outputs": [
    {
     "data": {
      "text/plain": [
       "(-0.6784000000000001, 0.40480000000000005)"
      ]
     },
     "execution_count": 27,
     "metadata": {},
     "output_type": "execute_result"
    }
   ],
   "source": [
    "data = v\n",
    " \n",
    "min_val = -1.5\n",
    "max_val = 1.0\n",
    "v_norm = 2 * ((data - min_val) / (max_val - min_val)) - 1\n",
    "\n",
    "np.min(v_norm), np.max(v_norm)"
   ]
  },
  {
   "cell_type": "code",
   "execution_count": null,
   "metadata": {},
   "outputs": [],
   "source": []
  },
  {
   "cell_type": "code",
   "execution_count": null,
   "metadata": {},
   "outputs": [],
   "source": []
  },
  {
   "cell_type": "code",
   "execution_count": null,
   "metadata": {},
   "outputs": [],
   "source": []
  },
  {
   "cell_type": "code",
   "execution_count": null,
   "metadata": {},
   "outputs": [],
   "source": []
  },
  {
   "cell_type": "code",
   "execution_count": 34,
   "metadata": {},
   "outputs": [
    {
     "data": {
      "text/plain": [
       "['demo_300',\n",
       " 'demo_301',\n",
       " 'demo_302',\n",
       " 'demo_303',\n",
       " 'demo_304',\n",
       " 'demo_305',\n",
       " 'demo_306',\n",
       " 'demo_307',\n",
       " 'demo_308',\n",
       " 'demo_309',\n",
       " 'demo_310',\n",
       " 'demo_311',\n",
       " 'demo_312',\n",
       " 'demo_313',\n",
       " 'demo_314',\n",
       " 'demo_315',\n",
       " 'demo_316',\n",
       " 'demo_317',\n",
       " 'demo_318',\n",
       " 'demo_319',\n",
       " 'demo_320',\n",
       " 'demo_321',\n",
       " 'demo_322',\n",
       " 'demo_323',\n",
       " 'demo_324',\n",
       " 'demo_325',\n",
       " 'demo_326',\n",
       " 'demo_327',\n",
       " 'demo_328',\n",
       " 'demo_329',\n",
       " 'demo_330',\n",
       " 'demo_331',\n",
       " 'demo_332',\n",
       " 'demo_333',\n",
       " 'demo_334',\n",
       " 'demo_335',\n",
       " 'demo_336',\n",
       " 'demo_337',\n",
       " 'demo_338',\n",
       " 'demo_339']"
      ]
     },
     "execution_count": 34,
     "metadata": {},
     "output_type": "execute_result"
    }
   ],
   "source": [
    "gs=[b.decode('utf-8') for b in f['mask'][\"c1_i40\"] ]\n",
    "gs[-40:]"
   ]
  },
  {
   "cell_type": "code",
   "execution_count": 37,
   "metadata": {},
   "outputs": [
    {
     "data": {
      "text/plain": [
       "['demo_200',\n",
       " 'demo_201',\n",
       " 'demo_202',\n",
       " 'demo_203',\n",
       " 'demo_204',\n",
       " 'demo_205',\n",
       " 'demo_206',\n",
       " 'demo_207',\n",
       " 'demo_208',\n",
       " 'demo_209',\n",
       " 'demo_210',\n",
       " 'demo_211',\n",
       " 'demo_212',\n",
       " 'demo_213',\n",
       " 'demo_214',\n",
       " 'demo_215',\n",
       " 'demo_216',\n",
       " 'demo_217',\n",
       " 'demo_218',\n",
       " 'demo_219',\n",
       " 'demo_220',\n",
       " 'demo_221',\n",
       " 'demo_222',\n",
       " 'demo_223',\n",
       " 'demo_224',\n",
       " 'demo_225',\n",
       " 'demo_226',\n",
       " 'demo_227',\n",
       " 'demo_228',\n",
       " 'demo_229',\n",
       " 'demo_230',\n",
       " 'demo_231',\n",
       " 'demo_232',\n",
       " 'demo_233',\n",
       " 'demo_234',\n",
       " 'demo_235',\n",
       " 'demo_236',\n",
       " 'demo_237',\n",
       " 'demo_238',\n",
       " 'demo_239']"
      ]
     },
     "execution_count": 37,
     "metadata": {},
     "output_type": "execute_result"
    }
   ],
   "source": [
    "gi=[b.decode('utf-8') for b in f['mask'][\"c2_i40\"] ]\n",
    "gi[-40:]"
   ]
  },
  {
   "cell_type": "code",
   "execution_count": 38,
   "metadata": {},
   "outputs": [
    {
     "data": {
      "text/plain": [
       "['demo_389',\n",
       " 'demo_390',\n",
       " 'demo_391',\n",
       " 'demo_392',\n",
       " 'demo_393',\n",
       " 'demo_394',\n",
       " 'demo_395',\n",
       " 'demo_396',\n",
       " 'demo_397',\n",
       " 'demo_398',\n",
       " 'demo_399',\n",
       " 'demo_400',\n",
       " 'demo_401',\n",
       " 'demo_402',\n",
       " 'demo_403',\n",
       " 'demo_404',\n",
       " 'demo_405',\n",
       " 'demo_406',\n",
       " 'demo_407',\n",
       " 'demo_408',\n",
       " 'demo_409',\n",
       " 'demo_410',\n",
       " 'demo_411',\n",
       " 'demo_412',\n",
       " 'demo_413',\n",
       " 'demo_414',\n",
       " 'demo_415',\n",
       " 'demo_416',\n",
       " 'demo_417',\n",
       " 'demo_418',\n",
       " 'demo_419',\n",
       " 'demo_420',\n",
       " 'demo_421',\n",
       " 'demo_422',\n",
       " 'demo_423',\n",
       " 'demo_424',\n",
       " 'demo_425',\n",
       " 'demo_426',\n",
       " 'demo_427',\n",
       " 'demo_428']"
      ]
     },
     "execution_count": 38,
     "metadata": {},
     "output_type": "execute_result"
    }
   ],
   "source": [
    "gf=[b.decode('utf-8') for b in f['mask'][\"c3_i40\"] ]\n",
    "gf[-40:]"
   ]
  },
  {
   "cell_type": "code",
   "execution_count": 39,
   "metadata": {},
   "outputs": [
    {
     "data": {
      "text/plain": [
       "['demo_347',\n",
       " 'demo_348',\n",
       " 'demo_349',\n",
       " 'demo_350',\n",
       " 'demo_351',\n",
       " 'demo_352',\n",
       " 'demo_353',\n",
       " 'demo_354',\n",
       " 'demo_355',\n",
       " 'demo_356',\n",
       " 'demo_357',\n",
       " 'demo_358',\n",
       " 'demo_359',\n",
       " 'demo_360',\n",
       " 'demo_361',\n",
       " 'demo_362',\n",
       " 'demo_363',\n",
       " 'demo_364',\n",
       " 'demo_365',\n",
       " 'demo_366',\n",
       " 'demo_367',\n",
       " 'demo_368',\n",
       " 'demo_369',\n",
       " 'demo_370',\n",
       " 'demo_371',\n",
       " 'demo_372',\n",
       " 'demo_373',\n",
       " 'demo_374',\n",
       " 'demo_375',\n",
       " 'demo_376',\n",
       " 'demo_377',\n",
       " 'demo_378',\n",
       " 'demo_379',\n",
       " 'demo_380',\n",
       " 'demo_381',\n",
       " 'demo_382',\n",
       " 'demo_383',\n",
       " 'demo_384',\n",
       " 'demo_385',\n",
       " 'demo_386']"
      ]
     },
     "execution_count": 39,
     "metadata": {},
     "output_type": "execute_result"
    }
   ],
   "source": [
    "go=[b.decode('utf-8') for b in f['mask'][\"c4_i40\"] ]\n",
    "go[-40:]"
   ]
  },
  {
   "cell_type": "code",
   "execution_count": null,
   "metadata": {},
   "outputs": [],
   "source": []
  },
  {
   "cell_type": "code",
   "execution_count": null,
   "metadata": {},
   "outputs": [],
   "source": []
  },
  {
   "cell_type": "code",
   "execution_count": 27,
   "metadata": {},
   "outputs": [
    {
     "data": {
      "text/plain": [
       "(['demo_300',\n",
       "  'demo_301',\n",
       "  'demo_302',\n",
       "  'demo_303',\n",
       "  'demo_304',\n",
       "  'demo_305',\n",
       "  'demo_306',\n",
       "  'demo_307',\n",
       "  'demo_308',\n",
       "  'demo_309',\n",
       "  'demo_310',\n",
       "  'demo_311',\n",
       "  'demo_312',\n",
       "  'demo_313',\n",
       "  'demo_314',\n",
       "  'demo_315',\n",
       "  'demo_316',\n",
       "  'demo_317',\n",
       "  'demo_318',\n",
       "  'demo_319'],\n",
       " ['demo_320',\n",
       "  'demo_321',\n",
       "  'demo_322',\n",
       "  'demo_323',\n",
       "  'demo_324',\n",
       "  'demo_325',\n",
       "  'demo_326',\n",
       "  'demo_327',\n",
       "  'demo_328',\n",
       "  'demo_329',\n",
       "  'demo_330',\n",
       "  'demo_331',\n",
       "  'demo_332',\n",
       "  'demo_333',\n",
       "  'demo_334',\n",
       "  'demo_335',\n",
       "  'demo_336',\n",
       "  'demo_337',\n",
       "  'demo_338',\n",
       "  'demo_339',\n",
       "  'demo_340',\n",
       "  'demo_341',\n",
       "  'demo_342',\n",
       "  'demo_343',\n",
       "  'demo_344',\n",
       "  'demo_345',\n",
       "  'demo_346'])"
      ]
     },
     "execution_count": 27,
     "metadata": {},
     "output_type": "execute_result"
    }
   ],
   "source": [
    "short1=[b.decode('utf-8') for b in f['mask'][\"short2\"] ]\n",
    "short2=[b.decode('utf-8') for b in f['mask'][\"short3\"] ]\n",
    "\n",
    "short1, short2"
   ]
  },
  {
   "cell_type": "code",
   "execution_count": null,
   "metadata": {},
   "outputs": [],
   "source": []
  },
  {
   "cell_type": "code",
   "execution_count": null,
   "metadata": {},
   "outputs": [],
   "source": []
  },
  {
   "cell_type": "code",
   "execution_count": 25,
   "metadata": {},
   "outputs": [
    {
     "data": {
      "text/plain": [
       "(['demo_389',\n",
       "  'demo_390',\n",
       "  'demo_391',\n",
       "  'demo_392',\n",
       "  'demo_393',\n",
       "  'demo_394',\n",
       "  'demo_395',\n",
       "  'demo_396',\n",
       "  'demo_397',\n",
       "  'demo_398',\n",
       "  'demo_399',\n",
       "  'demo_400',\n",
       "  'demo_401',\n",
       "  'demo_402',\n",
       "  'demo_403',\n",
       "  'demo_404',\n",
       "  'demo_405',\n",
       "  'demo_406',\n",
       "  'demo_407',\n",
       "  'demo_408'],\n",
       " ['demo_409',\n",
       "  'demo_410',\n",
       "  'demo_411',\n",
       "  'demo_412',\n",
       "  'demo_413',\n",
       "  'demo_414',\n",
       "  'demo_415',\n",
       "  'demo_416',\n",
       "  'demo_417',\n",
       "  'demo_418',\n",
       "  'demo_419',\n",
       "  'demo_420',\n",
       "  'demo_421',\n",
       "  'demo_422',\n",
       "  'demo_423',\n",
       "  'demo_424',\n",
       "  'demo_425',\n",
       "  'demo_426',\n",
       "  'demo_427',\n",
       "  'demo_428'])"
      ]
     },
     "execution_count": 25,
     "metadata": {},
     "output_type": "execute_result"
    }
   ],
   "source": [
    "failed_1=[b.decode('utf-8') for b in f['mask'][\"failed1\"] ]\n",
    "failed_2=[b.decode('utf-8') for b in f['mask'][\"failed2\"] ]\n",
    "\n",
    "failed_1, failed_2"
   ]
  },
  {
   "cell_type": "code",
   "execution_count": 26,
   "metadata": {},
   "outputs": [
    {
     "data": {
      "text/plain": [
       "(['demo_347',\n",
       "  'demo_348',\n",
       "  'demo_349',\n",
       "  'demo_350',\n",
       "  'demo_351',\n",
       "  'demo_352',\n",
       "  'demo_353',\n",
       "  'demo_354',\n",
       "  'demo_355',\n",
       "  'demo_356',\n",
       "  'demo_357',\n",
       "  'demo_358',\n",
       "  'demo_359',\n",
       "  'demo_360',\n",
       "  'demo_361',\n",
       "  'demo_362',\n",
       "  'demo_363',\n",
       "  'demo_364',\n",
       "  'demo_365',\n",
       "  'demo_366'],\n",
       " ['demo_367',\n",
       "  'demo_368',\n",
       "  'demo_369',\n",
       "  'demo_370',\n",
       "  'demo_371',\n",
       "  'demo_372',\n",
       "  'demo_373',\n",
       "  'demo_374',\n",
       "  'demo_375',\n",
       "  'demo_376',\n",
       "  'demo_377',\n",
       "  'demo_378',\n",
       "  'demo_379',\n",
       "  'demo_380',\n",
       "  'demo_381',\n",
       "  'demo_382',\n",
       "  'demo_383',\n",
       "  'demo_384',\n",
       "  'demo_385',\n",
       "  'demo_386',\n",
       "  'demo_387',\n",
       "  'demo_388'])"
      ]
     },
     "execution_count": 26,
     "metadata": {},
     "output_type": "execute_result"
    }
   ],
   "source": [
    "other1=[b.decode('utf-8') for b in f['mask'][\"other1\"] ]\n",
    "other2=[b.decode('utf-8') for b in f['mask'][\"other2\"] ]\n",
    "other1, other2"
   ]
  },
  {
   "cell_type": "code",
   "execution_count": null,
   "metadata": {},
   "outputs": [],
   "source": []
  },
  {
   "cell_type": "code",
   "execution_count": null,
   "metadata": {},
   "outputs": [],
   "source": []
  },
  {
   "cell_type": "code",
   "execution_count": null,
   "metadata": {},
   "outputs": [],
   "source": []
  },
  {
   "cell_type": "code",
   "execution_count": null,
   "metadata": {},
   "outputs": [],
   "source": []
  },
  {
   "cell_type": "code",
   "execution_count": null,
   "metadata": {},
   "outputs": [],
   "source": []
  }
 ],
 "metadata": {
  "kernelspec": {
   "display_name": "Python 3",
   "language": "python",
   "name": "python3"
  },
  "language_info": {
   "codemirror_mode": {
    "name": "ipython",
    "version": 3
   },
   "file_extension": ".py",
   "mimetype": "text/x-python",
   "name": "python",
   "nbconvert_exporter": "python",
   "pygments_lexer": "ipython3",
   "version": "3.8.17"
  },
  "orig_nbformat": 4,
  "vscode": {
   "interpreter": {
    "hash": "0470c1ad2f0fb27cfc2238567a653f05115d47bf4fc5f86d0f161d89abc1f79a"
   }
  }
 },
 "nbformat": 4,
 "nbformat_minor": 2
}
