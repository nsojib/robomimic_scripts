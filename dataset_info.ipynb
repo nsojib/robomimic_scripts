{
 "cells": [
  {
   "cell_type": "code",
   "execution_count": 1,
   "metadata": {},
   "outputs": [],
   "source": [
    "import os\n",
    "import json\n",
    "import h5py\n",
    "import numpy as np\n",
    "\n",
    "import robomimic\n",
    "import robomimic.utils.file_utils as FileUtils\n",
    "import robomimic.utils.env_utils as EnvUtils\n",
    "import robomimic.utils.obs_utils as ObsUtils\n",
    "import imageio\n",
    "import tqdm"
   ]
  },
  {
   "cell_type": "code",
   "execution_count": 2,
   "metadata": {},
   "outputs": [],
   "source": [
    "dataset_path = \"/home/ns/robosuite/collects/1705874644_525442/demo101_jan21_image_group.hdf5\" \n",
    "dataset_path = \"/home/ns/collect_robomimic_demos/Elbert/NutAssemblySquare_01_26_2024_06_52PM_elbert/demo_image.hdf5\"\n",
    "dataset_path = \"/home/ns/collect_robomimic_demos/Elbert/PickPlaceCan_01_26_2024_06_40PM_Elbert/demo_image.hdf5\"\n",
    "dataset_path = \"/home/ns/collect_robomimic_demos/Brooke/PickPlaceCan_01_26_2024_02_19PM_Brooke/demo_image.hdf5\"\n",
    "dataset_path = \"/home/ns/collect_robomimic_demos/processed/lift_mixed_v0.hdf5\"\n",
    "\n",
    "# dataset_path = \"/home/ns/collect_robomimic_demos/sojib_can_expert/PickPlaceCan_01_30_2024_02_33PM_sojib/demo_image.hdf5\"\n",
    "# dataset_path = \"/home/ns/collect_robomimic_demos/sojib_square_expert/NutAssemblySquare_02_01_2024_06_38PM_sojib/square_mix_v0.hdf5\"\n",
    "# dataset_path = \"/home/ns/collect_robomimic_demos/sojib_can_expert/PickPlaceCan_01_30_2024_01_45PM_sojib/can_mix_v0.hdf5\"\n",
    "\n",
    "dataset_path = \"/home/ns/collect_robomimic_demos/processed/demo_image_sub.hdf5\""
   ]
  },
  {
   "cell_type": "code",
   "execution_count": 3,
   "metadata": {},
   "outputs": [],
   "source": [
    "f = h5py.File(dataset_path, \"r\")\n",
    "demos = list(f[\"data\"].keys())"
   ]
  },
  {
   "cell_type": "code",
   "execution_count": 4,
   "metadata": {},
   "outputs": [
    {
     "name": "stdout",
     "output_type": "stream",
     "text": [
      "Number of demos:  200\n",
      "Max length:  800\n",
      "Min length:  116\n",
      "Mean length:  459.275\n",
      "Median length:  255.0\n",
      "\n",
      "expert <HDF5 dataset \"expert\": shape (100,), type \"|S16\">\n",
      "failed <HDF5 dataset \"failed\": shape (100,), type \"|S16\">\n"
     ]
    }
   ],
   "source": [
    "lengths=[]\n",
    "demos_minmax={}\n",
    "for demo_name in demos:\n",
    "    demo=f['data'][demo_name]\n",
    "    num_samples=demo.attrs['num_samples']\n",
    "    lengths.append(num_samples)\n",
    "\n",
    "    action=f['data'][demo_name]['actions']\n",
    "    action=np.array(action) \n",
    "    demos_minmax[demo_name] = (np.min(action, axis=0), np.max(action, axis=0))\n",
    "\n",
    "\n",
    "lengths=np.array(lengths)\n",
    "\n",
    "print('Number of demos: ', len(demos))\n",
    "print('Max length: ', np.max(lengths))\n",
    "print('Min length: ', np.min(lengths))\n",
    "print('Mean length: ', np.mean(lengths))\n",
    "print('Median length: ', np.median(lengths))\n",
    "\n",
    "print()\n",
    "\n",
    "for key in f['mask'].keys():\n",
    "    print(key, f['mask'][key])"
   ]
  },
  {
   "cell_type": "code",
   "execution_count": 5,
   "metadata": {},
   "outputs": [
    {
     "data": {
      "text/plain": [
       "<KeysViewHDF5 ['data', 'mask']>"
      ]
     },
     "execution_count": 5,
     "metadata": {},
     "output_type": "execute_result"
    }
   ],
   "source": [
    "f.keys()"
   ]
  },
  {
   "cell_type": "code",
   "execution_count": 6,
   "metadata": {},
   "outputs": [],
   "source": [
    "# del f['mask']['train']\n",
    "# del f['mask']['valid']"
   ]
  },
  {
   "cell_type": "code",
   "execution_count": null,
   "metadata": {},
   "outputs": [],
   "source": []
  },
  {
   "cell_type": "code",
   "execution_count": 7,
   "metadata": {},
   "outputs": [],
   "source": [
    "np.set_printoptions(precision=4, suppress=True)"
   ]
  },
  {
   "cell_type": "code",
   "execution_count": 8,
   "metadata": {},
   "outputs": [
    {
     "name": "stdout",
     "output_type": "stream",
     "text": [
      "mins:  [-0.6051 -0.6037 -1.1138  0.      0.     -0.45   -1.    ]\n",
      "maxs:  [1.2542 0.3913 1.0814 0.     0.     0.45   1.    ]\n"
     ]
    }
   ],
   "source": [
    "mins,maxs=[],[]\n",
    "for demo_name in demos_minmax.keys():\n",
    "    min,max= demos_minmax[demo_name]\n",
    "    mins.append(min)\n",
    "    maxs.append(max)\n",
    "\n",
    "mins=np.min(mins, axis=0)\n",
    "maxs=np.max(maxs, axis=0) \n",
    "print('mins: ', mins)\n",
    "print('maxs: ', maxs)"
   ]
  },
  {
   "cell_type": "code",
   "execution_count": 9,
   "metadata": {},
   "outputs": [
    {
     "name": "stdout",
     "output_type": "stream",
     "text": [
      "is_normalized: False\n"
     ]
    }
   ],
   "source": [
    "is_normalized='mins' in f.keys()\n",
    "print(f'is_normalized: {is_normalized}')\n",
    "\n",
    "if is_normalized:\n",
    "    print('mins: ', np.array(f['mins']))\n",
    "    print('maxs: ', np.array(f['maxs']))"
   ]
  },
  {
   "cell_type": "code",
   "execution_count": null,
   "metadata": {},
   "outputs": [],
   "source": []
  },
  {
   "cell_type": "code",
   "execution_count": 10,
   "metadata": {},
   "outputs": [
    {
     "name": "stdout",
     "output_type": "stream",
     "text": [
      "mask: expert length-min: 116 mean: 139.51 max: 206 unique: (51,)\n",
      "mask: failed length-min: 304 mean: 779.04 max: 800 unique: (3,)\n"
     ]
    }
   ],
   "source": [
    "for key in f['mask'].keys():\n",
    "    # print(key, f['mask'][key])\n",
    "    demo_names=[b.decode('utf-8') for b in f['mask'][key] ]\n",
    "\n",
    "    lengths=[]\n",
    "    demos_minmax={}\n",
    "    for demo_name in demo_names:\n",
    "        demo=f['data'][demo_name]\n",
    "        num_samples=demo.attrs['num_samples']\n",
    "        lengths.append(num_samples) \n",
    "    lengths=np.array(lengths)\n",
    "\n",
    "    print(f'mask: {key} length-min: {np.min(lengths)} mean: {np.mean(lengths)} max: {np.max(lengths)} unique: {np.unique(lengths).shape}')"
   ]
  },
  {
   "cell_type": "code",
   "execution_count": 12,
   "metadata": {},
   "outputs": [],
   "source": [
    "# lengths"
   ]
  },
  {
   "cell_type": "code",
   "execution_count": null,
   "metadata": {},
   "outputs": [],
   "source": [
    " "
   ]
  },
  {
   "cell_type": "code",
   "execution_count": null,
   "metadata": {},
   "outputs": [],
   "source": []
  },
  {
   "cell_type": "code",
   "execution_count": 12,
   "metadata": {},
   "outputs": [],
   "source": [
    "f.close()"
   ]
  },
  {
   "cell_type": "code",
   "execution_count": null,
   "metadata": {},
   "outputs": [],
   "source": []
  },
  {
   "cell_type": "code",
   "execution_count": null,
   "metadata": {},
   "outputs": [],
   "source": []
  },
  {
   "cell_type": "code",
   "execution_count": 14,
   "metadata": {},
   "outputs": [
    {
     "data": {
      "text/plain": [
       "10"
      ]
     },
     "execution_count": 14,
     "metadata": {},
     "output_type": "execute_result"
    }
   ],
   "source": [
    "names=[b.decode('utf-8') for b in f['mask']['expert']]\n",
    "len(names)"
   ]
  },
  {
   "cell_type": "code",
   "execution_count": 15,
   "metadata": {},
   "outputs": [
    {
     "data": {
      "text/plain": [
       "['demo-Tru',\n",
       " 'demo-Tru',\n",
       " 'demo-Tru',\n",
       " 'demo-Tru',\n",
       " 'demo-Tru',\n",
       " 'demo-Tru',\n",
       " 'demo-Tru',\n",
       " 'demo-Tru',\n",
       " 'demo-Tru',\n",
       " 'demo-Tru']"
      ]
     },
     "execution_count": 15,
     "metadata": {},
     "output_type": "execute_result"
    }
   ],
   "source": [
    "names"
   ]
  },
  {
   "cell_type": "code",
   "execution_count": null,
   "metadata": {},
   "outputs": [],
   "source": []
  },
  {
   "cell_type": "code",
   "execution_count": null,
   "metadata": {},
   "outputs": [],
   "source": []
  },
  {
   "cell_type": "code",
   "execution_count": null,
   "metadata": {},
   "outputs": [],
   "source": []
  },
  {
   "cell_type": "code",
   "execution_count": null,
   "metadata": {},
   "outputs": [],
   "source": []
  }
 ],
 "metadata": {
  "kernelspec": {
   "display_name": "robomimic_venv",
   "language": "python",
   "name": "python3"
  },
  "language_info": {
   "codemirror_mode": {
    "name": "ipython",
    "version": 3
   },
   "file_extension": ".py",
   "mimetype": "text/x-python",
   "name": "python",
   "nbconvert_exporter": "python",
   "pygments_lexer": "ipython3",
   "version": "3.7.16"
  },
  "orig_nbformat": 4
 },
 "nbformat": 4,
 "nbformat_minor": 2
}
