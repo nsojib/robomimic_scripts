{
 "cells": [
  {
   "cell_type": "code",
   "execution_count": 1,
   "metadata": {},
   "outputs": [],
   "source": [
    "import os\n",
    "import json\n",
    "import h5py\n",
    "import numpy as np\n",
    "\n",
    "import robomimic\n",
    "import robomimic.utils.file_utils as FileUtils\n",
    "import robomimic.utils.env_utils as EnvUtils\n",
    "import robomimic.utils.obs_utils as ObsUtils\n",
    "import imageio\n",
    "import tqdm\n",
    "from robomimic.utils.file_utils import create_hdf5_filter_key\n",
    "import shutil"
   ]
  },
  {
   "cell_type": "code",
   "execution_count": 2,
   "metadata": {},
   "outputs": [],
   "source": [
    "dataset_path = \"/home/ns1254/data_robomimic/sawyer/drawyer_push86v4.h5\" "
   ]
  },
  {
   "cell_type": "code",
   "execution_count": 3,
   "metadata": {},
   "outputs": [],
   "source": [
    "# f.close()"
   ]
  },
  {
   "cell_type": "code",
   "execution_count": 4,
   "metadata": {},
   "outputs": [],
   "source": [
    "f = h5py.File(dataset_path, \"r\")\n",
    "demos = list(f[\"data\"].keys())"
   ]
  },
  {
   "cell_type": "code",
   "execution_count": 5,
   "metadata": {},
   "outputs": [
    {
     "name": "stdout",
     "output_type": "stream",
     "text": [
      "Number of demos:  172\n",
      "Max length:  234\n",
      "Min length:  14\n",
      "Mean length:  59.22093023255814\n"
     ]
    }
   ],
   "source": [
    "lengths=[]\n",
    "for demo_name in demos:\n",
    "    demo=f['data'][demo_name]\n",
    "    num_samples=demo.attrs['num_samples']\n",
    "    lengths.append(num_samples)\n",
    "\n",
    "lengths=np.array(lengths)\n",
    "\n",
    "print('Number of demos: ', len(demos))\n",
    "print('Max length: ', np.max(lengths))\n",
    "print('Min length: ', np.min(lengths))\n",
    "print('Mean length: ', np.mean(lengths))"
   ]
  },
  {
   "cell_type": "code",
   "execution_count": 6,
   "metadata": {},
   "outputs": [
    {
     "name": "stdout",
     "output_type": "stream",
     "text": [
      "50g10i <HDF5 dataset \"50g10i\": shape (60,), type \"|S8\">\n",
      "50g10i_val <HDF5 dataset \"50g10i_val\": shape (60,), type \"|S8\">\n",
      "50g10p <HDF5 dataset \"50g10p\": shape (60,), type \"|S8\">\n",
      "50g10p_val <HDF5 dataset \"50g10p_val\": shape (60,), type \"|S8\">\n",
      "50g10s <HDF5 dataset \"50g10s\": shape (60,), type \"|S8\">\n",
      "50g10s_val <HDF5 dataset \"50g10s_val\": shape (60,), type \"|S8\">\n",
      "good <HDF5 dataset \"good\": shape (50,), type \"|S8\">\n",
      "inefficient <HDF5 dataset \"inefficient\": shape (12,), type \"|S8\">\n",
      "push <HDF5 dataset \"push\": shape (11,), type \"|S8\">\n",
      "short <HDF5 dataset \"short\": shape (13,), type \"|S8\">\n"
     ]
    }
   ],
   "source": [
    "for key in f['mask'].keys():\n",
    "    print(key, f['mask'][key])"
   ]
  },
  {
   "cell_type": "code",
   "execution_count": 7,
   "metadata": {},
   "outputs": [
    {
     "data": {
      "text/plain": [
       "(['demo_69', 'demo_70', 'demo_71', 'demo_72', 'demo_73'], 60)"
      ]
     },
     "execution_count": 7,
     "metadata": {},
     "output_type": "execute_result"
    }
   ],
   "source": [
    "gp=[b.decode('utf-8') for b in f['mask']['50g10p'] ]\n",
    "gp[-5:], len(gp)"
   ]
  },
  {
   "cell_type": "code",
   "execution_count": 8,
   "metadata": {},
   "outputs": [
    {
     "data": {
      "text/plain": [
       "(-5.892637205834761, 1.0)"
      ]
     },
     "execution_count": 8,
     "metadata": {},
     "output_type": "execute_result"
    }
   ],
   "source": [
    "demo_name='demo_72'\n",
    "action=f['data'][demo_name]['actions']\n",
    "action=np.array(action)\n",
    "np.min(action), np.max(action)"
   ]
  },
  {
   "cell_type": "code",
   "execution_count": 9,
   "metadata": {},
   "outputs": [
    {
     "data": {
      "text/plain": [
       "(-5.897678637081707, 1.0)"
      ]
     },
     "execution_count": 9,
     "metadata": {},
     "output_type": "execute_result"
    }
   ],
   "source": [
    "mins=[]\n",
    "maxs=[]\n",
    "for demo_name in demos:\n",
    "    action=f['data'][demo_name]['actions']\n",
    "    action=np.array(action) \n",
    "    mins.append(np.min(action))\n",
    "    maxs.append(np.max(action))\n",
    "np.min(mins), np.max(maxs)"
   ]
  },
  {
   "cell_type": "code",
   "execution_count": 10,
   "metadata": {},
   "outputs": [
    {
     "data": {
      "text/plain": [
       "<HDF5 group \"/data/demo_9\" (3 members)>"
      ]
     },
     "execution_count": 10,
     "metadata": {},
     "output_type": "execute_result"
    }
   ],
   "source": [
    "data=f['data'][demo_name]\n",
    "data"
   ]
  },
  {
   "cell_type": "code",
   "execution_count": 11,
   "metadata": {},
   "outputs": [
    {
     "data": {
      "text/plain": [
       "<KeysViewHDF5 ['robot0_eef_pos', 'robot0_eye_in_hand_image', 'robot0_joint_pos', 'robot0_joint_vel']>"
      ]
     },
     "execution_count": 11,
     "metadata": {},
     "output_type": "execute_result"
    }
   ],
   "source": [
    "data['obs'].keys()"
   ]
  },
  {
   "cell_type": "code",
   "execution_count": 12,
   "metadata": {},
   "outputs": [
    {
     "data": {
      "text/plain": [
       "(-0.152, 0.232)"
      ]
     },
     "execution_count": 12,
     "metadata": {},
     "output_type": "execute_result"
    }
   ],
   "source": [
    "v=data['obs']['robot0_joint_vel']\n",
    "v=np.array(v)\n",
    "np.min(v), np.max(v)"
   ]
  },
  {
   "cell_type": "code",
   "execution_count": 13,
   "metadata": {},
   "outputs": [
    {
     "data": {
      "text/plain": [
       "(-1.666, 1.402)"
      ]
     },
     "execution_count": 13,
     "metadata": {},
     "output_type": "execute_result"
    }
   ],
   "source": [
    "mins=[]\n",
    "maxs=[]\n",
    "for demo_name in demos:\n",
    "    data=f['data'][demo_name]\n",
    "    v=data['obs']['robot0_joint_vel']\n",
    "    v=np.array(v)\n",
    "    mins.append(np.min(v))\n",
    "    maxs.append(np.max(v))\n",
    "\n",
    "np.min(mins), np.max(maxs)"
   ]
  },
  {
   "cell_type": "code",
   "execution_count": 14,
   "metadata": {},
   "outputs": [],
   "source": [
    "def normalize_vel(data, min_val=-1.7, max_val=1.7):\n",
    "    v_norm = 2 * ((data - min_val) / (max_val - min_val)) - 1\n",
    "    return v_norm\n",
    "\n",
    "def unnormalize_vel(data, min_val=-1.7, max_val=1.7):\n",
    "    v_unnorm = ((data + 1) / 2) * (max_val - min_val) + min_val\n",
    "    return v_unnorm"
   ]
  },
  {
   "cell_type": "code",
   "execution_count": null,
   "metadata": {},
   "outputs": [],
   "source": []
  },
  {
   "cell_type": "code",
   "execution_count": 15,
   "metadata": {},
   "outputs": [
    {
     "data": {
      "text/plain": [
       "(<KeysViewHDF5 ['actions', 'obs', 'time']>,\n",
       " <KeysViewHDF5 ['robot0_eef_pos', 'robot0_eye_in_hand_image', 'robot0_joint_pos', 'robot0_joint_vel']>)"
      ]
     },
     "execution_count": 15,
     "metadata": {},
     "output_type": "execute_result"
    }
   ],
   "source": [
    "demo=f['data'][demo_name]\n",
    "demo.keys(), demo['obs'].keys()"
   ]
  },
  {
   "cell_type": "code",
   "execution_count": 16,
   "metadata": {},
   "outputs": [
    {
     "data": {
      "text/plain": [
       "(-0.152, 0.232)"
      ]
     },
     "execution_count": 16,
     "metadata": {},
     "output_type": "execute_result"
    }
   ],
   "source": [
    "jvels=demo['obs']['robot0_joint_vel']\n",
    "jvels=np.array(jvels)\n",
    "jvels_norm=normalize_vel(jvels)\n",
    "\n",
    "jvels.min(), jvels.max()"
   ]
  },
  {
   "cell_type": "code",
   "execution_count": 17,
   "metadata": {},
   "outputs": [
    {
     "data": {
      "text/plain": [
       "(-0.0894117647058823, 0.13647058823529412)"
      ]
     },
     "execution_count": 17,
     "metadata": {},
     "output_type": "execute_result"
    }
   ],
   "source": [
    "jvels_norm.min(), jvels_norm.max()"
   ]
  },
  {
   "cell_type": "code",
   "execution_count": 18,
   "metadata": {},
   "outputs": [
    {
     "data": {
      "text/plain": [
       "(-0.1519999999999999, 0.23199999999999998)"
      ]
     },
     "execution_count": 18,
     "metadata": {},
     "output_type": "execute_result"
    }
   ],
   "source": [
    "jvels_unnorm=unnormalize_vel(jvels_norm)\n",
    "jvels_unnorm.min(), jvels_unnorm.max()  "
   ]
  },
  {
   "cell_type": "code",
   "execution_count": 19,
   "metadata": {},
   "outputs": [
    {
     "data": {
      "text/plain": [
       "(61, 7)"
      ]
     },
     "execution_count": 19,
     "metadata": {},
     "output_type": "execute_result"
    }
   ],
   "source": [
    "jvels.shape"
   ]
  },
  {
   "cell_type": "code",
   "execution_count": 22,
   "metadata": {},
   "outputs": [
    {
     "data": {
      "text/plain": [
       "172"
      ]
     },
     "execution_count": 22,
     "metadata": {},
     "output_type": "execute_result"
    }
   ],
   "source": [
    "len(demos)"
   ]
  },
  {
   "cell_type": "code",
   "execution_count": 11,
   "metadata": {},
   "outputs": [],
   "source": [
    "demos=[b.decode('utf-8') for b in f['mask']['50g10p_val'] ]"
   ]
  },
  {
   "cell_type": "code",
   "execution_count": 12,
   "metadata": {},
   "outputs": [
    {
     "name": "stderr",
     "output_type": "stream",
     "text": [
      "100%|██████████| 60/60 [00:00<00:00, 5844.63it/s]\n"
     ]
    },
    {
     "data": {
      "text/plain": [
       "(-0.8500000000000001, 0.5229411764705882)"
      ]
     },
     "execution_count": 12,
     "metadata": {},
     "output_type": "execute_result"
    }
   ],
   "source": [
    "mins=[]\n",
    "maxs=[]\n",
    "for demo_name in tqdm.tqdm(demos):\n",
    "    demo_id=int(demo_name.split('_')[1])\n",
    "    if demo_id<100:\n",
    "        continue\n",
    "    b_demo=f['data'][demo_name]\n",
    "    actions=b_demo['actions']\n",
    "    actions=np.array(actions)\n",
    "    mins.append(np.min(actions))\n",
    "    maxs.append(np.max(actions))\n",
    "\n",
    "np.min(mins), np.max(maxs)"
   ]
  },
  {
   "cell_type": "code",
   "execution_count": null,
   "metadata": {},
   "outputs": [],
   "source": []
  },
  {
   "cell_type": "code",
   "execution_count": 13,
   "metadata": {},
   "outputs": [],
   "source": [
    "f.close()"
   ]
  },
  {
   "cell_type": "code",
   "execution_count": null,
   "metadata": {},
   "outputs": [],
   "source": []
  },
  {
   "cell_type": "code",
   "execution_count": 21,
   "metadata": {},
   "outputs": [
    {
     "name": "stderr",
     "output_type": "stream",
     "text": [
      "100%|██████████| 86/86 [00:01<00:00, 73.15it/s] \n"
     ]
    }
   ],
   "source": [
    "i=100\n",
    "for demo_name in tqdm.tqdm(demos):\n",
    "    b_demo=f['data'][demo_name]\n",
    "    num_samples=b_demo.attrs['num_samples']\n",
    "    # model_file=b_demo.attrs['model_file']\n",
    "\n",
    "    jvels=b_demo['obs']['robot0_joint_vel']\n",
    "    jvels=np.array(jvels)\n",
    "    jvels_norm=normalize_vel(jvels)           #use as action. \n",
    "\n",
    "\n",
    "    bdemo_name=\"demo_\"+str(i)\n",
    "    i = i+1\n",
    "\n",
    "    f[\"data\"].create_group(bdemo_name) \n",
    "    \n",
    "    f[\"data\"][bdemo_name].create_dataset('actions', data=jvels_norm) \n",
    "    f[\"data\"][bdemo_name].create_dataset('time', data=b_demo['time'])\n",
    "\n",
    "  \n",
    "    obs_keys =b_demo['obs'].keys() \n",
    "    for k in obs_keys:\n",
    "        kdata = b_demo['obs'][k]\n",
    "        f[\"data\"][bdemo_name].create_dataset(f'obs/{k}', data=kdata)\n",
    "     \n",
    "    f[\"data\"][bdemo_name].attrs[\"num_samples\"] = num_samples\n",
    "    # f[\"data\"][bdemo_name].attrs[\"model_file\"] = model_file\n",
    "\n",
    "f.close() "
   ]
  },
  {
   "cell_type": "code",
   "execution_count": null,
   "metadata": {},
   "outputs": [],
   "source": []
  },
  {
   "cell_type": "markdown",
   "metadata": {},
   "source": [
    "### create groups"
   ]
  },
  {
   "cell_type": "code",
   "execution_count": 22,
   "metadata": {},
   "outputs": [],
   "source": [
    "f = h5py.File(dataset_path, \"r+\")\n",
    "demos = list(f[\"data\"].keys())"
   ]
  },
  {
   "cell_type": "code",
   "execution_count": 23,
   "metadata": {},
   "outputs": [
    {
     "name": "stdout",
     "output_type": "stream",
     "text": [
      "Number of demos:  172\n",
      "Max length:  234\n",
      "Min length:  14\n",
      "Mean length:  59.22093023255814\n"
     ]
    }
   ],
   "source": [
    "lengths=[]\n",
    "for demo_name in demos:\n",
    "    demo=f['data'][demo_name]\n",
    "    num_samples=demo.attrs['num_samples']\n",
    "    lengths.append(num_samples)\n",
    "\n",
    "lengths=np.array(lengths)\n",
    "\n",
    "print('Number of demos: ', len(demos))\n",
    "print('Max length: ', np.max(lengths))\n",
    "print('Min length: ', np.min(lengths))\n",
    "print('Mean length: ', np.mean(lengths))"
   ]
  },
  {
   "cell_type": "code",
   "execution_count": 24,
   "metadata": {},
   "outputs": [
    {
     "data": {
      "text/plain": [
       "<KeysViewHDF5 ['50g10i', '50g10p', '50g10s', 'good', 'inefficient', 'push', 'short']>"
      ]
     },
     "execution_count": 24,
     "metadata": {},
     "output_type": "execute_result"
    }
   ],
   "source": [
    "# f.close()\n",
    "f['mask'].keys()"
   ]
  },
  {
   "cell_type": "code",
   "execution_count": 33,
   "metadata": {},
   "outputs": [
    {
     "data": {
      "text/plain": [
       "(['demo_80', 'demo_81', 'demo_82', 'demo_83', 'demo_84'], 60)"
      ]
     },
     "execution_count": 33,
     "metadata": {},
     "output_type": "execute_result"
    }
   ],
   "source": [
    "group_name='50g10s'\n",
    "group_name='50g10p'\n",
    "group_name='50g10i'\n",
    "\n",
    "gp=[b.decode('utf-8') for b in f['mask'][group_name] ]\n",
    "gp[-5:], len(gp)"
   ]
  },
  {
   "cell_type": "code",
   "execution_count": 34,
   "metadata": {},
   "outputs": [
    {
     "data": {
      "text/plain": [
       "(['demo_180', 'demo_181', 'demo_182', 'demo_183', 'demo_184'], 60)"
      ]
     },
     "execution_count": 34,
     "metadata": {},
     "output_type": "execute_result"
    }
   ],
   "source": [
    "vgp=[]\n",
    "for demo_name in gp:\n",
    "    demo_no=int(demo_name.split('_')[1])\n",
    "    vgp.append(f'demo_{100+demo_no}')\n",
    "\n",
    "vgp[-5:], len(vgp)"
   ]
  },
  {
   "cell_type": "code",
   "execution_count": 35,
   "metadata": {},
   "outputs": [],
   "source": [
    "keys=np.array(vgp, dtype='S8')"
   ]
  },
  {
   "cell_type": "code",
   "execution_count": 36,
   "metadata": {},
   "outputs": [],
   "source": [
    "hdf5_path=dataset_path\n",
    "filter_keys=vgp\n",
    "filter_name=f\"{group_name}_val\"\n",
    "filter_lengths = create_hdf5_filter_key(hdf5_path=hdf5_path, demo_keys=filter_keys, key_name=filter_name)"
   ]
  },
  {
   "cell_type": "code",
   "execution_count": null,
   "metadata": {},
   "outputs": [],
   "source": []
  },
  {
   "cell_type": "code",
   "execution_count": 37,
   "metadata": {},
   "outputs": [],
   "source": [
    "f.close()"
   ]
  },
  {
   "cell_type": "markdown",
   "metadata": {},
   "source": [
    "### verify"
   ]
  },
  {
   "cell_type": "code",
   "execution_count": 38,
   "metadata": {},
   "outputs": [
    {
     "data": {
      "text/plain": [
       "<KeysViewHDF5 ['50g10i', '50g10i_val', '50g10p', '50g10p_val', '50g10s', '50g10s_val', 'good', 'inefficient', 'push', 'short']>"
      ]
     },
     "execution_count": 38,
     "metadata": {},
     "output_type": "execute_result"
    }
   ],
   "source": [
    "f = h5py.File(dataset_path, \"r\")\n",
    "demos = list(f[\"data\"].keys())\n",
    "\n",
    "f['mask'].keys()"
   ]
  },
  {
   "cell_type": "code",
   "execution_count": 39,
   "metadata": {},
   "outputs": [
    {
     "data": {
      "text/plain": [
       "172"
      ]
     },
     "execution_count": 39,
     "metadata": {},
     "output_type": "execute_result"
    }
   ],
   "source": [
    "len(demos)"
   ]
  },
  {
   "cell_type": "code",
   "execution_count": 40,
   "metadata": {},
   "outputs": [
    {
     "data": {
      "text/plain": [
       "<Closed HDF5 group>"
      ]
     },
     "execution_count": 40,
     "metadata": {},
     "output_type": "execute_result"
    }
   ],
   "source": [
    "demo"
   ]
  },
  {
   "cell_type": "code",
   "execution_count": null,
   "metadata": {},
   "outputs": [],
   "source": []
  },
  {
   "cell_type": "code",
   "execution_count": 41,
   "metadata": {},
   "outputs": [
    {
     "data": {
      "text/plain": [
       "(['demo_56', 'demo_57', 'demo_58', 'demo_59', 'demo_60'],\n",
       " 60,\n",
       " ['demo_156', 'demo_157', 'demo_158', 'demo_159', 'demo_160'],\n",
       " 60)"
      ]
     },
     "execution_count": 41,
     "metadata": {},
     "output_type": "execute_result"
    }
   ],
   "source": [
    "gp=[b.decode('utf-8') for b in f['mask']['50g10s'] ]\n",
    "vgp=[b.decode('utf-8') for b in f['mask']['50g10s_val'] ]\n",
    "\n",
    "gp[-5:], len(gp), vgp[-5:], len(vgp)"
   ]
  },
  {
   "cell_type": "code",
   "execution_count": 42,
   "metadata": {},
   "outputs": [],
   "source": [
    "demo_name='demo_156'\n",
    "data=f['data'][demo_name]"
   ]
  },
  {
   "cell_type": "code",
   "execution_count": 43,
   "metadata": {},
   "outputs": [
    {
     "data": {
      "text/plain": [
       "(-0.5247058823529411, 0.13411764705882345)"
      ]
     },
     "execution_count": 43,
     "metadata": {},
     "output_type": "execute_result"
    }
   ],
   "source": [
    "v=data['actions'] \n",
    "v=np.array(v)\n",
    "np.min(v), np.max(v)"
   ]
  },
  {
   "cell_type": "code",
   "execution_count": 44,
   "metadata": {},
   "outputs": [
    {
     "data": {
      "text/plain": [
       "172"
      ]
     },
     "execution_count": 44,
     "metadata": {},
     "output_type": "execute_result"
    }
   ],
   "source": [
    "len(demos)"
   ]
  },
  {
   "cell_type": "code",
   "execution_count": 45,
   "metadata": {},
   "outputs": [
    {
     "data": {
      "text/plain": [
       "86"
      ]
     },
     "execution_count": 45,
     "metadata": {},
     "output_type": "execute_result"
    }
   ],
   "source": [
    "demos=demos[86:]\n",
    "len(demos)"
   ]
  },
  {
   "cell_type": "code",
   "execution_count": null,
   "metadata": {},
   "outputs": [],
   "source": []
  },
  {
   "cell_type": "code",
   "execution_count": 46,
   "metadata": {},
   "outputs": [
    {
     "data": {
      "text/plain": [
       "(-5.897678637081707, 1.0)"
      ]
     },
     "execution_count": 46,
     "metadata": {},
     "output_type": "execute_result"
    }
   ],
   "source": [
    "mins=[]\n",
    "maxs=[]\n",
    "for demo_name in demos:\n",
    "    data=f['data'][demo_name]\n",
    "    v=data['actions'] \n",
    "    v=np.array(v)\n",
    "    mins.append(np.min(v))\n",
    "    maxs.append(np.max(v))\n",
    "\n",
    "np.min(mins), np.max(maxs)"
   ]
  },
  {
   "cell_type": "code",
   "execution_count": 47,
   "metadata": {},
   "outputs": [
    {
     "data": {
      "text/plain": [
       "(-10.026053683038901, 1.7)"
      ]
     },
     "execution_count": 47,
     "metadata": {},
     "output_type": "execute_result"
    }
   ],
   "source": [
    "mins=[]\n",
    "maxs=[]\n",
    "for demo_name in demos:\n",
    "    data=f['data'][demo_name]\n",
    "    v=data['actions'] \n",
    "    v=np.array(v)\n",
    "    v=unnormalize_vel(v)\n",
    "    mins.append(np.min(v))\n",
    "    maxs.append(np.max(v))\n",
    "\n",
    "np.min(mins), np.max(maxs)"
   ]
  },
  {
   "cell_type": "code",
   "execution_count": null,
   "metadata": {},
   "outputs": [],
   "source": []
  },
  {
   "cell_type": "code",
   "execution_count": null,
   "metadata": {},
   "outputs": [],
   "source": []
  },
  {
   "cell_type": "code",
   "execution_count": null,
   "metadata": {},
   "outputs": [],
   "source": []
  },
  {
   "cell_type": "code",
   "execution_count": null,
   "metadata": {},
   "outputs": [],
   "source": []
  },
  {
   "cell_type": "code",
   "execution_count": null,
   "metadata": {},
   "outputs": [],
   "source": []
  },
  {
   "cell_type": "code",
   "execution_count": null,
   "metadata": {},
   "outputs": [],
   "source": []
  },
  {
   "cell_type": "code",
   "execution_count": null,
   "metadata": {},
   "outputs": [],
   "source": []
  },
  {
   "cell_type": "code",
   "execution_count": null,
   "metadata": {},
   "outputs": [],
   "source": []
  }
 ],
 "metadata": {
  "kernelspec": {
   "display_name": "robomimic_venv",
   "language": "python",
   "name": "python3"
  },
  "language_info": {
   "codemirror_mode": {
    "name": "ipython",
    "version": 3
   },
   "file_extension": ".py",
   "mimetype": "text/x-python",
   "name": "python",
   "nbconvert_exporter": "python",
   "pygments_lexer": "ipython3",
   "version": "3.8.17"
  },
  "orig_nbformat": 4
 },
 "nbformat": 4,
 "nbformat_minor": 2
}
