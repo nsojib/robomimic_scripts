{
 "cells": [
  {
   "cell_type": "code",
   "execution_count": 1,
   "id": "4e2b90e6",
   "metadata": {},
   "outputs": [],
   "source": [
    "import os\n",
    "import json\n",
    "import h5py\n",
    "import numpy as np\n",
    "\n",
    "import robomimic\n",
    "import robomimic.utils.file_utils as FileUtils\n",
    "import robomimic.utils.env_utils as EnvUtils\n",
    "import robomimic.utils.obs_utils as ObsUtils\n",
    "import imageio\n",
    "import tqdm\n",
    "from robomimic.utils.file_utils import create_hdf5_filter_key"
   ]
  },
  {
   "cell_type": "markdown",
   "id": "b6dadd4c",
   "metadata": {},
   "source": [
    "### mix two dataset, rename ids of the 2nd dataset"
   ]
  },
  {
   "cell_type": "code",
   "execution_count": null,
   "id": "8029b861",
   "metadata": {},
   "outputs": [],
   "source": [
    " "
   ]
  },
  {
   "cell_type": "code",
   "execution_count": 2,
   "id": "c0d6a8ef",
   "metadata": {},
   "outputs": [],
   "source": [
    "dataset1_path = \"/home/ns1254/dataset_mimicgen/coffee_gfs_109_2_sub.hdf5\""
   ]
  },
  {
   "cell_type": "code",
   "execution_count": 3,
   "id": "a35cd8e9",
   "metadata": {},
   "outputs": [],
   "source": [
    "f1 = h5py.File(dataset1_path, \"r\")\n",
    "demos = list(f1[\"data\"].keys())"
   ]
  },
  {
   "cell_type": "code",
   "execution_count": 4,
   "id": "eea881c7",
   "metadata": {},
   "outputs": [
    {
     "name": "stdout",
     "output_type": "stream",
     "text": [
      "Number of demos:  40\n",
      "Max length:  777\n",
      "Min length:  516\n",
      "Mean length:  643.65\n"
     ]
    }
   ],
   "source": [
    "lengths=[]\n",
    "for demo_name in demos:\n",
    "    demo=f1['data'][demo_name]\n",
    "    num_samples=demo.attrs['num_samples']\n",
    "    lengths.append(num_samples)\n",
    "\n",
    "lengths=np.array(lengths)\n",
    "\n",
    "print('Number of demos: ', len(demos))\n",
    "print('Max length: ', np.max(lengths))\n",
    "print('Min length: ', np.min(lengths))\n",
    "print('Mean length: ', np.mean(lengths))"
   ]
  },
  {
   "cell_type": "code",
   "execution_count": 5,
   "id": "904dc8b9",
   "metadata": {},
   "outputs": [
    {
     "name": "stdout",
     "output_type": "stream",
     "text": [
      "g20 <HDF5 dataset \"g20\": shape (20,), type \"|S8\">\n",
      "g40 <HDF5 dataset \"g40\": shape (40,), type \"|S8\">\n"
     ]
    }
   ],
   "source": [
    "for k in f1['mask'].keys():\n",
    "    ks=f1['mask'][k]\n",
    "    print(k, ks)"
   ]
  },
  {
   "cell_type": "code",
   "execution_count": 6,
   "id": "29e92e77",
   "metadata": {},
   "outputs": [],
   "source": [
    "f1.close()"
   ]
  },
  {
   "cell_type": "code",
   "execution_count": null,
   "id": "09adc1b1",
   "metadata": {},
   "outputs": [],
   "source": []
  },
  {
   "cell_type": "markdown",
   "id": "81d7ba07",
   "metadata": {},
   "source": [
    "### load 2nd dataset"
   ]
  },
  {
   "cell_type": "code",
   "execution_count": 7,
   "id": "4d9ebddc",
   "metadata": {},
   "outputs": [
    {
     "name": "stdout",
     "output_type": "stream",
     "text": [
      "Number of demos:  59\n",
      "Max length:  4000\n",
      "Min length:  400\n",
      "Mean length:  1857.8983050847457\n"
     ]
    }
   ],
   "source": [
    "dataset2_path = \"/home/ns1254/dataset_mimicgen/lay_coffee_59.hdf5\" \n",
    "f2 = h5py.File(dataset2_path, \"r\")\n",
    "demos2 = list(f2[\"data\"].keys())\n",
    "\n",
    "lengths=[]\n",
    "for demo_name in demos2:\n",
    "    demo=f2['data'][demo_name]\n",
    "    num_samples=demo.attrs['num_samples']\n",
    "    lengths.append(num_samples)\n",
    "\n",
    "lengths=np.array(lengths)\n",
    "\n",
    "print('Number of demos: ', len(demos2))\n",
    "print('Max length: ', np.max(lengths))\n",
    "print('Min length: ', np.min(lengths))\n",
    "print('Mean length: ', np.mean(lengths))"
   ]
  },
  {
   "cell_type": "code",
   "execution_count": 8,
   "id": "e987028a",
   "metadata": {},
   "outputs": [
    {
     "name": "stdout",
     "output_type": "stream",
     "text": [
      "sg15 (15,)\n",
      "train (54,)\n",
      "valid (5,)\n"
     ]
    }
   ],
   "source": [
    "for k in f2['mask'].keys():\n",
    "    ks=f2['mask'][k]\n",
    "    print(k, ks.shape)"
   ]
  },
  {
   "cell_type": "code",
   "execution_count": 9,
   "id": "3a8d8e76",
   "metadata": {},
   "outputs": [
    {
     "data": {
      "text/plain": [
       "15"
      ]
     },
     "execution_count": 9,
     "metadata": {},
     "output_type": "execute_result"
    }
   ],
   "source": [
    "demos2=[demo.decode('utf-8') for demo in f2['mask']['sg15']]\n",
    "# demos3=[demo.decode('utf-8') for demo in f2['mask']['more22']]\n",
    "# demos2=demos2[-30:]\n",
    "len(demos2) "
   ]
  },
  {
   "cell_type": "code",
   "execution_count": 10,
   "id": "491cc819",
   "metadata": {},
   "outputs": [
    {
     "data": {
      "text/plain": [
       "['demo_12',\n",
       " 'demo_14',\n",
       " 'demo_17',\n",
       " 'demo_19',\n",
       " 'demo_23',\n",
       " 'demo_28',\n",
       " 'demo_3',\n",
       " 'demo_32',\n",
       " 'demo_38',\n",
       " 'demo_39',\n",
       " 'demo_44',\n",
       " 'demo_45',\n",
       " 'demo_46',\n",
       " 'demo_5',\n",
       " 'demo_52']"
      ]
     },
     "execution_count": 10,
     "metadata": {},
     "output_type": "execute_result"
    }
   ],
   "source": [
    "demos2copy=demos2 \n",
    "demos2copy"
   ]
  },
  {
   "cell_type": "code",
   "execution_count": 11,
   "id": "9864bf92",
   "metadata": {},
   "outputs": [
    {
     "data": {
      "text/plain": [
       "15"
      ]
     },
     "execution_count": 11,
     "metadata": {},
     "output_type": "execute_result"
    }
   ],
   "source": [
    "len(demos2copy)"
   ]
  },
  {
   "cell_type": "code",
   "execution_count": null,
   "id": "1e280c67",
   "metadata": {},
   "outputs": [],
   "source": []
  },
  {
   "cell_type": "markdown",
   "id": "5ca642f4",
   "metadata": {},
   "source": [
    "### now open mix dataset for modifying"
   ]
  },
  {
   "cell_type": "code",
   "execution_count": 12,
   "id": "ad43cd2d",
   "metadata": {},
   "outputs": [
    {
     "data": {
      "text/plain": [
       "'/home/ns1254/dataset_mimicgen/coffee_gfs_109_2_sub.hdf5'"
      ]
     },
     "execution_count": 12,
     "metadata": {},
     "output_type": "execute_result"
    }
   ],
   "source": [
    "dataset1_path "
   ]
  },
  {
   "cell_type": "code",
   "execution_count": 13,
   "id": "9a9ee135",
   "metadata": {},
   "outputs": [
    {
     "data": {
      "text/plain": [
       "40"
      ]
     },
     "execution_count": 13,
     "metadata": {},
     "output_type": "execute_result"
    }
   ],
   "source": [
    "f1 = h5py.File(dataset1_path, \"r+\")\n",
    "demos = list(f1[\"data\"].keys())\n",
    "len(demos)"
   ]
  },
  {
   "cell_type": "code",
   "execution_count": 14,
   "id": "f98c500f",
   "metadata": {},
   "outputs": [
    {
     "name": "stdout",
     "output_type": "stream",
     "text": [
      "max_id: 39\n",
      "next_id: 40\n"
     ]
    }
   ],
   "source": [
    "max_id=np.max([int(demo.split('_')[1]) for demo in demos])\n",
    "print(f'max_id: {max_id}')\n",
    "\n",
    "next_id=max_id+1\n",
    "print(f'next_id: {next_id}')"
   ]
  },
  {
   "cell_type": "code",
   "execution_count": 15,
   "id": "7b617021",
   "metadata": {},
   "outputs": [],
   "source": [
    "# demos2copy=demos2.copy()"
   ]
  },
  {
   "cell_type": "code",
   "execution_count": 16,
   "id": "df48c6a9",
   "metadata": {},
   "outputs": [
    {
     "name": "stderr",
     "output_type": "stream",
     "text": [
      "100%|██████████| 15/15 [00:01<00:00, 11.03it/s]\n"
     ]
    }
   ],
   "source": [
    "i=next_id\n",
    "new_demos=[]\n",
    "for demo_name in tqdm.tqdm(demos2copy):\n",
    "    demo2=f2['data'][demo_name]\n",
    "    num_samples= demo2.attrs['num_samples']\n",
    "    model_file= demo2.attrs['model_file']\n",
    "\n",
    "    bdemo_name=\"demo_\"+str(i)\n",
    "    new_demos.append(bdemo_name)\n",
    "    i = i+1\n",
    "\n",
    "    f1[\"data\"].create_group(bdemo_name)\n",
    "\n",
    "\n",
    "    ks=['actions', 'dones', 'rewards', 'states']\n",
    "    for k in ks:\n",
    "        kdata = demo2[k]\n",
    "        f1[\"data\"][bdemo_name].create_dataset(k, data=kdata)\n",
    "\n",
    "    obs_keys =demo2['obs'].keys()\n",
    "    next_obs_keys= demo['next_obs'].keys()\n",
    "    for k in obs_keys:\n",
    "        kdata = demo2['obs'][k]\n",
    "        f1[\"data\"][bdemo_name].create_dataset(f'obs/{k}', data=kdata)\n",
    "    for k in next_obs_keys:\n",
    "        kdata = demo2['next_obs'][k]\n",
    "        f1[\"data\"][bdemo_name].create_dataset(f'next_obs/{k}', data=kdata)\n",
    "\n",
    "    f1[\"data\"][bdemo_name].attrs[\"num_samples\"] = num_samples\n",
    "    f1[\"data\"][bdemo_name].attrs[\"model_file\"] = model_file\n",
    "\n",
    "# f.close()\n",
    "f2.close()"
   ]
  },
  {
   "cell_type": "code",
   "execution_count": 16,
   "id": "193570ef",
   "metadata": {},
   "outputs": [],
   "source": [
    "# f.close()\n",
    "# f2.close()"
   ]
  },
  {
   "cell_type": "code",
   "execution_count": 17,
   "id": "9704035c",
   "metadata": {},
   "outputs": [
    {
     "data": {
      "text/plain": [
       "(15,)"
      ]
     },
     "execution_count": 17,
     "metadata": {},
     "output_type": "execute_result"
    }
   ],
   "source": [
    "new_demos=np.array(new_demos, dtype='S8')\n",
    "new_demos.shape"
   ]
  },
  {
   "cell_type": "code",
   "execution_count": null,
   "id": "29589645",
   "metadata": {},
   "outputs": [],
   "source": []
  },
  {
   "cell_type": "code",
   "execution_count": 18,
   "id": "336e3cb8",
   "metadata": {},
   "outputs": [],
   "source": [
    "hdf5_path=dataset1_path\n",
    "\n",
    "filter_keys=sorted([elem for elem in new_demos])\n",
    "filter_name='lay15'\n",
    "filter_lengths = create_hdf5_filter_key(hdf5_path=hdf5_path, demo_keys=filter_keys, key_name=filter_name)"
   ]
  },
  {
   "cell_type": "code",
   "execution_count": 19,
   "id": "d4ea5185",
   "metadata": {},
   "outputs": [
    {
     "data": {
      "text/plain": [
       "<KeysViewHDF5 ['g20', 'g40', 'lay15']>"
      ]
     },
     "execution_count": 19,
     "metadata": {},
     "output_type": "execute_result"
    }
   ],
   "source": [
    "f1['mask'].keys()"
   ]
  },
  {
   "cell_type": "code",
   "execution_count": 20,
   "id": "66fb509b",
   "metadata": {},
   "outputs": [],
   "source": [
    "f1.close()"
   ]
  },
  {
   "cell_type": "code",
   "execution_count": null,
   "id": "77ec7bfb",
   "metadata": {},
   "outputs": [],
   "source": []
  },
  {
   "cell_type": "code",
   "execution_count": null,
   "id": "66e5ca2f",
   "metadata": {},
   "outputs": [],
   "source": []
  },
  {
   "cell_type": "code",
   "execution_count": null,
   "id": "8cb1a74e",
   "metadata": {},
   "outputs": [],
   "source": []
  },
  {
   "cell_type": "code",
   "execution_count": null,
   "id": "217b7501",
   "metadata": {},
   "outputs": [],
   "source": []
  },
  {
   "cell_type": "code",
   "execution_count": null,
   "id": "1dccf39b",
   "metadata": {},
   "outputs": [],
   "source": []
  },
  {
   "cell_type": "code",
   "execution_count": null,
   "id": "6a72e323",
   "metadata": {},
   "outputs": [],
   "source": []
  }
 ],
 "metadata": {
  "kernelspec": {
   "display_name": "robomimic_venv",
   "language": "python",
   "name": "python3"
  },
  "language_info": {
   "codemirror_mode": {
    "name": "ipython",
    "version": 3
   },
   "file_extension": ".py",
   "mimetype": "text/x-python",
   "name": "python",
   "nbconvert_exporter": "python",
   "pygments_lexer": "ipython3",
   "version": "3.8.17"
  },
  "vscode": {
   "interpreter": {
    "hash": "0470c1ad2f0fb27cfc2238567a653f05115d47bf4fc5f86d0f161d89abc1f79a"
   }
  }
 },
 "nbformat": 4,
 "nbformat_minor": 5
}
