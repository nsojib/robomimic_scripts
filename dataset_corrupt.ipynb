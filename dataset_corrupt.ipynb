{
 "cells": [
  {
   "cell_type": "code",
   "execution_count": 1,
   "metadata": {},
   "outputs": [],
   "source": [
    "import os\n",
    "import json\n",
    "import h5py\n",
    "import numpy as np\n",
    "\n",
    "import robomimic\n",
    "import robomimic.utils.file_utils as FileUtils\n",
    "import robomimic.utils.env_utils as EnvUtils\n",
    "import robomimic.utils.obs_utils as ObsUtils\n",
    "import imageio\n",
    "import tqdm\n",
    "from robomimic.utils.file_utils import create_hdf5_filter_key"
   ]
  },
  {
   "cell_type": "code",
   "execution_count": 2,
   "metadata": {},
   "outputs": [],
   "source": [
    "dataset_path = \"/home/ns1254/robomimic/datasets/lift/mh/image_v141_gb100.hdf5\" \n",
    "f_org = h5py.File(dataset_path, \"r+\")\n",
    "demos = list(f_org[\"data\"].keys())"
   ]
  },
  {
   "cell_type": "code",
   "execution_count": 3,
   "metadata": {},
   "outputs": [
    {
     "name": "stdout",
     "output_type": "stream",
     "text": [
      "Number of demos:  100\n",
      "Max length:  59\n",
      "Min length:  41\n",
      "Mean length:  49.32\n"
     ]
    }
   ],
   "source": [
    "lengths=[]\n",
    "demos_minmax={}\n",
    "for demo_name in demos:\n",
    "    demo=f_org['data'][demo_name]\n",
    "    num_samples=demo.attrs['num_samples']\n",
    "    lengths.append(num_samples)\n",
    "\n",
    "    action=f_org['data'][demo_name]['actions']\n",
    "    action=np.array(action) \n",
    "    demos_minmax[demo_name] = (np.min(action, axis=0), np.max(action, axis=0))\n",
    "\n",
    "lengths=np.array(lengths)\n",
    "\n",
    "print('Number of demos: ', len(demos))\n",
    "print('Max length: ', np.max(lengths))\n",
    "print('Min length: ', np.min(lengths))\n",
    "print('Mean length: ', np.mean(lengths))"
   ]
  },
  {
   "cell_type": "code",
   "execution_count": 4,
   "metadata": {},
   "outputs": [
    {
     "data": {
      "text/plain": [
       "(array([-0.125     , -0.32      , -0.747     , -0.06348293, -0.04605475,\n",
       "        -0.02007322, -1.        ]),\n",
       " array([0.744     , 0.184     , 1.        , 0.03319882, 0.24098656,\n",
       "        0.13674498, 1.        ]))"
      ]
     },
     "execution_count": 4,
     "metadata": {},
     "output_type": "execute_result"
    }
   ],
   "source": [
    "demos_minmax['demo_1']"
   ]
  },
  {
   "cell_type": "code",
   "execution_count": 5,
   "metadata": {},
   "outputs": [
    {
     "data": {
      "text/plain": [
       "(array([-0.94384869, -0.37895294, -0.99081614, -0.08258314, -0.29114203,\n",
       "        -0.55971844, -1.        ]),\n",
       " array([0.75818276, 0.35310605, 0.99914343, 0.09128128, 0.24266282,\n",
       "        0.16261121, 1.        ]))"
      ]
     },
     "execution_count": 5,
     "metadata": {},
     "output_type": "execute_result"
    }
   ],
   "source": [
    "demos_minmax['demo_51']"
   ]
  },
  {
   "cell_type": "code",
   "execution_count": null,
   "metadata": {},
   "outputs": [],
   "source": []
  },
  {
   "cell_type": "code",
   "execution_count": 6,
   "metadata": {},
   "outputs": [
    {
     "name": "stdout",
     "output_type": "stream",
     "text": [
      "Action min:  [-0.9888 -0.3847 -1.     -0.0959 -0.2983 -0.5665 -1.    ]\n",
      "Action max:  [0.989  0.385  1.     0.0957 0.2984 0.5668 1.    ]\n"
     ]
    }
   ],
   "source": [
    "mins,maxs=[],[]\n",
    "for demo_name in demos_minmax.keys():\n",
    "    min,max= demos_minmax[demo_name]\n",
    "    mins.append(min)\n",
    "    maxs.append(max)\n",
    "\n",
    "mins=np.min(mins, axis=0)\n",
    "maxs=np.max(maxs, axis=0) + 1e-8\n",
    "\n",
    "\n",
    "np.set_printoptions(precision=4, suppress=True)\n",
    "\n",
    "print('Action min: ', mins)\n",
    "print('Action max: ', maxs)"
   ]
  },
  {
   "cell_type": "code",
   "execution_count": null,
   "metadata": {},
   "outputs": [],
   "source": [
    "# Action min:  [-0.289  -0.322  -1.     -0.0635 -0.0776 -0.195  -1.    ]\n",
    "# Action max:  [0.923  0.385  1.     0.0721 0.241  0.5668 1.    ]"
   ]
  },
  {
   "cell_type": "code",
   "execution_count": 12,
   "metadata": {},
   "outputs": [
    {
     "name": "stdout",
     "output_type": "stream",
     "text": [
      "bad (50,)\n",
      "expert (50,)\n",
      "g20 (20,)\n",
      "g20b5c (25,)\n",
      "g40 (40,)\n",
      "g40b10c (50,)\n"
     ]
    }
   ],
   "source": [
    "f_org['mask'].keys()\n",
    "for key in f_org['mask'].keys():\n",
    "    print(key, f_org['mask'][key].shape)"
   ]
  },
  {
   "cell_type": "code",
   "execution_count": 8,
   "metadata": {},
   "outputs": [
    {
     "data": {
      "text/plain": [
       "(50, 50)"
      ]
     },
     "execution_count": 8,
     "metadata": {},
     "output_type": "execute_result"
    }
   ],
   "source": [
    "expert=[demo.decode('utf-8') for demo in f_org['mask']['expert']]\n",
    "demos=[demo.decode('utf-8') for demo in f_org['mask']['bad']]\n",
    "len(expert), len(demos)"
   ]
  },
  {
   "cell_type": "code",
   "execution_count": 10,
   "metadata": {},
   "outputs": [
    {
     "data": {
      "text/plain": [
       "20"
      ]
     },
     "execution_count": 10,
     "metadata": {},
     "output_type": "execute_result"
    }
   ],
   "source": [
    "gb=expert[:20] # + demos[:5]\n",
    "len(gb)"
   ]
  },
  {
   "cell_type": "code",
   "execution_count": 11,
   "metadata": {},
   "outputs": [],
   "source": [
    "hdf5_path=dataset_path\n",
    "\n",
    "demos= np.array(gb, dtype='S16') \n",
    "\n",
    "filter_keys=sorted([elem for elem in demos])\n",
    "filter_name=\"g20\"\n",
    "filter_lengths = create_hdf5_filter_key(hdf5_path=hdf5_path, demo_keys=filter_keys, key_name=filter_name)"
   ]
  },
  {
   "cell_type": "code",
   "execution_count": 15,
   "metadata": {},
   "outputs": [
    {
     "data": {
      "text/plain": [
       "['demo_100', 'demo_51', 'demo_52']"
      ]
     },
     "execution_count": 15,
     "metadata": {},
     "output_type": "execute_result"
    }
   ],
   "source": [
    "demos[:3]"
   ]
  },
  {
   "cell_type": "code",
   "execution_count": 8,
   "metadata": {},
   "outputs": [
    {
     "data": {
      "text/plain": [
       "(['demo_1', 'demo_10', 'demo_11'], ['demo_100', 'demo_51', 'demo_52'])"
      ]
     },
     "execution_count": 8,
     "metadata": {},
     "output_type": "execute_result"
    }
   ],
   "source": [
    "expert[:3], demos[:3]"
   ]
  },
  {
   "cell_type": "code",
   "execution_count": 13,
   "metadata": {},
   "outputs": [],
   "source": [
    "# gb"
   ]
  },
  {
   "cell_type": "code",
   "execution_count": 14,
   "metadata": {},
   "outputs": [],
   "source": [
    "expert=[demo.decode('utf-8') for demo in f_org['mask']['g20']]\n",
    "demos=[demo.decode('utf-8') for demo in f_org['mask']['g20b5c']]"
   ]
  },
  {
   "cell_type": "code",
   "execution_count": 15,
   "metadata": {},
   "outputs": [
    {
     "data": {
      "text/plain": [
       "['demo_1',\n",
       " 'demo_10',\n",
       " 'demo_11',\n",
       " 'demo_12',\n",
       " 'demo_13',\n",
       " 'demo_14',\n",
       " 'demo_15',\n",
       " 'demo_16',\n",
       " 'demo_17',\n",
       " 'demo_18',\n",
       " 'demo_19',\n",
       " 'demo_2',\n",
       " 'demo_20',\n",
       " 'demo_21',\n",
       " 'demo_22',\n",
       " 'demo_23',\n",
       " 'demo_24',\n",
       " 'demo_25',\n",
       " 'demo_26',\n",
       " 'demo_27']"
      ]
     },
     "execution_count": 15,
     "metadata": {},
     "output_type": "execute_result"
    }
   ],
   "source": [
    "expert"
   ]
  },
  {
   "cell_type": "code",
   "execution_count": 16,
   "metadata": {},
   "outputs": [
    {
     "data": {
      "text/plain": [
       "['demo_1',\n",
       " 'demo_10',\n",
       " 'demo_100',\n",
       " 'demo_11',\n",
       " 'demo_12',\n",
       " 'demo_13',\n",
       " 'demo_14',\n",
       " 'demo_15',\n",
       " 'demo_16',\n",
       " 'demo_17',\n",
       " 'demo_18',\n",
       " 'demo_19',\n",
       " 'demo_2',\n",
       " 'demo_20',\n",
       " 'demo_21',\n",
       " 'demo_22',\n",
       " 'demo_23',\n",
       " 'demo_24',\n",
       " 'demo_25',\n",
       " 'demo_26',\n",
       " 'demo_27',\n",
       " 'demo_51',\n",
       " 'demo_52',\n",
       " 'demo_53',\n",
       " 'demo_54']"
      ]
     },
     "execution_count": 16,
     "metadata": {},
     "output_type": "execute_result"
    }
   ],
   "source": [
    "demos"
   ]
  },
  {
   "cell_type": "code",
   "execution_count": null,
   "metadata": {},
   "outputs": [],
   "source": []
  },
  {
   "cell_type": "code",
   "execution_count": null,
   "metadata": {},
   "outputs": [],
   "source": []
  },
  {
   "cell_type": "code",
   "execution_count": 23,
   "metadata": {},
   "outputs": [
    {
     "name": "stdout",
     "output_type": "stream",
     "text": [
      "[-1. -1. -1. -1. -1. -1. -1.]\n",
      "[1. 1. 1. 1. 1. 1. 1.]\n"
     ]
    }
   ],
   "source": [
    "mins=np.ones(7)*-1\n",
    "maxs=np.ones(7)\n",
    "\n",
    "print(mins)\n",
    "print(maxs)"
   ]
  },
  {
   "cell_type": "code",
   "execution_count": null,
   "metadata": {},
   "outputs": [],
   "source": []
  },
  {
   "cell_type": "code",
   "execution_count": 12,
   "metadata": {},
   "outputs": [
    {
     "name": "stdout",
     "output_type": "stream",
     "text": [
      "demo_100 (41, 7) (41, 7)\n",
      "demo_51 (48, 7) (48, 7)\n",
      "demo_52 (55, 7) (55, 7)\n",
      "demo_53 (49, 7) (49, 7)\n",
      "demo_54 (48, 7) (48, 7)\n",
      "demo_55 (48, 7) (48, 7)\n",
      "demo_56 (49, 7) (49, 7)\n",
      "demo_57 (58, 7) (58, 7)\n",
      "demo_58 (55, 7) (55, 7)\n",
      "demo_59 (46, 7) (46, 7)\n",
      "demo_60 (54, 7) (54, 7)\n",
      "demo_61 (46, 7) (46, 7)\n",
      "demo_62 (48, 7) (48, 7)\n",
      "demo_63 (46, 7) (46, 7)\n",
      "demo_64 (59, 7) (59, 7)\n",
      "demo_65 (45, 7) (45, 7)\n",
      "demo_66 (44, 7) (44, 7)\n",
      "demo_67 (52, 7) (52, 7)\n",
      "demo_68 (48, 7) (48, 7)\n",
      "demo_69 (56, 7) (56, 7)\n",
      "demo_70 (47, 7) (47, 7)\n",
      "demo_71 (51, 7) (51, 7)\n",
      "demo_72 (51, 7) (51, 7)\n",
      "demo_73 (50, 7) (50, 7)\n",
      "demo_74 (45, 7) (45, 7)\n",
      "demo_75 (44, 7) (44, 7)\n",
      "demo_76 (51, 7) (51, 7)\n",
      "demo_77 (52, 7) (52, 7)\n",
      "demo_78 (49, 7) (49, 7)\n",
      "demo_79 (57, 7) (57, 7)\n",
      "demo_80 (52, 7) (52, 7)\n",
      "demo_81 (53, 7) (53, 7)\n",
      "demo_82 (48, 7) (48, 7)\n",
      "demo_83 (42, 7) (42, 7)\n",
      "demo_84 (55, 7) (55, 7)\n",
      "demo_85 (43, 7) (43, 7)\n",
      "demo_86 (49, 7) (49, 7)\n",
      "demo_87 (46, 7) (46, 7)\n",
      "demo_88 (44, 7) (44, 7)\n",
      "demo_89 (44, 7) (44, 7)\n",
      "demo_90 (50, 7) (50, 7)\n",
      "demo_91 (53, 7) (53, 7)\n",
      "demo_92 (55, 7) (55, 7)\n",
      "demo_93 (45, 7) (45, 7)\n",
      "demo_94 (48, 7) (48, 7)\n",
      "demo_95 (48, 7) (48, 7)\n",
      "demo_96 (50, 7) (50, 7)\n",
      "demo_97 (46, 7) (46, 7)\n",
      "demo_98 (52, 7) (52, 7)\n",
      "demo_99 (51, 7) (51, 7)\n"
     ]
    }
   ],
   "source": [
    "epsilon=0.8\n",
    "for demo_name in demos:\n",
    "    demo=f_org['data'][demo_name]  \n",
    "    action_org=f_org['data'][demo_name]['actions']\n",
    "    \n",
    "    \n",
    "    actions=[]\n",
    "    for action in action_org:\n",
    "        if np.random.rand() <= epsilon:\n",
    "            action = -np.random.uniform(mins, maxs)\n",
    "        actions.append(action)\n",
    "    actions=np.array(actions)\n",
    "\n",
    "    print(demo_name, actions.shape, action_org.shape)\n",
    "\n",
    "    del f_org[\"data\"][demo_name]['actions']\n",
    "    f_org[\"data\"][demo_name].create_dataset('actions', data=actions)"
   ]
  },
  {
   "cell_type": "code",
   "execution_count": null,
   "metadata": {},
   "outputs": [],
   "source": []
  },
  {
   "cell_type": "code",
   "execution_count": 18,
   "metadata": {},
   "outputs": [
    {
     "data": {
      "text/plain": [
       "(7,)"
      ]
     },
     "execution_count": 18,
     "metadata": {},
     "output_type": "execute_result"
    }
   ],
   "source": [
    "action.shape"
   ]
  },
  {
   "cell_type": "code",
   "execution_count": null,
   "metadata": {},
   "outputs": [],
   "source": []
  },
  {
   "cell_type": "code",
   "execution_count": 13,
   "metadata": {},
   "outputs": [],
   "source": [
    "f_org.close()"
   ]
  },
  {
   "cell_type": "code",
   "execution_count": null,
   "metadata": {},
   "outputs": [],
   "source": []
  },
  {
   "cell_type": "code",
   "execution_count": null,
   "metadata": {},
   "outputs": [],
   "source": []
  },
  {
   "cell_type": "code",
   "execution_count": null,
   "metadata": {},
   "outputs": [],
   "source": []
  }
 ],
 "metadata": {
  "kernelspec": {
   "display_name": "robomimic_venv",
   "language": "python",
   "name": "python3"
  },
  "language_info": {
   "codemirror_mode": {
    "name": "ipython",
    "version": 3
   },
   "file_extension": ".py",
   "mimetype": "text/x-python",
   "name": "python",
   "nbconvert_exporter": "python",
   "pygments_lexer": "ipython3",
   "version": "3.8.17"
  },
  "orig_nbformat": 4,
  "vscode": {
   "interpreter": {
    "hash": "300270bdc05a7d2a1a6e38b49d31ab74e297d8594453dc417bd05684f2f1dd83"
   }
  }
 },
 "nbformat": 4,
 "nbformat_minor": 2
}
