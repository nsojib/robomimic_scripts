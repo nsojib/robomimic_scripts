{
 "cells": [
  {
   "cell_type": "code",
   "execution_count": 1,
   "id": "4e2b90e6",
   "metadata": {},
   "outputs": [],
   "source": [
    "import os\n",
    "import json\n",
    "import h5py\n",
    "import numpy as np\n",
    "\n",
    "import robomimic\n",
    "import robomimic.utils.file_utils as FileUtils\n",
    "import robomimic.utils.env_utils as EnvUtils\n",
    "import robomimic.utils.obs_utils as ObsUtils\n",
    "import imageio\n",
    "import tqdm\n",
    "from robomimic.utils.file_utils import create_hdf5_filter_key"
   ]
  },
  {
   "cell_type": "markdown",
   "id": "ee80ef21",
   "metadata": {},
   "source": [
    "### Normalize action between -1 to 1, save min, max info to the hdf5 to be used during inference."
   ]
  },
  {
   "cell_type": "code",
   "execution_count": 2,
   "id": "c0d6a8ef",
   "metadata": {},
   "outputs": [],
   "source": [
    "# dataset_path = \"/home/ns1254/data_robomimic/lift/ns/lift_image81_norm.hdf5\"\n",
    "# dataset_path = \"/home/ns1254/data_robomimic/lift/ns/lift_image81.hdf5\" # no normalization\n",
    "\n",
    "dataset_path = \"/home/ns1254/data_robomimic/lift/ns/lift_image141_norm.hdf5\""
   ]
  },
  {
   "cell_type": "code",
   "execution_count": 3,
   "id": "a35cd8e9",
   "metadata": {},
   "outputs": [],
   "source": [
    "f = h5py.File(dataset_path, \"r\")\n",
    "demos = list(f[\"data\"].keys())"
   ]
  },
  {
   "cell_type": "code",
   "execution_count": 4,
   "id": "eea881c7",
   "metadata": {},
   "outputs": [
    {
     "name": "stdout",
     "output_type": "stream",
     "text": [
      "Number of demos:  141\n",
      "Max length:  667\n",
      "Min length:  129\n",
      "Mean length:  199.60283687943263\n"
     ]
    }
   ],
   "source": [
    "lengths=[]\n",
    "demos_minmax={}\n",
    "for demo_name in demos:\n",
    "    demo=f['data'][demo_name]\n",
    "    num_samples=demo.attrs['num_samples']\n",
    "    lengths.append(num_samples)\n",
    "\n",
    "    action=f['data'][demo_name]['actions']\n",
    "    action=np.array(action) \n",
    "    demos_minmax[demo_name] = (np.min(action, axis=0), np.max(action, axis=0))\n",
    "\n",
    "\n",
    "lengths=np.array(lengths)\n",
    "\n",
    "print('Number of demos: ', len(demos))\n",
    "print('Max length: ', np.max(lengths))\n",
    "print('Min length: ', np.min(lengths))\n",
    "print('Mean length: ', np.mean(lengths))"
   ]
  },
  {
   "cell_type": "code",
   "execution_count": 5,
   "id": "915e1633",
   "metadata": {},
   "outputs": [
    {
     "data": {
      "text/plain": [
       "((7,), (7,))"
      ]
     },
     "execution_count": 5,
     "metadata": {},
     "output_type": "execute_result"
    }
   ],
   "source": [
    "mins,maxs=[],[]\n",
    "for demo_name in demos_minmax.keys():\n",
    "    min,max= demos_minmax[demo_name]\n",
    "    mins.append(min)\n",
    "    maxs.append(max)\n",
    "\n",
    "mins=np.min(mins, axis=0)\n",
    "maxs=np.max(maxs, axis=0) + 1e-8\n",
    "mins.shape, maxs.shape"
   ]
  },
  {
   "cell_type": "code",
   "execution_count": 6,
   "id": "3e9d0415",
   "metadata": {},
   "outputs": [
    {
     "data": {
      "text/plain": [
       "array([ -1.11913306,  -1.61284268, -13.44231429,   0.        ,\n",
       "         0.        ,  -0.        ,  -1.        ])"
      ]
     },
     "execution_count": 6,
     "metadata": {},
     "output_type": "execute_result"
    }
   ],
   "source": [
    "mins"
   ]
  },
  {
   "cell_type": "code",
   "execution_count": 7,
   "id": "4288ba7d",
   "metadata": {},
   "outputs": [
    {
     "data": {
      "text/plain": [
       "array([3.65146826e+00, 9.74293600e-01, 6.97497747e+00, 1.00000000e-08,\n",
       "       1.00000000e-08, 1.00000000e-08, 1.00000001e+00])"
      ]
     },
     "execution_count": 7,
     "metadata": {},
     "output_type": "execute_result"
    }
   ],
   "source": [
    "maxs"
   ]
  },
  {
   "cell_type": "code",
   "execution_count": 8,
   "id": "ffe427e0",
   "metadata": {},
   "outputs": [],
   "source": [
    "# for demo_name in demos:\n",
    "#     demo=f['data'][demo_name]  \n",
    "#     action=f['data'][demo_name]['actions']\n",
    "#     # convert action to [-1,1] using mins and maxs\n",
    "#     action= -1 + ( (action-mins)/(maxs-mins) )* 2.0\n",
    "\n",
    "#     del f[\"data\"][demo_name]['actions']\n",
    "#     f[\"data\"][demo_name].create_dataset('actions', data=action)"
   ]
  },
  {
   "cell_type": "code",
   "execution_count": null,
   "id": "83f623b8",
   "metadata": {},
   "outputs": [],
   "source": [
    "# save stats to f as another key \n",
    "f.create_dataset('mins', data=mins)\n",
    "f.create_dataset('maxs', data=maxs)"
   ]
  },
  {
   "cell_type": "code",
   "execution_count": 9,
   "id": "1bd0fcc5",
   "metadata": {},
   "outputs": [],
   "source": [
    "# f.close()"
   ]
  },
  {
   "cell_type": "code",
   "execution_count": null,
   "id": "bc71c014",
   "metadata": {},
   "outputs": [],
   "source": []
  },
  {
   "cell_type": "code",
   "execution_count": 5,
   "id": "dabf6ca2",
   "metadata": {},
   "outputs": [
    {
     "data": {
      "text/plain": [
       "<KeysViewHDF5 ['data', 'mask', 'maxs', 'mins']>"
      ]
     },
     "execution_count": 5,
     "metadata": {},
     "output_type": "execute_result"
    }
   ],
   "source": [
    "f.keys()"
   ]
  },
  {
   "cell_type": "code",
   "execution_count": 6,
   "id": "3e78f67b",
   "metadata": {},
   "outputs": [
    {
     "name": "stdout",
     "output_type": "stream",
     "text": [
      "bad <HDF5 dataset \"bad\": shape (22,), type \"|S8\">\n",
      "good <HDF5 dataset \"good\": shape (45,), type \"|S8\">\n",
      "goodbad <HDF5 dataset \"goodbad\": shape (67,), type \"|S8\">\n",
      "goodbad10 <HDF5 dataset \"goodbad10\": shape (55,), type \"|S8\">\n",
      "goodbad15 <HDF5 dataset \"goodbad15\": shape (60,), type \"|S8\">\n",
      "goodbad5 <HDF5 dataset \"goodbad5\": shape (50,), type \"|S8\">\n",
      "goodgray <HDF5 dataset \"goodgray\": shape (59,), type \"|S8\">\n",
      "goodgray10 <HDF5 dataset \"goodgray10\": shape (55,), type \"|S8\">\n",
      "goodgray5 <HDF5 dataset \"goodgray5\": shape (50,), type \"|S8\">\n",
      "gray <HDF5 dataset \"gray\": shape (14,), type \"|S8\">\n",
      "train <HDF5 dataset \"train\": shape (73,), type \"|S8\">\n",
      "valid <HDF5 dataset \"valid\": shape (8,), type \"|S8\">\n"
     ]
    }
   ],
   "source": [
    "for key in f['mask'].keys():\n",
    "    print(key, f['mask'][key])"
   ]
  },
  {
   "cell_type": "code",
   "execution_count": 16,
   "id": "0c9bcda6",
   "metadata": {},
   "outputs": [],
   "source": [
    "# for key in f['mask'].keys():\n",
    "#     if key not in ['train' ,'valid']:\n",
    "#         print(key, f['mask'][key])\n",
    "#         del f['mask'][key]"
   ]
  },
  {
   "cell_type": "code",
   "execution_count": null,
   "id": "5b5d1bf8",
   "metadata": {},
   "outputs": [],
   "source": []
  },
  {
   "cell_type": "code",
   "execution_count": 8,
   "id": "2efade68",
   "metadata": {},
   "outputs": [],
   "source": [
    "# hdf5_path=dataset_path\n",
    "\n",
    "# for key in f['mask'].keys():\n",
    "#     demos=[b.decode('utf-8') for b in f['mask'][key] ]\n",
    "    \n",
    "#     del f['mask'][key]\n",
    "    \n",
    "#     filter_keys=sorted([elem for elem in demos])\n",
    "#     filter_name=key\n",
    "#     create_hdf5_filter_key(hdf5_path=hdf5_path, demo_keys=filter_keys, key_name=filter_name)"
   ]
  },
  {
   "cell_type": "code",
   "execution_count": 11,
   "id": "7d4895bf",
   "metadata": {},
   "outputs": [],
   "source": [
    "# del f['mask']['good3']"
   ]
  },
  {
   "cell_type": "code",
   "execution_count": null,
   "id": "275d56e3",
   "metadata": {},
   "outputs": [],
   "source": []
  },
  {
   "cell_type": "code",
   "execution_count": 15,
   "id": "da1e0ae2",
   "metadata": {},
   "outputs": [],
   "source": [
    "good=[b.decode('utf-8') for b in f['mask']['good'] ]"
   ]
  },
  {
   "cell_type": "code",
   "execution_count": 16,
   "id": "9b707a48",
   "metadata": {},
   "outputs": [
    {
     "data": {
      "text/plain": [
       "['demo_',\n",
       " 'demo_',\n",
       " 'demo_1',\n",
       " 'demo_12',\n",
       " 'demo_18',\n",
       " 'demo_19',\n",
       " 'demo_2',\n",
       " 'demo_2',\n",
       " 'demo_22',\n",
       " 'demo_23',\n",
       " 'demo_26',\n",
       " 'demo_28',\n",
       " 'demo_29',\n",
       " 'demo_3',\n",
       " 'demo_30',\n",
       " 'demo_31',\n",
       " 'demo_36',\n",
       " 'demo_39',\n",
       " 'demo_40',\n",
       " 'demo_42',\n",
       " 'demo_43',\n",
       " 'demo_46',\n",
       " 'demo_47',\n",
       " 'demo_49',\n",
       " 'demo_5',\n",
       " 'demo_53',\n",
       " 'demo_55',\n",
       " 'demo_6',\n",
       " 'demo_6',\n",
       " 'demo_61',\n",
       " 'demo_62',\n",
       " 'demo_63',\n",
       " 'demo_65',\n",
       " 'demo_66',\n",
       " 'demo_68',\n",
       " 'demo_7',\n",
       " 'demo_7',\n",
       " 'demo_70',\n",
       " 'demo_71',\n",
       " 'demo_72',\n",
       " 'demo_75',\n",
       " 'demo_76',\n",
       " 'demo_79',\n",
       " 'demo_8',\n",
       " 'demo_80']"
      ]
     },
     "execution_count": 16,
     "metadata": {},
     "output_type": "execute_result"
    }
   ],
   "source": [
    "# good=np.array(good, dtype='S8')\n",
    "good"
   ]
  },
  {
   "cell_type": "code",
   "execution_count": null,
   "id": "c751c634",
   "metadata": {},
   "outputs": [],
   "source": []
  },
  {
   "cell_type": "code",
   "execution_count": 7,
   "id": "ad72c9ab",
   "metadata": {},
   "outputs": [],
   "source": [
    "f.close()"
   ]
  },
  {
   "cell_type": "code",
   "execution_count": null,
   "id": "850b4e26",
   "metadata": {},
   "outputs": [],
   "source": []
  },
  {
   "cell_type": "code",
   "execution_count": 27,
   "id": "1ca09b72",
   "metadata": {},
   "outputs": [],
   "source": [
    "good=[b.decode('utf-8') for b in f['mask']['good'] ]\n",
    "bad=[b.decode('utf-8') for b in f['mask']['bad'] ]\n",
    "gray=[b.decode('utf-8') for b in f['mask']['gray'] ]"
   ]
  },
  {
   "cell_type": "code",
   "execution_count": 28,
   "id": "20bc26db",
   "metadata": {},
   "outputs": [],
   "source": [
    "goodbad=good+bad\n",
    "goodbad5=good+bad[:5]\n",
    "goodbad10=good+bad[:10]\n",
    "goodbad15=good+bad[:15]\n",
    "\n",
    "goodgray=good+gray\n",
    "goodgray5=good+gray[:5]\n",
    "goodgray10=good+gray[:10]\n",
    "\n",
    "goodbad=np.array(goodbad, dtype='S8')\n",
    "goodbad5=np.array(goodbad5, dtype='S8')\n",
    "goodbad10=np.array(goodbad10, dtype='S8')\n",
    "goodbad15=np.array(goodbad15, dtype='S8')\n",
    "\n",
    "goodgray=np.array(goodgray, dtype='S8')\n",
    "goodgray5=np.array(goodgray5, dtype='S8')\n",
    "goodgray10=np.array(goodgray10, dtype='S8')"
   ]
  },
  {
   "cell_type": "code",
   "execution_count": 29,
   "id": "2f6bbf31",
   "metadata": {},
   "outputs": [],
   "source": [
    "hdf5_path=dataset_path\n",
    "\n",
    "filter_keys=sorted([elem for elem in goodbad])\n",
    "filter_name='goodbad'\n",
    "filter_lengths = create_hdf5_filter_key(hdf5_path=hdf5_path, demo_keys=filter_keys, key_name=filter_name)\n",
    "\n",
    "\n",
    "filter_keys=sorted([elem for elem in goodbad5])\n",
    "filter_name='goodbad5'\n",
    "filter_lengths = create_hdf5_filter_key(hdf5_path=hdf5_path, demo_keys=filter_keys, key_name=filter_name)\n",
    "\n",
    "\n",
    "\n",
    "filter_keys=sorted([elem for elem in goodbad10])\n",
    "filter_name='goodbad10'\n",
    "filter_lengths = create_hdf5_filter_key(hdf5_path=hdf5_path, demo_keys=filter_keys, key_name=filter_name)\n",
    "\n",
    "\n",
    "filter_keys=sorted([elem for elem in goodbad15])\n",
    "filter_name='goodbad15'\n",
    "filter_lengths = create_hdf5_filter_key(hdf5_path=hdf5_path, demo_keys=filter_keys, key_name=filter_name)\n"
   ]
  },
  {
   "cell_type": "code",
   "execution_count": 30,
   "id": "e180dbb8",
   "metadata": {},
   "outputs": [],
   "source": [
    "hdf5_path=dataset_path\n",
    "\n",
    "filter_keys=sorted([elem for elem in goodgray])\n",
    "filter_name='goodgray'\n",
    "filter_lengths = create_hdf5_filter_key(hdf5_path=hdf5_path, demo_keys=filter_keys, key_name=filter_name)\n",
    "\n",
    "\n",
    "filter_keys=sorted([elem for elem in goodgray5])\n",
    "filter_name='goodgray5'\n",
    "filter_lengths = create_hdf5_filter_key(hdf5_path=hdf5_path, demo_keys=filter_keys, key_name=filter_name)\n",
    "\n",
    "\n",
    "filter_keys=sorted([elem for elem in goodgray10])\n",
    "filter_name='goodgray10'\n",
    "filter_lengths = create_hdf5_filter_key(hdf5_path=hdf5_path, demo_keys=filter_keys, key_name=filter_name)"
   ]
  },
  {
   "cell_type": "code",
   "execution_count": 31,
   "id": "b91ababc",
   "metadata": {},
   "outputs": [],
   "source": [
    "f.close()"
   ]
  },
  {
   "cell_type": "code",
   "execution_count": null,
   "id": "52059319",
   "metadata": {},
   "outputs": [],
   "source": []
  },
  {
   "cell_type": "code",
   "execution_count": 12,
   "id": "ff32467f",
   "metadata": {},
   "outputs": [
    {
     "data": {
      "text/plain": [
       "array([-117.13325644, -137.97657021,  -30.3125    ,    0.        ,\n",
       "          0.        ,  -30.        ,   -1.        ])"
      ]
     },
     "execution_count": 12,
     "metadata": {},
     "output_type": "execute_result"
    }
   ],
   "source": [
    "np.array(f['mins'])"
   ]
  },
  {
   "cell_type": "code",
   "execution_count": 13,
   "id": "44a07302",
   "metadata": {},
   "outputs": [
    {
     "data": {
      "text/plain": [
       "array([1.38379805e+02, 1.75085897e+02, 1.34375000e+01, 1.00000000e-08,\n",
       "       1.00000000e-08, 6.50000000e+01, 1.00000001e+00])"
      ]
     },
     "execution_count": 13,
     "metadata": {},
     "output_type": "execute_result"
    }
   ],
   "source": [
    "np.array(f['maxs'])"
   ]
  },
  {
   "cell_type": "code",
   "execution_count": null,
   "id": "5bfad78a",
   "metadata": {},
   "outputs": [],
   "source": []
  },
  {
   "cell_type": "code",
   "execution_count": 24,
   "id": "5986cf1b",
   "metadata": {},
   "outputs": [],
   "source": [
    "# # save stats to f as another key\n",
    "# dataset_path = \"/home/ns1254/data_robomimic/lift/ns/lift_image81_norm.hdf5\"\n",
    "# f = h5py.File(dataset_path, \"a\")\n",
    "# # f.create_dataset('stats', data=stats)\n",
    "# f.create_dataset('mins', data=mins)\n",
    "# f.create_dataset('maxs', data=maxs)\n",
    "# f.close()"
   ]
  },
  {
   "cell_type": "code",
   "execution_count": null,
   "id": "02b5c777",
   "metadata": {},
   "outputs": [],
   "source": []
  },
  {
   "attachments": {},
   "cell_type": "markdown",
   "id": "4f9c48ca",
   "metadata": {},
   "source": [
    "### create groups"
   ]
  },
  {
   "cell_type": "code",
   "execution_count": 18,
   "id": "c651c8da",
   "metadata": {},
   "outputs": [],
   "source": [
    "names=\"\"\"\n",
    "demo_12.mp4\n",
    "demo_14.mp4\n",
    "demo_18.mp4\n",
    "demo_19.mp4\n",
    "demo_22.mp4\n",
    "demo_23.mp4\n",
    "demo_24.mp4\n",
    "demo_26.mp4\n",
    "demo_28.mp4\n",
    "demo_29.mp4\n",
    "demo_2.mp4\n",
    "demo_30.mp4\n",
    "demo_31.mp4\n",
    "demo_34.mp4\n",
    "demo_36.mp4\n",
    "demo_39.mp4\n",
    "demo_40.mp4\n",
    "demo_42.mp4\n",
    "demo_43.mp4\n",
    "demo_44.mp4\n",
    "demo_46.mp4\n",
    "demo_47.mp4\n",
    "demo_49.mp4\n",
    "demo_4.mp4\n",
    "demo_53.mp4\n",
    "demo_54.mp4\n",
    "demo_55.mp4\n",
    "demo_61.mp4\n",
    "demo_62.mp4\n",
    "demo_63.mp4\n",
    "demo_64.mp4\n",
    "demo_65.mp4\n",
    "demo_66.mp4\n",
    "demo_68.mp4\n",
    "demo_6.mp4\n",
    "demo_70.mp4\n",
    "demo_71.mp4\n",
    "demo_72.mp4\n",
    "demo_74.mp4\n",
    "demo_75.mp4\n",
    "demo_76.mp4\n",
    "demo_79.mp4\n",
    "demo_7.mp4\n",
    "demo_80.mp4\n",
    "demo_8.mp4\n",
    "\"\"\""
   ]
  },
  {
   "cell_type": "code",
   "execution_count": 19,
   "id": "8b00b522",
   "metadata": {},
   "outputs": [
    {
     "data": {
      "text/plain": [
       "(45, ['demo_12', 'demo_14', 'demo_18', 'demo_19', 'demo_22'])"
      ]
     },
     "execution_count": 19,
     "metadata": {},
     "output_type": "execute_result"
    }
   ],
   "source": [
    "demo_ids  = [line.replace(\".mp4\", \"\") for line in names.strip().split('\\n')]\n",
    "len(demo_ids), demo_ids[:5]"
   ]
  },
  {
   "cell_type": "code",
   "execution_count": null,
   "id": "0bba37d5",
   "metadata": {},
   "outputs": [],
   "source": []
  },
  {
   "cell_type": "code",
   "execution_count": 20,
   "id": "fbc82614",
   "metadata": {},
   "outputs": [],
   "source": [
    "good_demos=demo_ids\n",
    "good_demos=np.array(good_demos, dtype='S8')\n",
    "\n",
    "hdf5_path=dataset_path\n",
    "\n",
    "filter_keys=sorted([elem for elem in good_demos])\n",
    "filter_name='good'\n",
    "filter_lengths = create_hdf5_filter_key(hdf5_path=hdf5_path, demo_keys=filter_keys, key_name=filter_name)"
   ]
  },
  {
   "cell_type": "code",
   "execution_count": 22,
   "id": "a7b10328",
   "metadata": {},
   "outputs": [
    {
     "data": {
      "text/plain": [
       "(22, ['demo_10', 'demo_11', 'demo_13', 'demo_16', 'demo_17'])"
      ]
     },
     "execution_count": 22,
     "metadata": {},
     "output_type": "execute_result"
    }
   ],
   "source": [
    "names_bad=\"\"\"\n",
    "demo_10.mp4\n",
    "demo_11.mp4\n",
    "demo_13.mp4\n",
    "demo_16.mp4\n",
    "demo_17.mp4\n",
    "demo_1.mp4\n",
    "demo_20.mp4\n",
    "demo_21.mp4\n",
    "demo_25.mp4\n",
    "demo_27.mp4\n",
    "demo_35.mp4\n",
    "demo_3.mp4\n",
    "demo_41.mp4\n",
    "demo_45.mp4\n",
    "demo_51.mp4\n",
    "demo_52.mp4\n",
    "demo_56.mp4\n",
    "demo_57.mp4\n",
    "demo_59.mp4\n",
    "demo_60.mp4\n",
    "demo_67.mp4\n",
    "demo_69.mp4\n",
    "\"\"\"\n",
    "\n",
    "demo_ids  = [line.replace(\".mp4\", \"\") for line in names_bad.strip().split('\\n')]\n",
    "len(demo_ids), demo_ids[:5]"
   ]
  },
  {
   "cell_type": "code",
   "execution_count": 23,
   "id": "d17924dd",
   "metadata": {},
   "outputs": [],
   "source": [
    "bad_demos=demo_ids\n",
    "bad_demos=np.array(bad_demos, dtype='S8')\n",
    "\n",
    "hdf5_path=dataset_path\n",
    "\n",
    "filter_keys=sorted([elem for elem in bad_demos])\n",
    "filter_name='bad'\n",
    "filter_lengths = create_hdf5_filter_key(hdf5_path=hdf5_path, demo_keys=filter_keys, key_name=filter_name)"
   ]
  },
  {
   "cell_type": "code",
   "execution_count": 24,
   "id": "6d9682b8",
   "metadata": {},
   "outputs": [
    {
     "data": {
      "text/plain": [
       "(14, ['demo_15', 'demo_32', 'demo_33', 'demo_37', 'demo_38'])"
      ]
     },
     "execution_count": 24,
     "metadata": {},
     "output_type": "execute_result"
    }
   ],
   "source": [
    "names_bad=\"\"\"\n",
    "demo_15.mp4\n",
    "demo_32.mp4\n",
    "demo_33.mp4\n",
    "demo_37.mp4\n",
    "demo_38.mp4\n",
    "demo_48.mp4\n",
    "demo_50.mp4\n",
    "demo_58.mp4\n",
    "demo_5.mp4\n",
    "demo_73.mp4\n",
    "demo_77.mp4\n",
    "demo_78.mp4\n",
    "demo_81.mp4\n",
    "demo_9.mp4\n",
    "\"\"\"\n",
    "\n",
    "demo_ids  = [line.replace(\".mp4\", \"\") for line in names_bad.strip().split('\\n')]\n",
    "len(demo_ids), demo_ids[:5]"
   ]
  },
  {
   "cell_type": "code",
   "execution_count": 25,
   "id": "7c8a3c53",
   "metadata": {},
   "outputs": [],
   "source": [
    "gray_demos=demo_ids\n",
    "gray_demos=np.array(gray_demos, dtype='S8')\n",
    "\n",
    "hdf5_path=dataset_path\n",
    "\n",
    "filter_keys=sorted([elem for elem in gray_demos])\n",
    "filter_name='gray'\n",
    "filter_lengths = create_hdf5_filter_key(hdf5_path=hdf5_path, demo_keys=filter_keys, key_name=filter_name)"
   ]
  },
  {
   "cell_type": "code",
   "execution_count": 14,
   "id": "111fa6d9",
   "metadata": {},
   "outputs": [],
   "source": [
    "f.close()"
   ]
  },
  {
   "cell_type": "code",
   "execution_count": null,
   "id": "a99f196b",
   "metadata": {},
   "outputs": [],
   "source": []
  },
  {
   "cell_type": "code",
   "execution_count": null,
   "id": "31a3324b",
   "metadata": {},
   "outputs": [],
   "source": []
  },
  {
   "cell_type": "code",
   "execution_count": null,
   "id": "d1d2cd1b",
   "metadata": {},
   "outputs": [],
   "source": []
  },
  {
   "cell_type": "markdown",
   "id": "6b122f5e",
   "metadata": {},
   "source": [
    "### verify"
   ]
  },
  {
   "cell_type": "code",
   "execution_count": 10,
   "id": "64e32bc6",
   "metadata": {},
   "outputs": [
    {
     "name": "stdout",
     "output_type": "stream",
     "text": [
      "Number of demos:  81\n",
      "Max length:  628\n",
      "Min length:  84\n",
      "Mean length:  223.07407407407408\n"
     ]
    }
   ],
   "source": [
    "f = h5py.File(dataset_path, \"r\")\n",
    "demos = list(f[\"data\"].keys())\n",
    "  \n",
    "lengths=[]\n",
    "for demo_name in demos:\n",
    "    demo=f['data'][demo_name]\n",
    "    num_samples=demo.attrs['num_samples']\n",
    "    lengths.append(num_samples)\n",
    "\n",
    "lengths=np.array(lengths)\n",
    "\n",
    "print('Number of demos: ', len(demos))\n",
    "print('Max length: ', np.max(lengths))\n",
    "print('Min length: ', np.min(lengths))\n",
    "print('Mean length: ', np.mean(lengths))"
   ]
  },
  {
   "cell_type": "code",
   "execution_count": 11,
   "id": "ec028bef",
   "metadata": {},
   "outputs": [
    {
     "name": "stdout",
     "output_type": "stream",
     "text": [
      "Number of demos to clip:  0\n"
     ]
    }
   ],
   "source": [
    "ids_toclip=[]\n",
    "for demo_name in demos:\n",
    "    demo=f['data'][demo_name]\n",
    "    actions=np.array(demo['actions'])\n",
    "    if np.min(actions)<-1 or np.max(actions)>1:\n",
    "        ids_toclip.append(demo_name)\n",
    "\n",
    "print('Number of demos to clip: ', len(ids_toclip))"
   ]
  },
  {
   "cell_type": "code",
   "execution_count": 12,
   "id": "14bb6396",
   "metadata": {},
   "outputs": [],
   "source": [
    "f.close()"
   ]
  },
  {
   "cell_type": "code",
   "execution_count": null,
   "id": "ce2e4074",
   "metadata": {},
   "outputs": [],
   "source": []
  },
  {
   "cell_type": "code",
   "execution_count": null,
   "id": "1dccf39b",
   "metadata": {},
   "outputs": [],
   "source": []
  },
  {
   "cell_type": "code",
   "execution_count": null,
   "id": "6a72e323",
   "metadata": {},
   "outputs": [],
   "source": []
  }
 ],
 "metadata": {
  "kernelspec": {
   "display_name": "robomimic_venv",
   "language": "python",
   "name": "python3"
  },
  "language_info": {
   "codemirror_mode": {
    "name": "ipython",
    "version": 3
   },
   "file_extension": ".py",
   "mimetype": "text/x-python",
   "name": "python",
   "nbconvert_exporter": "python",
   "pygments_lexer": "ipython3",
   "version": "3.8.17"
  },
  "vscode": {
   "interpreter": {
    "hash": "0470c1ad2f0fb27cfc2238567a653f05115d47bf4fc5f86d0f161d89abc1f79a"
   }
  }
 },
 "nbformat": 4,
 "nbformat_minor": 5
}
