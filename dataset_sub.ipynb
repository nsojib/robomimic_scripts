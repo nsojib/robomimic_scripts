{
 "cells": [
  {
   "cell_type": "code",
   "execution_count": 1,
   "metadata": {},
   "outputs": [
    {
     "name": "stdout",
     "output_type": "stream",
     "text": [
      "\u001b[33mROBOMIMIC WARNING(\n",
      "    No private macro file found!\n",
      "    It is recommended to use a private macro file\n",
      "    To setup, run: python /home/ns1254/mimicgen/envs/robomimic/robomimic/scripts/setup_macros.py\n",
      ")\u001b[0m\n"
     ]
    }
   ],
   "source": [
    "import os\n",
    "import json\n",
    "import h5py\n",
    "import numpy as np\n",
    "\n",
    "import robomimic\n",
    "import robomimic.utils.file_utils as FileUtils\n",
    "import robomimic.utils.env_utils as EnvUtils\n",
    "import robomimic.utils.obs_utils as ObsUtils\n",
    "import imageio\n",
    "import tqdm\n",
    "from robomimic.utils.file_utils import create_hdf5_filter_key"
   ]
  },
  {
   "cell_type": "code",
   "execution_count": null,
   "metadata": {},
   "outputs": [],
   "source": []
  },
  {
   "cell_type": "code",
   "execution_count": 2,
   "metadata": {},
   "outputs": [],
   "source": [
    "# dataset_path = \"/home/ns1254/robomimic/datasets/square/mh/image_v141.hdf5\"\n",
    "# dataset_path = \"/home/ns1254/robomimic/datasets/can/mh/image_v141.hdf5\"\n",
    "# dataset_path = \"/home/ns1254/dataset_mimicgen/kitchen82_31.hdf5\"\n",
    "# dataset_path = \"/home/ns1254/dataset_mimicgen/coffee_gfs_109_2.hdf5\"\n",
    "\n",
    "# dataset_path = \"/home/ns1254/robomimic/datasets/can/ph/image_v141.hdf5\"\n",
    "# dataset_path = \"/home/ns1254/robomimic/datasets/lift/ph/image_v141.hdf5\"\n",
    "\n",
    "dataset_path = \"/home/ns1254/data_franka/franka_bellpepper_g80.hdf5\"\n",
    "\n",
    "f_org = h5py.File(dataset_path, \"r\")\n",
    "demos = list(f_org[\"data\"].keys())"
   ]
  },
  {
   "cell_type": "code",
   "execution_count": null,
   "metadata": {},
   "outputs": [],
   "source": []
  },
  {
   "cell_type": "code",
   "execution_count": 3,
   "metadata": {},
   "outputs": [
    {
     "name": "stdout",
     "output_type": "stream",
     "text": [
      "Number of demos:  80\n",
      "Max length:  237\n",
      "Min length:  113\n",
      "Mean length:  157.8625\n"
     ]
    }
   ],
   "source": [
    "lengths=[]\n",
    "for demo_name in demos:\n",
    "    demo=f_org['data'][demo_name]\n",
    "    num_samples=demo.attrs['num_samples']\n",
    "    lengths.append(num_samples)\n",
    "\n",
    "lengths=np.array(lengths)\n",
    "\n",
    "print('Number of demos: ', len(demos))\n",
    "print('Max length: ', np.max(lengths))\n",
    "print('Min length: ', np.min(lengths))\n",
    "print('Mean length: ', np.mean(lengths))"
   ]
  },
  {
   "cell_type": "code",
   "execution_count": 4,
   "metadata": {},
   "outputs": [
    {
     "data": {
      "text/plain": [
       "<KeysViewHDF5 ['good']>"
      ]
     },
     "execution_count": 4,
     "metadata": {},
     "output_type": "execute_result"
    }
   ],
   "source": [
    "f_org['mask'].keys()"
   ]
  },
  {
   "cell_type": "code",
   "execution_count": 5,
   "metadata": {},
   "outputs": [
    {
     "data": {
      "text/plain": [
       "['demo_0', 'demo_1', 'demo_10']"
      ]
     },
     "execution_count": 5,
     "metadata": {},
     "output_type": "execute_result"
    }
   ],
   "source": [
    "demos[:3]"
   ]
  },
  {
   "cell_type": "code",
   "execution_count": 6,
   "metadata": {},
   "outputs": [
    {
     "data": {
      "text/plain": [
       "<KeysViewHDF5 ['good']>"
      ]
     },
     "execution_count": 6,
     "metadata": {},
     "output_type": "execute_result"
    }
   ],
   "source": [
    "f_org['mask'].keys()"
   ]
  },
  {
   "cell_type": "code",
   "execution_count": 7,
   "metadata": {},
   "outputs": [
    {
     "data": {
      "text/plain": [
       "(40, 36, 4)"
      ]
     },
     "execution_count": 7,
     "metadata": {},
     "output_type": "execute_result"
    }
   ],
   "source": [
    "demos=[demo.decode('utf-8') for demo in f_org['mask']['20_percent']]\n",
    "demos1=[demo.decode('utf-8') for demo in f_org['mask']['20_percent_train']]\n",
    "demos2=[demo.decode('utf-8') for demo in f_org['mask']['20_percent_valid']]\n",
    "len(demos), len(demos1), len(demos2)"
   ]
  },
  {
   "cell_type": "code",
   "execution_count": 7,
   "metadata": {},
   "outputs": [],
   "source": [
    "demos =[demo.decode('utf-8') for demo in f_org['mask']['good']]"
   ]
  },
  {
   "cell_type": "code",
   "execution_count": 8,
   "metadata": {},
   "outputs": [],
   "source": [
    "# good_demos1=[demo.decode('utf-8') for demo in f_org['mask']['better_operator_1']]\n",
    "# good_demos2=[demo.decode('utf-8') for demo in f_org['mask']['better_operator_2']]\n",
    "# len(good_demos1), len(good_demos2)"
   ]
  },
  {
   "cell_type": "code",
   "execution_count": 8,
   "metadata": {},
   "outputs": [],
   "source": [
    "demos=sorted(demos, key=lambda x: int(x.split('_')[-1]))"
   ]
  },
  {
   "cell_type": "code",
   "execution_count": 10,
   "metadata": {},
   "outputs": [
    {
     "data": {
      "text/plain": [
       "(['demo_0',\n",
       "  'demo_1',\n",
       "  'demo_2',\n",
       "  'demo_3',\n",
       "  'demo_4',\n",
       "  'demo_5',\n",
       "  'demo_6',\n",
       "  'demo_7',\n",
       "  'demo_8',\n",
       "  'demo_9',\n",
       "  'demo_10',\n",
       "  'demo_11',\n",
       "  'demo_12',\n",
       "  'demo_13',\n",
       "  'demo_14',\n",
       "  'demo_15',\n",
       "  'demo_16',\n",
       "  'demo_17',\n",
       "  'demo_18',\n",
       "  'demo_19',\n",
       "  'demo_20',\n",
       "  'demo_21',\n",
       "  'demo_22',\n",
       "  'demo_23',\n",
       "  'demo_24',\n",
       "  'demo_25',\n",
       "  'demo_26',\n",
       "  'demo_27',\n",
       "  'demo_28',\n",
       "  'demo_29',\n",
       "  'demo_30',\n",
       "  'demo_31',\n",
       "  'demo_32',\n",
       "  'demo_33',\n",
       "  'demo_34',\n",
       "  'demo_35',\n",
       "  'demo_36',\n",
       "  'demo_37',\n",
       "  'demo_38',\n",
       "  'demo_39',\n",
       "  'demo_40',\n",
       "  'demo_41',\n",
       "  'demo_42',\n",
       "  'demo_43',\n",
       "  'demo_44',\n",
       "  'demo_45',\n",
       "  'demo_46',\n",
       "  'demo_47',\n",
       "  'demo_48',\n",
       "  'demo_49',\n",
       "  'demo_50',\n",
       "  'demo_51',\n",
       "  'demo_52',\n",
       "  'demo_53',\n",
       "  'demo_54',\n",
       "  'demo_55',\n",
       "  'demo_56',\n",
       "  'demo_57',\n",
       "  'demo_58',\n",
       "  'demo_59',\n",
       "  'demo_60',\n",
       "  'demo_61',\n",
       "  'demo_62',\n",
       "  'demo_63',\n",
       "  'demo_64',\n",
       "  'demo_65',\n",
       "  'demo_66',\n",
       "  'demo_67',\n",
       "  'demo_68',\n",
       "  'demo_69',\n",
       "  'demo_70',\n",
       "  'demo_71',\n",
       "  'demo_72',\n",
       "  'demo_73',\n",
       "  'demo_74',\n",
       "  'demo_75',\n",
       "  'demo_76',\n",
       "  'demo_77',\n",
       "  'demo_78',\n",
       "  'demo_79'],\n",
       " 80)"
      ]
     },
     "execution_count": 10,
     "metadata": {},
     "output_type": "execute_result"
    }
   ],
   "source": [
    "good_demos=demos\n",
    "good_demos, len(good_demos)"
   ]
  },
  {
   "cell_type": "code",
   "execution_count": null,
   "metadata": {},
   "outputs": [],
   "source": []
  },
  {
   "cell_type": "code",
   "execution_count": 11,
   "metadata": {},
   "outputs": [
    {
     "data": {
      "text/plain": [
       "80"
      ]
     },
     "execution_count": 11,
     "metadata": {},
     "output_type": "execute_result"
    }
   ],
   "source": [
    "len(demos)"
   ]
  },
  {
   "cell_type": "code",
   "execution_count": 12,
   "metadata": {},
   "outputs": [],
   "source": [
    "# f_org.close()"
   ]
  },
  {
   "cell_type": "code",
   "execution_count": 12,
   "metadata": {},
   "outputs": [
    {
     "data": {
      "text/plain": [
       "80"
      ]
     },
     "execution_count": 12,
     "metadata": {},
     "output_type": "execute_result"
    }
   ],
   "source": [
    "# demos2copy=[demo.decode('utf-8') for demo in f_org['mask']['20_percent']] \n",
    "demos2copy=good_demos \n",
    "# demos2copy=demos2\n",
    "len(demos2copy)"
   ]
  },
  {
   "cell_type": "code",
   "execution_count": 13,
   "metadata": {},
   "outputs": [
    {
     "data": {
      "text/plain": [
       "['demo_0', 'demo_1', 'demo_2', 'demo_3', 'demo_4']"
      ]
     },
     "execution_count": 13,
     "metadata": {},
     "output_type": "execute_result"
    }
   ],
   "source": [
    "demos2copy[:5]"
   ]
  },
  {
   "cell_type": "code",
   "execution_count": 14,
   "metadata": {},
   "outputs": [],
   "source": [
    "# fn='/home/ns/collect_robomimic_demos/PickPlaceCan_02_09_2024_04_37PM_sojib/videos/expert/expert2.txt'\n",
    "# with open(fn, 'r') as f:\n",
    "#     file_demos = f.readlines()\n",
    "# demos = [x.strip().replace(\".mp4\",\"\").strip() for x in file_demos]\n",
    "# len(demos), demos[:5]"
   ]
  },
  {
   "cell_type": "code",
   "execution_count": 15,
   "metadata": {},
   "outputs": [
    {
     "data": {
      "text/plain": [
       "<KeysViewHDF5 ['agentview_rgb', 'agentview_rgb_depth', 'ee_states', 'eye_in_hand_rgb', 'eye_in_hand_rgb_depth', 'gripper_states', 'joint_states']>"
      ]
     },
     "execution_count": 15,
     "metadata": {},
     "output_type": "execute_result"
    }
   ],
   "source": [
    "demo_name = \"demo_1\"\n",
    "b_demo=f_org['data'][demo_name]\n",
    "obss = b_demo['obs']\n",
    "obss.keys()"
   ]
  },
  {
   "cell_type": "code",
   "execution_count": 18,
   "metadata": {},
   "outputs": [
    {
     "data": {
      "text/plain": [
       "(145, 128, 128, 1)"
      ]
     },
     "execution_count": 18,
     "metadata": {},
     "output_type": "execute_result"
    }
   ],
   "source": [
    "dps = obss['agentview_rgb_depth'][:].reshape(-1, 128, 128, 1)\n",
    "dps.shape"
   ]
  },
  {
   "cell_type": "code",
   "execution_count": null,
   "metadata": {},
   "outputs": [],
   "source": []
  },
  {
   "cell_type": "code",
   "execution_count": null,
   "metadata": {},
   "outputs": [],
   "source": []
  },
  {
   "cell_type": "code",
   "execution_count": 19,
   "metadata": {},
   "outputs": [
    {
     "data": {
      "text/plain": [
       "'/home/ns1254/data_franka/franka_bellpepper_g80_sub.hdf5'"
      ]
     },
     "execution_count": 19,
     "metadata": {},
     "output_type": "execute_result"
    }
   ],
   "source": [
    "dataset_path_sub =dataset_path\n",
    "dataset_path_sub=dataset_path_sub.replace(\".hdf5\", \"\")+\"_sub.hdf5\"\n",
    "dataset_path_sub"
   ]
  },
  {
   "cell_type": "code",
   "execution_count": 20,
   "metadata": {},
   "outputs": [],
   "source": [
    "f_sub = h5py.File(dataset_path_sub, \"w\")"
   ]
  },
  {
   "cell_type": "code",
   "execution_count": 21,
   "metadata": {},
   "outputs": [
    {
     "data": {
      "text/plain": [
       "80"
      ]
     },
     "execution_count": 21,
     "metadata": {},
     "output_type": "execute_result"
    }
   ],
   "source": [
    "keys_to_copy=demos2copy\n",
    "len(keys_to_copy)"
   ]
  },
  {
   "cell_type": "code",
   "execution_count": 22,
   "metadata": {},
   "outputs": [
    {
     "data": {
      "text/plain": [
       "<HDF5 group \"/mask\" (0 members)>"
      ]
     },
     "execution_count": 22,
     "metadata": {},
     "output_type": "execute_result"
    }
   ],
   "source": [
    "f_sub.create_group(\"data\")\n",
    "f_sub.create_group(\"mask\")"
   ]
  },
  {
   "cell_type": "code",
   "execution_count": 22,
   "metadata": {},
   "outputs": [],
   "source": [
    "# attrs=f_org[\"data\"].attrs[\"env_args\"]\n",
    "# f_sub[\"data\"].attrs[\"env_args\"] = attrs"
   ]
  },
  {
   "cell_type": "code",
   "execution_count": null,
   "metadata": {},
   "outputs": [],
   "source": []
  },
  {
   "cell_type": "code",
   "execution_count": 23,
   "metadata": {},
   "outputs": [
    {
     "name": "stderr",
     "output_type": "stream",
     "text": [
      "100%|██████████| 80/80 [00:02<00:00, 37.38it/s]\n"
     ]
    }
   ],
   "source": [
    "i=0\n",
    "demos=[]\n",
    "for demo_name in tqdm.tqdm(keys_to_copy):\n",
    "    b_demo=f_org['data'][demo_name]\n",
    "    num_samples=b_demo.attrs['num_samples']\n",
    "    # model_file=b_demo.attrs['model_file']\n",
    "\n",
    "    bdemo_name=\"demo_\"+str(i)\n",
    "    demos.append(bdemo_name)\n",
    "    i = i+1\n",
    "\n",
    "    f_sub[\"data\"].create_group(bdemo_name)\n",
    "\n",
    "\n",
    "    ks=['actions']\n",
    "    for k in ks:\n",
    "        kdata = b_demo[k]\n",
    "        f_sub[\"data\"][bdemo_name].create_dataset(k, data=kdata)\n",
    "\n",
    "    obs_keys =b_demo['obs'].keys()\n",
    "    # next_obs_keys=b_demo['next_obs'].keys()\n",
    "    for k in obs_keys:\n",
    "        if '_depth' in k:\n",
    "            kdata = b_demo['obs'][k][:].reshape(-1, 128, 128, 1) \n",
    "        else:\n",
    "            kdata = b_demo['obs'][k]\n",
    "        f_sub[\"data\"][bdemo_name].create_dataset(f'obs/{k}', data=kdata)\n",
    "    # for k in next_obs_keys:\n",
    "    #     kdata = b_demo['next_obs'][k]\n",
    "    #     f_sub[\"data\"][bdemo_name].create_dataset(f'next_obs/{k}', data=kdata)\n",
    "\n",
    "    f_sub[\"data\"][bdemo_name].attrs[\"num_samples\"] = num_samples\n",
    "    # f_sub[\"data\"][bdemo_name].attrs[\"model_file\"] = model_file\n",
    " \n",
    "# f_sub.close()\n",
    "# f_org.close()"
   ]
  },
  {
   "cell_type": "code",
   "execution_count": 22,
   "metadata": {},
   "outputs": [],
   "source": [
    "# demos"
   ]
  },
  {
   "cell_type": "code",
   "execution_count": 24,
   "metadata": {},
   "outputs": [
    {
     "data": {
      "text/plain": [
       "((80,), array([b'demo_0', b'demo_1', b'demo_2', b'demo_3'], dtype='|S8'))"
      ]
     },
     "execution_count": 24,
     "metadata": {},
     "output_type": "execute_result"
    }
   ],
   "source": [
    "# demos=demos2copy\n",
    "demos= np.array(demos, dtype='S8')  \n",
    "demos.shape, demos[:4]"
   ]
  },
  {
   "cell_type": "code",
   "execution_count": 25,
   "metadata": {},
   "outputs": [],
   "source": [
    "hdf5_path=dataset_path_sub \n",
    "\n",
    "filter_keys=sorted([elem for elem in demos])\n",
    "filter_name=\"good\"\n",
    "filter_lengths = create_hdf5_filter_key(hdf5_path=hdf5_path, demo_keys=filter_keys, key_name=filter_name)"
   ]
  },
  {
   "cell_type": "code",
   "execution_count": 26,
   "metadata": {},
   "outputs": [
    {
     "data": {
      "text/plain": [
       "<KeysViewHDF5 ['good']>"
      ]
     },
     "execution_count": 26,
     "metadata": {},
     "output_type": "execute_result"
    }
   ],
   "source": [
    "f_sub['mask'].keys()"
   ]
  },
  {
   "cell_type": "code",
   "execution_count": 36,
   "metadata": {},
   "outputs": [],
   "source": [
    "# [demo.decode('utf-8') for demo in f_sub['mask']['20_percent_train'] ] "
   ]
  },
  {
   "cell_type": "code",
   "execution_count": 28,
   "metadata": {},
   "outputs": [
    {
     "data": {
      "text/plain": [
       "(156, 128, 128, 1)"
      ]
     },
     "execution_count": 28,
     "metadata": {},
     "output_type": "execute_result"
    }
   ],
   "source": [
    "obss = f_sub['data'][demos[0]]['obs']\n",
    "obss['agentview_rgb_depth'].shape"
   ]
  },
  {
   "cell_type": "code",
   "execution_count": null,
   "metadata": {},
   "outputs": [],
   "source": []
  },
  {
   "cell_type": "code",
   "execution_count": 29,
   "metadata": {},
   "outputs": [],
   "source": [
    "f_sub.close()\n",
    "f_org.close()"
   ]
  },
  {
   "cell_type": "code",
   "execution_count": 23,
   "metadata": {},
   "outputs": [
    {
     "data": {
      "text/plain": [
       "30"
      ]
     },
     "execution_count": 23,
     "metadata": {},
     "output_type": "execute_result"
    }
   ],
   "source": [
    "i"
   ]
  },
  {
   "cell_type": "code",
   "execution_count": null,
   "metadata": {},
   "outputs": [],
   "source": []
  },
  {
   "cell_type": "code",
   "execution_count": 2,
   "metadata": {},
   "outputs": [],
   "source": [
    "dataset_path = \"/home/ns1254/robomimic/datasets/can/ph/can_ph_image_20p.hdf5\""
   ]
  },
  {
   "cell_type": "code",
   "execution_count": 3,
   "metadata": {},
   "outputs": [],
   "source": [
    "f_org = h5py.File(dataset_path, \"r+\")\n",
    "demos = list(f_org[\"data\"].keys())"
   ]
  },
  {
   "cell_type": "code",
   "execution_count": 9,
   "metadata": {},
   "outputs": [],
   "source": [
    "problem_info='{\"problem_name\": \"robomimic_can_ph\", \"domain_name\": \"robosuite\", \"language_instruction\": \"pick up the coke and place it on the bottom right corner.\"}'"
   ]
  },
  {
   "cell_type": "code",
   "execution_count": 10,
   "metadata": {},
   "outputs": [],
   "source": [
    "f_org[\"data\"].attrs[\"problem_info\"] = problem_info"
   ]
  },
  {
   "cell_type": "code",
   "execution_count": 11,
   "metadata": {},
   "outputs": [
    {
     "data": {
      "text/plain": [
       "<KeysViewHDF5 ['env_args', 'problem_info']>"
      ]
     },
     "execution_count": 11,
     "metadata": {},
     "output_type": "execute_result"
    }
   ],
   "source": [
    "f_org[\"data\"].attrs.keys()"
   ]
  },
  {
   "cell_type": "code",
   "execution_count": 12,
   "metadata": {},
   "outputs": [
    {
     "data": {
      "text/plain": [
       "'pick up the coke and place it on the bottom right corner.'"
      ]
     },
     "execution_count": 12,
     "metadata": {},
     "output_type": "execute_result"
    }
   ],
   "source": [
    "problem_info = json.loads(f_org[\"data\"].attrs[\"problem_info\"])\n",
    "language_instruction = \"\".join(problem_info[\"language_instruction\"])\n",
    "language_instruction"
   ]
  },
  {
   "cell_type": "code",
   "execution_count": 13,
   "metadata": {},
   "outputs": [],
   "source": [
    "f_org.close()"
   ]
  },
  {
   "cell_type": "code",
   "execution_count": null,
   "metadata": {},
   "outputs": [],
   "source": []
  }
 ],
 "metadata": {
  "kernelspec": {
   "display_name": "Python 3",
   "language": "python",
   "name": "python3"
  },
  "language_info": {
   "codemirror_mode": {
    "name": "ipython",
    "version": 3
   },
   "file_extension": ".py",
   "mimetype": "text/x-python",
   "name": "python",
   "nbconvert_exporter": "python",
   "pygments_lexer": "ipython3",
   "version": "3.8.19"
  },
  "orig_nbformat": 4
 },
 "nbformat": 4,
 "nbformat_minor": 2
}
