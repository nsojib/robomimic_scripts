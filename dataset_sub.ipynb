{
 "cells": [
  {
   "cell_type": "code",
   "execution_count": 1,
   "metadata": {},
   "outputs": [],
   "source": [
    "import os\n",
    "import json\n",
    "import h5py\n",
    "import numpy as np\n",
    "\n",
    "import robomimic\n",
    "import robomimic.utils.file_utils as FileUtils\n",
    "import robomimic.utils.env_utils as EnvUtils\n",
    "import robomimic.utils.obs_utils as ObsUtils\n",
    "import imageio\n",
    "import tqdm\n",
    "from robomimic.utils.file_utils import create_hdf5_filter_key"
   ]
  },
  {
   "cell_type": "code",
   "execution_count": 2,
   "metadata": {},
   "outputs": [],
   "source": [
    "# dataset_path = \"/home/ns/robosuite/collects/1705258813_3304067/can_jan14_image_166.hdf5\"\n",
    "dataset_path = \"/home/ns/collect_robomimic_demos/Lift_01_30_2024_05_03PM_sojib/demo_image.hdf5\"\n",
    "f_org = h5py.File(dataset_path, \"r\")\n",
    "demos = list(f_org[\"data\"].keys())"
   ]
  },
  {
   "cell_type": "code",
   "execution_count": 3,
   "metadata": {},
   "outputs": [
    {
     "name": "stdout",
     "output_type": "stream",
     "text": [
      "Number of demos:  100\n",
      "Max length:  206\n",
      "Min length:  116\n",
      "Mean length:  139.51\n"
     ]
    }
   ],
   "source": [
    "lengths=[]\n",
    "for demo_name in demos:\n",
    "    demo=f_org['data'][demo_name]\n",
    "    num_samples=demo.attrs['num_samples']\n",
    "    lengths.append(num_samples)\n",
    "\n",
    "lengths=np.array(lengths)\n",
    "\n",
    "print('Number of demos: ', len(demos))\n",
    "print('Max length: ', np.max(lengths))\n",
    "print('Min length: ', np.min(lengths))\n",
    "print('Mean length: ', np.mean(lengths))"
   ]
  },
  {
   "cell_type": "code",
   "execution_count": 4,
   "metadata": {},
   "outputs": [
    {
     "data": {
      "text/plain": [
       "['demo-True_1', 'demo-True_10', 'demo-True_100']"
      ]
     },
     "execution_count": 4,
     "metadata": {},
     "output_type": "execute_result"
    }
   ],
   "source": [
    "demos[:3]"
   ]
  },
  {
   "cell_type": "code",
   "execution_count": 5,
   "metadata": {},
   "outputs": [
    {
     "data": {
      "text/plain": [
       "100"
      ]
     },
     "execution_count": 5,
     "metadata": {},
     "output_type": "execute_result"
    }
   ],
   "source": [
    "len(demos)"
   ]
  },
  {
   "cell_type": "code",
   "execution_count": 8,
   "metadata": {},
   "outputs": [
    {
     "data": {
      "text/plain": [
       "100"
      ]
     },
     "execution_count": 8,
     "metadata": {},
     "output_type": "execute_result"
    }
   ],
   "source": [
    "# demos2copy=[demo.decode('utf-8') for demo in f_org['mask']['expert']] \n",
    "demos2copy=demos\n",
    "len(demos2copy)"
   ]
  },
  {
   "cell_type": "code",
   "execution_count": 9,
   "metadata": {},
   "outputs": [
    {
     "data": {
      "text/plain": [
       "['demo-True_1',\n",
       " 'demo-True_10',\n",
       " 'demo-True_100',\n",
       " 'demo-True_11',\n",
       " 'demo-True_12',\n",
       " 'demo-True_13',\n",
       " 'demo-True_14',\n",
       " 'demo-True_15',\n",
       " 'demo-True_16',\n",
       " 'demo-True_17',\n",
       " 'demo-True_18',\n",
       " 'demo-True_19',\n",
       " 'demo-True_2',\n",
       " 'demo-True_20',\n",
       " 'demo-True_21',\n",
       " 'demo-True_22',\n",
       " 'demo-True_23',\n",
       " 'demo-True_24',\n",
       " 'demo-True_25',\n",
       " 'demo-True_26',\n",
       " 'demo-True_27',\n",
       " 'demo-True_28',\n",
       " 'demo-True_29',\n",
       " 'demo-True_3',\n",
       " 'demo-True_30',\n",
       " 'demo-True_31',\n",
       " 'demo-True_32',\n",
       " 'demo-True_33',\n",
       " 'demo-True_34',\n",
       " 'demo-True_35',\n",
       " 'demo-True_36',\n",
       " 'demo-True_37',\n",
       " 'demo-True_38',\n",
       " 'demo-True_39',\n",
       " 'demo-True_4',\n",
       " 'demo-True_40',\n",
       " 'demo-True_41',\n",
       " 'demo-True_42',\n",
       " 'demo-True_43',\n",
       " 'demo-True_44',\n",
       " 'demo-True_45',\n",
       " 'demo-True_46',\n",
       " 'demo-True_47',\n",
       " 'demo-True_48',\n",
       " 'demo-True_49',\n",
       " 'demo-True_5',\n",
       " 'demo-True_50',\n",
       " 'demo-True_51',\n",
       " 'demo-True_52',\n",
       " 'demo-True_53',\n",
       " 'demo-True_54',\n",
       " 'demo-True_55',\n",
       " 'demo-True_56',\n",
       " 'demo-True_57',\n",
       " 'demo-True_58',\n",
       " 'demo-True_59',\n",
       " 'demo-True_6',\n",
       " 'demo-True_60',\n",
       " 'demo-True_61',\n",
       " 'demo-True_62',\n",
       " 'demo-True_63',\n",
       " 'demo-True_64',\n",
       " 'demo-True_65',\n",
       " 'demo-True_66',\n",
       " 'demo-True_67',\n",
       " 'demo-True_68',\n",
       " 'demo-True_69',\n",
       " 'demo-True_7',\n",
       " 'demo-True_70',\n",
       " 'demo-True_71',\n",
       " 'demo-True_72',\n",
       " 'demo-True_73',\n",
       " 'demo-True_74',\n",
       " 'demo-True_75',\n",
       " 'demo-True_76',\n",
       " 'demo-True_77',\n",
       " 'demo-True_78',\n",
       " 'demo-True_79',\n",
       " 'demo-True_8',\n",
       " 'demo-True_80',\n",
       " 'demo-True_81',\n",
       " 'demo-True_82',\n",
       " 'demo-True_83',\n",
       " 'demo-True_84',\n",
       " 'demo-True_85',\n",
       " 'demo-True_86',\n",
       " 'demo-True_87',\n",
       " 'demo-True_88',\n",
       " 'demo-True_89',\n",
       " 'demo-True_9',\n",
       " 'demo-True_90',\n",
       " 'demo-True_91',\n",
       " 'demo-True_92',\n",
       " 'demo-True_93',\n",
       " 'demo-True_94',\n",
       " 'demo-True_95',\n",
       " 'demo-True_96',\n",
       " 'demo-True_97',\n",
       " 'demo-True_98',\n",
       " 'demo-True_99']"
      ]
     },
     "execution_count": 9,
     "metadata": {},
     "output_type": "execute_result"
    }
   ],
   "source": [
    "demos2copy"
   ]
  },
  {
   "cell_type": "code",
   "execution_count": 5,
   "metadata": {},
   "outputs": [
    {
     "data": {
      "text/plain": [
       "(100, ['demo_1', 'demo_100', 'demo_101', 'demo_105', 'demo_107'])"
      ]
     },
     "execution_count": 5,
     "metadata": {},
     "output_type": "execute_result"
    }
   ],
   "source": [
    "# fn='gd.txt'\n",
    "# with open(fn, 'r') as f:\n",
    "#     file_demos = f.readlines()\n",
    "# demos = [x.strip() for x in file_demos]\n",
    "# len(demos), demos[:5]"
   ]
  },
  {
   "cell_type": "code",
   "execution_count": 15,
   "metadata": {},
   "outputs": [
    {
     "data": {
      "text/plain": [
       "'/home/ns/collect_robomimic_demos/Lift_01_30_2024_05_03PM_sojib/demo_image_sub.hdf5'"
      ]
     },
     "execution_count": 15,
     "metadata": {},
     "output_type": "execute_result"
    }
   ],
   "source": [
    "dataset_path_sub =dataset_path\n",
    "dataset_path_sub=dataset_path_sub.replace(\".hdf5\", \"\")+\"_sub.hdf5\"\n",
    "dataset_path_sub"
   ]
  },
  {
   "cell_type": "code",
   "execution_count": 16,
   "metadata": {},
   "outputs": [],
   "source": [
    "f_sub = h5py.File(dataset_path_sub, \"w\")"
   ]
  },
  {
   "cell_type": "code",
   "execution_count": 17,
   "metadata": {},
   "outputs": [
    {
     "data": {
      "text/plain": [
       "100"
      ]
     },
     "execution_count": 17,
     "metadata": {},
     "output_type": "execute_result"
    }
   ],
   "source": [
    "keys_to_copy=demos2copy\n",
    "len(keys_to_copy)"
   ]
  },
  {
   "cell_type": "code",
   "execution_count": 18,
   "metadata": {},
   "outputs": [
    {
     "data": {
      "text/plain": [
       "<HDF5 group \"/mask\" (0 members)>"
      ]
     },
     "execution_count": 18,
     "metadata": {},
     "output_type": "execute_result"
    }
   ],
   "source": [
    "f_sub.create_group(\"data\")\n",
    "f_sub.create_group(\"mask\")"
   ]
  },
  {
   "cell_type": "code",
   "execution_count": 19,
   "metadata": {},
   "outputs": [],
   "source": [
    "attrs=f_org[\"data\"].attrs[\"env_args\"]\n",
    "f_sub[\"data\"].attrs[\"env_args\"] = attrs"
   ]
  },
  {
   "cell_type": "code",
   "execution_count": null,
   "metadata": {},
   "outputs": [],
   "source": []
  },
  {
   "cell_type": "code",
   "execution_count": 20,
   "metadata": {},
   "outputs": [
    {
     "name": "stderr",
     "output_type": "stream",
     "text": [
      "  0%|          | 0/100 [00:00<?, ?it/s]"
     ]
    },
    {
     "name": "stderr",
     "output_type": "stream",
     "text": [
      "100%|██████████| 100/100 [00:02<00:00, 34.34it/s]\n"
     ]
    }
   ],
   "source": [
    "i=1\n",
    "for demo_name in tqdm.tqdm(keys_to_copy):\n",
    "    b_demo=f_org['data'][demo_name]\n",
    "    num_samples=b_demo.attrs['num_samples']\n",
    "    model_file=b_demo.attrs['model_file']\n",
    "\n",
    "    bdemo_name=\"demo_\"+str(i)\n",
    "    i = i+1\n",
    "\n",
    "    f_sub[\"data\"].create_group(bdemo_name)\n",
    "\n",
    "\n",
    "    ks=['actions', 'dones', 'rewards', 'states']\n",
    "    for k in ks:\n",
    "        kdata = b_demo[k]\n",
    "        f_sub[\"data\"][bdemo_name].create_dataset(k, data=kdata)\n",
    "\n",
    "    obs_keys =b_demo['obs'].keys()\n",
    "    next_obs_keys=b_demo['next_obs'].keys()\n",
    "    for k in obs_keys:\n",
    "        kdata = b_demo['obs'][k]\n",
    "        f_sub[\"data\"][bdemo_name].create_dataset(f'obs/{k}', data=kdata)\n",
    "    for k in next_obs_keys:\n",
    "        kdata = b_demo['next_obs'][k]\n",
    "        f_sub[\"data\"][bdemo_name].create_dataset(f'next_obs/{k}', data=kdata)\n",
    "\n",
    "    f_sub[\"data\"][bdemo_name].attrs[\"num_samples\"] = num_samples\n",
    "    f_sub[\"data\"][bdemo_name].attrs[\"model_file\"] = model_file\n",
    " \n",
    "f_sub.close()\n",
    "f_org.close()"
   ]
  },
  {
   "cell_type": "code",
   "execution_count": null,
   "metadata": {},
   "outputs": [],
   "source": []
  },
  {
   "cell_type": "code",
   "execution_count": 21,
   "metadata": {},
   "outputs": [
    {
     "data": {
      "text/plain": [
       "<KeysViewHDF5 ['data', 'mask']>"
      ]
     },
     "execution_count": 21,
     "metadata": {},
     "output_type": "execute_result"
    }
   ],
   "source": [
    "f_sub = h5py.File(dataset_path_sub, \"r\")\n",
    "f_sub.keys()"
   ]
  },
  {
   "cell_type": "code",
   "execution_count": null,
   "metadata": {},
   "outputs": [],
   "source": [
    "f_sub['data'].keys()"
   ]
  },
  {
   "cell_type": "code",
   "execution_count": 23,
   "metadata": {},
   "outputs": [],
   "source": [
    "f_sub.close()\n",
    "f_org.close()"
   ]
  },
  {
   "cell_type": "code",
   "execution_count": null,
   "metadata": {},
   "outputs": [],
   "source": []
  },
  {
   "cell_type": "code",
   "execution_count": null,
   "metadata": {},
   "outputs": [],
   "source": []
  },
  {
   "cell_type": "code",
   "execution_count": null,
   "metadata": {},
   "outputs": [],
   "source": []
  },
  {
   "cell_type": "code",
   "execution_count": null,
   "metadata": {},
   "outputs": [],
   "source": []
  }
 ],
 "metadata": {
  "kernelspec": {
   "display_name": "robomimic_venv",
   "language": "python",
   "name": "python3"
  },
  "language_info": {
   "codemirror_mode": {
    "name": "ipython",
    "version": 3
   },
   "file_extension": ".py",
   "mimetype": "text/x-python",
   "name": "python",
   "nbconvert_exporter": "python",
   "pygments_lexer": "ipython3",
   "version": "3.7.16"
  },
  "orig_nbformat": 4,
  "vscode": {
   "interpreter": {
    "hash": "300270bdc05a7d2a1a6e38b49d31ab74e297d8594453dc417bd05684f2f1dd83"
   }
  }
 },
 "nbformat": 4,
 "nbformat_minor": 2
}
