{
 "cells": [
  {
   "cell_type": "code",
   "execution_count": 1,
   "metadata": {},
   "outputs": [],
   "source": [
    "import os\n",
    "import json\n",
    "import h5py\n",
    "import numpy as np\n",
    "\n",
    "import robomimic\n",
    "import robomimic.utils.file_utils as FileUtils\n",
    "import robomimic.utils.env_utils as EnvUtils\n",
    "import robomimic.utils.obs_utils as ObsUtils\n",
    "import imageio\n",
    "import tqdm\n",
    "from robomimic.utils.file_utils import create_hdf5_filter_key"
   ]
  },
  {
   "cell_type": "code",
   "execution_count": 2,
   "metadata": {},
   "outputs": [],
   "source": [
    "# dataset_path = \"/home/ns/robosuite/collects/1705258813_3304067/can_jan14_image_166.hdf5\"\n",
    "dataset_path = \"/home/ns/collect_robomimic_demos/sojib_square_expert/NutAssemblySquare_02_01_2024_06_38PM_sojib/demo_image.hdf5\"\n",
    "f_org = h5py.File(dataset_path, \"r\")\n",
    "demos = list(f_org[\"data\"].keys())"
   ]
  },
  {
   "cell_type": "code",
   "execution_count": 3,
   "metadata": {},
   "outputs": [
    {
     "name": "stdout",
     "output_type": "stream",
     "text": [
      "Number of demos:  40\n",
      "Max length:  574\n",
      "Min length:  365\n",
      "Mean length:  460.775\n"
     ]
    }
   ],
   "source": [
    "lengths=[]\n",
    "for demo_name in demos:\n",
    "    demo=f_org['data'][demo_name]\n",
    "    num_samples=demo.attrs['num_samples']\n",
    "    lengths.append(num_samples)\n",
    "\n",
    "lengths=np.array(lengths)\n",
    "\n",
    "print('Number of demos: ', len(demos))\n",
    "print('Max length: ', np.max(lengths))\n",
    "print('Min length: ', np.min(lengths))\n",
    "print('Mean length: ', np.mean(lengths))"
   ]
  },
  {
   "cell_type": "code",
   "execution_count": 4,
   "metadata": {},
   "outputs": [
    {
     "data": {
      "text/plain": [
       "['demo-True_1', 'demo-True_10', 'demo-True_11']"
      ]
     },
     "execution_count": 4,
     "metadata": {},
     "output_type": "execute_result"
    }
   ],
   "source": [
    "demos[:3]"
   ]
  },
  {
   "cell_type": "code",
   "execution_count": 5,
   "metadata": {},
   "outputs": [
    {
     "data": {
      "text/plain": [
       "40"
      ]
     },
     "execution_count": 5,
     "metadata": {},
     "output_type": "execute_result"
    }
   ],
   "source": [
    "len(demos)"
   ]
  },
  {
   "cell_type": "code",
   "execution_count": 6,
   "metadata": {},
   "outputs": [
    {
     "data": {
      "text/plain": [
       "31"
      ]
     },
     "execution_count": 6,
     "metadata": {},
     "output_type": "execute_result"
    }
   ],
   "source": [
    "demos2copy=[demo.decode('utf-8') for demo in f_org['mask']['expert']] \n",
    "len(demos2copy)"
   ]
  },
  {
   "cell_type": "code",
   "execution_count": 7,
   "metadata": {},
   "outputs": [
    {
     "data": {
      "text/plain": [
       "['demo-True_1',\n",
       " 'demo-True_10',\n",
       " 'demo-True_12',\n",
       " 'demo-True_13',\n",
       " 'demo-True_14',\n",
       " 'demo-True_15',\n",
       " 'demo-True_16',\n",
       " 'demo-True_17',\n",
       " 'demo-True_18',\n",
       " 'demo-True_2',\n",
       " 'demo-True_20',\n",
       " 'demo-True_21',\n",
       " 'demo-True_23',\n",
       " 'demo-True_24',\n",
       " 'demo-True_25',\n",
       " 'demo-True_26',\n",
       " 'demo-True_27',\n",
       " 'demo-True_28',\n",
       " 'demo-True_29',\n",
       " 'demo-True_30',\n",
       " 'demo-True_31',\n",
       " 'demo-True_33',\n",
       " 'demo-True_34',\n",
       " 'demo-True_35',\n",
       " 'demo-True_36',\n",
       " 'demo-True_39',\n",
       " 'demo-True_4',\n",
       " 'demo-True_40',\n",
       " 'demo-True_6',\n",
       " 'demo-True_7',\n",
       " 'demo-True_8']"
      ]
     },
     "execution_count": 7,
     "metadata": {},
     "output_type": "execute_result"
    }
   ],
   "source": [
    "demos2copy"
   ]
  },
  {
   "cell_type": "code",
   "execution_count": 5,
   "metadata": {},
   "outputs": [
    {
     "data": {
      "text/plain": [
       "(100, ['demo_1', 'demo_100', 'demo_101', 'demo_105', 'demo_107'])"
      ]
     },
     "execution_count": 5,
     "metadata": {},
     "output_type": "execute_result"
    }
   ],
   "source": [
    "# fn='gd.txt'\n",
    "# with open(fn, 'r') as f:\n",
    "#     file_demos = f.readlines()\n",
    "# demos = [x.strip() for x in file_demos]\n",
    "# len(demos), demos[:5]"
   ]
  },
  {
   "cell_type": "code",
   "execution_count": null,
   "metadata": {},
   "outputs": [],
   "source": []
  },
  {
   "cell_type": "code",
   "execution_count": null,
   "metadata": {},
   "outputs": [],
   "source": []
  },
  {
   "cell_type": "code",
   "execution_count": 8,
   "metadata": {},
   "outputs": [],
   "source": [
    "# dataset_path_sub = \"/home/ns/robosuite/collects/1705258813_3304067/can_jan14_image_166_sub.hdf5\"\n",
    "dataset_path_sub = \"/home/ns/collect_robomimic_demos/sojib_square_expert/NutAssemblySquare_02_01_2024_06_38PM_sojib/demo_image_sub.hdf5\"\n",
    "f_sub = h5py.File(dataset_path_sub, \"w\")"
   ]
  },
  {
   "cell_type": "code",
   "execution_count": 9,
   "metadata": {},
   "outputs": [
    {
     "data": {
      "text/plain": [
       "31"
      ]
     },
     "execution_count": 9,
     "metadata": {},
     "output_type": "execute_result"
    }
   ],
   "source": [
    "keys_to_copy=demos2copy\n",
    "len(keys_to_copy)"
   ]
  },
  {
   "cell_type": "code",
   "execution_count": 10,
   "metadata": {},
   "outputs": [
    {
     "data": {
      "text/plain": [
       "<HDF5 group \"/mask\" (0 members)>"
      ]
     },
     "execution_count": 10,
     "metadata": {},
     "output_type": "execute_result"
    }
   ],
   "source": [
    "f_sub.create_group(\"data\")\n",
    "f_sub.create_group(\"mask\")"
   ]
  },
  {
   "cell_type": "code",
   "execution_count": 11,
   "metadata": {},
   "outputs": [],
   "source": [
    "attrs=f_org[\"data\"].attrs[\"env_args\"]\n",
    "f_sub[\"data\"].attrs[\"env_args\"] = attrs"
   ]
  },
  {
   "cell_type": "code",
   "execution_count": null,
   "metadata": {},
   "outputs": [],
   "source": []
  },
  {
   "cell_type": "code",
   "execution_count": 12,
   "metadata": {},
   "outputs": [
    {
     "name": "stderr",
     "output_type": "stream",
     "text": [
      "  0%|          | 0/31 [00:00<?, ?it/s]"
     ]
    },
    {
     "name": "stderr",
     "output_type": "stream",
     "text": [
      "100%|██████████| 31/31 [00:02<00:00, 14.19it/s]\n"
     ]
    }
   ],
   "source": [
    "i=1\n",
    "for demo_name in tqdm.tqdm(keys_to_copy):\n",
    "    b_demo=f_org['data'][demo_name]\n",
    "    num_samples=b_demo.attrs['num_samples']\n",
    "    model_file=b_demo.attrs['model_file']\n",
    "\n",
    "    bdemo_name=\"demo_\"+str(i)\n",
    "    i = i+1\n",
    "\n",
    "    f_sub[\"data\"].create_group(bdemo_name)\n",
    "\n",
    "\n",
    "    ks=['actions', 'dones', 'rewards', 'states']\n",
    "    for k in ks:\n",
    "        kdata = b_demo[k]\n",
    "        f_sub[\"data\"][bdemo_name].create_dataset(k, data=kdata)\n",
    "\n",
    "    obs_keys =b_demo['obs'].keys()\n",
    "    next_obs_keys=b_demo['next_obs'].keys()\n",
    "    for k in obs_keys:\n",
    "        kdata = b_demo['obs'][k]\n",
    "        f_sub[\"data\"][bdemo_name].create_dataset(f'obs/{k}', data=kdata)\n",
    "    for k in next_obs_keys:\n",
    "        kdata = b_demo['next_obs'][k]\n",
    "        f_sub[\"data\"][bdemo_name].create_dataset(f'next_obs/{k}', data=kdata)\n",
    "\n",
    "    f_sub[\"data\"][bdemo_name].attrs[\"num_samples\"] = num_samples\n",
    "    f_sub[\"data\"][bdemo_name].attrs[\"model_file\"] = model_file\n",
    " \n",
    "f_sub.close()\n",
    "f_org.close()"
   ]
  },
  {
   "cell_type": "code",
   "execution_count": null,
   "metadata": {},
   "outputs": [],
   "source": []
  },
  {
   "cell_type": "code",
   "execution_count": 13,
   "metadata": {},
   "outputs": [
    {
     "data": {
      "text/plain": [
       "<KeysViewHDF5 ['data', 'mask']>"
      ]
     },
     "execution_count": 13,
     "metadata": {},
     "output_type": "execute_result"
    }
   ],
   "source": [
    "f_sub = h5py.File(dataset_path_sub, \"r\")\n",
    "f_sub.keys()"
   ]
  },
  {
   "cell_type": "code",
   "execution_count": 14,
   "metadata": {},
   "outputs": [
    {
     "data": {
      "text/plain": [
       "<KeysViewHDF5 ['demo_1', 'demo_10', 'demo_11', 'demo_12', 'demo_13', 'demo_14', 'demo_15', 'demo_16', 'demo_17', 'demo_18', 'demo_19', 'demo_2', 'demo_20', 'demo_21', 'demo_22', 'demo_23', 'demo_24', 'demo_25', 'demo_26', 'demo_27', 'demo_28', 'demo_29', 'demo_3', 'demo_30', 'demo_31', 'demo_4', 'demo_5', 'demo_6', 'demo_7', 'demo_8', 'demo_9']>"
      ]
     },
     "execution_count": 14,
     "metadata": {},
     "output_type": "execute_result"
    }
   ],
   "source": [
    "f_sub['data'].keys()"
   ]
  },
  {
   "cell_type": "code",
   "execution_count": 15,
   "metadata": {},
   "outputs": [],
   "source": [
    "f_sub.close()\n",
    "f_org.close()"
   ]
  },
  {
   "cell_type": "code",
   "execution_count": null,
   "metadata": {},
   "outputs": [],
   "source": []
  },
  {
   "cell_type": "code",
   "execution_count": null,
   "metadata": {},
   "outputs": [],
   "source": []
  },
  {
   "cell_type": "code",
   "execution_count": null,
   "metadata": {},
   "outputs": [],
   "source": []
  },
  {
   "cell_type": "code",
   "execution_count": null,
   "metadata": {},
   "outputs": [],
   "source": []
  }
 ],
 "metadata": {
  "kernelspec": {
   "display_name": "robomimic_venv",
   "language": "python",
   "name": "python3"
  },
  "language_info": {
   "codemirror_mode": {
    "name": "ipython",
    "version": 3
   },
   "file_extension": ".py",
   "mimetype": "text/x-python",
   "name": "python",
   "nbconvert_exporter": "python",
   "pygments_lexer": "ipython3",
   "version": "3.7.16"
  },
  "orig_nbformat": 4,
  "vscode": {
   "interpreter": {
    "hash": "300270bdc05a7d2a1a6e38b49d31ab74e297d8594453dc417bd05684f2f1dd83"
   }
  }
 },
 "nbformat": 4,
 "nbformat_minor": 2
}
