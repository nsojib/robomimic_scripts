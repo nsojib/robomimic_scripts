{
 "cells": [
  {
   "cell_type": "code",
   "execution_count": 1,
   "metadata": {},
   "outputs": [],
   "source": [
    "import os\n",
    "import json\n",
    "import h5py\n",
    "import numpy as np\n",
    "\n",
    "import robomimic\n",
    "import robomimic.utils.file_utils as FileUtils\n",
    "import robomimic.utils.env_utils as EnvUtils\n",
    "import robomimic.utils.obs_utils as ObsUtils\n",
    "import imageio\n",
    "import tqdm\n",
    "from robomimic.utils.file_utils import create_hdf5_filter_key"
   ]
  },
  {
   "cell_type": "code",
   "execution_count": 2,
   "metadata": {},
   "outputs": [],
   "source": [
    "dataset_path = \"/home/ns/collect_robomimic_demos/PickPlaceCan_02_09_2024_04_37PM_sojib/demo_image.hdf5\" \n",
    "f_org = h5py.File(dataset_path, \"r\")\n",
    "demos = list(f_org[\"data\"].keys())"
   ]
  },
  {
   "cell_type": "code",
   "execution_count": 3,
   "metadata": {},
   "outputs": [
    {
     "name": "stdout",
     "output_type": "stream",
     "text": [
      "Number of demos:  65\n",
      "Max length:  363\n",
      "Min length:  182\n",
      "Mean length:  261.4\n"
     ]
    }
   ],
   "source": [
    "lengths=[]\n",
    "for demo_name in demos:\n",
    "    demo=f_org['data'][demo_name]\n",
    "    num_samples=demo.attrs['num_samples']\n",
    "    lengths.append(num_samples)\n",
    "\n",
    "lengths=np.array(lengths)\n",
    "\n",
    "print('Number of demos: ', len(demos))\n",
    "print('Max length: ', np.max(lengths))\n",
    "print('Min length: ', np.min(lengths))\n",
    "print('Mean length: ', np.mean(lengths))"
   ]
  },
  {
   "cell_type": "code",
   "execution_count": 4,
   "metadata": {},
   "outputs": [
    {
     "data": {
      "text/plain": [
       "['demo-True_1', 'demo-True_10', 'demo-True_11']"
      ]
     },
     "execution_count": 4,
     "metadata": {},
     "output_type": "execute_result"
    }
   ],
   "source": [
    "demos[:3]"
   ]
  },
  {
   "cell_type": "code",
   "execution_count": 5,
   "metadata": {},
   "outputs": [
    {
     "data": {
      "text/plain": [
       "65"
      ]
     },
     "execution_count": 5,
     "metadata": {},
     "output_type": "execute_result"
    }
   ],
   "source": [
    "len(demos)"
   ]
  },
  {
   "cell_type": "code",
   "execution_count": 6,
   "metadata": {},
   "outputs": [],
   "source": [
    "f_org.close()"
   ]
  },
  {
   "cell_type": "code",
   "execution_count": 5,
   "metadata": {},
   "outputs": [
    {
     "data": {
      "text/plain": [
       "2"
      ]
     },
     "execution_count": 5,
     "metadata": {},
     "output_type": "execute_result"
    }
   ],
   "source": [
    "# demos2copy=[demo.decode('utf-8') for demo in f_org['mask']['expert']] \n",
    "# # demos2copy=demos\n",
    "\n",
    "demos2copy=['demo-True_7', 'demo-True_16']\n",
    "len(demos2copy)"
   ]
  },
  {
   "cell_type": "code",
   "execution_count": 8,
   "metadata": {},
   "outputs": [
    {
     "data": {
      "text/plain": [
       "['demo_1', 'demo_10', 'demo_100', 'demo_11', 'demo_12']"
      ]
     },
     "execution_count": 8,
     "metadata": {},
     "output_type": "execute_result"
    }
   ],
   "source": [
    "demos2copy[:5]"
   ]
  },
  {
   "cell_type": "code",
   "execution_count": 6,
   "metadata": {},
   "outputs": [
    {
     "data": {
      "text/plain": [
       "(50,\n",
       " ['demo-True_10',\n",
       "  'demo-True_11',\n",
       "  'demo-True_18',\n",
       "  'demo-True_19',\n",
       "  'demo-True_1'])"
      ]
     },
     "execution_count": 6,
     "metadata": {},
     "output_type": "execute_result"
    }
   ],
   "source": [
    "fn='/home/ns/collect_robomimic_demos/PickPlaceCan_02_09_2024_04_37PM_sojib/videos/expert/expert2.txt'\n",
    "with open(fn, 'r') as f:\n",
    "    file_demos = f.readlines()\n",
    "demos = [x.strip().replace(\".mp4\",\"\").strip() for x in file_demos]\n",
    "len(demos), demos[:5]"
   ]
  },
  {
   "cell_type": "code",
   "execution_count": 7,
   "metadata": {},
   "outputs": [],
   "source": [
    "demos2copy=demos"
   ]
  },
  {
   "cell_type": "code",
   "execution_count": null,
   "metadata": {},
   "outputs": [],
   "source": []
  },
  {
   "cell_type": "code",
   "execution_count": null,
   "metadata": {},
   "outputs": [],
   "source": []
  },
  {
   "cell_type": "code",
   "execution_count": 8,
   "metadata": {},
   "outputs": [
    {
     "data": {
      "text/plain": [
       "'/home/ns/collect_robomimic_demos/PickPlaceCan_02_09_2024_04_37PM_sojib/demo_image_sub.hdf5'"
      ]
     },
     "execution_count": 8,
     "metadata": {},
     "output_type": "execute_result"
    }
   ],
   "source": [
    "dataset_path_sub =dataset_path\n",
    "dataset_path_sub=dataset_path_sub.replace(\".hdf5\", \"\")+\"_sub.hdf5\"\n",
    "dataset_path_sub"
   ]
  },
  {
   "cell_type": "code",
   "execution_count": 9,
   "metadata": {},
   "outputs": [],
   "source": [
    "f_sub = h5py.File(dataset_path_sub, \"w\")"
   ]
  },
  {
   "cell_type": "code",
   "execution_count": 10,
   "metadata": {},
   "outputs": [
    {
     "data": {
      "text/plain": [
       "50"
      ]
     },
     "execution_count": 10,
     "metadata": {},
     "output_type": "execute_result"
    }
   ],
   "source": [
    "keys_to_copy=demos2copy\n",
    "len(keys_to_copy)"
   ]
  },
  {
   "cell_type": "code",
   "execution_count": 11,
   "metadata": {},
   "outputs": [
    {
     "data": {
      "text/plain": [
       "<HDF5 group \"/mask\" (0 members)>"
      ]
     },
     "execution_count": 11,
     "metadata": {},
     "output_type": "execute_result"
    }
   ],
   "source": [
    "f_sub.create_group(\"data\")\n",
    "f_sub.create_group(\"mask\")"
   ]
  },
  {
   "cell_type": "code",
   "execution_count": 12,
   "metadata": {},
   "outputs": [],
   "source": [
    "attrs=f_org[\"data\"].attrs[\"env_args\"]\n",
    "f_sub[\"data\"].attrs[\"env_args\"] = attrs"
   ]
  },
  {
   "cell_type": "code",
   "execution_count": null,
   "metadata": {},
   "outputs": [],
   "source": []
  },
  {
   "cell_type": "code",
   "execution_count": 13,
   "metadata": {},
   "outputs": [
    {
     "name": "stderr",
     "output_type": "stream",
     "text": [
      "  0%|          | 0/50 [00:00<?, ?it/s]"
     ]
    },
    {
     "name": "stderr",
     "output_type": "stream",
     "text": [
      "100%|██████████| 50/50 [00:03<00:00, 13.86it/s]\n"
     ]
    }
   ],
   "source": [
    "i=1\n",
    "for demo_name in tqdm.tqdm(keys_to_copy):\n",
    "    b_demo=f_org['data'][demo_name]\n",
    "    num_samples=b_demo.attrs['num_samples']\n",
    "    model_file=b_demo.attrs['model_file']\n",
    "\n",
    "    bdemo_name=\"demo_\"+str(i)\n",
    "    i = i+1\n",
    "\n",
    "    f_sub[\"data\"].create_group(bdemo_name)\n",
    "\n",
    "\n",
    "    ks=['actions', 'dones', 'rewards', 'states']\n",
    "    for k in ks:\n",
    "        kdata = b_demo[k]\n",
    "        f_sub[\"data\"][bdemo_name].create_dataset(k, data=kdata)\n",
    "\n",
    "    obs_keys =b_demo['obs'].keys()\n",
    "    next_obs_keys=b_demo['next_obs'].keys()\n",
    "    for k in obs_keys:\n",
    "        kdata = b_demo['obs'][k]\n",
    "        f_sub[\"data\"][bdemo_name].create_dataset(f'obs/{k}', data=kdata)\n",
    "    for k in next_obs_keys:\n",
    "        kdata = b_demo['next_obs'][k]\n",
    "        f_sub[\"data\"][bdemo_name].create_dataset(f'next_obs/{k}', data=kdata)\n",
    "\n",
    "    f_sub[\"data\"][bdemo_name].attrs[\"num_samples\"] = num_samples\n",
    "    f_sub[\"data\"][bdemo_name].attrs[\"model_file\"] = model_file\n",
    " \n",
    "# f_sub.close()\n",
    "f_org.close()"
   ]
  },
  {
   "cell_type": "code",
   "execution_count": 14,
   "metadata": {},
   "outputs": [
    {
     "data": {
      "text/plain": [
       "((40,),\n",
       " array([b'demo-False_10', b'demo-False_12', b'demo-False_14',\n",
       "        b'demo-False_15'], dtype='|S16'))"
      ]
     },
     "execution_count": 14,
     "metadata": {},
     "output_type": "execute_result"
    }
   ],
   "source": [
    "demos=demos2copy\n",
    "demos= np.array(demos, dtype='S16') \n",
    "demos.shape, demos[:4]"
   ]
  },
  {
   "cell_type": "code",
   "execution_count": 13,
   "metadata": {},
   "outputs": [],
   "source": [
    "hdf5_path=dataset_path_sub \n",
    "\n",
    "filter_keys=sorted([elem for elem in demos])\n",
    "filter_name=\"expert\"\n",
    "filter_lengths = create_hdf5_filter_key(hdf5_path=hdf5_path, demo_keys=filter_keys, key_name=filter_name)"
   ]
  },
  {
   "cell_type": "code",
   "execution_count": null,
   "metadata": {},
   "outputs": [],
   "source": []
  },
  {
   "cell_type": "code",
   "execution_count": 14,
   "metadata": {},
   "outputs": [],
   "source": [
    "f_sub.close()\n",
    "f_org.close()"
   ]
  },
  {
   "cell_type": "code",
   "execution_count": null,
   "metadata": {},
   "outputs": [],
   "source": []
  },
  {
   "cell_type": "code",
   "execution_count": null,
   "metadata": {},
   "outputs": [],
   "source": []
  },
  {
   "cell_type": "code",
   "execution_count": null,
   "metadata": {},
   "outputs": [],
   "source": []
  },
  {
   "cell_type": "code",
   "execution_count": null,
   "metadata": {},
   "outputs": [],
   "source": []
  }
 ],
 "metadata": {
  "kernelspec": {
   "display_name": "robomimic_venv",
   "language": "python",
   "name": "python3"
  },
  "language_info": {
   "codemirror_mode": {
    "name": "ipython",
    "version": 3
   },
   "file_extension": ".py",
   "mimetype": "text/x-python",
   "name": "python",
   "nbconvert_exporter": "python",
   "pygments_lexer": "ipython3",
   "version": "3.7.16"
  },
  "orig_nbformat": 4,
  "vscode": {
   "interpreter": {
    "hash": "300270bdc05a7d2a1a6e38b49d31ab74e297d8594453dc417bd05684f2f1dd83"
   }
  }
 },
 "nbformat": 4,
 "nbformat_minor": 2
}
