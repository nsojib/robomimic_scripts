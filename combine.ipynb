{
 "cells": [
  {
   "cell_type": "code",
   "execution_count": 30,
   "metadata": {},
   "outputs": [],
   "source": [
    "import os\n",
    "import json\n",
    "import h5py\n",
    "import numpy as np\n",
    "\n",
    "import robomimic\n",
    "import robomimic.utils.file_utils as FileUtils\n",
    "import robomimic.utils.env_utils as EnvUtils\n",
    "import robomimic.utils.obs_utils as ObsUtils\n",
    "import imageio\n",
    "import tqdm\n",
    "from create_groups import create_hdf5_filter_key"
   ]
  },
  {
   "cell_type": "code",
   "execution_count": 31,
   "metadata": {},
   "outputs": [],
   "source": [
    "dataset_path_base = \"/home/ns1254/data_robomimic/carl_dataset/mixed_human_original/spoon_pick_129_int3.hdf5\" "
   ]
  },
  {
   "cell_type": "code",
   "execution_count": 32,
   "metadata": {},
   "outputs": [],
   "source": [
    "f = h5py.File(dataset_path_base, \"r+\")\n",
    "demos = list(f[\"data\"].keys())"
   ]
  },
  {
   "cell_type": "code",
   "execution_count": 33,
   "metadata": {},
   "outputs": [
    {
     "name": "stdout",
     "output_type": "stream",
     "text": [
      "Number of demos:  129\n",
      "Max length:  567\n",
      "Min length:  52\n",
      "Mean length:  131.62790697674419\n",
      "Median length:  71.0\n"
     ]
    }
   ],
   "source": [
    "lengths=[]\n",
    "demos_minmax={}\n",
    "for demo_name in demos:\n",
    "    demo=f['data'][demo_name]\n",
    "    num_samples=demo.attrs['num_samples']\n",
    "    lengths.append(num_samples)\n",
    "\n",
    "    action=f['data'][demo_name]['actions']\n",
    "    action=np.array(action) \n",
    "    demos_minmax[demo_name] = (np.min(action, axis=0), np.max(action, axis=0))\n",
    "\n",
    "\n",
    "lengths=np.array(lengths)\n",
    "\n",
    "print('Number of demos: ', len(demos))\n",
    "print('Max length: ', np.max(lengths))\n",
    "print('Min length: ', np.min(lengths))\n",
    "print('Mean length: ', np.mean(lengths))\n",
    "print('Median length: ', np.median(lengths))"
   ]
  },
  {
   "cell_type": "code",
   "execution_count": 5,
   "metadata": {},
   "outputs": [],
   "source": [
    "# f.create_group(\"mask\")"
   ]
  },
  {
   "cell_type": "code",
   "execution_count": 34,
   "metadata": {},
   "outputs": [
    {
     "data": {
      "text/plain": [
       "<KeysViewHDF5 ['data', 'mask']>"
      ]
     },
     "execution_count": 34,
     "metadata": {},
     "output_type": "execute_result"
    }
   ],
   "source": [
    "f.keys()"
   ]
  },
  {
   "cell_type": "code",
   "execution_count": 40,
   "metadata": {},
   "outputs": [
    {
     "name": "stdout",
     "output_type": "stream",
     "text": [
      "expert <HDF5 dataset \"expert\": shape (100,), type \"|S16\">\n",
      "g56b14 <HDF5 dataset \"g56b14\": shape (70,), type \"|S16\">\n",
      "g64i16 <HDF5 dataset \"g64i16\": shape (80,), type \"|S16\">\n",
      "g80 <HDF5 dataset \"g80\": shape (80,), type \"|S16\">\n",
      "g80b20 <HDF5 dataset \"g80b20\": shape (100,), type \"|S16\">\n",
      "intentional <HDF5 dataset \"intentional\": shape (29,), type \"|S16\">\n",
      "p20i <HDF5 dataset \"p20i\": shape (100,), type \"|S16\">\n"
     ]
    }
   ],
   "source": [
    "for key in f['mask'].keys():\n",
    "    print(key, f['mask'][key])"
   ]
  },
  {
   "cell_type": "code",
   "execution_count": 36,
   "metadata": {},
   "outputs": [
    {
     "name": "stdout",
     "output_type": "stream",
     "text": [
      "max_id: 128\n",
      "next_id: 129\n"
     ]
    }
   ],
   "source": [
    "max_id=np.max([int(demo.split('_')[1]) for demo in demos])\n",
    "print(f'max_id: {max_id}')\n",
    "\n",
    "next_id=max_id+1\n",
    "print(f'next_id: {next_id}')"
   ]
  },
  {
   "cell_type": "code",
   "execution_count": null,
   "metadata": {},
   "outputs": [],
   "source": []
  },
  {
   "cell_type": "code",
   "execution_count": 29,
   "metadata": {},
   "outputs": [],
   "source": [
    "f.close()"
   ]
  },
  {
   "cell_type": "code",
   "execution_count": 10,
   "metadata": {},
   "outputs": [],
   "source": [
    "# demos"
   ]
  },
  {
   "cell_type": "code",
   "execution_count": 23,
   "metadata": {},
   "outputs": [],
   "source": [
    "f['mask'].keys()\n",
    "# del f['mask']['expert']\n",
    "# del f['mask']['train']\n",
    "del f['mask']['g54b16']"
   ]
  },
  {
   "cell_type": "code",
   "execution_count": null,
   "metadata": {},
   "outputs": [],
   "source": []
  },
  {
   "cell_type": "code",
   "execution_count": 37,
   "metadata": {},
   "outputs": [
    {
     "data": {
      "text/plain": [
       "(100, 29)"
      ]
     },
     "execution_count": 37,
     "metadata": {},
     "output_type": "execute_result"
    }
   ],
   "source": [
    "demos_expert=[f'demo_{id}' for id in range(0, 100)]\n",
    "demo_other=[b.decode('utf-8') for b in f['mask']['intentional']]\n",
    "len(demos_expert), len(demo_other)"
   ]
  },
  {
   "cell_type": "code",
   "execution_count": 38,
   "metadata": {},
   "outputs": [
    {
     "data": {
      "text/plain": [
       "100"
      ]
     },
     "execution_count": 38,
     "metadata": {},
     "output_type": "execute_result"
    }
   ],
   "source": [
    "# p20i= demos_expert[44:] + demo_other[15:]\n",
    "p20i= demos_expert[20:] + demo_other[9:]\n",
    "len(p20i)"
   ]
  },
  {
   "cell_type": "code",
   "execution_count": 39,
   "metadata": {},
   "outputs": [],
   "source": [
    "hdf5_path=dataset_path_base \n",
    " \n",
    "p20i = np.array(p20i, dtype='S16')\n",
    "\n",
    "filter_keys=sorted([elem for elem in p20i])\n",
    "filter_name=\"g80b20\"\n",
    "filter_lengths = create_hdf5_filter_key(hdf5_path=hdf5_path, demo_keys=filter_keys, key_name=filter_name)\n"
   ]
  },
  {
   "cell_type": "code",
   "execution_count": 41,
   "metadata": {},
   "outputs": [
    {
     "data": {
      "text/plain": [
       "array([b'demo_20', b'demo_21', b'demo_22', b'demo_23', b'demo_24',\n",
       "       b'demo_25', b'demo_26', b'demo_27', b'demo_28', b'demo_29',\n",
       "       b'demo_30', b'demo_31', b'demo_32', b'demo_33', b'demo_34',\n",
       "       b'demo_35', b'demo_36', b'demo_37', b'demo_38', b'demo_39',\n",
       "       b'demo_40', b'demo_41', b'demo_42', b'demo_43', b'demo_44',\n",
       "       b'demo_45', b'demo_46', b'demo_47', b'demo_48', b'demo_49',\n",
       "       b'demo_50', b'demo_51', b'demo_52', b'demo_53', b'demo_54',\n",
       "       b'demo_55', b'demo_56', b'demo_57', b'demo_58', b'demo_59',\n",
       "       b'demo_60', b'demo_61', b'demo_62', b'demo_63', b'demo_64',\n",
       "       b'demo_65', b'demo_66', b'demo_67', b'demo_68', b'demo_69',\n",
       "       b'demo_70', b'demo_71', b'demo_72', b'demo_73', b'demo_74',\n",
       "       b'demo_75', b'demo_76', b'demo_77', b'demo_78', b'demo_79',\n",
       "       b'demo_80', b'demo_81', b'demo_82', b'demo_83', b'demo_84',\n",
       "       b'demo_85', b'demo_86', b'demo_87', b'demo_88', b'demo_89',\n",
       "       b'demo_90', b'demo_91', b'demo_92', b'demo_93', b'demo_94',\n",
       "       b'demo_95', b'demo_96', b'demo_97', b'demo_98', b'demo_99',\n",
       "       b'demo_109', b'demo_110', b'demo_111', b'demo_112', b'demo_113',\n",
       "       b'demo_114', b'demo_115', b'demo_116', b'demo_117', b'demo_118',\n",
       "       b'demo_119', b'demo_120', b'demo_121', b'demo_122', b'demo_123',\n",
       "       b'demo_124', b'demo_125', b'demo_126', b'demo_127', b'demo_128'],\n",
       "      dtype='|S16')"
      ]
     },
     "execution_count": 41,
     "metadata": {},
     "output_type": "execute_result"
    }
   ],
   "source": [
    "p20i"
   ]
  },
  {
   "cell_type": "code",
   "execution_count": null,
   "metadata": {},
   "outputs": [],
   "source": []
  },
  {
   "cell_type": "code",
   "execution_count": null,
   "metadata": {},
   "outputs": [],
   "source": []
  },
  {
   "cell_type": "code",
   "execution_count": 16,
   "metadata": {},
   "outputs": [
    {
     "data": {
      "text/plain": [
       "(99, 23)"
      ]
     },
     "execution_count": 16,
     "metadata": {},
     "output_type": "execute_result"
    }
   ],
   "source": [
    "demos_expert=[f'demo_{id}' for id in range(1, 100)]\n",
    "demos_good=[f'demo_{id}' for id in range(122, 145)]\n",
    "len(demos_expert), len(demos_good)"
   ]
  },
  {
   "cell_type": "code",
   "execution_count": 10,
   "metadata": {},
   "outputs": [],
   "source": [
    "p20i=demos_expert[:64]+demos_good[:16]\n",
    "p20i = np.array(p20i, dtype='S16') \n",
    "\n",
    "hdf5_path=dataset_path_base \n",
    "\n",
    "filter_keys=sorted([elem for elem in p20i])\n",
    "filter_name=\"g64b16i2\"\n",
    "filter_lengths = create_hdf5_filter_key(hdf5_path=hdf5_path, demo_keys=filter_keys, key_name=filter_name)"
   ]
  },
  {
   "cell_type": "code",
   "execution_count": null,
   "metadata": {},
   "outputs": [],
   "source": []
  },
  {
   "cell_type": "code",
   "execution_count": null,
   "metadata": {},
   "outputs": [],
   "source": []
  },
  {
   "cell_type": "code",
   "execution_count": null,
   "metadata": {},
   "outputs": [],
   "source": []
  },
  {
   "cell_type": "code",
   "execution_count": null,
   "metadata": {},
   "outputs": [],
   "source": []
  },
  {
   "cell_type": "code",
   "execution_count": null,
   "metadata": {},
   "outputs": [],
   "source": []
  },
  {
   "cell_type": "code",
   "execution_count": 10,
   "metadata": {},
   "outputs": [
    {
     "data": {
      "text/plain": [
       "(['demo_0', 'demo_1', 'demo_2'], ['demo_97', 'demo_98', 'demo_99'])"
      ]
     },
     "execution_count": 10,
     "metadata": {},
     "output_type": "execute_result"
    }
   ],
   "source": [
    "demos_expert[:3], demos_expert[-3:]"
   ]
  },
  {
   "cell_type": "code",
   "execution_count": 11,
   "metadata": {},
   "outputs": [
    {
     "data": {
      "text/plain": [
       "(['demo_100', 'demo_101', 'demo_102'], ['demo_119', 'demo_120', 'demo_121'])"
      ]
     },
     "execution_count": 11,
     "metadata": {},
     "output_type": "execute_result"
    }
   ],
   "source": [
    "demos_good[:3], demos_good[-3:]"
   ]
  },
  {
   "cell_type": "code",
   "execution_count": 12,
   "metadata": {},
   "outputs": [
    {
     "data": {
      "text/plain": [
       "((100,), (22,))"
      ]
     },
     "execution_count": 12,
     "metadata": {},
     "output_type": "execute_result"
    }
   ],
   "source": [
    "demos_expert = np.array(demos_expert, dtype='S16') \n",
    "demos_good = np.array(demos_good, dtype='S16') \n",
    "demos_expert.shape, demos_good.shape"
   ]
  },
  {
   "cell_type": "code",
   "execution_count": null,
   "metadata": {},
   "outputs": [],
   "source": []
  },
  {
   "cell_type": "code",
   "execution_count": null,
   "metadata": {},
   "outputs": [],
   "source": []
  },
  {
   "cell_type": "code",
   "execution_count": 13,
   "metadata": {},
   "outputs": [],
   "source": [
    "hdf5_path=dataset_path_base \n",
    "\n",
    "filter_keys=sorted([elem for elem in demos_expert])\n",
    "filter_name=\"expert\"\n",
    "filter_lengths = create_hdf5_filter_key(hdf5_path=hdf5_path, demo_keys=filter_keys, key_name=filter_name)\n",
    "\n",
    "filter_keys=sorted([elem for elem in demos_good])\n",
    "filter_name=\"intentional\"\n",
    "filter_lengths = create_hdf5_filter_key(hdf5_path=hdf5_path, demo_keys=filter_keys, key_name=filter_name)"
   ]
  },
  {
   "cell_type": "code",
   "execution_count": 12,
   "metadata": {},
   "outputs": [],
   "source": [
    "f.close()"
   ]
  },
  {
   "cell_type": "code",
   "execution_count": null,
   "metadata": {},
   "outputs": [],
   "source": []
  },
  {
   "cell_type": "code",
   "execution_count": null,
   "metadata": {},
   "outputs": [],
   "source": []
  },
  {
   "cell_type": "code",
   "execution_count": null,
   "metadata": {},
   "outputs": [],
   "source": []
  },
  {
   "cell_type": "markdown",
   "metadata": {},
   "source": [
    "### rename"
   ]
  },
  {
   "cell_type": "code",
   "execution_count": null,
   "metadata": {},
   "outputs": [],
   "source": []
  },
  {
   "cell_type": "code",
   "execution_count": 13,
   "metadata": {},
   "outputs": [
    {
     "data": {
      "text/plain": [
       "70"
      ]
     },
     "execution_count": 13,
     "metadata": {},
     "output_type": "execute_result"
    }
   ],
   "source": [
    "demos2rename=[demo_name for demo_name in demos if 'True' in demo_name]\n",
    "len(demos2rename)"
   ]
  },
  {
   "cell_type": "code",
   "execution_count": null,
   "metadata": {},
   "outputs": [],
   "source": []
  },
  {
   "cell_type": "code",
   "execution_count": 11,
   "metadata": {},
   "outputs": [
    {
     "data": {
      "text/plain": [
       "['demo-True_1', 'demo-True_10', 'demo-True_11', 'demo-True_12', 'demo-True_13']"
      ]
     },
     "execution_count": 11,
     "metadata": {},
     "output_type": "execute_result"
    }
   ],
   "source": [
    "demos[:5]"
   ]
  },
  {
   "cell_type": "code",
   "execution_count": 14,
   "metadata": {},
   "outputs": [],
   "source": [
    "for demo_name in demos2rename:\n",
    "    id=eval(demo_name.split(\"_\")[1])\n",
    "    demo=f['data'][demo_name]\n",
    "    del f['data'][demo_name]\n",
    "    f['data'][f'demo_{id}'] = demo "
   ]
  },
  {
   "cell_type": "code",
   "execution_count": 10,
   "metadata": {},
   "outputs": [
    {
     "data": {
      "text/plain": [
       "<HDF5 group \"/data/demo-True_1\" (6 members)>"
      ]
     },
     "execution_count": 10,
     "metadata": {},
     "output_type": "execute_result"
    }
   ],
   "source": [
    "demo"
   ]
  },
  {
   "cell_type": "code",
   "execution_count": 11,
   "metadata": {},
   "outputs": [],
   "source": [
    "# f['data']['test_demo'] = demo"
   ]
  },
  {
   "cell_type": "code",
   "execution_count": 8,
   "metadata": {},
   "outputs": [],
   "source": [
    "# del f['data']['test_demo']"
   ]
  },
  {
   "cell_type": "code",
   "execution_count": 8,
   "metadata": {},
   "outputs": [],
   "source": [
    "f.close()"
   ]
  },
  {
   "cell_type": "code",
   "execution_count": null,
   "metadata": {},
   "outputs": [],
   "source": []
  },
  {
   "cell_type": "code",
   "execution_count": 17,
   "metadata": {},
   "outputs": [
    {
     "data": {
      "text/plain": [
       "<KeysViewHDF5 ['actions', 'obs', 'times']>"
      ]
     },
     "execution_count": 17,
     "metadata": {},
     "output_type": "execute_result"
    }
   ],
   "source": [
    "f['data']['demo_1'].keys()"
   ]
  },
  {
   "cell_type": "code",
   "execution_count": null,
   "metadata": {},
   "outputs": [],
   "source": []
  },
  {
   "cell_type": "code",
   "execution_count": 11,
   "metadata": {},
   "outputs": [],
   "source": [
    "def copy_demos_sawyer(f1, f2, demos2copy, next_id):\n",
    "    new_demos=[]\n",
    "    i=next_id\n",
    "    for demo_name in tqdm.tqdm(demos2copy):\n",
    "        demo2=f2['data'][demo_name]\n",
    "        num_samples= demo2.attrs['num_samples']\n",
    "        # model_file= demo2.attrs['model_file']\n",
    "\n",
    "        bdemo_name=\"demo_\"+str(i)\n",
    "        new_demos.append(bdemo_name)\n",
    "        i = i+1\n",
    "\n",
    "        f1[\"data\"].create_group(bdemo_name)\n",
    "\n",
    "\n",
    "        # ks=['actions', 'dones', 'rewards', 'states']\n",
    "        ks=['actions', 'times']\n",
    "        for k in ks:\n",
    "            kdata = demo2[k]\n",
    "            f1[\"data\"][bdemo_name].create_dataset(k, data=kdata)\n",
    "\n",
    "        obs_keys =demo2['obs'].keys()\n",
    "        # next_obs_keys= demo['next_obs'].keys()\n",
    "        for k in obs_keys:\n",
    "            kdata = demo2['obs'][k]\n",
    "            f1[\"data\"][bdemo_name].create_dataset(f'obs/{k}', data=kdata)\n",
    "        # for k in next_obs_keys:\n",
    "        #     kdata = demo2['next_obs'][k]\n",
    "        #     f1[\"data\"][bdemo_name].create_dataset(f'next_obs/{k}', data=kdata)\n",
    "\n",
    "        f1[\"data\"][bdemo_name].attrs[\"num_samples\"] = num_samples\n",
    "        # f1[\"data\"][bdemo_name].attrs[\"model_file\"] = model_file\n",
    "\n",
    "    # f.close()\n",
    "    f2.close()\n",
    "    return i , new_demos"
   ]
  },
  {
   "cell_type": "code",
   "execution_count": 13,
   "metadata": {},
   "outputs": [],
   "source": [
    "# expert\n",
    "dataset_paths_expert_can=[\n",
    "    \"/home/ns/collect_robomimic_demos/sojib_can_expert/PickPlaceCan_01_30_2024_01_19PM_sojib/demo_image.hdf5\",\n",
    "    \"/home/ns/collect_robomimic_demos/sojib_can_expert/PickPlaceCan_01_30_2024_02_33PM_sojib/demo_image.hdf5\" \n",
    "]"
   ]
  },
  {
   "cell_type": "code",
   "execution_count": 7,
   "metadata": {},
   "outputs": [],
   "source": [
    "#good\n",
    "dataset_paths_good_can =[\n",
    "    \"/home/ns/collect_robomimic_demos/Alyssa/PickPlaceCan_01_27_2024_04_35PM_AlyssaColandreo/demo_image.hdf5\",\n",
    "    \"/home/ns/collect_robomimic_demos/Benjamin/PickPlaceCan_01_29_2024_02_44PM_Benjamin/demo_image.hdf5\",\n",
    "    \"/home/ns/collect_robomimic_demos/Elbert/PickPlaceCan_01_26_2024_06_40PM_Elbert/demo_image.hdf5\",\n",
    "    \"/home/ns/collect_robomimic_demos/Lancaster/PickPlaceCan_01_29_2024_01_39PM_lancaster/demo_image.hdf5\",\n",
    "    \"/home/ns/collect_robomimic_demos/Nalene/PickPlaceCan_01_26_2024_05_17PM_nalene/demo_image.hdf5\",\n",
    "    \"/home/ns/collect_robomimic_demos/PickPlaceCan_02_02_2024_07_14PM_sojib/demo_image.hdf5\"\n",
    "]"
   ]
  },
  {
   "cell_type": "code",
   "execution_count": 2,
   "metadata": {},
   "outputs": [],
   "source": [
    "#lift good\n",
    "dataset_paths_good_lift=[\n",
    "    \"/home/ns/collect_robomimic_demos/Alyssa/Lift_01_27_2024_04_29PM_AlyssaColandreo/demo_image.hdf5\",\n",
    "    \"/home/ns/collect_robomimic_demos/Benjamin/Lift_01_29_2024_02_36PM_Benjamin/demo_image.hdf5\",\n",
    "    \"/home/ns/collect_robomimic_demos/Elbert/Lift_01_26_2024_06_34PM_Elbert/demo_image.hdf5\",\n",
    "    \"/home/ns/collect_robomimic_demos/Emma/Lift_01_27_2024_10_34AM_Emma/demo_image.hdf5\",\n",
    "    \"/home/ns/collect_robomimic_demos/James/Lift_01_27_2024_03_31PM_JamesonDunsford/demo_image.hdf5\",\n",
    "    \"/home/ns/collect_robomimic_demos/Lancaster/Lift_01_29_2024_01_28PM_Lancaster/demo_image.hdf5\",\n",
    "    \"/home/ns/collect_robomimic_demos/Mia/Lift_01_28_2024_10_00AM_Mia/demo_image.hdf5\",\n",
    "    \"/home/ns/collect_robomimic_demos/Nalene/Lift_01_26_2024_05_12PM_nalene/demo_image.hdf5\",\n",
    "    \"/home/ns/collect_robomimic_demos/Nusrat/Lift_01_29_2024_11_53AM_Nusrat/demo_image.hdf5\" \n",
    "]"
   ]
  },
  {
   "cell_type": "code",
   "execution_count": 12,
   "metadata": {},
   "outputs": [],
   "source": [
    "dataset_paths_second=[\n",
    "    \"/home/ns1254/data_robomimic/carl_dataset/mixed_human_original/spoon_pick_int3_29.hdf5\"\n",
    "]"
   ]
  },
  {
   "cell_type": "code",
   "execution_count": 13,
   "metadata": {},
   "outputs": [
    {
     "data": {
      "text/plain": [
       "100"
      ]
     },
     "execution_count": 13,
     "metadata": {},
     "output_type": "execute_result"
    }
   ],
   "source": [
    "next_id"
   ]
  },
  {
   "cell_type": "code",
   "execution_count": 14,
   "metadata": {},
   "outputs": [],
   "source": [
    "dataset_paths=dataset_paths_second\n",
    "key='all'"
   ]
  },
  {
   "cell_type": "code",
   "execution_count": 15,
   "metadata": {},
   "outputs": [
    {
     "name": "stdout",
     "output_type": "stream",
     "text": [
      "/home/ns1254/data_robomimic/carl_dataset/mixed_human_original/spoon_pick_int3_29.hdf5\n",
      "to copy:  29\n"
     ]
    },
    {
     "name": "stderr",
     "output_type": "stream",
     "text": [
      "100%|██████████| 29/29 [00:02<00:00, 11.54it/s]\n"
     ]
    }
   ],
   "source": [
    "#sawyer\n",
    "for dataset_path in dataset_paths:\n",
    "    print(dataset_path)\n",
    "    f2 = h5py.File(dataset_path, \"r\")\n",
    "    demos = list(f2[\"data\"].keys())\n",
    "\n",
    "    lengths=[]\n",
    "    for demo_name in demos:\n",
    "        demo=f2['data'][demo_name]\n",
    "        num_samples=demo.attrs['num_samples']\n",
    "        lengths.append(num_samples)\n",
    "\n",
    "    lengths=np.array(lengths)\n",
    "\n",
    "    # print('Number of demos: ', len(demos))\n",
    "    # print('Max length: ', np.max(lengths))\n",
    "    # print('Min length: ', np.min(lengths))\n",
    "    # print('Mean length: ', np.mean(lengths))\n",
    "    # print('Median length: ', np.median(lengths))\n",
    "\n",
    "    if key=='all':\n",
    "        demos2copy=demos\n",
    "    else:\n",
    "        print(key, f2['mask'][key]) \n",
    "        demos2copy=[demo.decode('utf-8') for demo in f2['mask'][key]] \n",
    "    \n",
    "    # demos2copy=demos2copy[:50] #special case.\n",
    "    print('to copy: ', len(demos2copy))\n",
    "\n",
    "\n",
    "    next_id, new_demos=copy_demos_sawyer(f, f2, demos2copy, next_id)\n",
    "\n",
    "    f2.close()\n",
    "\n",
    "# f.close()"
   ]
  },
  {
   "cell_type": "code",
   "execution_count": null,
   "metadata": {},
   "outputs": [],
   "source": []
  },
  {
   "cell_type": "code",
   "execution_count": null,
   "metadata": {},
   "outputs": [],
   "source": []
  },
  {
   "cell_type": "code",
   "execution_count": 11,
   "metadata": {},
   "outputs": [],
   "source": [
    "def copy_demos(f1, f2, demos2copy, next_id):\n",
    "    new_demos=[]\n",
    "    i=next_id\n",
    "    for demo_name in tqdm.tqdm(demos2copy):\n",
    "        demo2=f2['data'][demo_name]\n",
    "        num_samples= demo2.attrs['num_samples']\n",
    "        model_file= demo2.attrs['model_file']\n",
    "\n",
    "        bdemo_name=\"demo_\"+str(i)\n",
    "        new_demos.append(bdemo_name)\n",
    "        i = i+1\n",
    "\n",
    "        f1[\"data\"].create_group(bdemo_name)\n",
    "\n",
    "\n",
    "        ks=['actions', 'dones', 'rewards', 'states']\n",
    "        for k in ks:\n",
    "            kdata = demo2[k]\n",
    "            f1[\"data\"][bdemo_name].create_dataset(k, data=kdata)\n",
    "\n",
    "        obs_keys =demo2['obs'].keys()\n",
    "        next_obs_keys= demo['next_obs'].keys()\n",
    "        for k in obs_keys:\n",
    "            kdata = demo2['obs'][k]\n",
    "            f1[\"data\"][bdemo_name].create_dataset(f'obs/{k}', data=kdata)\n",
    "        for k in next_obs_keys:\n",
    "            kdata = demo2['next_obs'][k]\n",
    "            f1[\"data\"][bdemo_name].create_dataset(f'next_obs/{k}', data=kdata)\n",
    "\n",
    "        f1[\"data\"][bdemo_name].attrs[\"num_samples\"] = num_samples\n",
    "        f1[\"data\"][bdemo_name].attrs[\"model_file\"] = model_file\n",
    "\n",
    "    # f.close()\n",
    "    f2.close()\n",
    "    return i , new_demos"
   ]
  },
  {
   "cell_type": "code",
   "execution_count": 12,
   "metadata": {},
   "outputs": [
    {
     "name": "stdout",
     "output_type": "stream",
     "text": [
      "/home/ns1254/data_robomimic/carl_dataset/mixed_human_original/lift_try_good_21.hdf5\n",
      "to copy:  20\n"
     ]
    },
    {
     "name": "stderr",
     "output_type": "stream",
     "text": [
      "100%|██████████| 20/20 [00:00<00:00, 20.51it/s]\n"
     ]
    }
   ],
   "source": [
    "for dataset_path in dataset_paths:\n",
    "    print(dataset_path)\n",
    "    f2 = h5py.File(dataset_path, \"r\")\n",
    "    demos = list(f2[\"data\"].keys())\n",
    "\n",
    "    lengths=[]\n",
    "    for demo_name in demos:\n",
    "        demo=f2['data'][demo_name]\n",
    "        num_samples=demo.attrs['num_samples']\n",
    "        lengths.append(num_samples)\n",
    "\n",
    "    lengths=np.array(lengths)\n",
    "\n",
    "    # print('Number of demos: ', len(demos))\n",
    "    # print('Max length: ', np.max(lengths))\n",
    "    # print('Min length: ', np.min(lengths))\n",
    "    # print('Mean length: ', np.mean(lengths))\n",
    "    # print('Median length: ', np.median(lengths))\n",
    "\n",
    "    if key=='all':\n",
    "        demos2copy=demos[:20] \n",
    "    else:\n",
    "        print(key, f2['mask'][key]) \n",
    "        demos2copy=[demo.decode('utf-8') for demo in f2['mask'][key]] \n",
    "    \n",
    "    # demos2copy=demos2copy[:50] #special case.\n",
    "    print('to copy: ', len(demos2copy))\n",
    "\n",
    "\n",
    "    next_id, new_demos=copy_demos(f, f2, demos2copy, next_id)\n",
    "\n",
    "    f2.close()\n",
    "\n",
    "# f.close()"
   ]
  },
  {
   "cell_type": "code",
   "execution_count": 19,
   "metadata": {},
   "outputs": [],
   "source": [
    "f.close()"
   ]
  },
  {
   "cell_type": "code",
   "execution_count": null,
   "metadata": {},
   "outputs": [],
   "source": []
  },
  {
   "cell_type": "code",
   "execution_count": 16,
   "metadata": {},
   "outputs": [
    {
     "data": {
      "text/plain": [
       "array([b'demo_100', b'demo_101', b'demo_102', b'demo_103', b'demo_104',\n",
       "       b'demo_105', b'demo_106', b'demo_107', b'demo_108', b'demo_109',\n",
       "       b'demo_110', b'demo_111', b'demo_112', b'demo_113', b'demo_114',\n",
       "       b'demo_115', b'demo_116', b'demo_117', b'demo_118', b'demo_119',\n",
       "       b'demo_120', b'demo_121', b'demo_122', b'demo_123', b'demo_124',\n",
       "       b'demo_125', b'demo_126', b'demo_127', b'demo_128'], dtype='|S16')"
      ]
     },
     "execution_count": 16,
     "metadata": {},
     "output_type": "execute_result"
    }
   ],
   "source": [
    "demos_group= np.array(new_demos, dtype='S16') \n",
    "demos_group"
   ]
  },
  {
   "cell_type": "code",
   "execution_count": 17,
   "metadata": {},
   "outputs": [],
   "source": [
    "hdf5_path=dataset_path_base \n",
    "\n",
    "# filter_keys=sorted([elem for elem in demos_expert])\n",
    "# filter_name=\"expert\"\n",
    "# filter_lengths = create_hdf5_filter_key(hdf5_path=hdf5_path, demo_keys=filter_keys, key_name=filter_name)\n",
    "\n",
    "filter_keys=sorted([elem for elem in demos_group])\n",
    "filter_name=\"intentional\"\n",
    "filter_lengths = create_hdf5_filter_key(hdf5_path=hdf5_path, demo_keys=filter_keys, key_name=filter_name)"
   ]
  },
  {
   "cell_type": "code",
   "execution_count": null,
   "metadata": {},
   "outputs": [],
   "source": []
  },
  {
   "cell_type": "code",
   "execution_count": 12,
   "metadata": {},
   "outputs": [],
   "source": [
    "demos2copy=[demo.decode('utf-8') for demo in f2['mask'][key]] "
   ]
  },
  {
   "cell_type": "code",
   "execution_count": 13,
   "metadata": {},
   "outputs": [
    {
     "data": {
      "text/plain": [
       "['demo-True_1',\n",
       " 'demo-True_10',\n",
       " 'demo-True_11',\n",
       " 'demo-True_12',\n",
       " 'demo-True_13',\n",
       " 'demo-True_14',\n",
       " 'demo-True_15',\n",
       " 'demo-True_16',\n",
       " 'demo-True_17',\n",
       " 'demo-True_18',\n",
       " 'demo-True_19',\n",
       " 'demo-True_2',\n",
       " 'demo-True_20',\n",
       " 'demo-True_21',\n",
       " 'demo-True_22',\n",
       " 'demo-True_24',\n",
       " 'demo-True_25',\n",
       " 'demo-True_26',\n",
       " 'demo-True_27',\n",
       " 'demo-True_28',\n",
       " 'demo-True_29',\n",
       " 'demo-True_3',\n",
       " 'demo-True_30',\n",
       " 'demo-True_31',\n",
       " 'demo-True_32',\n",
       " 'demo-True_33',\n",
       " 'demo-True_34',\n",
       " 'demo-True_35',\n",
       " 'demo-True_36',\n",
       " 'demo-True_37',\n",
       " 'demo-True_38',\n",
       " 'demo-True_39',\n",
       " 'demo-True_4',\n",
       " 'demo-True_40',\n",
       " 'demo-True_41',\n",
       " 'demo-True_42',\n",
       " 'demo-True_43',\n",
       " 'demo-True_44',\n",
       " 'demo-True_45',\n",
       " 'demo-True_46',\n",
       " 'demo-True_47',\n",
       " 'demo-True_48',\n",
       " 'demo-True_49',\n",
       " 'demo-True_5',\n",
       " 'demo-True_50',\n",
       " 'demo-True_51',\n",
       " 'demo-True_52',\n",
       " 'demo-True_53',\n",
       " 'demo-True_54',\n",
       " 'demo-True_55',\n",
       " 'demo-True_56',\n",
       " 'demo-True_57',\n",
       " 'demo-True_58',\n",
       " 'demo-True_59',\n",
       " 'demo-True_6',\n",
       " 'demo-True_60',\n",
       " 'demo-True_61',\n",
       " 'demo-True_62',\n",
       " 'demo-True_63',\n",
       " 'demo-True_64',\n",
       " 'demo-True_65',\n",
       " 'demo-True_7',\n",
       " 'demo-True_8',\n",
       " 'demo-True_9']"
      ]
     },
     "execution_count": 13,
     "metadata": {},
     "output_type": "execute_result"
    }
   ],
   "source": [
    "demos2copy"
   ]
  },
  {
   "cell_type": "code",
   "execution_count": 15,
   "metadata": {},
   "outputs": [],
   "source": [
    "f.close()"
   ]
  },
  {
   "cell_type": "code",
   "execution_count": null,
   "metadata": {},
   "outputs": [],
   "source": []
  },
  {
   "cell_type": "code",
   "execution_count": null,
   "metadata": {},
   "outputs": [],
   "source": []
  },
  {
   "cell_type": "code",
   "execution_count": null,
   "metadata": {},
   "outputs": [],
   "source": []
  },
  {
   "cell_type": "markdown",
   "metadata": {},
   "source": [
    "### delete groups"
   ]
  },
  {
   "cell_type": "code",
   "execution_count": 8,
   "metadata": {},
   "outputs": [],
   "source": [
    "df=\"/home/ns/collect_robomimic_demos/Alyssa/PickPlaceCan_01_27_2024_04_35PM_AlyssaColandreo/demo_image.hdf5\""
   ]
  },
  {
   "cell_type": "code",
   "execution_count": 9,
   "metadata": {},
   "outputs": [
    {
     "data": {
      "text/plain": [
       "<KeysViewHDF5 ['train', 'valid']>"
      ]
     },
     "execution_count": 9,
     "metadata": {},
     "output_type": "execute_result"
    }
   ],
   "source": [
    "f2 = h5py.File(df, \"r+\")\n",
    "f2['mask'].keys()"
   ]
  },
  {
   "cell_type": "code",
   "execution_count": 4,
   "metadata": {},
   "outputs": [
    {
     "data": {
      "text/plain": [
       "['demo-True_1', 'demo-True_12', 'demo-True_15', 'demo-True_19', 'demo-True_2']"
      ]
     },
     "execution_count": 4,
     "metadata": {},
     "output_type": "execute_result"
    }
   ],
   "source": [
    "names=[b.decode('utf-8') for b in f2['mask']['good']]\n",
    "names[:5]"
   ]
  },
  {
   "cell_type": "code",
   "execution_count": 5,
   "metadata": {},
   "outputs": [
    {
     "data": {
      "text/plain": [
       "14"
      ]
     },
     "execution_count": 5,
     "metadata": {},
     "output_type": "execute_result"
    }
   ],
   "source": [
    "len(names)"
   ]
  },
  {
   "cell_type": "code",
   "execution_count": 6,
   "metadata": {},
   "outputs": [],
   "source": [
    "# del f2['mask']['expert']\n",
    "del f2['mask']['good']\n",
    "# del f2['mask']['slow_success']\n",
    "# del f2['mask']['try_good']"
   ]
  },
  {
   "cell_type": "code",
   "execution_count": 22,
   "metadata": {},
   "outputs": [
    {
     "data": {
      "text/plain": [
       "<KeysViewHDF5 ['demo-True_1', 'demo-True_10', 'demo-True_12', 'demo-True_13', 'demo-True_14', 'demo-True_15', 'demo-True_16', 'demo-True_17', 'demo-True_18', 'demo-True_2', 'demo-True_20', 'demo-True_21', 'demo-True_23', 'demo-True_24', 'demo-True_25', 'demo-True_26', 'demo-True_27', 'demo-True_28', 'demo-True_29', 'demo-True_30', 'demo-True_31', 'demo-True_33', 'demo-True_34', 'demo-True_35', 'demo-True_36', 'demo-True_39', 'demo-True_4', 'demo-True_40', 'demo-True_6', 'demo-True_7', 'demo-True_8']>"
      ]
     },
     "execution_count": 22,
     "metadata": {},
     "output_type": "execute_result"
    }
   ],
   "source": [
    "#delete demos not in expert\n",
    "demos=f2['data'].keys()\n",
    "demos"
   ]
  },
  {
   "cell_type": "code",
   "execution_count": 23,
   "metadata": {},
   "outputs": [
    {
     "data": {
      "text/plain": [
       "31"
      ]
     },
     "execution_count": 23,
     "metadata": {},
     "output_type": "execute_result"
    }
   ],
   "source": [
    "len(demos)"
   ]
  },
  {
   "cell_type": "code",
   "execution_count": 17,
   "metadata": {},
   "outputs": [],
   "source": [
    "for demo_name in demos:\n",
    "    if demo_name not in names:\n",
    "        print('demo_name=', demo_name)\n",
    "        # del f2['data'][demo_name]"
   ]
  },
  {
   "cell_type": "code",
   "execution_count": null,
   "metadata": {},
   "outputs": [],
   "source": []
  },
  {
   "cell_type": "code",
   "execution_count": null,
   "metadata": {},
   "outputs": [],
   "source": []
  },
  {
   "cell_type": "code",
   "execution_count": 10,
   "metadata": {},
   "outputs": [],
   "source": [
    "f2.close()"
   ]
  },
  {
   "cell_type": "code",
   "execution_count": null,
   "metadata": {},
   "outputs": [],
   "source": []
  },
  {
   "cell_type": "code",
   "execution_count": null,
   "metadata": {},
   "outputs": [],
   "source": []
  },
  {
   "cell_type": "code",
   "execution_count": null,
   "metadata": {},
   "outputs": [],
   "source": []
  },
  {
   "cell_type": "code",
   "execution_count": null,
   "metadata": {},
   "outputs": [],
   "source": []
  },
  {
   "cell_type": "code",
   "execution_count": null,
   "metadata": {},
   "outputs": [],
   "source": []
  },
  {
   "cell_type": "code",
   "execution_count": null,
   "metadata": {},
   "outputs": [],
   "source": []
  },
  {
   "cell_type": "code",
   "execution_count": null,
   "metadata": {},
   "outputs": [],
   "source": []
  },
  {
   "cell_type": "code",
   "execution_count": null,
   "metadata": {},
   "outputs": [],
   "source": []
  },
  {
   "cell_type": "code",
   "execution_count": null,
   "metadata": {},
   "outputs": [],
   "source": []
  },
  {
   "cell_type": "code",
   "execution_count": null,
   "metadata": {},
   "outputs": [],
   "source": []
  },
  {
   "cell_type": "code",
   "execution_count": null,
   "metadata": {},
   "outputs": [],
   "source": []
  },
  {
   "cell_type": "code",
   "execution_count": null,
   "metadata": {},
   "outputs": [],
   "source": []
  }
 ],
 "metadata": {
  "kernelspec": {
   "display_name": "robomimic_venv",
   "language": "python",
   "name": "python3"
  },
  "language_info": {
   "codemirror_mode": {
    "name": "ipython",
    "version": 3
   },
   "file_extension": ".py",
   "mimetype": "text/x-python",
   "name": "python",
   "nbconvert_exporter": "python",
   "pygments_lexer": "ipython3",
   "version": "3.8.17"
  },
  "orig_nbformat": 4
 },
 "nbformat": 4,
 "nbformat_minor": 2
}
