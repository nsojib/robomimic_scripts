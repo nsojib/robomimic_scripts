{
 "cells": [
  {
   "cell_type": "code",
   "execution_count": 1,
   "id": "1f24f1dd",
   "metadata": {},
   "outputs": [],
   "source": [
    "import numpy as np\n",
    "import zarr \n",
    "import h5py\n",
    "from matplotlib import pyplot as plt"
   ]
  },
  {
   "cell_type": "code",
   "execution_count": 2,
   "id": "d3576cc7",
   "metadata": {},
   "outputs": [
    {
     "name": "stdout",
     "output_type": "stream",
     "text": [
      "data\n",
      "meta\n",
      "meta: episode_ends (206,)\n",
      "data: action (25650, 2)\n",
      "data: img (25650, 96, 96, 3)\n",
      "data: keypoint (25650, 9, 2)\n",
      "data: n_contacts (25650, 1)\n",
      "data: state (25650, 5)\n"
     ]
    }
   ],
   "source": [
    "dataset_path = \"data/pusht/pusht_cchi_v7_replay.zarr\"\n",
    "dataset_zarr = zarr.open(dataset_path, 'r')\n",
    "\n",
    "for key in dataset_zarr.keys():\n",
    "    print(key )\n",
    "\n",
    "for key in dataset_zarr['meta']:\n",
    "    print('meta:', key, dataset_zarr['meta'][key].shape)\n",
    "\n",
    "for key in dataset_zarr['data'].keys():\n",
    "    print('data:', key, dataset_zarr['data'][key].shape) "
   ]
  },
  {
   "cell_type": "code",
   "execution_count": 3,
   "id": "1dfa00e9",
   "metadata": {},
   "outputs": [],
   "source": [
    "episode_ends=dataset_zarr['meta']['episode_ends'][:]\n",
    "action=dataset_zarr['data']['action'][:]\n",
    "img=dataset_zarr['data']['img'][:].astype(np.uint8)\n",
    "keypoint=dataset_zarr['data']['keypoint'][:]\n",
    "n_contacts=dataset_zarr['data']['n_contacts'][:]\n",
    "state=dataset_zarr['data']['state'][:]"
   ]
  },
  {
   "cell_type": "code",
   "execution_count": 4,
   "id": "6a468274",
   "metadata": {},
   "outputs": [],
   "source": [
    "episode_starts = np.concatenate(([0], episode_ends[:-1]))"
   ]
  },
  {
   "cell_type": "code",
   "execution_count": 5,
   "id": "ad3da972",
   "metadata": {},
   "outputs": [
    {
     "data": {
      "text/plain": [
       "(array([   0,  161,  279,  420,  579,  738,  895,  964, 1133, 1213]),\n",
       " array([ 161,  279,  420,  579,  738,  895,  964, 1133, 1213, 1347]))"
      ]
     },
     "execution_count": 5,
     "metadata": {},
     "output_type": "execute_result"
    }
   ],
   "source": [
    "episode_starts[:10], episode_ends[:10]"
   ]
  },
  {
   "cell_type": "code",
   "execution_count": 6,
   "id": "77d835a5",
   "metadata": {},
   "outputs": [],
   "source": [
    "def get_episode(episode_idx):\n",
    "    start = episode_starts[episode_idx]\n",
    "    end = episode_ends[episode_idx]\n",
    "    actions=action[start:end]\n",
    "    dactions = np.diff(actions, axis=0)\n",
    "    dactions = np.concatenate([dactions, np.zeros((1, 2))], axis=0)\n",
    "    return {\n",
    "        'action': action[start:end],\n",
    "        'daction': dactions,\n",
    "        'img': img[start:end],\n",
    "        'keypoint': keypoint[start:end],\n",
    "        'n_contacts': n_contacts[start:end],\n",
    "        'state': state[start:end],\n",
    "        'agent_pos': state[start:end, :2],\n",
    "    }"
   ]
  },
  {
   "cell_type": "code",
   "execution_count": 7,
   "id": "6b657b2b",
   "metadata": {},
   "outputs": [
    {
     "data": {
      "text/plain": [
       "((161, 2), (161, 2), (161, 96, 96, 3))"
      ]
     },
     "execution_count": 7,
     "metadata": {},
     "output_type": "execute_result"
    }
   ],
   "source": [
    "episode = get_episode(0)\n",
    "episode['action'].shape, episode['daction'].shape, episode['img'].shape"
   ]
  },
  {
   "cell_type": "code",
   "execution_count": 8,
   "id": "f4b485b6",
   "metadata": {},
   "outputs": [
    {
     "data": {
      "text/plain": [
       "206"
      ]
     },
     "execution_count": 8,
     "metadata": {},
     "output_type": "execute_result"
    }
   ],
   "source": [
    "n_episode=len(episode_starts)\n",
    "n_episode"
   ]
  },
  {
   "cell_type": "code",
   "execution_count": null,
   "id": "d82dae5f",
   "metadata": {},
   "outputs": [],
   "source": []
  },
  {
   "cell_type": "code",
   "execution_count": null,
   "id": "4023644e",
   "metadata": {},
   "outputs": [],
   "source": []
  },
  {
   "cell_type": "code",
   "execution_count": null,
   "id": "812b93c9",
   "metadata": {},
   "outputs": [],
   "source": []
  }
 ],
 "metadata": {
  "kernelspec": {
   "display_name": "mimicgen",
   "language": "python",
   "name": "python3"
  },
  "language_info": {
   "codemirror_mode": {
    "name": "ipython",
    "version": 3
   },
   "file_extension": ".py",
   "mimetype": "text/x-python",
   "name": "python",
   "nbconvert_exporter": "python",
   "pygments_lexer": "ipython3",
   "version": "3.8.19"
  }
 },
 "nbformat": 4,
 "nbformat_minor": 5
}
