{
 "cells": [
  {
   "cell_type": "code",
   "execution_count": 1,
   "metadata": {},
   "outputs": [],
   "source": [
    "import os\n",
    "import json\n",
    "import h5py\n",
    "import numpy as np\n",
    "\n",
    "import robomimic\n",
    "import robomimic.utils.file_utils as FileUtils\n",
    "import robomimic.utils.env_utils as EnvUtils\n",
    "import robomimic.utils.obs_utils as ObsUtils\n",
    "import imageio\n",
    "import matplotlib.pyplot as plt\n",
    "import cv2 "
   ]
  },
  {
   "cell_type": "markdown",
   "metadata": {},
   "source": [
    "### write good,bad segment on the video frames"
   ]
  },
  {
   "cell_type": "code",
   "execution_count": 2,
   "metadata": {},
   "outputs": [],
   "source": [
    "dataset_path = \"/home/ns1254/robomimic/datasets/can/mh/image_v141+groups.hdf5\"\n",
    "# dataset_path = \"/home/ns1254/data_robomimic/carl_dataset/mixed_human_original/can_carl_mix_v3_510.hdf5\""
   ]
  },
  {
   "cell_type": "code",
   "execution_count": 3,
   "metadata": {},
   "outputs": [
    {
     "name": "stdout",
     "output_type": "stream",
     "text": [
      "hdf5 file /home/ns1254/robomimic/datasets/can/mh/image_v141+groups.hdf5 has 300 demonstrations\n"
     ]
    }
   ],
   "source": [
    "f = h5py.File(dataset_path, \"r\")\n",
    "demos = list(f[\"data\"].keys())\n",
    "num_demos = len(demos)\n",
    "print(\"hdf5 file {} has {} demonstrations\".format(dataset_path, num_demos))"
   ]
  },
  {
   "cell_type": "code",
   "execution_count": 4,
   "metadata": {},
   "outputs": [
    {
     "data": {
      "text/plain": [
       "<KeysViewHDF5 ['20_percent', '20_percent_train', '20_percent_valid', '50_percent', '50_percent_train', '50_percent_valid', 'better', 'better+w10', 'better_operator_1', 'better_operator_1_train', 'better_operator_1_valid', 'better_operator_2', 'better_operator_2_train', 'better_operator_2_valid', 'better_train', 'better_valid', 'okay', 'okay_better', 'okay_better_train', 'okay_better_valid', 'okay_operator_1', 'okay_operator_1_train', 'okay_operator_1_valid', 'okay_operator_2', 'okay_operator_2_train', 'okay_operator_2_valid', 'okay_train', 'okay_valid', 'train', 'valid', 'w1b1', 'worse', 'worse_better', 'worse_better_train', 'worse_better_valid', 'worse_okay', 'worse_okay_train', 'worse_okay_valid', 'worse_operator_1', 'worse_operator_1_train', 'worse_operator_1_valid', 'worse_operator_2', 'worse_operator_2_train', 'worse_operator_2_valid', 'worse_train', 'worse_valid']>"
      ]
     },
     "execution_count": 4,
     "metadata": {},
     "output_type": "execute_result"
    }
   ],
   "source": [
    "f['mask'].keys()"
   ]
  },
  {
   "cell_type": "code",
   "execution_count": 5,
   "metadata": {},
   "outputs": [
    {
     "data": {
      "text/plain": [
       "False"
      ]
     },
     "execution_count": 5,
     "metadata": {},
     "output_type": "execute_result"
    }
   ],
   "source": [
    "f.keys()\n",
    "is_normalized = 'mins' in f.keys()\n",
    "action_mins = None\n",
    "action_maxs = None\n",
    "if is_normalized:\n",
    "    action_mins=np.array( f['mins'] )\n",
    "    action_maxs=np.array(f['maxs'])\n",
    "\n",
    "is_normalized"
   ]
  },
  {
   "cell_type": "code",
   "execution_count": null,
   "metadata": {},
   "outputs": [],
   "source": [
    " "
   ]
  },
  {
   "cell_type": "code",
   "execution_count": 6,
   "metadata": {},
   "outputs": [
    {
     "name": "stderr",
     "output_type": "stream",
     "text": [
      "\u001b[1m\u001b[33m[robosuite WARNING] \u001b[0mNo private macro file found! (macros.py:53)\n",
      "\u001b[1m\u001b[33m[robosuite WARNING] \u001b[0mIt is recommended to use a private macro file (macros.py:54)\n",
      "\u001b[1m\u001b[33m[robosuite WARNING] \u001b[0mTo setup, run: python /home/ns1254/robosuite/robosuite/scripts/setup_macros.py (macros.py:55)\n"
     ]
    },
    {
     "name": "stdout",
     "output_type": "stream",
     "text": [
      "Created environment with name PickPlaceCan\n",
      "Action size is 7\n"
     ]
    }
   ],
   "source": [
    "env_meta = json.loads(f[\"data\"].attrs[\"env_args\"])\n",
    "# env_meta = FileUtils.get_env_metadata_from_dataset(dataset_path=dataset_path)\n",
    "\n",
    "env = EnvUtils.create_env_from_metadata(\n",
    "    env_meta=env_meta, \n",
    "    render=False,            # no on-screen rendering\n",
    "    render_offscreen=True,   # off-screen rendering to support rendering video frames\n",
    ")"
   ]
  },
  {
   "cell_type": "code",
   "execution_count": 7,
   "metadata": {},
   "outputs": [
    {
     "name": "stdout",
     "output_type": "stream",
     "text": [
      "\n",
      "============= Initialized Observation Utils with Obs Spec =============\n",
      "\n",
      "using obs modality: low_dim with keys: ['robot0_eef_pos']\n",
      "using obs modality: rgb with keys: ['robot0_eye_in_hand', 'agentview_image']\n"
     ]
    }
   ],
   "source": [
    "# dummy spec necessary for playing back\n",
    "dummy_spec = dict(\n",
    "    obs=dict(\n",
    "            low_dim=[\"robot0_eef_pos\"],\n",
    "            rgb=[\"agentview_image\", \"robot0_eye_in_hand\"],\n",
    "        ),\n",
    ")\n",
    "ObsUtils.initialize_obs_utils_with_obs_specs(obs_modality_specs=dummy_spec)"
   ]
  },
  {
   "cell_type": "code",
   "execution_count": null,
   "metadata": {},
   "outputs": [],
   "source": []
  },
  {
   "cell_type": "code",
   "execution_count": null,
   "metadata": {},
   "outputs": [],
   "source": []
  },
  {
   "cell_type": "code",
   "execution_count": 9,
   "metadata": {},
   "outputs": [
    {
     "name": "stdout",
     "output_type": "stream",
     "text": [
      "tosave: video/can/510/p20b_gb_marked3\n"
     ]
    }
   ],
   "source": [
    "# task=\"can\" \n",
    "# dataset_type=\"510\" \n",
    "# group=\"p20b\"\n",
    "# more=\"gb_marked3\"\n",
    "# tosave='video/'+task+'/'+dataset_type+'/'+group+'_'+more\n",
    "# print('tosave:',tosave)\n",
    "# if not os.path.exists(tosave):\n",
    "#     os.makedirs(tosave)"
   ]
  },
  {
   "cell_type": "code",
   "execution_count": 8,
   "metadata": {},
   "outputs": [
    {
     "name": "stdout",
     "output_type": "stream",
     "text": [
      "tosave: video/can/mh/w1b1_gb_marked_m7\n"
     ]
    }
   ],
   "source": [
    "task=\"can\" \n",
    "dataset_type=\"mh\" \n",
    "group=\"w1b1\"\n",
    "more=\"gb_marked_m7\"\n",
    "tosave='video/'+task+'/'+dataset_type+'/'+group+'_'+more\n",
    "print('tosave:',tosave)\n",
    "if not os.path.exists(tosave):\n",
    "    os.makedirs(tosave)"
   ]
  },
  {
   "cell_type": "code",
   "execution_count": 9,
   "metadata": {},
   "outputs": [
    {
     "data": {
      "text/plain": [
       "(100, ['demo_0', 'demo_1', 'demo_10'])"
      ]
     },
     "execution_count": 9,
     "metadata": {},
     "output_type": "execute_result"
    }
   ],
   "source": [
    "# demos=[b  for b in f['data'].keys()]  \n",
    "demos=[b.decode('utf-8')  for b in f['mask'][group]]  \n",
    "len(demos), demos[:3]"
   ]
  },
  {
   "cell_type": "code",
   "execution_count": 10,
   "metadata": {},
   "outputs": [],
   "source": [
    "# fn=\"/home/ns1254/icra2025/segments_data_s2.json\"\n",
    "# fn=\"/home/ns1254/icra2025/segments_data_s5_can510_p20b.json\"\n",
    "fn=\"/home/ns1254/icra2025/segments_data_mh7.json\"\n",
    "segments_bd=json.load(open(fn))"
   ]
  },
  {
   "cell_type": "code",
   "execution_count": 11,
   "metadata": {},
   "outputs": [
    {
     "data": {
      "text/plain": [
       "dict_keys(['demo_200', 'demo_201', 'demo_202', 'demo_203', 'demo_204', 'demo_205', 'demo_206', 'demo_208', 'demo_209', 'demo_210', 'demo_211', 'demo_214', 'demo_216', 'demo_217', 'demo_219', 'demo_220', 'demo_221', 'demo_226', 'demo_228', 'demo_229', 'demo_231', 'demo_233', 'demo_234', 'demo_236', 'demo_243', 'demo_244', 'demo_245', 'demo_247', 'demo_248'])"
      ]
     },
     "execution_count": 11,
     "metadata": {},
     "output_type": "execute_result"
    }
   ],
   "source": [
    "segments_bd.keys()"
   ]
  },
  {
   "cell_type": "code",
   "execution_count": null,
   "metadata": {},
   "outputs": [],
   "source": []
  },
  {
   "cell_type": "code",
   "execution_count": 12,
   "metadata": {},
   "outputs": [],
   "source": [
    "def which_gb(demo_name, i):\n",
    "    segs_g=segments_bd[demo_name]['good']\n",
    "    segs_b=segments_bd[demo_name]['bad']\n",
    "\n",
    "    gb=-1 # 0 good, 1 bad\n",
    "    for seg in segs_g:\n",
    "        if i>=seg[0] and i<=seg[1]:\n",
    "            gb=0\n",
    "            break\n",
    "    for seg in segs_b:\n",
    "        if i>=seg[0] and i<=seg[1]:\n",
    "            gb=1\n",
    "            break\n",
    "    return gb"
   ]
  },
  {
   "cell_type": "code",
   "execution_count": null,
   "metadata": {},
   "outputs": [],
   "source": []
  },
  {
   "cell_type": "code",
   "execution_count": 15,
   "metadata": {},
   "outputs": [],
   "source": [
    "gb_bad={'demo_200': [(351, 364), (519, 540)],\n",
    " 'demo_201': [(276, 295), (391, 416)],\n",
    " 'demo_202': [(261, 302), (370, 396)],\n",
    " 'demo_206': [(257, 271), (275, 293), (306, 320)],\n",
    " 'demo_208': [(555, 572), (608, 674)],\n",
    " 'demo_209': [(248, 270)],\n",
    " 'demo_214': [(119, 138)],\n",
    " 'demo_217': [(481, 499), (546, 563), (580, 613)],\n",
    " 'demo_221': [(127, 145)],\n",
    " 'demo_228': [(142, 159)],\n",
    " 'demo_229': [(250, 273), (276, 298), (328, 371)],\n",
    " 'demo_244': [(75, 107), (149, 163)],\n",
    " 'demo_245': [(207, 235)],\n",
    " 'demo_248': [(353, 370), (403, 452)]}"
   ]
  },
  {
   "cell_type": "code",
   "execution_count": 12,
   "metadata": {},
   "outputs": [],
   "source": [
    "def in_bad_segment(demo_name, i):\n",
    "    if demo_name not in gb_bad:\n",
    "        return False\n",
    "    \n",
    "    gb=False\n",
    "    segs_b=gb_bad[demo_name]  \n",
    "    for seg in segs_b:\n",
    "        if i>=seg[0] and i<=seg[1]:\n",
    "            gb=True\n",
    "            break\n",
    "    return gb"
   ]
  },
  {
   "cell_type": "code",
   "execution_count": null,
   "metadata": {},
   "outputs": [],
   "source": []
  },
  {
   "cell_type": "code",
   "execution_count": 11,
   "metadata": {},
   "outputs": [],
   "source": [
    "gb_bad={\n",
    "'demo_134': [(210,320)],\n",
    "'demo_331': [(600,1200)],\n",
    "'demo_332': [(210,500), (900,1200)],\n",
    "'demo_335': [(50,400)],\n",
    "'demo_336': [(100,600)],\n",
    "'demo_342': [(300,1200)],\n",
    "'demo_343': [(100,1100)],\n",
    "'demo_364': [(100,550), (1000,1100)],\n",
    "'demo_365': [(450,550)],\n",
    "'demo_366': [(600,1000)],\n",
    "'demo_367': [(600,1200)],\n",
    "'demo_368': [(500,1200)],\n",
    "'demo_373': [(500,900)],\n",
    "'demo_374': [(1100,1200)]\n",
    "}"
   ]
  },
  {
   "cell_type": "code",
   "execution_count": 15,
   "metadata": {},
   "outputs": [
    {
     "data": {
      "text/plain": [
       "(False, True)"
      ]
     },
     "execution_count": 15,
     "metadata": {},
     "output_type": "execute_result"
    }
   ],
   "source": [
    "in_bad_segment('demo_0', 100) , in_bad_segment('demo_373', 550)"
   ]
  },
  {
   "cell_type": "code",
   "execution_count": null,
   "metadata": {},
   "outputs": [],
   "source": []
  },
  {
   "cell_type": "code",
   "execution_count": 38,
   "metadata": {},
   "outputs": [],
   "source": [
    "gb_good={'demo_200': [],\n",
    " 'demo_201': [(203, 246), (422, 488)],\n",
    " 'demo_202': [(190, 209)],\n",
    " 'demo_204': [],\n",
    " 'demo_205': [],\n",
    " 'demo_206': [],\n",
    " 'demo_208': [(234, 382), (487, 501)],\n",
    " 'demo_209': [(275, 307)],\n",
    " 'demo_211': [(296, 355)],\n",
    " 'demo_214': [],\n",
    " 'demo_217': [(372, 390)],\n",
    " 'demo_220': [(232, 269)],\n",
    " 'demo_221': [(159, 208)],\n",
    " 'demo_226': [],\n",
    " 'demo_228': [(179, 193), (290, 339)],\n",
    " 'demo_229': [(143, 164)],\n",
    " 'demo_244': [],\n",
    " 'demo_245': [],\n",
    " 'demo_247': [],\n",
    " 'demo_248': [(182, 237), (468, 525)]}"
   ]
  },
  {
   "cell_type": "code",
   "execution_count": 14,
   "metadata": {},
   "outputs": [],
   "source": [
    "def in_good_segment(demo_name, i):\n",
    "    if demo_name not in gb_good:\n",
    "        return False\n",
    "    \n",
    "    gb=False\n",
    "    segs_b=gb_good[demo_name]  \n",
    "    for seg in segs_b:\n",
    "        if i>=seg[0] and i<=seg[1]:\n",
    "            gb=True\n",
    "            break\n",
    "    return gb"
   ]
  },
  {
   "cell_type": "code",
   "execution_count": 15,
   "metadata": {},
   "outputs": [
    {
     "data": {
      "text/plain": [
       "0"
      ]
     },
     "execution_count": 15,
     "metadata": {},
     "output_type": "execute_result"
    }
   ],
   "source": [
    "demo_name=\"demo_249\"\n",
    "demo_name=\"demo_204\"\n",
    "demo_name=\"demo_248\"\n",
    "demo_name=\"demo_340\"\n",
    "which_gb(demo_name, 470)"
   ]
  },
  {
   "cell_type": "code",
   "execution_count": 11,
   "metadata": {},
   "outputs": [],
   "source": [
    "#p20b good segments from bad\n",
    "gb_good={'demo_134': [(0, 25), (168, 187)],\n",
    " 'demo_136': [(0, 23)],\n",
    " 'demo_331': [(0, 49)],\n",
    " 'demo_332': [(0, 28)],\n",
    " 'demo_333': [(404, 433), (491, 518), (634, 684), (708, 742)],\n",
    " 'demo_335': [(0, 18)],\n",
    " 'demo_336': [],\n",
    " 'demo_337': [(0, 19), (191, 228)],\n",
    " 'demo_338': [(868, 931), (968, 989), (1013, 1081), (1157, 1199)],\n",
    " 'demo_339': [(826, 892)],\n",
    " 'demo_340': [(0, 24), (450, 472), (597, 626)],\n",
    " 'demo_341': [],\n",
    " 'demo_342': [(0, 29)],\n",
    " 'demo_343': [(0, 24)],\n",
    " 'demo_344': [(584, 637)],\n",
    " 'demo_345': [],\n",
    " 'demo_361': [(1027, 1093)],\n",
    " 'demo_362': [(0, 33), (469, 532)],\n",
    " 'demo_363': [(345, 361),\n",
    "  (441, 484),\n",
    "  (504, 550),\n",
    "  (743, 770),\n",
    "  (940, 976),\n",
    "  (999, 1040),\n",
    "  (1135, 1155)],\n",
    " 'demo_364': [(0, 42)],\n",
    " 'demo_365': [(469, 598)],\n",
    " 'demo_366': [(0, 21)],\n",
    " 'demo_367': [(0, 78)],\n",
    " 'demo_368': [(0, 22), (247, 266), (420, 452)],\n",
    " 'demo_369': [(679, 699), (714, 743)],\n",
    " 'demo_371': [(900, 949)],\n",
    " 'demo_372': [(0, 23), (951, 987)],\n",
    " 'demo_373': [],\n",
    " 'demo_374': [(1010, 1099)]}"
   ]
  },
  {
   "cell_type": "code",
   "execution_count": 13,
   "metadata": {},
   "outputs": [
    {
     "data": {
      "text/plain": [
       "0"
      ]
     },
     "execution_count": 13,
     "metadata": {},
     "output_type": "execute_result"
    }
   ],
   "source": [
    "demo_name=\"demo_340\"\n",
    "in_good_segment(demo_name, 470)"
   ]
  },
  {
   "cell_type": "code",
   "execution_count": 15,
   "metadata": {},
   "outputs": [
    {
     "data": {
      "text/plain": [
       "True"
      ]
     },
     "execution_count": 15,
     "metadata": {},
     "output_type": "execute_result"
    }
   ],
   "source": [
    "demo_name=\"demo_340\"\n",
    "in_good_segment(demo_name, 470)"
   ]
  },
  {
   "cell_type": "code",
   "execution_count": 16,
   "metadata": {},
   "outputs": [
    {
     "data": {
      "text/plain": [
       "False"
      ]
     },
     "execution_count": 16,
     "metadata": {},
     "output_type": "execute_result"
    }
   ],
   "source": [
    "in_good_segment(\"demo_373\", 470)"
   ]
  },
  {
   "cell_type": "code",
   "execution_count": 18,
   "metadata": {},
   "outputs": [
    {
     "data": {
      "text/plain": [
       "(False, True)"
      ]
     },
     "execution_count": 18,
     "metadata": {},
     "output_type": "execute_result"
    }
   ],
   "source": [
    "in_good_segment(\"demo_371\", 470) , in_good_segment(\"demo_371\", 920)"
   ]
  },
  {
   "cell_type": "code",
   "execution_count": null,
   "metadata": {},
   "outputs": [],
   "source": []
  },
  {
   "cell_type": "code",
   "execution_count": 13,
   "metadata": {},
   "outputs": [],
   "source": [
    "def playback_and_save(demo_key):\n",
    "    video_path = os.path.join(tosave, demo_key+\".mp4\")\n",
    "    video_writer = imageio.get_writer(video_path, fps=20)\n",
    "    \n",
    "    init_state = f[\"data/{}/states\".format(demo_key)][0]\n",
    "    model_xml = f[\"data/{}\".format(demo_key)].attrs[\"model_file\"]\n",
    "    initial_state_dict = dict(states=init_state, model=model_xml)\n",
    "\n",
    "    # reset to initial state\n",
    "    env.reset_to(initial_state_dict)\n",
    "\n",
    "    # playback actions one by one, and render frames\n",
    "    actions = f[\"data/{}/actions\".format(demo_key)][:]\n",
    "    \n",
    "    if is_normalized:\n",
    "        ac=np.array(actions)\n",
    "        ac_unnorm = action_mins +( (ac+1.0)/2.0 )*(action_maxs-action_mins)\n",
    "        actions = ac_unnorm\n",
    "    \n",
    "    for t in range(actions.shape[0]):\n",
    "        env.step(actions[t])\n",
    "        video_img = env.render(mode=\"rgb_array\", height=512, width=512, camera_name=\"agentview\")\n",
    "        video_img = np.ascontiguousarray(video_img, dtype=np.uint8)\n",
    "        cv2.putText(video_img, str(t), (10, 30), cv2.FONT_HERSHEY_SIMPLEX, 1, (0, 255, 0), 2, cv2.LINE_AA)   #write timestep on image \n",
    "        gb=which_gb(demo_key, t)\n",
    "        # gb=in_good_segment(demo_key, t)\n",
    "        # gb = not in_bad_segment(demo_key, t)\n",
    "        # if gb:\n",
    "        #     gb=0\n",
    "        # else:\n",
    "        #     gb=1\n",
    "        \n",
    "        sgb='skip' \n",
    "        color_gb=(0, 120, 120)\n",
    "        if gb==0:\n",
    "            sgb='good'\n",
    "            color_gb=(0, 255, 0)\n",
    "        elif gb==1:\n",
    "            sgb='bad'\n",
    "            color_gb=(255, 0, 0)\n",
    "\n",
    "        cv2.putText(video_img, sgb, (10, 60), cv2.FONT_HERSHEY_SIMPLEX, 1, color_gb, 2, cv2.LINE_AA)   #write gb info on image\n",
    "        video_writer.append_data(video_img)\n",
    "\n",
    "    video_writer.close()\n",
    "    print('saved to',video_path)"
   ]
  },
  {
   "cell_type": "code",
   "execution_count": 14,
   "metadata": {},
   "outputs": [],
   "source": [
    "# demo_name=\"demo_249\"\n",
    "# playback_and_save(demo_name)"
   ]
  },
  {
   "cell_type": "code",
   "execution_count": 15,
   "metadata": {},
   "outputs": [
    {
     "name": "stdout",
     "output_type": "stream",
     "text": [
      "#demo demo_200\n",
      "saved to video/can/mh/w1b1_gb_marked_m7/demo_200.mp4\n",
      "#demo demo_201\n",
      "saved to video/can/mh/w1b1_gb_marked_m7/demo_201.mp4\n",
      "#demo demo_202\n",
      "saved to video/can/mh/w1b1_gb_marked_m7/demo_202.mp4\n",
      "#demo demo_203\n",
      "saved to video/can/mh/w1b1_gb_marked_m7/demo_203.mp4\n",
      "#demo demo_204\n",
      "saved to video/can/mh/w1b1_gb_marked_m7/demo_204.mp4\n",
      "#demo demo_205\n",
      "saved to video/can/mh/w1b1_gb_marked_m7/demo_205.mp4\n",
      "#demo demo_206\n",
      "saved to video/can/mh/w1b1_gb_marked_m7/demo_206.mp4\n",
      "#demo demo_208\n",
      "saved to video/can/mh/w1b1_gb_marked_m7/demo_208.mp4\n",
      "#demo demo_209\n",
      "saved to video/can/mh/w1b1_gb_marked_m7/demo_209.mp4\n",
      "#demo demo_210\n",
      "saved to video/can/mh/w1b1_gb_marked_m7/demo_210.mp4\n",
      "#demo demo_211\n",
      "saved to video/can/mh/w1b1_gb_marked_m7/demo_211.mp4\n",
      "#demo demo_214\n",
      "saved to video/can/mh/w1b1_gb_marked_m7/demo_214.mp4\n",
      "#demo demo_216\n",
      "saved to video/can/mh/w1b1_gb_marked_m7/demo_216.mp4\n",
      "#demo demo_217\n",
      "saved to video/can/mh/w1b1_gb_marked_m7/demo_217.mp4\n",
      "#demo demo_219\n",
      "saved to video/can/mh/w1b1_gb_marked_m7/demo_219.mp4\n",
      "#demo demo_220\n",
      "saved to video/can/mh/w1b1_gb_marked_m7/demo_220.mp4\n",
      "#demo demo_221\n",
      "saved to video/can/mh/w1b1_gb_marked_m7/demo_221.mp4\n",
      "#demo demo_226\n",
      "saved to video/can/mh/w1b1_gb_marked_m7/demo_226.mp4\n",
      "#demo demo_228\n",
      "saved to video/can/mh/w1b1_gb_marked_m7/demo_228.mp4\n",
      "#demo demo_229\n",
      "saved to video/can/mh/w1b1_gb_marked_m7/demo_229.mp4\n",
      "#demo demo_231\n",
      "saved to video/can/mh/w1b1_gb_marked_m7/demo_231.mp4\n",
      "#demo demo_233\n",
      "saved to video/can/mh/w1b1_gb_marked_m7/demo_233.mp4\n",
      "#demo demo_234\n",
      "saved to video/can/mh/w1b1_gb_marked_m7/demo_234.mp4\n",
      "#demo demo_236\n",
      "saved to video/can/mh/w1b1_gb_marked_m7/demo_236.mp4\n",
      "#demo demo_243\n",
      "saved to video/can/mh/w1b1_gb_marked_m7/demo_243.mp4\n",
      "#demo demo_244\n",
      "saved to video/can/mh/w1b1_gb_marked_m7/demo_244.mp4\n",
      "#demo demo_245\n",
      "saved to video/can/mh/w1b1_gb_marked_m7/demo_245.mp4\n",
      "#demo demo_247\n",
      "saved to video/can/mh/w1b1_gb_marked_m7/demo_247.mp4\n",
      "#demo demo_248\n",
      "saved to video/can/mh/w1b1_gb_marked_m7/demo_248.mp4\n"
     ]
    }
   ],
   "source": [
    "for demo_name in segments_bd.keys():\n",
    "    print(f'#demo {demo_name}')\n",
    "    playback_and_save(demo_name)"
   ]
  },
  {
   "cell_type": "code",
   "execution_count": null,
   "metadata": {},
   "outputs": [],
   "source": []
  },
  {
   "cell_type": "code",
   "execution_count": null,
   "metadata": {},
   "outputs": [],
   "source": []
  },
  {
   "cell_type": "code",
   "execution_count": 19,
   "metadata": {},
   "outputs": [
    {
     "name": "stdout",
     "output_type": "stream",
     "text": [
      "#demo demo_134\n",
      "saved to video/can/510/p20b_gb_marked3/demo_134.mp4\n",
      "#demo demo_331\n",
      "saved to video/can/510/p20b_gb_marked3/demo_331.mp4\n",
      "#demo demo_332\n",
      "saved to video/can/510/p20b_gb_marked3/demo_332.mp4\n",
      "#demo demo_335\n",
      "saved to video/can/510/p20b_gb_marked3/demo_335.mp4\n",
      "#demo demo_336\n",
      "saved to video/can/510/p20b_gb_marked3/demo_336.mp4\n",
      "#demo demo_342\n",
      "saved to video/can/510/p20b_gb_marked3/demo_342.mp4\n",
      "#demo demo_343\n",
      "saved to video/can/510/p20b_gb_marked3/demo_343.mp4\n",
      "#demo demo_364\n",
      "saved to video/can/510/p20b_gb_marked3/demo_364.mp4\n",
      "#demo demo_365\n",
      "saved to video/can/510/p20b_gb_marked3/demo_365.mp4\n",
      "#demo demo_366\n",
      "saved to video/can/510/p20b_gb_marked3/demo_366.mp4\n",
      "#demo demo_367\n",
      "saved to video/can/510/p20b_gb_marked3/demo_367.mp4\n",
      "#demo demo_368\n",
      "saved to video/can/510/p20b_gb_marked3/demo_368.mp4\n",
      "#demo demo_373\n",
      "saved to video/can/510/p20b_gb_marked3/demo_373.mp4\n",
      "#demo demo_374\n",
      "saved to video/can/510/p20b_gb_marked3/demo_374.mp4\n"
     ]
    }
   ],
   "source": [
    "for demo_name in gb_bad.keys():\n",
    "    print(f'#demo {demo_name}')\n",
    "    playback_and_save(demo_name)"
   ]
  },
  {
   "cell_type": "code",
   "execution_count": null,
   "metadata": {},
   "outputs": [],
   "source": []
  },
  {
   "cell_type": "code",
   "execution_count": 21,
   "metadata": {},
   "outputs": [
    {
     "name": "stdout",
     "output_type": "stream",
     "text": [
      "#demo demo_134\n",
      "saved to video/can/510/p20b_gb_marked2/demo_134.mp4\n",
      "#demo demo_136\n",
      "saved to video/can/510/p20b_gb_marked2/demo_136.mp4\n",
      "#demo demo_331\n",
      "saved to video/can/510/p20b_gb_marked2/demo_331.mp4\n",
      "#demo demo_332\n",
      "saved to video/can/510/p20b_gb_marked2/demo_332.mp4\n",
      "#demo demo_333\n",
      "saved to video/can/510/p20b_gb_marked2/demo_333.mp4\n",
      "#demo demo_335\n",
      "saved to video/can/510/p20b_gb_marked2/demo_335.mp4\n",
      "#demo demo_336\n",
      "saved to video/can/510/p20b_gb_marked2/demo_336.mp4\n",
      "#demo demo_337\n",
      "saved to video/can/510/p20b_gb_marked2/demo_337.mp4\n",
      "#demo demo_338\n",
      "saved to video/can/510/p20b_gb_marked2/demo_338.mp4\n",
      "#demo demo_339\n",
      "saved to video/can/510/p20b_gb_marked2/demo_339.mp4\n",
      "#demo demo_340\n",
      "saved to video/can/510/p20b_gb_marked2/demo_340.mp4\n",
      "#demo demo_341\n",
      "saved to video/can/510/p20b_gb_marked2/demo_341.mp4\n",
      "#demo demo_342\n",
      "saved to video/can/510/p20b_gb_marked2/demo_342.mp4\n",
      "#demo demo_343\n",
      "saved to video/can/510/p20b_gb_marked2/demo_343.mp4\n",
      "#demo demo_344\n",
      "saved to video/can/510/p20b_gb_marked2/demo_344.mp4\n",
      "#demo demo_345\n",
      "saved to video/can/510/p20b_gb_marked2/demo_345.mp4\n",
      "#demo demo_361\n",
      "saved to video/can/510/p20b_gb_marked2/demo_361.mp4\n",
      "#demo demo_362\n",
      "saved to video/can/510/p20b_gb_marked2/demo_362.mp4\n",
      "#demo demo_363\n",
      "saved to video/can/510/p20b_gb_marked2/demo_363.mp4\n",
      "#demo demo_364\n",
      "saved to video/can/510/p20b_gb_marked2/demo_364.mp4\n",
      "#demo demo_365\n",
      "saved to video/can/510/p20b_gb_marked2/demo_365.mp4\n",
      "#demo demo_366\n",
      "saved to video/can/510/p20b_gb_marked2/demo_366.mp4\n",
      "#demo demo_367\n",
      "saved to video/can/510/p20b_gb_marked2/demo_367.mp4\n",
      "#demo demo_368\n",
      "saved to video/can/510/p20b_gb_marked2/demo_368.mp4\n",
      "#demo demo_369\n",
      "saved to video/can/510/p20b_gb_marked2/demo_369.mp4\n",
      "#demo demo_371\n",
      "saved to video/can/510/p20b_gb_marked2/demo_371.mp4\n",
      "#demo demo_372\n",
      "saved to video/can/510/p20b_gb_marked2/demo_372.mp4\n",
      "#demo demo_373\n",
      "saved to video/can/510/p20b_gb_marked2/demo_373.mp4\n",
      "#demo demo_374\n",
      "saved to video/can/510/p20b_gb_marked2/demo_374.mp4\n"
     ]
    }
   ],
   "source": [
    "for demo_name in gb_good.keys():\n",
    "    print(f'#demo {demo_name}')\n",
    "    playback_and_save(demo_name)"
   ]
  },
  {
   "cell_type": "code",
   "execution_count": null,
   "metadata": {},
   "outputs": [],
   "source": []
  },
  {
   "cell_type": "code",
   "execution_count": null,
   "metadata": {},
   "outputs": [],
   "source": []
  },
  {
   "cell_type": "code",
   "execution_count": null,
   "metadata": {},
   "outputs": [],
   "source": []
  },
  {
   "cell_type": "code",
   "execution_count": null,
   "metadata": {},
   "outputs": [],
   "source": []
  },
  {
   "cell_type": "markdown",
   "metadata": {},
   "source": [
    "### save all bad segments in a single video file with slow fps"
   ]
  },
  {
   "cell_type": "code",
   "execution_count": 20,
   "metadata": {},
   "outputs": [],
   "source": [
    "video_path = os.path.join(tosave, 'all_bad_segs2'+\".mp4\")\n",
    "video_writer = imageio.get_writer(video_path, fps=5)"
   ]
  },
  {
   "cell_type": "code",
   "execution_count": 21,
   "metadata": {},
   "outputs": [
    {
     "name": "stdout",
     "output_type": "stream",
     "text": [
      "#demo demo_200\n",
      "#demo demo_201\n",
      "#demo demo_202\n",
      "#demo demo_204\n",
      "#demo demo_205\n",
      "#demo demo_206\n",
      "#demo demo_208\n",
      "#demo demo_209\n",
      "#demo demo_211\n",
      "#demo demo_214\n",
      "#demo demo_217\n",
      "#demo demo_220\n",
      "#demo demo_221\n",
      "#demo demo_226\n",
      "#demo demo_228\n",
      "#demo demo_229\n",
      "#demo demo_244\n",
      "#demo demo_245\n",
      "#demo demo_247\n",
      "#demo demo_248\n",
      "saved to video/can/mh/w1b1_gb_marked2/all_bad_segs2.mp4\n"
     ]
    }
   ],
   "source": [
    "for demo_key in segments_bd.keys():\n",
    "    print(f'#demo {demo_key}')\n",
    "    init_state = f[\"data/{}/states\".format(demo_key)][0]\n",
    "    model_xml = f[\"data/{}\".format(demo_key)].attrs[\"model_file\"]\n",
    "    initial_state_dict = dict(states=init_state, model=model_xml)\n",
    "\n",
    "    # reset to initial state\n",
    "    env.reset_to(initial_state_dict)\n",
    "\n",
    "    # playback actions one by one, and render frames\n",
    "    actions = f[\"data/{}/actions\".format(demo_key)][:]\n",
    "    \n",
    "    if is_normalized:\n",
    "        ac=np.array(actions)\n",
    "        ac_unnorm = action_mins +( (ac+1.0)/2.0 )*(action_maxs-action_mins)\n",
    "        actions = ac_unnorm\n",
    "    \n",
    "    for t in range(actions.shape[0]):\n",
    "        env.step(actions[t])\n",
    "        video_img = env.render(mode=\"rgb_array\", height=512, width=512, camera_name=\"agentview\")\n",
    "        video_img = np.ascontiguousarray(video_img, dtype=np.uint8)\n",
    "        cv2.putText(video_img, str(t), (10, 30), cv2.FONT_HERSHEY_SIMPLEX, 1, (0, 255, 0), 2, cv2.LINE_AA)   #write timestep on image \n",
    "        gb=which_gb(demo_key, t)\n",
    "        if gb==1:\n",
    "            sgb='bad'\n",
    "            color_gb=(255, 0, 0) \n",
    "            cv2.putText(video_img, sgb, (10, 60), cv2.FONT_HERSHEY_SIMPLEX, 1, color_gb, 2, cv2.LINE_AA)   #write gb info on image\n",
    "            cv2.putText(video_img, demo_key, (10, 90), cv2.FONT_HERSHEY_SIMPLEX, 1, color_gb, 2, cv2.LINE_AA)\n",
    "\n",
    "            video_writer.append_data(video_img)\n",
    "\n",
    "video_writer.close()\n",
    "print('saved to',video_path)"
   ]
  },
  {
   "cell_type": "code",
   "execution_count": null,
   "metadata": {},
   "outputs": [],
   "source": []
  },
  {
   "cell_type": "code",
   "execution_count": null,
   "metadata": {},
   "outputs": [],
   "source": []
  },
  {
   "cell_type": "code",
   "execution_count": null,
   "metadata": {},
   "outputs": [],
   "source": []
  },
  {
   "cell_type": "code",
   "execution_count": null,
   "metadata": {},
   "outputs": [],
   "source": [
    "# for i, demo_key in enumerate(demos):\n",
    "#     print(f'#demo {i+1}/{len(demos)} {demo_key}')\n",
    "#     playback_and_save(demo_key)"
   ]
  },
  {
   "cell_type": "code",
   "execution_count": null,
   "metadata": {},
   "outputs": [],
   "source": []
  },
  {
   "cell_type": "code",
   "execution_count": null,
   "metadata": {},
   "outputs": [],
   "source": []
  },
  {
   "cell_type": "code",
   "execution_count": null,
   "metadata": {},
   "outputs": [],
   "source": []
  },
  {
   "cell_type": "code",
   "execution_count": null,
   "metadata": {},
   "outputs": [],
   "source": []
  },
  {
   "cell_type": "code",
   "execution_count": null,
   "metadata": {},
   "outputs": [],
   "source": []
  },
  {
   "cell_type": "code",
   "execution_count": null,
   "metadata": {},
   "outputs": [],
   "source": []
  }
 ],
 "metadata": {
  "kernelspec": {
   "display_name": "robomimic_venv",
   "language": "python",
   "name": "python3"
  },
  "language_info": {
   "codemirror_mode": {
    "name": "ipython",
    "version": 3
   },
   "file_extension": ".py",
   "mimetype": "text/x-python",
   "name": "python",
   "nbconvert_exporter": "python",
   "pygments_lexer": "ipython3",
   "version": "3.8.17"
  },
  "orig_nbformat": 4,
  "vscode": {
   "interpreter": {
    "hash": "0470c1ad2f0fb27cfc2238567a653f05115d47bf4fc5f86d0f161d89abc1f79a"
   }
  }
 },
 "nbformat": 4,
 "nbformat_minor": 2
}
