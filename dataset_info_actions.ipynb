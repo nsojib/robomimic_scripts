{
 "cells": [
  {
   "cell_type": "code",
   "execution_count": 1,
   "metadata": {},
   "outputs": [],
   "source": [
    "import os\n",
    "import json\n",
    "import h5py\n",
    "import numpy as np\n",
    "\n",
    "import robomimic\n",
    "import robomimic.utils.file_utils as FileUtils\n",
    "import robomimic.utils.env_utils as EnvUtils\n",
    "import robomimic.utils.obs_utils as ObsUtils\n",
    "import imageio\n",
    "import tqdm\n",
    "from robomimic.utils.file_utils import create_hdf5_filter_key\n",
    "import shutil"
   ]
  },
  {
   "cell_type": "code",
   "execution_count": null,
   "metadata": {},
   "outputs": [],
   "source": []
  },
  {
   "cell_type": "markdown",
   "metadata": {},
   "source": [
    "### action analysis"
   ]
  },
  {
   "cell_type": "code",
   "execution_count": 2,
   "metadata": {},
   "outputs": [],
   "source": [
    "def get_action_info(dataset_path):\n",
    "    f = h5py.File(dataset_path, \"r\")\n",
    "    demos = list(f[\"data\"].keys())\n",
    "    \n",
    "    demos_minmax={}\n",
    "    for demo_name in demos:\n",
    "        action=f['data'][demo_name]['actions']\n",
    "        action=np.array(action) \n",
    "        \n",
    "        notin=False\n",
    "        if np.min(action) < -1 or np.max(action) > 1:\n",
    "            notin=True\n",
    "\n",
    "        demos_minmax[demo_name] = (np.min(action), np.max(action), notin)\n",
    "\n",
    "    return demos_minmax"
   ]
  },
  {
   "cell_type": "code",
   "execution_count": null,
   "metadata": {},
   "outputs": [],
   "source": []
  },
  {
   "cell_type": "code",
   "execution_count": 3,
   "metadata": {},
   "outputs": [],
   "source": [
    "dataset_path = \"/home/ns1254/robomimic/datasets/lift/mh/image_v141_bcwr_d100.hdf5\" \n",
    "dataset_path = \"/home/ns1254/data_robomimic/lift/ns/lift_image81.hdf5\"\n",
    "dataset_path = \"/home/ns1254/data_robomimic/lift/ns/lift_image81_norm.hdf5\"\n",
    "\n",
    "dataset_path = \"/home/ns1254/data_robomimic/lift/ns/image227gob3.hdf5\"\n",
    "demos_minmax = get_action_info(dataset_path)"
   ]
  },
  {
   "cell_type": "code",
   "execution_count": 4,
   "metadata": {},
   "outputs": [
    {
     "name": "stdout",
     "output_type": "stream",
     "text": [
      "demo_10 (-3.1875000000000018, 3.0000000000000027, True)\n",
      "demo_102 (-3.187500000000001, 1.2952762097120287, True)\n",
      "demo_105 (-1.0, 3.375000000000003, True)\n",
      "demo_106 (-1.0, 1.1222469434142117, True)\n",
      "demo_107 (-2.062500000000001, 1.0, True)\n",
      "demo_108 (-1.6875000000000016, 1.0, True)\n",
      "demo_110 (-1.6875000000000016, 1.3575421273708341, True)\n",
      "demo_111 (-1.0, 1.1250000000000009, True)\n",
      "demo_114 (-2.437500000000002, 1.0, True)\n",
      "demo_117 (-2.437500000000002, 1.0, True)\n",
      "demo_118 (-1.0, 1.0990852117538459, True)\n",
      "demo_12 (-2.0625000000000018, 1.0, True)\n",
      "demo_120 (-2.2500000000000018, 1.1250000000000009, True)\n",
      "demo_121 (-1.1249999999999998, 1.0, True)\n",
      "demo_123 (-1.5000000000000009, 1.0, True)\n",
      "demo_128 (-1.0, 1.1129198968410496, True)\n",
      "demo_13 (-1.6875000000000016, 1.189553514122964, True)\n",
      "demo_130 (-1.0, 3.0000000000000027, True)\n",
      "demo_132 (-1.1250000000000009, 3.0000000000000027, True)\n",
      "demo_135 (-2.062500000000001, 1.0, True)\n",
      "demo_137 (-1.8750000000000018, 1.0, True)\n",
      "demo_14 (-2.8125000000000027, 1.7526738345623019, True)\n",
      "demo_141 (-2.2500000000000018, 1.0, True)\n",
      "demo_149 (-1.312500000000001, 1.0, True)\n",
      "demo_15 (-2.8125000000000018, 1.270816922187805, True)\n",
      "demo_151 (-1.6874999999999998, 1.0, True)\n",
      "demo_153 (-1.5000000000000013, 1.8750000000000018, True)\n",
      "demo_155 (-1.1250000000000009, 1.0, True)\n",
      "demo_157 (-1.5000000000000013, 1.1279969662427907, True)\n",
      "demo_158 (-1.8750000000000018, 1.190566979348659, True)\n",
      "demo_159 (-1.6875000000000016, 1.0, True)\n",
      "demo_162 (-2.437500000000001, 1.0, True)\n",
      "demo_163 (-1.0, 3.562500000000003, True)\n",
      "demo_165 (-1.0, 2.625000000000002, True)\n",
      "demo_168 (-1.0, 1.0305409133434296, True)\n",
      "demo_169 (-2.2500000000000013, 1.5000000000000013, True)\n",
      "demo_17 (-1.0, 2.2500000000000018, True)\n",
      "demo_171 (-1.0, 3.0000000000000027, True)\n",
      "demo_172 (-2.625000000000002, 1.0, True)\n",
      "demo_174 (-1.0, 1.1250000000000009, True)\n",
      "demo_176 (-1.0, 2.8125000000000027, True)\n",
      "demo_178 (-1.0, 1.0079728066921239, True)\n",
      "demo_18 (-3.000000000000001, 1.642580628395081, True)\n",
      "demo_181 (-1.312500000000001, 1.0, True)\n",
      "demo_182 (-2.625000000000002, 1.0, True)\n",
      "demo_185 (-1.0, 3.1875000000000027, True)\n",
      "demo_186 (-1.0, 2.437500000000002, True)\n",
      "demo_189 (-3.0000000000000004, 1.2145982682704934, True)\n",
      "demo_194 (-1.125, 1.0, True)\n",
      "demo_196 (-1.0, 2.0625000000000018, True)\n",
      "demo_197 (-1.0, 1.015523746609688, True)\n",
      "demo_198 (-1.4999999999999996, 1.0, True)\n",
      "demo_2 (-1.0, 2.8125000000000027, True)\n",
      "demo_205 (-2.8125000000000018, 1.1845650151371951, True)\n",
      "demo_208 (-1.312500000000001, 1.0, True)\n",
      "demo_209 (-1.1250000000000009, 1.0, True)\n",
      "demo_210 (-2.8125000000000004, 1.0, True)\n",
      "demo_214 (-4.312500000000003, 2.0004059001803394, True)\n",
      "demo_217 (-1.0, 1.092395856976509, True)\n",
      "demo_219 (-1.312500000000001, 1.0, True)\n",
      "demo_22 (-2.2500000000000013, 1.12724207341671, True)\n",
      "demo_220 (-2.2500000000000018, 1.5397488325834272, True)\n",
      "demo_227 (-1.312500000000001, 1.0, True)\n",
      "demo_23 (-1.0, 1.0256686806678774, True)\n",
      "demo_27 (-1.5000000000000013, 1.2553738802671437, True)\n",
      "demo_28 (-1.6875000000000016, 2.625000000000002, True)\n",
      "demo_29 (-4.8750000000000036, 2.437500000000002, True)\n",
      "demo_30 (-3.000000000000001, 1.1250000000000009, True)\n",
      "demo_31 (-2.812500000000002, 1.0, True)\n",
      "demo_34 (-3.0000000000000018, 1.312500000000001, True)\n",
      "demo_36 (-1.1250000000000009, 1.6875000000000016, True)\n",
      "demo_38 (-3.000000000000001, 1.1459289491176607, True)\n",
      "demo_39 (-2.812500000000002, 1.625000834465027, True)\n",
      "demo_4 (-1.0, 1.312500000000001, True)\n",
      "demo_42 (-1.0, 2.625000000000002, True)\n",
      "demo_45 (-1.0, 2.625000000000002, True)\n",
      "demo_46 (-1.5000000000000013, 1.0, True)\n",
      "demo_49 (-1.0, 3.0000000000000027, True)\n",
      "demo_51 (-3.0000000000000004, 1.3492736965417857, True)\n",
      "demo_55 (-1.0, 1.6875000000000016, True)\n",
      "demo_57 (-1.0, 1.312500000000001, True)\n",
      "demo_58 (-1.6875000000000016, 1.0, True)\n",
      "demo_59 (-1.0, 1.1648270487785344, True)\n",
      "demo_6 (-2.0625000000000013, 1.3843563944101336, True)\n",
      "demo_60 (-2.4375000000000013, 1.0, True)\n",
      "demo_61 (-1.0, 3.375000000000003, True)\n",
      "demo_62 (-3.0000000000000027, 1.0, True)\n",
      "demo_64 (-1.5000000000000009, 3.1875000000000027, True)\n",
      "demo_69 (-1.5000000000000013, 1.0, True)\n",
      "demo_7 (-2.2500000000000018, 3.7500000000000036, True)\n",
      "demo_72 (-1.312500000000001, 1.0, True)\n",
      "demo_75 (-2.6250000000000013, 1.0, True)\n",
      "demo_76 (-1.0, 2.625000000000002, True)\n",
      "demo_78 (-3.000000000000002, 1.4900627732276914, True)\n",
      "demo_79 (-2.4375000000000004, 1.210255548357964, True)\n",
      "demo_8 (-1.0, 1.1250000000000009, True)\n",
      "demo_84 (-1.0, 3.0000000000000027, True)\n",
      "demo_94 (-1.0, 1.5000000000000013, True)\n",
      "demo_95 (-1.1250000000000009, 1.0, True)\n",
      "demo_97 (-2.8125000000000027, 1.0, True)\n",
      "demo_98 (-2.2500000000000018, 3.0000000000000027, True)\n"
     ]
    }
   ],
   "source": [
    "for demo_name in demos_minmax.keys():\n",
    "    min,max,notin = demos_minmax[demo_name]\n",
    "    if notin:\n",
    "        print(demo_name, demos_minmax[demo_name])"
   ]
  },
  {
   "cell_type": "code",
   "execution_count": 5,
   "metadata": {},
   "outputs": [
    {
     "data": {
      "text/plain": [
       "(-4.8750000000000036,\n",
       " -1.3463656387665204,\n",
       " 3.7500000000000036,\n",
       " 1.2564427332731076)"
      ]
     },
     "execution_count": 5,
     "metadata": {},
     "output_type": "execute_result"
    }
   ],
   "source": [
    "mins,maxs=[],[]\n",
    "for demo_name in demos_minmax.keys():\n",
    "    min,max,notin = demos_minmax[demo_name]\n",
    "    mins.append(min)\n",
    "    maxs.append(max)\n",
    "\n",
    "np.min(mins), np.mean(mins), np.max(maxs), np.mean(maxs)"
   ]
  },
  {
   "cell_type": "code",
   "execution_count": null,
   "metadata": {},
   "outputs": [],
   "source": []
  },
  {
   "cell_type": "code",
   "execution_count": null,
   "metadata": {},
   "outputs": [],
   "source": []
  },
  {
   "cell_type": "code",
   "execution_count": 24,
   "metadata": {},
   "outputs": [],
   "source": [
    "dataset_path = \"/home/ns1254/data_robomimic/sawyer/demos_dclose53.hdf5\"\n",
    "demos_minmax = get_action_info(dataset_path)"
   ]
  },
  {
   "cell_type": "code",
   "execution_count": 25,
   "metadata": {},
   "outputs": [],
   "source": [
    "for demo_name in demos_minmax.keys():\n",
    "    min,max,notin = demos_minmax[demo_name]\n",
    "    if notin:\n",
    "        print(demo_name, demos_minmax[demo_name])"
   ]
  },
  {
   "cell_type": "code",
   "execution_count": 26,
   "metadata": {},
   "outputs": [
    {
     "data": {
      "text/plain": [
       "{'demo_0': (-0.006637173659617468, 0.0033551184860458605, False),\n",
       " 'demo_1': (-0.00749065418604835, 0.0025447241193665704, False),\n",
       " 'demo_10': (-0.008758531018258991, 0.004420116717077649, False),\n",
       " 'demo_11': (-0.007543795450337287, 0.0027142152179870926, False),\n",
       " 'demo_12': (-0.008237590175729587, 0.0024424227914961044, False),\n",
       " 'demo_13': (-0.010326898495058884, 0.003955929472841735, False),\n",
       " 'demo_14': (-0.00639436317579356, 0.002771277482347158, False),\n",
       " 'demo_15': (-0.008733783363089387, 0.0029696116930399974, False),\n",
       " 'demo_16': (-0.007285850416223039, 0.0034019989848412813, False),\n",
       " 'demo_17': (-0.007742219195508326, 0.0027369846343197057, False),\n",
       " 'demo_18': (-0.0088835517056165, 0.0035280786793681074, False),\n",
       " 'demo_19': (-0.007740764798717485, 0.003697348928104135, False),\n",
       " 'demo_2': (-0.008253613042162794, 0.0033134974538400197, False),\n",
       " 'demo_20': (-0.007783973406903011, 0.0033651837389785354, False),\n",
       " 'demo_21': (-0.008455705789862024, 0.0031681757909747255, False),\n",
       " 'demo_22': (-0.01182950124748286, 0.0024178813268954866, False),\n",
       " 'demo_23': (-0.009756315903552831, 0.003262666797767988, False),\n",
       " 'demo_24': (-0.008463999393765353, 0.0034629274473257157, False),\n",
       " 'demo_25': (-0.007695470459279263, 0.003410577512719115, False),\n",
       " 'demo_26': (-0.007731908684013272, 0.002339311090455931, False),\n",
       " 'demo_27': (-0.007940097005021934, 0.0024628601279352846, False),\n",
       " 'demo_28': (-0.007175718347727247, 0.0032228946954919215, False),\n",
       " 'demo_29': (-0.0073588346684797246, 0.002962712817181634, False),\n",
       " 'demo_3': (-0.01072364159991987, 0.003335326932724314, False),\n",
       " 'demo_30': (-0.008090680246035153, 0.00279318279148133, False),\n",
       " 'demo_31': (-0.008574298452694029, 0.0031185976611634025, False),\n",
       " 'demo_32': (-0.006998556650482046, 0.003156767119797621, False),\n",
       " 'demo_33': (-0.007981243376065594, 0.0026476621674584866, False),\n",
       " 'demo_34': (-0.007353737836174407, 0.0028345539269334363, False),\n",
       " 'demo_35': (-0.01059222338732678, 0.002684697075894027, False),\n",
       " 'demo_36': (-0.008739419917330488, 0.002825408687591558, False),\n",
       " 'demo_37': (-0.0071630428514614375, 0.0034559856589395643, False),\n",
       " 'demo_38': (-0.007248262268011035, 0.003293858444795239, False),\n",
       " 'demo_39': (-0.008140177541743704, 0.003621929673469415, False),\n",
       " 'demo_4': (-0.007837184541517508, 0.004185773769027356, False),\n",
       " 'demo_40': (-0.009030674490156182, 0.003780116329438952, False),\n",
       " 'demo_41': (-0.008299266834519231, 0.003348468931098119, False),\n",
       " 'demo_42': (-0.006818241359529464, 0.0036107093898158915, False),\n",
       " 'demo_43': (-0.00797303120941717, 0.0030019191248464236, False),\n",
       " 'demo_44': (-0.006527477922650515, 0.0027596165360883607, False),\n",
       " 'demo_45': (-0.009422200791127232, 0.0027345984805529078, False),\n",
       " 'demo_46': (-0.010783052957604997, 0.0037315365014205515, False),\n",
       " 'demo_47': (-0.0077495871026491345, 0.004680441168606775, False),\n",
       " 'demo_48': (-0.00812317300121937, 0.003131142187410285, False),\n",
       " 'demo_49': (-0.006337057677463842, 0.003185229919381083, False),\n",
       " 'demo_5': (-0.008065957087336373, 0.002960550831949127, False),\n",
       " 'demo_50': (-0.008169773871124372, 0.002796208748718998, False),\n",
       " 'demo_51': (-0.006597686836810224, 0.0027582397501234764, False),\n",
       " 'demo_52': (-0.008943554579181584, 0.003229161652953394, False),\n",
       " 'demo_6': (-0.009866199740948906, 0.004382367757081167, False),\n",
       " 'demo_7': (-0.00931065549886502, 0.004249481894003537, False),\n",
       " 'demo_8': (-0.007416512536057712, 0.0033198200671435626, False),\n",
       " 'demo_9': (-0.008602769463680132, 0.0031913322246246434, False)}"
      ]
     },
     "execution_count": 26,
     "metadata": {},
     "output_type": "execute_result"
    }
   ],
   "source": [
    "demos_minmax"
   ]
  },
  {
   "cell_type": "code",
   "execution_count": null,
   "metadata": {},
   "outputs": [],
   "source": []
  },
  {
   "cell_type": "code",
   "execution_count": 34,
   "metadata": {},
   "outputs": [
    {
     "name": "stdout",
     "output_type": "stream",
     "text": [
      "88 364\n",
      "['demo_350', 'demo_351', 'demo_352', 'demo_353', 'demo_354', 'demo_355', 'demo_356', 'demo_357', 'demo_358', 'demo_359', 'demo_360', 'demo_361', 'demo_362', 'demo_363', 'demo_364', 'demo_365', 'demo_366', 'demo_367', 'demo_368', 'demo_369', 'demo_370', 'demo_371', 'demo_372', 'demo_373', 'demo_374', 'demo_375', 'demo_376', 'demo_377', 'demo_378', 'demo_379', 'demo_380', 'demo_381', 'demo_382', 'demo_383', 'demo_384', 'demo_385', 'demo_386', 'demo_387', 'demo_388', 'demo_389', 'demo_390', 'demo_391', 'demo_392', 'demo_393', 'demo_394', 'demo_395', 'demo_396', 'demo_397', 'demo_398', 'demo_399', 'demo_400', 'demo_401', 'demo_402', 'demo_403', 'demo_404', 'demo_406', 'demo_407', 'demo_408', 'demo_409', 'demo_410', 'demo_412', 'demo_413', 'demo_419', 'demo_420', 'demo_422', 'demo_425', 'demo_428', 'demo_430', 'demo_431', 'demo_432', 'demo_433', 'demo_434', 'demo_435', 'demo_436', 'demo_437', 'demo_438', 'demo_439', 'demo_440', 'demo_441', 'demo_443', 'demo_444', 'demo_445', 'demo_446', 'demo_447', 'demo_448', 'demo_449', 'demo_450', 'demo_451']\n"
     ]
    }
   ],
   "source": [
    "dataset_path = \"/home/ns1254/robomimic/datasets/can/mh/image_v141_bcwr_d100_c3s.hdf5\"\n",
    "demos_minmax = get_action_info(dataset_path)\n",
    "notins = []\n",
    "for demo_name in demos_minmax.keys():\n",
    "    min,max,notin = demos_minmax[demo_name]\n",
    "    if notin:\n",
    "        # print(demo_name, demos_minmax[demo_name])\n",
    "        notins.append(demo_name)\n",
    "\n",
    "print(len(notins), len(demos_minmax)-len(notins) )\n",
    "print(notins)"
   ]
  },
  {
   "cell_type": "code",
   "execution_count": null,
   "metadata": {},
   "outputs": [],
   "source": []
  },
  {
   "cell_type": "code",
   "execution_count": 35,
   "metadata": {},
   "outputs": [
    {
     "name": "stdout",
     "output_type": "stream",
     "text": [
      "117 306\n",
      "['demo_300', 'demo_301', 'demo_302', 'demo_303', 'demo_304', 'demo_305', 'demo_306', 'demo_307', 'demo_308', 'demo_310', 'demo_311', 'demo_312', 'demo_313', 'demo_314', 'demo_315', 'demo_316', 'demo_317', 'demo_318', 'demo_319', 'demo_320', 'demo_321', 'demo_322', 'demo_323', 'demo_324', 'demo_325', 'demo_326', 'demo_327', 'demo_328', 'demo_329', 'demo_331', 'demo_333', 'demo_334', 'demo_335', 'demo_336', 'demo_337', 'demo_338', 'demo_339', 'demo_340', 'demo_341', 'demo_342', 'demo_343', 'demo_344', 'demo_345', 'demo_346', 'demo_347', 'demo_348', 'demo_349', 'demo_350', 'demo_351', 'demo_352', 'demo_353', 'demo_354', 'demo_355', 'demo_356', 'demo_357', 'demo_358', 'demo_359', 'demo_360', 'demo_361', 'demo_362', 'demo_363', 'demo_364', 'demo_365', 'demo_366', 'demo_367', 'demo_368', 'demo_369', 'demo_370', 'demo_371', 'demo_372', 'demo_373', 'demo_374', 'demo_375', 'demo_376', 'demo_377', 'demo_378', 'demo_379', 'demo_380', 'demo_381', 'demo_382', 'demo_383', 'demo_384', 'demo_385', 'demo_386', 'demo_387', 'demo_388', 'demo_389', 'demo_390', 'demo_391', 'demo_392', 'demo_393', 'demo_394', 'demo_395', 'demo_397', 'demo_398', 'demo_399', 'demo_400', 'demo_401', 'demo_402', 'demo_404', 'demo_405', 'demo_406', 'demo_407', 'demo_408', 'demo_409', 'demo_410', 'demo_411', 'demo_412', 'demo_413', 'demo_415', 'demo_416', 'demo_417', 'demo_418', 'demo_419', 'demo_420', 'demo_421', 'demo_422']\n"
     ]
    }
   ],
   "source": [
    "dataset_path = \"/home/ns1254/robomimic/datasets/square/mh/image_v141_bcwr_d100.hdf5\"\n",
    "demos_minmax = get_action_info(dataset_path)\n",
    "notins = []\n",
    "for demo_name in demos_minmax.keys():\n",
    "    min,max,notin = demos_minmax[demo_name]\n",
    "    if notin:\n",
    "        # print(demo_name, demos_minmax[demo_name])\n",
    "        notins.append(demo_name)\n",
    "\n",
    "print(len(notins), len(demos_minmax)-len(notins) )\n",
    "print(notins)"
   ]
  },
  {
   "cell_type": "code",
   "execution_count": 36,
   "metadata": {},
   "outputs": [
    {
     "name": "stdout",
     "output_type": "stream",
     "text": [
      "87 342\n",
      "['demo_300', 'demo_301', 'demo_302', 'demo_303', 'demo_305', 'demo_306', 'demo_307', 'demo_308', 'demo_310', 'demo_312', 'demo_313', 'demo_314', 'demo_315', 'demo_325', 'demo_329', 'demo_331', 'demo_334', 'demo_336', 'demo_340', 'demo_342', 'demo_343', 'demo_347', 'demo_348', 'demo_349', 'demo_350', 'demo_351', 'demo_352', 'demo_353', 'demo_354', 'demo_355', 'demo_356', 'demo_357', 'demo_358', 'demo_359', 'demo_360', 'demo_361', 'demo_362', 'demo_363', 'demo_364', 'demo_365', 'demo_366', 'demo_367', 'demo_369', 'demo_370', 'demo_371', 'demo_373', 'demo_375', 'demo_377', 'demo_378', 'demo_385', 'demo_386', 'demo_388', 'demo_389', 'demo_390', 'demo_391', 'demo_392', 'demo_393', 'demo_396', 'demo_397', 'demo_398', 'demo_399', 'demo_400', 'demo_401', 'demo_402', 'demo_404', 'demo_405', 'demo_408', 'demo_409', 'demo_410', 'demo_411', 'demo_412', 'demo_413', 'demo_414', 'demo_415', 'demo_416', 'demo_417', 'demo_418', 'demo_419', 'demo_420', 'demo_421', 'demo_422', 'demo_423', 'demo_424', 'demo_425', 'demo_426', 'demo_427', 'demo_428']\n"
     ]
    }
   ],
   "source": [
    "dataset_path = \"/home/ns1254/robomimic/datasets/lift/mh/image_v141_bcwr_d100.hdf5\"\n",
    "demos_minmax = get_action_info(dataset_path)\n",
    "notins = []\n",
    "for demo_name in demos_minmax.keys():\n",
    "    min,max,notin = demos_minmax[demo_name]\n",
    "    if notin:\n",
    "        # print(demo_name, demos_minmax[demo_name])\n",
    "        notins.append(demo_name)\n",
    "\n",
    "print(len(notins), len(demos_minmax)-len(notins) )\n",
    "print(notins)"
   ]
  },
  {
   "cell_type": "code",
   "execution_count": null,
   "metadata": {},
   "outputs": [],
   "source": []
  },
  {
   "cell_type": "code",
   "execution_count": null,
   "metadata": {},
   "outputs": [],
   "source": []
  },
  {
   "cell_type": "code",
   "execution_count": null,
   "metadata": {},
   "outputs": [],
   "source": []
  },
  {
   "cell_type": "code",
   "execution_count": null,
   "metadata": {},
   "outputs": [],
   "source": []
  },
  {
   "cell_type": "code",
   "execution_count": null,
   "metadata": {},
   "outputs": [],
   "source": []
  },
  {
   "cell_type": "code",
   "execution_count": null,
   "metadata": {},
   "outputs": [],
   "source": []
  },
  {
   "cell_type": "code",
   "execution_count": null,
   "metadata": {},
   "outputs": [],
   "source": []
  },
  {
   "cell_type": "code",
   "execution_count": null,
   "metadata": {},
   "outputs": [],
   "source": []
  },
  {
   "cell_type": "code",
   "execution_count": null,
   "metadata": {},
   "outputs": [],
   "source": []
  }
 ],
 "metadata": {
  "kernelspec": {
   "display_name": "octo",
   "language": "python",
   "name": "python3"
  },
  "language_info": {
   "codemirror_mode": {
    "name": "ipython",
    "version": 3
   },
   "file_extension": ".py",
   "mimetype": "text/x-python",
   "name": "python",
   "nbconvert_exporter": "python",
   "pygments_lexer": "ipython3",
   "version": "3.8.17"
  },
  "orig_nbformat": 4,
  "vscode": {
   "interpreter": {
    "hash": "201eb00995371fe8ace69de7db53c7e31a16ef999079f98914c352d35887b292"
   }
  }
 },
 "nbformat": 4,
 "nbformat_minor": 2
}
