{
 "cells": [
  {
   "cell_type": "code",
   "execution_count": 1,
   "metadata": {},
   "outputs": [],
   "source": [
    "import os\n",
    "import json\n",
    "import h5py\n",
    "import numpy as np\n",
    "\n",
    "import robomimic\n",
    "import robomimic.utils.file_utils as FileUtils\n",
    "import robomimic.utils.env_utils as EnvUtils\n",
    "import robomimic.utils.obs_utils as ObsUtils\n",
    "import imageio\n",
    "import tqdm"
   ]
  },
  {
   "cell_type": "code",
   "execution_count": 2,
   "metadata": {},
   "outputs": [],
   "source": [
    "dataset_path_1 = \"/home/ns1254/data_robomimic/carl_dataset/mixed_human_original/lift_carl_mix_v5_340.hdf5\" \n",
    "dataset_path_2 = \"/home/ns1254/data_robomimic/carl_dataset/mixed_human_original/lift_i3_155.hdf5\""
   ]
  },
  {
   "cell_type": "code",
   "execution_count": 3,
   "metadata": {},
   "outputs": [],
   "source": [
    "f1 = h5py.File(dataset_path_1, \"r\")\n",
    "f2 = h5py.File(dataset_path_2, \"r\")"
   ]
  },
  {
   "cell_type": "code",
   "execution_count": 4,
   "metadata": {},
   "outputs": [
    {
     "data": {
      "text/plain": [
       "(100, 100)"
      ]
     },
     "execution_count": 4,
     "metadata": {},
     "output_type": "execute_result"
    }
   ],
   "source": [
    "f1_p20i=[b.decode('utf-8') for b in f1['mask']['p20i']]\n",
    "f2_p20i=[b.decode('utf-8') for b in f2['mask']['p20i']]\n",
    "\n",
    "len(f1_p20i), len(f2_p20i)"
   ]
  },
  {
   "cell_type": "code",
   "execution_count": 5,
   "metadata": {},
   "outputs": [],
   "source": [
    "#sort names\n",
    "f1_p20i.sort()\n",
    "f2_p20i.sort()"
   ]
  },
  {
   "cell_type": "code",
   "execution_count": 6,
   "metadata": {},
   "outputs": [
    {
     "data": {
      "text/plain": [
       "['demo_1',\n",
       " 'demo_10',\n",
       " 'demo_100',\n",
       " 'demo_11',\n",
       " 'demo_12',\n",
       " 'demo_13',\n",
       " 'demo_14',\n",
       " 'demo_15',\n",
       " 'demo_16',\n",
       " 'demo_17']"
      ]
     },
     "execution_count": 6,
     "metadata": {},
     "output_type": "execute_result"
    }
   ],
   "source": [
    "f1_p20i[:10]"
   ]
  },
  {
   "cell_type": "code",
   "execution_count": null,
   "metadata": {},
   "outputs": [],
   "source": []
  },
  {
   "cell_type": "code",
   "execution_count": null,
   "metadata": {},
   "outputs": [],
   "source": []
  },
  {
   "cell_type": "code",
   "execution_count": 7,
   "metadata": {},
   "outputs": [
    {
     "name": "stdout",
     "output_type": "stream",
     "text": [
      "demo_10,demo_10 158!=121\n",
      "demo_100,demo_101 130!=775\n",
      "demo_11,demo_102 128!=633\n",
      "demo_12,demo_103 172!=616\n",
      "demo_13,demo_104 138!=800\n",
      "demo_14,demo_105 166!=741\n",
      "demo_15,demo_106 130!=800\n",
      "demo_16,demo_107 153!=800\n",
      "demo_17,demo_108 153!=800\n",
      "demo_18,demo_109 125!=800\n",
      "demo_2,demo_110 121!=800\n",
      "demo_20,demo_111 173!=800\n",
      "demo_21,demo_112 127!=800\n",
      "demo_22,demo_113 138!=781\n",
      "demo_23,demo_114 133!=800\n",
      "demo_24,demo_115 125!=800\n",
      "demo_25,demo_116 143!=623\n",
      "demo_26,demo_117 135!=800\n",
      "demo_27,demo_118 194!=650\n",
      "demo_28,demo_119 160!=608\n",
      "demo_29,demo_12 119!=161\n",
      "demo_3,demo_120 128!=800\n",
      "demo_30,demo_13 133!=122\n",
      "demo_301,demo_14 775!=139\n",
      "demo_302,demo_15 633!=124\n",
      "demo_303,demo_16 616!=143\n",
      "demo_304,demo_17 800!=158\n",
      "demo_305,demo_18 741!=128\n",
      "demo_306,demo_19 800!=172\n",
      "demo_307,demo_2 800!=138\n",
      "demo_308,demo_20 800!=166\n",
      "demo_309,demo_21 800!=130\n",
      "demo_31,demo_22 119!=153\n",
      "demo_310,demo_23 800!=153\n",
      "demo_311,demo_24 800!=125\n",
      "demo_312,demo_25 800!=138\n",
      "demo_313,demo_26 781!=173\n",
      "demo_314,demo_27 800!=127\n",
      "demo_315,demo_28 800!=138\n",
      "demo_316,demo_29 623!=133\n",
      "demo_317,demo_3 800!=125\n",
      "demo_318,demo_30 650!=143\n",
      "demo_319,demo_31 608!=135\n",
      "demo_32,demo_32 141!=194\n",
      "demo_320,demo_33 800!=160\n",
      "demo_33,demo_34 138!=119\n",
      "demo_34,demo_35 128!=133\n",
      "demo_35,demo_36 122!=119\n",
      "demo_36,demo_37 156!=141\n",
      "demo_37,demo_38 130!=138\n",
      "demo_38,demo_39 142!=128\n",
      "demo_39,demo_4 127!=122\n",
      "demo_4,demo_40 138!=156\n",
      "demo_40,demo_41 123!=130\n",
      "demo_41,demo_42 121!=142\n",
      "demo_42,demo_43 130!=127\n",
      "demo_43,demo_44 132!=123\n",
      "demo_44,demo_45 139!=121\n",
      "demo_45,demo_46 164!=130\n",
      "demo_46,demo_47 117!=132\n",
      "demo_47,demo_48 141!=139\n",
      "demo_48,demo_49 118!=164\n",
      "demo_49,demo_5 130!=117\n",
      "demo_5,demo_50 161!=141\n",
      "demo_50,demo_51 149!=118\n",
      "demo_51,demo_52 164!=130\n",
      "demo_52,demo_53 131!=149\n",
      "demo_53,demo_54 144!=164\n",
      "demo_54,demo_55 206!=131\n",
      "demo_55,demo_56 159!=144\n",
      "demo_56,demo_57 148!=206\n",
      "demo_57,demo_58 155!=159\n",
      "demo_58,demo_59 122!=148\n",
      "demo_59,demo_6 167!=155\n",
      "demo_60,demo_61 134!=167\n",
      "demo_62,demo_63 125!=134\n",
      "demo_63,demo_64 146!=125\n",
      "demo_64,demo_65 147!=146\n",
      "demo_65,demo_66 135!=147\n",
      "demo_66,demo_67 133!=135\n",
      "demo_67,demo_68 125!=133\n",
      "demo_68,demo_69 204!=125\n",
      "demo_69,demo_7 150!=204\n",
      "demo_7,demo_70 139!=150\n",
      "demo_8,demo_80 124!=120\n",
      "demo_80,demo_9 120!=143\n"
     ]
    }
   ],
   "source": [
    "for demo_name1, demo_name2 in zip(f1_p20i, f2_p20i):\n",
    "    demo1=f1['data'][demo_name1]\n",
    "    demo2=f2['data'][demo_name2]\n",
    "    num_samples1=demo1.attrs['num_samples']\n",
    "    num_samples2=demo2.attrs['num_samples']\n",
    "\n",
    "    if num_samples1!=num_samples2:\n",
    "        print(f\"{demo_name1},{demo_name2} {num_samples1}!={num_samples2}\")\n",
    "        "
   ]
  },
  {
   "cell_type": "code",
   "execution_count": null,
   "metadata": {},
   "outputs": [],
   "source": []
  },
  {
   "cell_type": "code",
   "execution_count": 8,
   "metadata": {},
   "outputs": [
    {
     "name": "stdout",
     "output_type": "stream",
     "text": [
      "demo_2,demo_2 121!=138\n",
      "demo_3,demo_3 128!=125\n",
      "demo_4,demo_4 138!=122\n",
      "demo_5,demo_5 161!=117\n",
      "demo_6,demo_6 122!=155\n",
      "demo_7,demo_7 139!=204\n",
      "demo_8,demo_8 124!=140\n",
      "demo_10,demo_10 158!=121\n",
      "demo_11,demo_11 128!=138\n",
      "demo_12,demo_12 172!=161\n",
      "demo_13,demo_13 138!=122\n",
      "demo_14,demo_14 166!=139\n",
      "demo_15,demo_15 130!=124\n",
      "demo_16,demo_16 153!=143\n",
      "demo_17,demo_17 153!=158\n",
      "demo_18,demo_18 125!=128\n",
      "demo_19,demo_19 138!=172\n",
      "demo_20,demo_20 173!=166\n",
      "demo_21,demo_21 127!=130\n",
      "demo_22,demo_22 138!=153\n",
      "demo_23,demo_23 133!=153\n",
      "demo_25,demo_25 143!=138\n",
      "demo_26,demo_26 135!=173\n",
      "demo_27,demo_27 194!=127\n",
      "demo_28,demo_28 160!=138\n",
      "demo_29,demo_29 119!=133\n",
      "demo_30,demo_30 133!=143\n",
      "demo_31,demo_31 119!=135\n",
      "demo_32,demo_32 141!=194\n",
      "demo_33,demo_33 138!=160\n",
      "demo_34,demo_34 128!=119\n",
      "demo_35,demo_35 122!=133\n",
      "demo_36,demo_36 156!=119\n",
      "demo_37,demo_37 130!=141\n",
      "demo_38,demo_38 142!=138\n",
      "demo_39,demo_39 127!=128\n",
      "demo_40,demo_40 123!=156\n",
      "demo_41,demo_41 121!=130\n",
      "demo_42,demo_42 130!=142\n",
      "demo_43,demo_43 132!=127\n",
      "demo_44,demo_44 139!=123\n",
      "demo_45,demo_45 164!=121\n",
      "demo_46,demo_46 117!=130\n",
      "demo_47,demo_47 141!=132\n",
      "demo_48,demo_48 118!=139\n",
      "demo_49,demo_49 130!=164\n",
      "demo_50,demo_50 149!=141\n",
      "demo_51,demo_51 164!=118\n",
      "demo_52,demo_52 131!=130\n",
      "demo_53,demo_53 144!=149\n",
      "demo_54,demo_54 206!=164\n",
      "demo_55,demo_55 159!=131\n",
      "demo_56,demo_56 148!=144\n",
      "demo_57,demo_57 155!=206\n",
      "demo_58,demo_58 122!=159\n",
      "demo_59,demo_59 167!=148\n",
      "demo_60,demo_60 134!=122\n",
      "demo_61,demo_61 134!=167\n",
      "demo_62,demo_62 125!=134\n",
      "demo_63,demo_63 146!=134\n",
      "demo_64,demo_64 147!=125\n",
      "demo_65,demo_65 135!=146\n",
      "demo_66,demo_66 133!=147\n",
      "demo_67,demo_67 125!=135\n",
      "demo_68,demo_68 204!=133\n",
      "demo_69,demo_69 150!=125\n",
      "demo_70,demo_70 126!=150\n",
      "demo_71,demo_71 167!=126\n",
      "demo_72,demo_72 137!=167\n",
      "demo_73,demo_73 136!=137\n",
      "demo_74,demo_74 159!=136\n",
      "demo_75,demo_75 135!=159\n",
      "demo_77,demo_77 136!=135\n",
      "demo_78,demo_78 126!=136\n",
      "demo_79,demo_79 140!=126\n"
     ]
    }
   ],
   "source": [
    "lengths1=[]\n",
    "lengths2=[]\n",
    "for i in range(1, 80+1):\n",
    "    demo_name1=f\"demo_{i}\"\n",
    "    demo_name2=f\"demo_{i}\"\n",
    "    demo1=f1['data'][demo_name1]\n",
    "    demo2=f2['data'][demo_name2]\n",
    "    num_samples1=demo1.attrs['num_samples']\n",
    "    num_samples2=demo2.attrs['num_samples']\n",
    "\n",
    "    lengths1.append(num_samples1)\n",
    "    lengths2.append(num_samples2)\n",
    "\n",
    "    if num_samples1!=num_samples2:\n",
    "        print(f\"{demo_name1},{demo_name2} {num_samples1}!={num_samples2}\")"
   ]
  },
  {
   "cell_type": "code",
   "execution_count": 9,
   "metadata": {},
   "outputs": [
    {
     "name": "stdout",
     "output_type": "stream",
     "text": [
      "140.8 140.9875\n",
      "18.49013250358147 18.435355807523756\n"
     ]
    }
   ],
   "source": [
    "print(np.mean(lengths1), np.mean(lengths2))\n",
    "print(np.std(lengths1), np.std(lengths2))"
   ]
  },
  {
   "cell_type": "code",
   "execution_count": 10,
   "metadata": {},
   "outputs": [
    {
     "data": {
      "text/plain": [
       "(11264, 11279)"
      ]
     },
     "execution_count": 10,
     "metadata": {},
     "output_type": "execute_result"
    }
   ],
   "source": [
    "np.sum(lengths1), np.sum(lengths2)"
   ]
  },
  {
   "cell_type": "code",
   "execution_count": 11,
   "metadata": {},
   "outputs": [
    {
     "data": {
      "text/plain": [
       "<matplotlib.legend.Legend at 0x7fe9bd3cdb80>"
      ]
     },
     "execution_count": 11,
     "metadata": {},
     "output_type": "execute_result"
    },
    {
     "data": {
      "image/png": "[encoded data removed]",
      "text/plain": [
       "<Figure size 640x480 with 1 Axes>"
      ]
     },
     "metadata": {},
     "output_type": "display_data"
    }
   ],
   "source": [
    "sorted_lengths1=np.sort(lengths1)\n",
    "sorted_lengths2=np.sort(lengths2)\n",
    "\n",
    "# compare lengths\n",
    "import matplotlib.pyplot as plt\n",
    "plt.plot(sorted_lengths1, label=\"carl\")\n",
    "plt.plot(sorted_lengths2, label=\"i3\")\n",
    "plt.legend()"
   ]
  },
  {
   "cell_type": "code",
   "execution_count": null,
   "metadata": {},
   "outputs": [],
   "source": []
  },
  {
   "cell_type": "code",
   "execution_count": null,
   "metadata": {},
   "outputs": [],
   "source": []
  },
  {
   "cell_type": "code",
   "execution_count": null,
   "metadata": {},
   "outputs": [],
   "source": []
  },
  {
   "cell_type": "code",
   "execution_count": null,
   "metadata": {},
   "outputs": [],
   "source": []
  },
  {
   "cell_type": "code",
   "execution_count": 3,
   "metadata": {},
   "outputs": [
    {
     "name": "stdout",
     "output_type": "stream",
     "text": [
      "Number of demos:  155\n",
      "Max length:  800\n",
      "Min length:  116\n",
      "Mean length:  361.96774193548384\n",
      "Median length:  149.0\n",
      "\n",
      "expert <HDF5 dataset \"expert\": shape (100,), type \"|S16\">\n",
      "int3 <HDF5 dataset \"int3\": shape (55,), type \"|S16\">\n",
      "p20i <HDF5 dataset \"p20i\": shape (100,), type \"|S16\">\n",
      "p40i <HDF5 dataset \"p40i\": shape (100,), type \"|S16\">\n"
     ]
    }
   ],
   "source": [
    "\n",
    "demos = list(f1[\"data\"].keys())\n",
    "\n",
    "lengths=[]\n",
    "demos_minmax={}\n",
    "for demo_name in demos:\n",
    "    demo=f1['data'][demo_name]\n",
    "    num_samples=demo.attrs['num_samples']\n",
    "    lengths.append(num_samples)\n",
    "\n",
    "    action=f1['data'][demo_name]['actions']\n",
    "    action=np.array(action) \n",
    "    demos_minmax[demo_name] = (np.min(action, axis=0), np.max(action, axis=0))\n",
    "\n",
    "\n",
    "lengths=np.array(lengths)\n",
    "\n",
    "print('Number of demos: ', len(demos))\n",
    "print('Max length: ', np.max(lengths))\n",
    "print('Min length: ', np.min(lengths))\n",
    "print('Mean length: ', np.mean(lengths))\n",
    "print('Median length: ', np.median(lengths))\n",
    "\n",
    "print()\n",
    "\n",
    "for key in f1['mask'].keys():\n",
    "    print(key, f1['mask'][key])"
   ]
  },
  {
   "cell_type": "code",
   "execution_count": null,
   "metadata": {},
   "outputs": [],
   "source": []
  },
  {
   "cell_type": "code",
   "execution_count": 4,
   "metadata": {},
   "outputs": [],
   "source": [
    "np.set_printoptions(precision=4, suppress=True)"
   ]
  },
  {
   "cell_type": "code",
   "execution_count": 5,
   "metadata": {},
   "outputs": [
    {
     "name": "stdout",
     "output_type": "stream",
     "text": [
      "mins:  [-1. -1. -1. -1. -1. -1. -1.]\n",
      "maxs:  [ 1.  1.  1. -1. -1.  1.  1.]\n"
     ]
    }
   ],
   "source": [
    "mins,maxs=[],[]\n",
    "for demo_name in demos_minmax.keys():\n",
    "    min,max= demos_minmax[demo_name]\n",
    "    mins.append(min)\n",
    "    maxs.append(max)\n",
    "\n",
    "mins=np.min(mins, axis=0)\n",
    "maxs=np.max(maxs, axis=0) \n",
    "print('mins: ', mins)\n",
    "print('maxs: ', maxs)"
   ]
  },
  {
   "cell_type": "code",
   "execution_count": 6,
   "metadata": {},
   "outputs": [
    {
     "name": "stdout",
     "output_type": "stream",
     "text": [
      "is_normalized: True\n",
      "mins:  [-0.8923 -1.0068 -1.1138  0.      0.     -0.45   -1.    ]\n",
      "maxs:  [1.0375 1.2789 1.125  0.     0.     0.45   1.    ]\n"
     ]
    }
   ],
   "source": [
    "is_normalized='mins' in f1.keys()\n",
    "print(f'is_normalized: {is_normalized}')\n",
    "\n",
    "if is_normalized:\n",
    "    print('mins: ', np.array(f1['mins']))\n",
    "    print('maxs: ', np.array(f1['maxs']))"
   ]
  },
  {
   "cell_type": "code",
   "execution_count": null,
   "metadata": {},
   "outputs": [],
   "source": []
  },
  {
   "cell_type": "code",
   "execution_count": 7,
   "metadata": {},
   "outputs": [
    {
     "name": "stdout",
     "output_type": "stream",
     "text": [
      "mask: expert (100) length-min: 116 mean: 139.51 max: 206 unique: (51,)\n",
      "mask: int3 (55) length-min: 608 mean: 766.4363636363636 max: 800 unique: (22,)\n",
      "mask: p20i (100) length-min: 117 mean: 263.06 max: 800 unique: (56,)\n",
      "mask: p40i (100) length-min: 117 mean: 390.25 max: 800 unique: (56,)\n"
     ]
    }
   ],
   "source": [
    "for key in f1['mask'].keys():\n",
    "    # print(key, f['mask'][key])\n",
    "    demo_names=[b.decode('utf-8') for b in f1['mask'][key] ]\n",
    "\n",
    "    lengths=[]\n",
    "    demos_minmax={}\n",
    "    for demo_name in demo_names:\n",
    "        demo=f1['data'][demo_name]\n",
    "        num_samples=demo.attrs['num_samples']\n",
    "        lengths.append(num_samples) \n",
    "    lengths=np.array(lengths)\n",
    "\n",
    "    print(f'mask: {key} ({len(lengths)}) length-min: {np.min(lengths)} mean: {np.mean(lengths)} max: {np.max(lengths)} unique: {np.unique(lengths).shape}')"
   ]
  },
  {
   "cell_type": "code",
   "execution_count": 8,
   "metadata": {},
   "outputs": [],
   "source": [
    "# mask: p20i (100) length-min: 116 mean: 263.92 max: 800 unique: (59,)"
   ]
  },
  {
   "cell_type": "code",
   "execution_count": 9,
   "metadata": {},
   "outputs": [],
   "source": [
    "f1.close()"
   ]
  },
  {
   "cell_type": "code",
   "execution_count": null,
   "metadata": {},
   "outputs": [],
   "source": []
  },
  {
   "cell_type": "code",
   "execution_count": null,
   "metadata": {},
   "outputs": [],
   "source": []
  },
  {
   "cell_type": "code",
   "execution_count": null,
   "metadata": {},
   "outputs": [],
   "source": []
  },
  {
   "cell_type": "code",
   "execution_count": null,
   "metadata": {},
   "outputs": [],
   "source": []
  },
  {
   "cell_type": "code",
   "execution_count": null,
   "metadata": {},
   "outputs": [],
   "source": []
  },
  {
   "cell_type": "code",
   "execution_count": null,
   "metadata": {},
   "outputs": [],
   "source": []
  }
 ],
 "metadata": {
  "kernelspec": {
   "display_name": "robomimic_venv",
   "language": "python",
   "name": "python3"
  },
  "language_info": {
   "codemirror_mode": {
    "name": "ipython",
    "version": 3
   },
   "file_extension": ".py",
   "mimetype": "text/x-python",
   "name": "python",
   "nbconvert_exporter": "python",
   "pygments_lexer": "ipython3",
   "version": "3.8.17"
  },
  "orig_nbformat": 4
 },
 "nbformat": 4,
 "nbformat_minor": 2
}
