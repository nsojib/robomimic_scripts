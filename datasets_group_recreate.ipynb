{
 "cells": [
  {
   "cell_type": "code",
   "execution_count": 1,
   "id": "4e2b90e6",
   "metadata": {},
   "outputs": [
    {
     "name": "stdout",
     "output_type": "stream",
     "text": [
      "\u001b[33mROBOMIMIC WARNING(\n",
      "    No private macro file found!\n",
      "    It is recommended to use a private macro file\n",
      "    To setup, run: python /home/ns1254/mimicgen/envs/robomimic/robomimic/scripts/setup_macros.py\n",
      ")\u001b[0m\n"
     ]
    }
   ],
   "source": [
    "import os\n",
    "import json\n",
    "import h5py\n",
    "import numpy as np\n",
    "\n",
    "import robomimic\n",
    "import robomimic.utils.file_utils as FileUtils\n",
    "import robomimic.utils.env_utils as EnvUtils\n",
    "import robomimic.utils.obs_utils as ObsUtils\n",
    "import imageio\n",
    "import tqdm\n",
    "from robomimic.utils.file_utils import create_hdf5_filter_key\n",
    "import shutil"
   ]
  },
  {
   "attachments": {},
   "cell_type": "markdown",
   "id": "c0465a7a",
   "metadata": {},
   "source": [
    "### From existing groups, create more grups"
   ]
  },
  {
   "cell_type": "code",
   "execution_count": 2,
   "id": "c0d6a8ef",
   "metadata": {},
   "outputs": [],
   "source": [
    "# dataset_path = \"/home/ns1254/data_franka/gib/drawer_lay5_g53b29_delta.hdf5\" \n",
    "dataset_path = \"/home/ns1254/data_franka/drawer/mixed_o40z5tal3l5taz5.hdf5\""
   ]
  },
  {
   "cell_type": "code",
   "execution_count": 3,
   "id": "a35cd8e9",
   "metadata": {},
   "outputs": [],
   "source": [
    "f = h5py.File(dataset_path, \"r+\")\n",
    "demos = list(f[\"data\"].keys())"
   ]
  },
  {
   "cell_type": "code",
   "execution_count": 4,
   "id": "eea881c7",
   "metadata": {},
   "outputs": [
    {
     "name": "stdout",
     "output_type": "stream",
     "text": [
      "Number of demos:  58\n",
      "Max length:  1200\n",
      "Min length:  224\n",
      "Mean length:  496.17241379310343\n"
     ]
    }
   ],
   "source": [
    "lengths=[]\n",
    "for demo_name in demos:\n",
    "    demo=f['data'][demo_name]\n",
    "    num_samples=demo.attrs['num_samples']\n",
    "    lengths.append(num_samples)\n",
    "\n",
    "lengths=np.array(lengths)\n",
    "\n",
    "print('Number of demos: ', len(demos))\n",
    "print('Max length: ', np.max(lengths))\n",
    "print('Min length: ', np.min(lengths))\n",
    "print('Mean length: ', np.mean(lengths))"
   ]
  },
  {
   "cell_type": "code",
   "execution_count": 7,
   "id": "e6cac4cd",
   "metadata": {},
   "outputs": [],
   "source": [
    "good_keys=[]\n",
    "for key in f['mask'].keys():\n",
    "    print(key, f['mask'][key])  \n",
    "    if 'bad'  in key:\n",
    "        good_keys.append(key)"
   ]
  },
  {
   "cell_type": "code",
   "execution_count": 6,
   "id": "04d92cac",
   "metadata": {},
   "outputs": [
    {
     "data": {
      "text/plain": [
       "<HDF5 group \"/mask\" (0 members)>"
      ]
     },
     "execution_count": 6,
     "metadata": {},
     "output_type": "execute_result"
    }
   ],
   "source": [
    "# f.create_group(\"mask\")"
   ]
  },
  {
   "cell_type": "code",
   "execution_count": 8,
   "id": "06d05020",
   "metadata": {},
   "outputs": [
    {
     "data": {
      "text/plain": [
       "[]"
      ]
     },
     "execution_count": 8,
     "metadata": {},
     "output_type": "execute_result"
    }
   ],
   "source": [
    "good_keys"
   ]
  },
  {
   "cell_type": "code",
   "execution_count": 9,
   "id": "8e69434f",
   "metadata": {},
   "outputs": [],
   "source": [
    "# del f['mask']['g40']"
   ]
  },
  {
   "cell_type": "code",
   "execution_count": 10,
   "id": "2634b2b6",
   "metadata": {},
   "outputs": [
    {
     "data": {
      "text/plain": [
       "['demo_0',\n",
       " 'demo_1',\n",
       " 'demo_2',\n",
       " 'demo_3',\n",
       " 'demo_4',\n",
       " 'demo_5',\n",
       " 'demo_6',\n",
       " 'demo_7',\n",
       " 'demo_8',\n",
       " 'demo_9',\n",
       " 'demo_10',\n",
       " 'demo_11',\n",
       " 'demo_12',\n",
       " 'demo_13',\n",
       " 'demo_14',\n",
       " 'demo_15',\n",
       " 'demo_16',\n",
       " 'demo_17',\n",
       " 'demo_18',\n",
       " 'demo_19',\n",
       " 'demo_20',\n",
       " 'demo_21',\n",
       " 'demo_22',\n",
       " 'demo_23',\n",
       " 'demo_24',\n",
       " 'demo_25',\n",
       " 'demo_26',\n",
       " 'demo_27',\n",
       " 'demo_28',\n",
       " 'demo_29',\n",
       " 'demo_30',\n",
       " 'demo_31',\n",
       " 'demo_32',\n",
       " 'demo_33',\n",
       " 'demo_34',\n",
       " 'demo_35',\n",
       " 'demo_36',\n",
       " 'demo_37',\n",
       " 'demo_38',\n",
       " 'demo_39']"
      ]
     },
     "execution_count": 10,
     "metadata": {},
     "output_type": "execute_result"
    }
   ],
   "source": [
    "g40 = [f'demo_{i}' for i in range(40)]\n",
    "g40 "
   ]
  },
  {
   "cell_type": "code",
   "execution_count": 11,
   "id": "41d30140",
   "metadata": {},
   "outputs": [
    {
     "data": {
      "text/plain": [
       "(40,)"
      ]
     },
     "execution_count": 11,
     "metadata": {},
     "output_type": "execute_result"
    }
   ],
   "source": [
    "goodbad=g40 \n",
    "goodbad=np.array(goodbad, dtype='S8')\n",
    "goodbad.shape"
   ]
  },
  {
   "cell_type": "code",
   "execution_count": 12,
   "id": "971c903e",
   "metadata": {},
   "outputs": [],
   "source": [
    "hdf5_path=dataset_path\n",
    "\n",
    "filter_keys=sorted([elem for elem in goodbad])\n",
    "filter_name='g40'\n",
    "filter_lengths = create_hdf5_filter_key(hdf5_path=hdf5_path, demo_keys=filter_keys, key_name=filter_name)"
   ]
  },
  {
   "cell_type": "code",
   "execution_count": null,
   "id": "c4d386cb",
   "metadata": {},
   "outputs": [],
   "source": []
  },
  {
   "cell_type": "code",
   "execution_count": 13,
   "id": "d97e9b9f",
   "metadata": {},
   "outputs": [],
   "source": [
    "f.close()"
   ]
  },
  {
   "cell_type": "code",
   "execution_count": 6,
   "id": "2ab75200",
   "metadata": {},
   "outputs": [
    {
     "data": {
      "text/plain": [
       "(20, 20)"
      ]
     },
     "execution_count": 6,
     "metadata": {},
     "output_type": "execute_result"
    }
   ],
   "source": [
    "# good_demos=[demo.decode('utf-8') for demo in f['mask']['g20']]\n",
    "# good_demos.sort(key=lambda x: int(x.split('_')[-1]))\n",
    "# bad_demos=[demo.decode('utf-8') for demo in f['mask']['lay20']] \n",
    "# len(good_demos), len(bad_demos) "
   ]
  },
  {
   "cell_type": "code",
   "execution_count": 15,
   "id": "60762aad",
   "metadata": {},
   "outputs": [
    {
     "data": {
      "text/plain": [
       "29"
      ]
     },
     "execution_count": 15,
     "metadata": {},
     "output_type": "execute_result"
    }
   ],
   "source": [
    "good_demos = []\n",
    "for key in good_keys:\n",
    "    key_demos = [demo.decode('utf-8') for demo in f['mask'][key]]\n",
    "    good_demos.extend(key_demos)\n",
    "len(good_demos)"
   ]
  },
  {
   "cell_type": "code",
   "execution_count": 10,
   "id": "ed64e595",
   "metadata": {},
   "outputs": [],
   "source": [
    "# good_demos"
   ]
  },
  {
   "cell_type": "code",
   "execution_count": 16,
   "id": "ab5ace2a",
   "metadata": {},
   "outputs": [
    {
     "data": {
      "text/plain": [
       "(29,)"
      ]
     },
     "execution_count": 16,
     "metadata": {},
     "output_type": "execute_result"
    }
   ],
   "source": [
    "goodbad=good_demos \n",
    "goodbad=np.array(goodbad, dtype='S8')\n",
    "goodbad.shape"
   ]
  },
  {
   "cell_type": "code",
   "execution_count": 17,
   "id": "450325bc",
   "metadata": {},
   "outputs": [],
   "source": [
    "hdf5_path=dataset_path\n",
    "\n",
    "filter_keys=sorted([elem for elem in goodbad])\n",
    "filter_name='bad'\n",
    "filter_lengths = create_hdf5_filter_key(hdf5_path=hdf5_path, demo_keys=filter_keys, key_name=filter_name)"
   ]
  },
  {
   "cell_type": "code",
   "execution_count": null,
   "id": "87167a0f",
   "metadata": {},
   "outputs": [],
   "source": []
  },
  {
   "cell_type": "code",
   "execution_count": null,
   "id": "4adf807a",
   "metadata": {},
   "outputs": [],
   "source": []
  },
  {
   "cell_type": "code",
   "execution_count": 12,
   "id": "69f8e7e6",
   "metadata": {},
   "outputs": [
    {
     "data": {
      "text/plain": [
       "array([b'demo_1', b'demo_2', b'demo_3', b'demo_4', b'demo_10', b'demo_11',\n",
       "       b'demo_12', b'demo_13', b'demo_14', b'demo_15', b'demo_16',\n",
       "       b'demo_17', b'demo_18', b'demo_19', b'demo_20', b'demo_21',\n",
       "       b'demo_22', b'demo_23', b'demo_24', b'demo_25', b'demo_26',\n",
       "       b'demo_27', b'demo_28', b'demo_29', b'demo_30', b'demo_31',\n",
       "       b'demo_32', b'demo_33', b'demo_34', b'demo_35', b'demo_36',\n",
       "       b'demo_37', b'demo_38', b'demo_39', b'demo_40', b'demo_41',\n",
       "       b'demo_42', b'demo_43', b'demo_44', b'demo_45'], dtype='|S8')"
      ]
     },
     "execution_count": 12,
     "metadata": {},
     "output_type": "execute_result"
    }
   ],
   "source": [
    "good"
   ]
  },
  {
   "cell_type": "code",
   "execution_count": null,
   "id": "e412dee6",
   "metadata": {},
   "outputs": [],
   "source": []
  },
  {
   "cell_type": "code",
   "execution_count": 10,
   "id": "ebeadd71",
   "metadata": {},
   "outputs": [
    {
     "data": {
      "text/plain": [
       "(50,)"
      ]
     },
     "execution_count": 10,
     "metadata": {},
     "output_type": "execute_result"
    }
   ],
   "source": [
    "goodbad = good_demos[:30] + bad_demos[:10] + bad_demos2[:10]  \n",
    "goodbad=np.array(goodbad, dtype='S8')\n",
    "goodbad.shape"
   ]
  },
  {
   "cell_type": "code",
   "execution_count": 11,
   "id": "9eed062c",
   "metadata": {},
   "outputs": [],
   "source": [
    "hdf5_path=dataset_path\n",
    "\n",
    "filter_keys=sorted([elem for elem in goodbad])\n",
    "filter_name='g30b20'\n",
    "filter_lengths = create_hdf5_filter_key(hdf5_path=hdf5_path, demo_keys=filter_keys, key_name=filter_name)"
   ]
  },
  {
   "cell_type": "code",
   "execution_count": null,
   "id": "4d78da98",
   "metadata": {},
   "outputs": [],
   "source": []
  },
  {
   "cell_type": "code",
   "execution_count": null,
   "id": "ffaaf0a1",
   "metadata": {},
   "outputs": [],
   "source": []
  },
  {
   "cell_type": "code",
   "execution_count": null,
   "id": "c353425a",
   "metadata": {},
   "outputs": [],
   "source": []
  },
  {
   "cell_type": "code",
   "execution_count": 6,
   "id": "97992eb5",
   "metadata": {},
   "outputs": [
    {
     "data": {
      "text/plain": [
       "(50, 50)"
      ]
     },
     "execution_count": 6,
     "metadata": {},
     "output_type": "execute_result"
    }
   ],
   "source": [
    "good_demos=[demo.decode('utf-8') for demo in f['mask']['better_operator_1']]\n",
    "bad_demos=[demo.decode('utf-8') for demo in f['mask']['worse_operator_1']]\n",
    "len(good_demos) , len(bad_demos)"
   ]
  },
  {
   "cell_type": "code",
   "execution_count": 7,
   "id": "4549b6cf",
   "metadata": {},
   "outputs": [
    {
     "data": {
      "text/plain": [
       "(['demo_0', 'demo_1', 'demo_10', 'demo_11', 'demo_12'],\n",
       " ['demo_200', 'demo_201', 'demo_202', 'demo_203', 'demo_204'])"
      ]
     },
     "execution_count": 7,
     "metadata": {},
     "output_type": "execute_result"
    }
   ],
   "source": [
    "good_demos[:5], bad_demos[:5]"
   ]
  },
  {
   "cell_type": "code",
   "execution_count": null,
   "id": "42fd4bc6",
   "metadata": {},
   "outputs": [],
   "source": []
  },
  {
   "cell_type": "code",
   "execution_count": 8,
   "id": "1ce0002c",
   "metadata": {},
   "outputs": [
    {
     "data": {
      "text/plain": [
       "(100,)"
      ]
     },
     "execution_count": 8,
     "metadata": {},
     "output_type": "execute_result"
    }
   ],
   "source": [
    "goodbad = good_demos + bad_demos\n",
    " \n",
    "goodbad=np.array(goodbad, dtype='S8')\n",
    "goodbad.shape"
   ]
  },
  {
   "cell_type": "code",
   "execution_count": 9,
   "id": "c4adb485",
   "metadata": {},
   "outputs": [],
   "source": [
    "hdf5_path=dataset_path\n",
    "\n",
    "filter_keys=sorted([elem for elem in goodbad])\n",
    "filter_name='w1b1'\n",
    "filter_lengths = create_hdf5_filter_key(hdf5_path=hdf5_path, demo_keys=filter_keys, key_name=filter_name)"
   ]
  },
  {
   "cell_type": "code",
   "execution_count": null,
   "id": "f69313bf",
   "metadata": {},
   "outputs": [],
   "source": []
  },
  {
   "cell_type": "code",
   "execution_count": 10,
   "id": "1f8e0f79",
   "metadata": {},
   "outputs": [
    {
     "data": {
      "text/plain": [
       "(80,)"
      ]
     },
     "execution_count": 10,
     "metadata": {},
     "output_type": "execute_result"
    }
   ],
   "source": [
    "g80 = good_demos[:80] \n",
    " \n",
    "g80=np.array(g80, dtype='S8')\n",
    "g80.shape"
   ]
  },
  {
   "cell_type": "code",
   "execution_count": 11,
   "id": "8a5852a6",
   "metadata": {},
   "outputs": [],
   "source": [
    "hdf5_path=dataset_path\n",
    "\n",
    "filter_keys=sorted([elem for elem in g80])\n",
    "filter_name='g80'\n",
    "filter_lengths = create_hdf5_filter_key(hdf5_path=hdf5_path, demo_keys=filter_keys, key_name=filter_name)\n",
    "\n",
    "filter_keys=sorted([elem for elem in goodbad])\n",
    "filter_name='p20i'\n",
    "filter_lengths = create_hdf5_filter_key(hdf5_path=hdf5_path, demo_keys=filter_keys, key_name=filter_name)"
   ]
  },
  {
   "cell_type": "code",
   "execution_count": null,
   "id": "882eecf1",
   "metadata": {},
   "outputs": [],
   "source": []
  },
  {
   "cell_type": "code",
   "execution_count": 27,
   "id": "541d11e4",
   "metadata": {},
   "outputs": [],
   "source": [
    "f.close()"
   ]
  },
  {
   "cell_type": "code",
   "execution_count": null,
   "id": "b2263dda",
   "metadata": {},
   "outputs": [],
   "source": []
  },
  {
   "cell_type": "code",
   "execution_count": 9,
   "id": "2da7d53e",
   "metadata": {},
   "outputs": [
    {
     "data": {
      "text/plain": [
       "(100, 20, 20, 40, 40, 20)"
      ]
     },
     "execution_count": 9,
     "metadata": {},
     "output_type": "execute_result"
    }
   ],
   "source": [
    "# good_demos=[demo.decode('utf-8') for demo in f['mask']['expert']] \n",
    "good_demos=[demo.decode('utf-8') for demo in f['mask']['good']] \n",
    "bad_hover=[demo.decode('utf-8') for demo in f['mask']['bad_hover']]\n",
    "bad_touch=[demo.decode('utf-8') for demo in f['mask']['bad_touch']]\n",
    "bad_intentional=[demo.decode('utf-8') for demo in f['mask']['intentional']]\n",
    "bad_other=[demo.decode('utf-8') for demo in f['mask']['other_task']]\n",
    "try_good = [demo.decode('utf-8') for demo in f['mask']['try_good']]\n",
    "len(good_demos), len(bad_hover), len(bad_touch), len(bad_intentional), len(bad_other), len(try_good)"
   ]
  },
  {
   "cell_type": "code",
   "execution_count": 10,
   "id": "6300da7e",
   "metadata": {},
   "outputs": [
    {
     "data": {
      "text/plain": [
       "((80,), (100,), (100,), (100,), (100,), (100,), (100,))"
      ]
     },
     "execution_count": 10,
     "metadata": {},
     "output_type": "execute_result"
    }
   ],
   "source": [
    "p20base=good_demos[:80]\n",
    "p20h=p20base + bad_hover[:20]\n",
    "p20t=p20base + bad_touch[:20]\n",
    "p20i=p20base + bad_intentional[:20]\n",
    "p20o=p20base + bad_other[:20]\n",
    "p20tg=p20base + try_good[:20]\n",
    "p20bad=p20base + bad_hover[:10] + bad_touch[:10]\n",
    " \n",
    "\n",
    "p20base=np.array(p20base, dtype='S8')\n",
    "p20h=np.array(p20h, dtype='S8')\n",
    "p20t=np.array(p20t, dtype='S8')\n",
    "p20i=np.array(p20i, dtype='S8')\n",
    "p20o=np.array(p20o, dtype='S8')\n",
    "p20tg=np.array(p20tg, dtype='S8')\n",
    "p20bad=np.array(p20bad, dtype='S8')\n",
    "\n",
    "p20base.shape, p20h.shape, p20t.shape, p20i.shape, p20o.shape, p20tg.shape, p20bad.shape"
   ]
  },
  {
   "cell_type": "code",
   "execution_count": 11,
   "id": "307892fc",
   "metadata": {},
   "outputs": [],
   "source": [
    "hdf5_path=dataset_path\n",
    "\n",
    "filter_keys=sorted([elem for elem in p20i])\n",
    "filter_name='p20i2'\n",
    "filter_lengths = create_hdf5_filter_key(hdf5_path=hdf5_path, demo_keys=filter_keys, key_name=filter_name)"
   ]
  },
  {
   "cell_type": "code",
   "execution_count": null,
   "id": "86d51bb0",
   "metadata": {},
   "outputs": [],
   "source": []
  },
  {
   "cell_type": "code",
   "execution_count": null,
   "id": "053b8251",
   "metadata": {},
   "outputs": [],
   "source": []
  },
  {
   "cell_type": "code",
   "execution_count": 7,
   "id": "47700f78",
   "metadata": {},
   "outputs": [
    {
     "data": {
      "text/plain": [
       "25"
      ]
     },
     "execution_count": 7,
     "metadata": {},
     "output_type": "execute_result"
    }
   ],
   "source": [
    "new_demos=[name.decode('utf-8') for name in f['mask']['new_demos']]\n",
    "short_demos=[]\n",
    "for demo_name in new_demos:\n",
    "    demo=f['data'][demo_name]\n",
    "    num_samples=demo.attrs['num_samples']\n",
    "    if num_samples<700:\n",
    "        short_demos.append(demo_name)\n",
    "\n",
    "len(short_demos)"
   ]
  },
  {
   "cell_type": "code",
   "execution_count": 8,
   "id": "4fb10689",
   "metadata": {},
   "outputs": [
    {
     "data": {
      "text/plain": [
       "(125,)"
      ]
     },
     "execution_count": 8,
     "metadata": {},
     "output_type": "execute_result"
    }
   ],
   "source": [
    "g100b25= good_demos  + short_demos\n",
    " \n",
    "g100b25=np.array(g100b25, dtype='S8')\n",
    "g100b25.shape"
   ]
  },
  {
   "cell_type": "code",
   "execution_count": 9,
   "id": "5f4abdad",
   "metadata": {},
   "outputs": [],
   "source": [
    "hdf5_path=dataset_path\n",
    "\n",
    "filter_keys=sorted([elem for elem in g100b25])\n",
    "filter_name='g100b25'\n",
    "filter_lengths = create_hdf5_filter_key(hdf5_path=hdf5_path, demo_keys=filter_keys, key_name=filter_name)"
   ]
  },
  {
   "cell_type": "code",
   "execution_count": 13,
   "id": "244b6970",
   "metadata": {},
   "outputs": [],
   "source": [
    "f.close()"
   ]
  },
  {
   "cell_type": "code",
   "execution_count": null,
   "id": "9787694d",
   "metadata": {},
   "outputs": [],
   "source": []
  },
  {
   "cell_type": "code",
   "execution_count": null,
   "id": "a3caf994",
   "metadata": {},
   "outputs": [],
   "source": []
  },
  {
   "cell_type": "code",
   "execution_count": null,
   "id": "1dccf39b",
   "metadata": {},
   "outputs": [],
   "source": []
  },
  {
   "cell_type": "code",
   "execution_count": null,
   "id": "6a72e323",
   "metadata": {},
   "outputs": [],
   "source": []
  }
 ],
 "metadata": {
  "kernelspec": {
   "display_name": "Python 3",
   "language": "python",
   "name": "python3"
  },
  "language_info": {
   "codemirror_mode": {
    "name": "ipython",
    "version": 3
   },
   "file_extension": ".py",
   "mimetype": "text/x-python",
   "name": "python",
   "nbconvert_exporter": "python",
   "pygments_lexer": "ipython3",
   "version": "3.8.19"
  }
 },
 "nbformat": 4,
 "nbformat_minor": 5
}
