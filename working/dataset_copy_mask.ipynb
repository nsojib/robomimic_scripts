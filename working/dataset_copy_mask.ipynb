{
 "cells": [
  {
   "cell_type": "code",
   "execution_count": 1,
   "metadata": {},
   "outputs": [
    {
     "name": "stdout",
     "output_type": "stream",
     "text": [
      "\u001b[33mROBOMIMIC WARNING(\n",
      "    No private macro file found!\n",
      "    It is recommended to use a private macro file\n",
      "    To setup, run: python /home/ns1254/diffusion_policy/envs/robomimic/robomimic/scripts/setup_macros.py\n",
      ")\u001b[0m\n"
     ]
    }
   ],
   "source": [
    "import os\n",
    "import json\n",
    "import h5py\n",
    "import numpy as np\n",
    "\n",
    "import robomimic\n",
    "import robomimic.utils.file_utils as FileUtils\n",
    "import robomimic.utils.env_utils as EnvUtils\n",
    "import robomimic.utils.obs_utils as ObsUtils\n",
    "import imageio\n",
    "import tqdm\n",
    "from robomimic.utils.file_utils import create_hdf5_filter_key"
   ]
  },
  {
   "cell_type": "code",
   "execution_count": null,
   "metadata": {},
   "outputs": [],
   "source": []
  },
  {
   "cell_type": "code",
   "execution_count": 2,
   "metadata": {},
   "outputs": [
    {
     "name": "stdout",
     "output_type": "stream",
     "text": [
      "Number of demos:  82\n",
      "Max length:  1200\n",
      "Min length:  321\n",
      "Mean length:  689.890243902439\n"
     ]
    }
   ],
   "source": [
    "dataset_path_src = \"/home/ns1254/data_franka/gib/drawer_lay5_g53b29_delta.hdf5\"\n",
    "\n",
    "f_org = h5py.File(dataset_path_src, \"r\")\n",
    "demos = list(f_org[\"data\"].keys())\n",
    "\n",
    "lengths=[]\n",
    "for demo_name in demos:\n",
    "    demo=f_org['data'][demo_name]\n",
    "    num_samples=demo.attrs['num_samples']\n",
    "    lengths.append(num_samples)\n",
    "\n",
    "lengths=np.array(lengths)\n",
    "\n",
    "print('Number of demos: ', len(demos))\n",
    "print('Max length: ', np.max(lengths))\n",
    "print('Min length: ', np.min(lengths))\n",
    "print('Mean length: ', np.mean(lengths))"
   ]
  },
  {
   "cell_type": "code",
   "execution_count": null,
   "metadata": {},
   "outputs": [],
   "source": []
  },
  {
   "cell_type": "code",
   "execution_count": 3,
   "metadata": {},
   "outputs": [
    {
     "name": "stdout",
     "output_type": "stream",
     "text": [
      "Number of demos:  82\n",
      "Max length:  1200\n",
      "Min length:  321\n",
      "Mean length:  689.890243902439\n"
     ]
    }
   ],
   "source": [
    "dataset_path_dst= \"/home/ns1254/data_franka/gib/drawer_lay5_g53b29_delta2.hdf5\"\n",
    "\n",
    "f_org2 = h5py.File(dataset_path_dst, \"r+\")\n",
    "demos = list(f_org2[\"data\"].keys())\n",
    "\n",
    "lengths=[]\n",
    "for demo_name in demos:\n",
    "    demo=f_org2['data'][demo_name]\n",
    "    num_samples=demo.attrs['num_samples']\n",
    "    lengths.append(num_samples)\n",
    "\n",
    "lengths=np.array(lengths)\n",
    "\n",
    "print('Number of demos: ', len(demos))\n",
    "print('Max length: ', np.max(lengths))\n",
    "print('Min length: ', np.min(lengths))\n",
    "print('Mean length: ', np.mean(lengths))"
   ]
  },
  {
   "cell_type": "code",
   "execution_count": 4,
   "metadata": {},
   "outputs": [
    {
     "data": {
      "text/plain": [
       "<KeysViewHDF5 ['bad', 'drawer_pria_g9b6', 'drawer_pria_g9b6_bad', 'drawer_talha_g13b8', 'drawer_talha_g13b8_bad', 'drawer_tazul_g12b3', 'drawer_tazul_g12b3_bad', 'drawer_zahid_g6b5', 'drawer_zahid_g6b5_bad', 'drawyer_mispa_13g7b', 'drawyer_mispa_13g7b_bad', 'good']>"
      ]
     },
     "execution_count": 4,
     "metadata": {},
     "output_type": "execute_result"
    }
   ],
   "source": [
    "f_org['mask'].keys()"
   ]
  },
  {
   "cell_type": "code",
   "execution_count": 16,
   "metadata": {},
   "outputs": [
    {
     "data": {
      "text/plain": [
       "<KeysViewHDF5 ['drawer_pria_g9b6', 'drawer_pria_g9b6_bad', 'drawer_talha_g13b8', 'drawer_talha_g13b8_bad', 'drawer_tazul_g12b3', 'drawer_tazul_g12b3_bad', 'drawer_zahid_g6b5', 'drawer_zahid_g6b5_bad', 'drawyer_mispa_13g7b', 'drawyer_mispa_13g7b_bad', 'good']>"
      ]
     },
     "execution_count": 16,
     "metadata": {},
     "output_type": "execute_result"
    }
   ],
   "source": [
    "f_org2['mask'].keys()"
   ]
  },
  {
   "cell_type": "code",
   "execution_count": 14,
   "metadata": {},
   "outputs": [
    {
     "data": {
      "text/plain": [
       "['demo_0',\n",
       " 'demo_1',\n",
       " 'demo_10',\n",
       " 'demo_11',\n",
       " 'demo_12',\n",
       " 'demo_13',\n",
       " 'demo_14',\n",
       " 'demo_15',\n",
       " 'demo_16',\n",
       " 'demo_17',\n",
       " 'demo_18',\n",
       " 'demo_19',\n",
       " 'demo_2',\n",
       " 'demo_20',\n",
       " 'demo_21',\n",
       " 'demo_22',\n",
       " 'demo_23',\n",
       " 'demo_24',\n",
       " 'demo_25',\n",
       " 'demo_26',\n",
       " 'demo_27',\n",
       " 'demo_28',\n",
       " 'demo_29',\n",
       " 'demo_3',\n",
       " 'demo_30',\n",
       " 'demo_31',\n",
       " 'demo_32',\n",
       " 'demo_33',\n",
       " 'demo_34',\n",
       " 'demo_35',\n",
       " 'demo_36',\n",
       " 'demo_37',\n",
       " 'demo_38',\n",
       " 'demo_39',\n",
       " 'demo_4',\n",
       " 'demo_40',\n",
       " 'demo_41',\n",
       " 'demo_42',\n",
       " 'demo_43',\n",
       " 'demo_44',\n",
       " 'demo_45',\n",
       " 'demo_46',\n",
       " 'demo_47',\n",
       " 'demo_48',\n",
       " 'demo_49',\n",
       " 'demo_5',\n",
       " 'demo_50',\n",
       " 'demo_51',\n",
       " 'demo_52',\n",
       " 'demo_6',\n",
       " 'demo_7',\n",
       " 'demo_8',\n",
       " 'demo_9']"
      ]
     },
     "execution_count": 14,
     "metadata": {},
     "output_type": "execute_result"
    }
   ],
   "source": [
    "demos=[b.decode('utf-8') for b in f_org['mask']['good']]\n",
    "demos"
   ]
  },
  {
   "cell_type": "code",
   "execution_count": null,
   "metadata": {},
   "outputs": [],
   "source": []
  },
  {
   "cell_type": "code",
   "execution_count": null,
   "metadata": {},
   "outputs": [],
   "source": [
    "# f_org2.create_dataset('mask/good', demos)"
   ]
  },
  {
   "cell_type": "code",
   "execution_count": 15,
   "metadata": {},
   "outputs": [],
   "source": [
    "demos=np.array(demos, dtype='S8')\n",
    "\n",
    "hdf5_path=dataset_path_dst\n",
    "\n",
    "filter_keys=sorted([elem for elem in demos])\n",
    "filter_name='good'\n",
    "filter_lengths = create_hdf5_filter_key(hdf5_path=hdf5_path, demo_keys=filter_keys, key_name=filter_name)"
   ]
  },
  {
   "cell_type": "code",
   "execution_count": null,
   "metadata": {},
   "outputs": [],
   "source": []
  },
  {
   "cell_type": "code",
   "execution_count": null,
   "metadata": {},
   "outputs": [],
   "source": []
  },
  {
   "cell_type": "code",
   "execution_count": null,
   "metadata": {},
   "outputs": [],
   "source": []
  },
  {
   "cell_type": "code",
   "execution_count": 12,
   "metadata": {},
   "outputs": [],
   "source": [
    "def copy_group(src_group, dest_group):\n",
    "    # Copy attributes\n",
    "    for attr_name, attr_value in src_group.attrs.items():\n",
    "        dest_group.attrs[attr_name] = attr_value\n",
    "\n",
    "    for key, item in src_group.items():\n",
    "        if isinstance(item, h5py.Group):\n",
    "            # Create a new group in the destination and recursively copy contents\n",
    "            new_group = dest_group.create_group(key)\n",
    "            copy_group(item, new_group)\n",
    "        elif isinstance(item, h5py.Dataset):\n",
    "            # Copy datasets\n",
    "            dataset = dest_group.create_dataset(key, data=item[...])\n",
    "            # Copy attributes for the dataset\n",
    "            for attr_name, attr_value in item.attrs.items():\n",
    "                dataset.attrs[attr_name] = attr_value\n",
    "\n",
    "\n",
    "def copy_demos(f_src, f_dest, demos2copy, next_id):\n",
    "    new_demo_names=[]\n",
    "    i=next_id\n",
    "    for demo_name in tqdm.tqdm(demos2copy):\n",
    "        demo=f_src['data'][demo_name]  \n",
    "\n",
    "        demo_name_new=\"demo_\"+str(i) \n",
    "        new_demo=f_dest[\"data\"].create_group(demo_name_new) \n",
    "        copy_group(demo, new_demo) \n",
    "\n",
    "        new_demo_names.append(demo_name_new)\n",
    "        i = i+1\n",
    "\n",
    "    return i , new_demo_names"
   ]
  },
  {
   "cell_type": "markdown",
   "metadata": {},
   "source": [
    "### create sub data"
   ]
  },
  {
   "cell_type": "code",
   "execution_count": 9,
   "metadata": {},
   "outputs": [
    {
     "data": {
      "text/plain": [
       "(20,\n",
       " ['demo_10',\n",
       "  'demo_12',\n",
       "  'demo_13',\n",
       "  'demo_20',\n",
       "  'demo_40',\n",
       "  'demo_44',\n",
       "  'demo_46',\n",
       "  'demo_63',\n",
       "  'demo_64',\n",
       "  'demo_65',\n",
       "  'demo_66',\n",
       "  'demo_71',\n",
       "  'demo_86',\n",
       "  'demo_87',\n",
       "  'demo_92',\n",
       "  'demo_93',\n",
       "  'demo_97',\n",
       "  'demo_102',\n",
       "  'demo_104',\n",
       "  'demo_106'])"
      ]
     },
     "execution_count": 9,
     "metadata": {},
     "output_type": "execute_result"
    }
   ],
   "source": [
    "group_name = \"bad\"\n",
    "demos2copy =[demo.decode('utf-8') for demo in f_org['mask'][group_name]]\n",
    "demos2copy=sorted(demos2copy, key=lambda x: int(x.split('_')[-1]))\n",
    "len(demos2copy), demos2copy"
   ]
  },
  {
   "cell_type": "code",
   "execution_count": 9,
   "metadata": {},
   "outputs": [],
   "source": []
  },
  {
   "cell_type": "code",
   "execution_count": 8,
   "metadata": {},
   "outputs": [
    {
     "data": {
      "text/plain": [
       "'/home/ns1254/data_franka/bellpepper_oma/ola_114_sub.hdf5'"
      ]
     },
     "execution_count": 8,
     "metadata": {},
     "output_type": "execute_result"
    }
   ],
   "source": [
    "dataset_path_sub =dataset_path\n",
    "dataset_path_sub=dataset_path_sub.replace(\".hdf5\", \"\")+\"_sub.hdf5\"\n",
    "dataset_path_sub"
   ]
  },
  {
   "cell_type": "code",
   "execution_count": 10,
   "metadata": {},
   "outputs": [
    {
     "data": {
      "text/plain": [
       "<HDF5 group \"/mask\" (0 members)>"
      ]
     },
     "execution_count": 10,
     "metadata": {},
     "output_type": "execute_result"
    }
   ],
   "source": [
    "f_sub = h5py.File(dataset_path_sub, \"w\") \n",
    "f_sub.create_group(\"data\")\n",
    "f_sub.create_group(\"mask\")"
   ]
  },
  {
   "cell_type": "code",
   "execution_count": null,
   "metadata": {},
   "outputs": [],
   "source": [
    "#copy attributes of exist.\n",
    "# f_sub['data'].attrs[key]=f_org['data'].attrs[key]"
   ]
  },
  {
   "cell_type": "code",
   "execution_count": 13,
   "metadata": {},
   "outputs": [
    {
     "name": "stdout",
     "output_type": "stream",
     "text": [
      "copying demos...\n"
     ]
    },
    {
     "name": "stderr",
     "output_type": "stream",
     "text": [
      "100%|██████████| 20/20 [00:02<00:00,  9.29it/s]\n"
     ]
    }
   ],
   "source": [
    "print('copying demos...') \n",
    "next_id , new_demo_names=copy_demos(f_src=f_org, f_dest=f_sub, demos2copy=demos2copy, next_id=0)"
   ]
  },
  {
   "cell_type": "code",
   "execution_count": 17,
   "metadata": {},
   "outputs": [
    {
     "ename": "NameError",
     "evalue": "name 'f_sub' is not defined",
     "output_type": "error",
     "traceback": [
      "\u001b[0;31m---------------------------------------------------------------------------\u001b[0m",
      "\u001b[0;31mNameError\u001b[0m                                 Traceback (most recent call last)",
      "Cell \u001b[0;32mIn[17], line 2\u001b[0m\n\u001b[1;32m      1\u001b[0m f_org\u001b[38;5;241m.\u001b[39mclose()\n\u001b[0;32m----> 2\u001b[0m \u001b[43mf_sub\u001b[49m\u001b[38;5;241m.\u001b[39mclose()\n",
      "\u001b[0;31mNameError\u001b[0m: name 'f_sub' is not defined"
     ]
    }
   ],
   "source": [
    "f_org.close()\n",
    "f_sub.close()"
   ]
  },
  {
   "cell_type": "code",
   "execution_count": null,
   "metadata": {},
   "outputs": [],
   "source": []
  },
  {
   "cell_type": "markdown",
   "metadata": {},
   "source": [
    "### verify"
   ]
  },
  {
   "cell_type": "code",
   "execution_count": 3,
   "metadata": {},
   "outputs": [
    {
     "name": "stdout",
     "output_type": "stream",
     "text": [
      "Number of demos:  20\n",
      "Max length:  761\n",
      "Min length:  125\n",
      "Mean length:  225.4\n"
     ]
    }
   ],
   "source": [
    "dataset_path = '/home/ns1254/data_franka/bellpepper_oma/ola_114_sub.hdf5'\n",
    "\n",
    "f_org = h5py.File(dataset_path, \"r\")\n",
    "demos = list(f_org[\"data\"].keys())\n",
    "\n",
    "lengths=[]\n",
    "for demo_name in demos:\n",
    "    demo=f_org['data'][demo_name]\n",
    "    num_samples=demo.attrs['num_samples']\n",
    "    lengths.append(num_samples)\n",
    "\n",
    "lengths=np.array(lengths)\n",
    "\n",
    "print('Number of demos: ', len(demos))\n",
    "print('Max length: ', np.max(lengths))\n",
    "print('Min length: ', np.min(lengths))\n",
    "print('Mean length: ', np.mean(lengths))\n",
    "\n",
    "f_org['mask'].keys()\n",
    "\n",
    "f_org.close()"
   ]
  },
  {
   "cell_type": "code",
   "execution_count": null,
   "metadata": {},
   "outputs": [],
   "source": []
  },
  {
   "cell_type": "code",
   "execution_count": null,
   "metadata": {},
   "outputs": [],
   "source": []
  }
 ],
 "metadata": {
  "kernelspec": {
   "display_name": "robodiff",
   "language": "python",
   "name": "python3"
  },
  "language_info": {
   "codemirror_mode": {
    "name": "ipython",
    "version": 3
   },
   "file_extension": ".py",
   "mimetype": "text/x-python",
   "name": "python",
   "nbconvert_exporter": "python",
   "pygments_lexer": "ipython3",
   "version": "3.9.18"
  },
  "orig_nbformat": 4
 },
 "nbformat": 4,
 "nbformat_minor": 2
}
