{
 "cells": [
  {
   "cell_type": "code",
   "execution_count": 1,
   "metadata": {},
   "outputs": [
    {
     "name": "stderr",
     "output_type": "stream",
     "text": [
      "/home/ns1254/miniforge3/envs/robodiff/lib/python3.9/site-packages/torchvision/io/image.py:13: UserWarning: Failed to load image Python extension: libtorch_cuda_cu.so: cannot open shared object file: No such file or directory\n",
      "  warn(f\"Failed to load image Python extension: {e}\")\n"
     ]
    }
   ],
   "source": [
    "import os\n",
    "import json\n",
    "import h5py\n",
    "import numpy as np\n",
    "\n",
    "import robomimic\n",
    "import robomimic.utils.file_utils as FileUtils\n",
    "import robomimic.utils.env_utils as EnvUtils\n",
    "import robomimic.utils.obs_utils as ObsUtils\n",
    "import imageio\n",
    "import tqdm\n",
    "from robomimic.utils.file_utils import create_hdf5_filter_key"
   ]
  },
  {
   "cell_type": "code",
   "execution_count": null,
   "metadata": {},
   "outputs": [],
   "source": []
  },
  {
   "cell_type": "code",
   "execution_count": 2,
   "metadata": {},
   "outputs": [],
   "source": [
    "dataset_path = \"/home/ns1254/dataset_mimicgen/kitchen82_31.hdf5\"\n",
    "\n",
    "f_org = h5py.File(dataset_path, \"r\")\n",
    "demos = list(f_org[\"data\"].keys())"
   ]
  },
  {
   "cell_type": "code",
   "execution_count": null,
   "metadata": {},
   "outputs": [],
   "source": []
  },
  {
   "cell_type": "code",
   "execution_count": 3,
   "metadata": {},
   "outputs": [
    {
     "name": "stdout",
     "output_type": "stream",
     "text": [
      "Number of demos:  113\n",
      "Max length:  2000\n",
      "Min length:  773\n",
      "Mean length:  1116.0619469026549\n"
     ]
    }
   ],
   "source": [
    "lengths=[]\n",
    "for demo_name in demos:\n",
    "    demo=f_org['data'][demo_name]\n",
    "    num_samples=demo.attrs['num_samples']\n",
    "    lengths.append(num_samples)\n",
    "\n",
    "lengths=np.array(lengths)\n",
    "\n",
    "print('Number of demos: ', len(demos))\n",
    "print('Max length: ', np.max(lengths))\n",
    "print('Min length: ', np.min(lengths))\n",
    "print('Mean length: ', np.mean(lengths))"
   ]
  },
  {
   "cell_type": "code",
   "execution_count": 4,
   "metadata": {},
   "outputs": [
    {
     "data": {
      "text/plain": [
       "<KeysViewHDF5 ['b21', 'bad', 'g30', 'g30b10', 'g30b20', 'g40', 'g40b10', 'g40b20', 'g60', 'g60b20', 'g64', 'good']>"
      ]
     },
     "execution_count": 4,
     "metadata": {},
     "output_type": "execute_result"
    }
   ],
   "source": [
    "f_org['mask'].keys()"
   ]
  },
  {
   "cell_type": "code",
   "execution_count": null,
   "metadata": {},
   "outputs": [],
   "source": []
  },
  {
   "cell_type": "code",
   "execution_count": 5,
   "metadata": {},
   "outputs": [],
   "source": [
    "def copy_group(src_group, dest_group):\n",
    "    # Copy attributes\n",
    "    for attr_name, attr_value in src_group.attrs.items():\n",
    "        dest_group.attrs[attr_name] = attr_value\n",
    "\n",
    "    for key, item in src_group.items():\n",
    "        if isinstance(item, h5py.Group):\n",
    "            # Create a new group in the destination and recursively copy contents\n",
    "            new_group = dest_group.create_group(key)\n",
    "            copy_group(item, new_group)\n",
    "        elif isinstance(item, h5py.Dataset):\n",
    "            # Copy datasets\n",
    "            dataset = dest_group.create_dataset(key, data=item[...])\n",
    "            # Copy attributes for the dataset\n",
    "            for attr_name, attr_value in item.attrs.items():\n",
    "                dataset.attrs[attr_name] = attr_value\n",
    "\n",
    "\n",
    "def copy_demos(f_src, f_dest, demos2copy, next_id):\n",
    "    new_demo_names=[]\n",
    "    i=next_id\n",
    "    for demo_name in tqdm.tqdm(demos2copy):\n",
    "        demo=f_src['data'][demo_name]  \n",
    "\n",
    "        demo_name_new=\"demo_\"+str(i) \n",
    "        new_demo=f_dest[\"data\"].create_group(demo_name_new) \n",
    "        copy_group(demo, new_demo) \n",
    "\n",
    "        new_demo_names.append(demo_name_new)\n",
    "        i = i+1\n",
    "\n",
    "    return i , new_demo_names"
   ]
  },
  {
   "cell_type": "code",
   "execution_count": 6,
   "metadata": {},
   "outputs": [
    {
     "data": {
      "text/plain": [
       "['demo_1', 'demo_10', 'demo_100']"
      ]
     },
     "execution_count": 6,
     "metadata": {},
     "output_type": "execute_result"
    }
   ],
   "source": [
    "demos[:3]"
   ]
  },
  {
   "cell_type": "code",
   "execution_count": 7,
   "metadata": {},
   "outputs": [],
   "source": [
    "# dataset_path = \"/home/ns1254/dataset_mimicgen/mug124.hdf5\""
   ]
  },
  {
   "cell_type": "code",
   "execution_count": 8,
   "metadata": {},
   "outputs": [
    {
     "data": {
      "text/plain": [
       "(113,\n",
       " ['demo_1',\n",
       "  'demo_2',\n",
       "  'demo_3',\n",
       "  'demo_4',\n",
       "  'demo_5',\n",
       "  'demo_6',\n",
       "  'demo_7',\n",
       "  'demo_8',\n",
       "  'demo_9',\n",
       "  'demo_10',\n",
       "  'demo_11',\n",
       "  'demo_12',\n",
       "  'demo_13',\n",
       "  'demo_14',\n",
       "  'demo_15',\n",
       "  'demo_16',\n",
       "  'demo_17',\n",
       "  'demo_18',\n",
       "  'demo_19',\n",
       "  'demo_20',\n",
       "  'demo_21',\n",
       "  'demo_22',\n",
       "  'demo_23',\n",
       "  'demo_24',\n",
       "  'demo_25',\n",
       "  'demo_26',\n",
       "  'demo_27',\n",
       "  'demo_28',\n",
       "  'demo_29',\n",
       "  'demo_30',\n",
       "  'demo_31',\n",
       "  'demo_32',\n",
       "  'demo_33',\n",
       "  'demo_34',\n",
       "  'demo_35',\n",
       "  'demo_36',\n",
       "  'demo_37',\n",
       "  'demo_38',\n",
       "  'demo_39',\n",
       "  'demo_40',\n",
       "  'demo_41',\n",
       "  'demo_42',\n",
       "  'demo_43',\n",
       "  'demo_44',\n",
       "  'demo_45',\n",
       "  'demo_46',\n",
       "  'demo_47',\n",
       "  'demo_48',\n",
       "  'demo_49',\n",
       "  'demo_50',\n",
       "  'demo_51',\n",
       "  'demo_52',\n",
       "  'demo_53',\n",
       "  'demo_54',\n",
       "  'demo_55',\n",
       "  'demo_56',\n",
       "  'demo_57',\n",
       "  'demo_58',\n",
       "  'demo_59',\n",
       "  'demo_60',\n",
       "  'demo_61',\n",
       "  'demo_62',\n",
       "  'demo_63',\n",
       "  'demo_64',\n",
       "  'demo_65',\n",
       "  'demo_66',\n",
       "  'demo_67',\n",
       "  'demo_68',\n",
       "  'demo_69',\n",
       "  'demo_70',\n",
       "  'demo_71',\n",
       "  'demo_72',\n",
       "  'demo_73',\n",
       "  'demo_74',\n",
       "  'demo_75',\n",
       "  'demo_76',\n",
       "  'demo_77',\n",
       "  'demo_78',\n",
       "  'demo_79',\n",
       "  'demo_80',\n",
       "  'demo_81',\n",
       "  'demo_82',\n",
       "  'demo_83',\n",
       "  'demo_84',\n",
       "  'demo_85',\n",
       "  'demo_86',\n",
       "  'demo_87',\n",
       "  'demo_88',\n",
       "  'demo_89',\n",
       "  'demo_90',\n",
       "  'demo_91',\n",
       "  'demo_92',\n",
       "  'demo_93',\n",
       "  'demo_94',\n",
       "  'demo_95',\n",
       "  'demo_96',\n",
       "  'demo_97',\n",
       "  'demo_98',\n",
       "  'demo_99',\n",
       "  'demo_100',\n",
       "  'demo_101',\n",
       "  'demo_102',\n",
       "  'demo_103',\n",
       "  'demo_104',\n",
       "  'demo_105',\n",
       "  'demo_106',\n",
       "  'demo_107',\n",
       "  'demo_108',\n",
       "  'demo_109',\n",
       "  'demo_110',\n",
       "  'demo_111',\n",
       "  'demo_112',\n",
       "  'demo_113'])"
      ]
     },
     "execution_count": 8,
     "metadata": {},
     "output_type": "execute_result"
    }
   ],
   "source": [
    "demos2copy =demos\n",
    "demos2copy=sorted(demos2copy, key=lambda x: int(x.split('_')[-1]))\n",
    "len(demos2copy), demos2copy"
   ]
  },
  {
   "cell_type": "code",
   "execution_count": null,
   "metadata": {},
   "outputs": [],
   "source": []
  },
  {
   "cell_type": "code",
   "execution_count": 9,
   "metadata": {},
   "outputs": [
    {
     "data": {
      "text/plain": [
       "'/home/ns1254/dataset_mimicgen/kitchen82_31_0ind.hdf5'"
      ]
     },
     "execution_count": 9,
     "metadata": {},
     "output_type": "execute_result"
    }
   ],
   "source": [
    "dataset_path_sub =dataset_path\n",
    "dataset_path_sub=dataset_path_sub.replace(\".hdf5\", \"\")+\"_0ind.hdf5\"\n",
    "dataset_path_sub"
   ]
  },
  {
   "cell_type": "code",
   "execution_count": 10,
   "metadata": {},
   "outputs": [
    {
     "data": {
      "text/plain": [
       "<HDF5 group \"/mask\" (0 members)>"
      ]
     },
     "execution_count": 10,
     "metadata": {},
     "output_type": "execute_result"
    }
   ],
   "source": [
    "f_sub = h5py.File(dataset_path_sub, \"w\") \n",
    "f_sub.create_group(\"data\")\n",
    "f_sub.create_group(\"mask\")"
   ]
  },
  {
   "cell_type": "code",
   "execution_count": 11,
   "metadata": {},
   "outputs": [],
   "source": [
    "for key in  f_org['data'].attrs.keys():\n",
    "    f_sub['data'].attrs[key] = f_org['data'].attrs[key]"
   ]
  },
  {
   "cell_type": "code",
   "execution_count": null,
   "metadata": {},
   "outputs": [],
   "source": []
  },
  {
   "cell_type": "code",
   "execution_count": 12,
   "metadata": {},
   "outputs": [
    {
     "name": "stdout",
     "output_type": "stream",
     "text": [
      "copying demos...\n"
     ]
    },
    {
     "name": "stderr",
     "output_type": "stream",
     "text": [
      "100%|██████████| 113/113 [01:38<00:00,  1.14it/s]\n"
     ]
    }
   ],
   "source": [
    "print('copying demos...') \n",
    "next_id , new_demo_names=copy_demos(f_src=f_org, f_dest=f_sub, demos2copy=demos2copy, next_id=0)"
   ]
  },
  {
   "cell_type": "code",
   "execution_count": 13,
   "metadata": {},
   "outputs": [
    {
     "data": {
      "text/plain": [
       "113"
      ]
     },
     "execution_count": 13,
     "metadata": {},
     "output_type": "execute_result"
    }
   ],
   "source": [
    "map={old_name:new_name for old_name,new_name in zip(demos2copy, new_demo_names)}\n",
    "len(map)"
   ]
  },
  {
   "cell_type": "code",
   "execution_count": 22,
   "metadata": {},
   "outputs": [],
   "source": [
    "# map"
   ]
  },
  {
   "cell_type": "code",
   "execution_count": null,
   "metadata": {},
   "outputs": [],
   "source": []
  },
  {
   "cell_type": "code",
   "execution_count": 14,
   "metadata": {},
   "outputs": [
    {
     "name": "stdout",
     "output_type": "stream",
     "text": [
      "creating filter key: b21 with 21 demos\n",
      "creating filter key: bad with 31 demos\n",
      "creating filter key: g30 with 30 demos\n",
      "creating filter key: g30b10 with 40 demos\n",
      "creating filter key: g30b20 with 50 demos\n",
      "creating filter key: g40 with 40 demos\n",
      "creating filter key: g40b10 with 50 demos\n",
      "creating filter key: g40b20 with 60 demos\n",
      "creating filter key: g60 with 60 demos\n",
      "creating filter key: g60b20 with 80 demos\n",
      "creating filter key: g64 with 64 demos\n",
      "creating filter key: good with 82 demos\n"
     ]
    }
   ],
   "source": [
    "for key in f_org['mask'].keys():\n",
    "    demo_names = [b.decode('utf-8') for b in f_org['mask'][key] ]\n",
    "    demo_names_new = [map[demo_name] for demo_name in demo_names]\n",
    "\n",
    "    print(f\"creating filter key: {key} with {len(demo_names_new)} demos\")\n",
    "    demos= np.array(demo_names_new, dtype='S8')   \n",
    "    filter_keys=sorted([elem for elem in demos]) \n",
    "    filter_lengths = create_hdf5_filter_key(hdf5_path=dataset_path_sub, demo_keys=filter_keys, key_name=key)"
   ]
  },
  {
   "cell_type": "code",
   "execution_count": 15,
   "metadata": {},
   "outputs": [
    {
     "data": {
      "text/plain": [
       "<KeysViewHDF5 ['b21', 'bad', 'g30', 'g30b10', 'g30b20', 'g40', 'g40b10', 'g40b20', 'g60', 'g60b20', 'g64', 'good']>"
      ]
     },
     "execution_count": 15,
     "metadata": {},
     "output_type": "execute_result"
    }
   ],
   "source": [
    "f_sub['mask'].keys()"
   ]
  },
  {
   "cell_type": "code",
   "execution_count": 17,
   "metadata": {},
   "outputs": [
    {
     "data": {
      "text/plain": [
       "array([b'demo_100', b'demo_101', b'demo_103', b'demo_104', b'demo_105',\n",
       "       b'demo_106', b'demo_107', b'demo_108', b'demo_111', b'demo_112',\n",
       "       b'demo_113', b'demo_83', b'demo_84', b'demo_85', b'demo_89',\n",
       "       b'demo_90', b'demo_94', b'demo_95', b'demo_96', b'demo_98',\n",
       "       b'demo_99'], dtype='|S8')"
      ]
     },
     "execution_count": 17,
     "metadata": {},
     "output_type": "execute_result"
    }
   ],
   "source": [
    "f_org['mask']['b21'][:]"
   ]
  },
  {
   "cell_type": "code",
   "execution_count": 18,
   "metadata": {},
   "outputs": [
    {
     "data": {
      "text/plain": [
       "array([b'demo_100', b'demo_102', b'demo_103', b'demo_104', b'demo_105',\n",
       "       b'demo_106', b'demo_107', b'demo_110', b'demo_111', b'demo_112',\n",
       "       b'demo_82', b'demo_83', b'demo_84', b'demo_88', b'demo_89',\n",
       "       b'demo_93', b'demo_94', b'demo_95', b'demo_97', b'demo_98',\n",
       "       b'demo_99'], dtype='|S8')"
      ]
     },
     "execution_count": 18,
     "metadata": {},
     "output_type": "execute_result"
    }
   ],
   "source": [
    "f_sub['mask']['b21'][:]"
   ]
  },
  {
   "cell_type": "code",
   "execution_count": 19,
   "metadata": {},
   "outputs": [
    {
     "data": {
      "text/plain": [
       "<KeysViewHDF5 ['demo_1', 'demo_10', 'demo_100', 'demo_101', 'demo_102', 'demo_103', 'demo_104', 'demo_105', 'demo_106', 'demo_107', 'demo_108', 'demo_109', 'demo_11', 'demo_110', 'demo_111', 'demo_112', 'demo_113', 'demo_12', 'demo_13', 'demo_14', 'demo_15', 'demo_16', 'demo_17', 'demo_18', 'demo_19', 'demo_2', 'demo_20', 'demo_21', 'demo_22', 'demo_23', 'demo_24', 'demo_25', 'demo_26', 'demo_27', 'demo_28', 'demo_29', 'demo_3', 'demo_30', 'demo_31', 'demo_32', 'demo_33', 'demo_34', 'demo_35', 'demo_36', 'demo_37', 'demo_38', 'demo_39', 'demo_4', 'demo_40', 'demo_41', 'demo_42', 'demo_43', 'demo_44', 'demo_45', 'demo_46', 'demo_47', 'demo_48', 'demo_49', 'demo_5', 'demo_50', 'demo_51', 'demo_52', 'demo_53', 'demo_54', 'demo_55', 'demo_56', 'demo_57', 'demo_58', 'demo_59', 'demo_6', 'demo_60', 'demo_61', 'demo_62', 'demo_63', 'demo_64', 'demo_65', 'demo_66', 'demo_67', 'demo_68', 'demo_69', 'demo_7', 'demo_70', 'demo_71', 'demo_72', 'demo_73', 'demo_74', 'demo_75', 'demo_76', 'demo_77', 'demo_78', 'demo_79', 'demo_8', 'demo_80', 'demo_81', 'demo_82', 'demo_83', 'demo_84', 'demo_85', 'demo_86', 'demo_87', 'demo_88', 'demo_89', 'demo_9', 'demo_90', 'demo_91', 'demo_92', 'demo_93', 'demo_94', 'demo_95', 'demo_96', 'demo_97', 'demo_98', 'demo_99']>"
      ]
     },
     "execution_count": 19,
     "metadata": {},
     "output_type": "execute_result"
    }
   ],
   "source": [
    "f_org['data'].keys()"
   ]
  },
  {
   "cell_type": "code",
   "execution_count": 20,
   "metadata": {},
   "outputs": [
    {
     "data": {
      "text/plain": [
       "<KeysViewHDF5 ['demo_0', 'demo_1', 'demo_10', 'demo_100', 'demo_101', 'demo_102', 'demo_103', 'demo_104', 'demo_105', 'demo_106', 'demo_107', 'demo_108', 'demo_109', 'demo_11', 'demo_110', 'demo_111', 'demo_112', 'demo_12', 'demo_13', 'demo_14', 'demo_15', 'demo_16', 'demo_17', 'demo_18', 'demo_19', 'demo_2', 'demo_20', 'demo_21', 'demo_22', 'demo_23', 'demo_24', 'demo_25', 'demo_26', 'demo_27', 'demo_28', 'demo_29', 'demo_3', 'demo_30', 'demo_31', 'demo_32', 'demo_33', 'demo_34', 'demo_35', 'demo_36', 'demo_37', 'demo_38', 'demo_39', 'demo_4', 'demo_40', 'demo_41', 'demo_42', 'demo_43', 'demo_44', 'demo_45', 'demo_46', 'demo_47', 'demo_48', 'demo_49', 'demo_5', 'demo_50', 'demo_51', 'demo_52', 'demo_53', 'demo_54', 'demo_55', 'demo_56', 'demo_57', 'demo_58', 'demo_59', 'demo_6', 'demo_60', 'demo_61', 'demo_62', 'demo_63', 'demo_64', 'demo_65', 'demo_66', 'demo_67', 'demo_68', 'demo_69', 'demo_7', 'demo_70', 'demo_71', 'demo_72', 'demo_73', 'demo_74', 'demo_75', 'demo_76', 'demo_77', 'demo_78', 'demo_79', 'demo_8', 'demo_80', 'demo_81', 'demo_82', 'demo_83', 'demo_84', 'demo_85', 'demo_86', 'demo_87', 'demo_88', 'demo_89', 'demo_9', 'demo_90', 'demo_91', 'demo_92', 'demo_93', 'demo_94', 'demo_95', 'demo_96', 'demo_97', 'demo_98', 'demo_99']>"
      ]
     },
     "execution_count": 20,
     "metadata": {},
     "output_type": "execute_result"
    }
   ],
   "source": [
    "f_sub['data'].keys()"
   ]
  },
  {
   "cell_type": "code",
   "execution_count": null,
   "metadata": {},
   "outputs": [],
   "source": []
  },
  {
   "cell_type": "code",
   "execution_count": 23,
   "metadata": {},
   "outputs": [],
   "source": [
    "f_org.close()\n",
    "f_sub.close()"
   ]
  },
  {
   "cell_type": "code",
   "execution_count": null,
   "metadata": {},
   "outputs": [],
   "source": []
  },
  {
   "cell_type": "code",
   "execution_count": null,
   "metadata": {},
   "outputs": [],
   "source": []
  },
  {
   "cell_type": "markdown",
   "metadata": {},
   "source": [
    "### verify"
   ]
  },
  {
   "cell_type": "code",
   "execution_count": 5,
   "metadata": {},
   "outputs": [
    {
     "name": "stdout",
     "output_type": "stream",
     "text": [
      "Number of demos:  124\n",
      "Max length:  1500\n",
      "Min length:  465\n",
      "Mean length:  818.2903225806451\n"
     ]
    },
    {
     "data": {
      "text/plain": [
       "<KeysViewHDF5 ['bad_first', 'bad_second', 'bad_st', 'bad_third', 'clean40', 'clean40+selected20bad', 'g20', 'g20b30', 'g30', 'g30b30', 'g40', 'g40b20', 'g40b30', 'g40b40', 'g40b50', 'g40f10', 'g40s10', 'g40st10', 'g40t10', 'g50', 'g50f10', 'g50s10', 'g50st10', 'g50t10', 'g60b30', 'g60b40', 'good', 'selected20bad']>"
      ]
     },
     "execution_count": 5,
     "metadata": {},
     "output_type": "execute_result"
    }
   ],
   "source": [
    "dataset_path = '/home/ns1254/dataset_mimicgen/mug124_0ind.hdf5'\n",
    "\n",
    "# dataset_path = \"/home/ns1254/mimicgen/datasets/source/mug_cleanup.hdf5\"\n",
    "\n",
    "f_sub = h5py.File(dataset_path, \"r+\")\n",
    "demos = list(f_sub[\"data\"].keys())\n",
    "\n",
    "lengths=[]\n",
    "for demo_name in demos:\n",
    "    demo=f_sub['data'][demo_name]\n",
    "    num_samples=demo.attrs['num_samples']\n",
    "    lengths.append(num_samples)\n",
    "\n",
    "lengths=np.array(lengths)\n",
    "\n",
    "print('Number of demos: ', len(demos))\n",
    "print('Max length: ', np.max(lengths))\n",
    "print('Min length: ', np.min(lengths))\n",
    "print('Mean length: ', np.mean(lengths))\n",
    "\n",
    "f_sub['mask'].keys() "
   ]
  },
  {
   "cell_type": "code",
   "execution_count": 7,
   "metadata": {},
   "outputs": [
    {
     "data": {
      "text/plain": [
       "<KeysViewHDF5 ['env_args']>"
      ]
     },
     "execution_count": 7,
     "metadata": {},
     "output_type": "execute_result"
    }
   ],
   "source": [
    "f_org['data'].attrs.keys()"
   ]
  },
  {
   "cell_type": "code",
   "execution_count": 10,
   "metadata": {},
   "outputs": [
    {
     "data": {
      "text/plain": [
       "<KeysViewHDF5 ['env_args']>"
      ]
     },
     "execution_count": 10,
     "metadata": {},
     "output_type": "execute_result"
    }
   ],
   "source": [
    "f_sub['data'].attrs.keys()"
   ]
  },
  {
   "cell_type": "code",
   "execution_count": 9,
   "metadata": {},
   "outputs": [],
   "source": [
    "# f_sub['data'].attrs['env_args'] = f_org['data'].attrs['env_args']"
   ]
  },
  {
   "cell_type": "code",
   "execution_count": 11,
   "metadata": {},
   "outputs": [],
   "source": [
    "f_sub.close()"
   ]
  },
  {
   "cell_type": "code",
   "execution_count": null,
   "metadata": {},
   "outputs": [],
   "source": []
  },
  {
   "cell_type": "code",
   "execution_count": null,
   "metadata": {},
   "outputs": [],
   "source": []
  }
 ],
 "metadata": {
  "kernelspec": {
   "display_name": "Python 3",
   "language": "python",
   "name": "python3"
  },
  "language_info": {
   "codemirror_mode": {
    "name": "ipython",
    "version": 3
   },
   "file_extension": ".py",
   "mimetype": "text/x-python",
   "name": "python",
   "nbconvert_exporter": "python",
   "pygments_lexer": "ipython3",
   "version": "3.9.18"
  },
  "orig_nbformat": 4
 },
 "nbformat": 4,
 "nbformat_minor": 2
}
