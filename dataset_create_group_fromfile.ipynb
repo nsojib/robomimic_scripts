{
 "cells": [
  {
   "cell_type": "code",
   "execution_count": 1,
   "id": "4e2b90e6",
   "metadata": {},
   "outputs": [
    {
     "name": "stdout",
     "output_type": "stream",
     "text": [
      "\u001b[33mROBOMIMIC WARNING(\n",
      "    No private macro file found!\n",
      "    It is recommended to use a private macro file\n",
      "    To setup, run: python /home/ns1254/mimicgen/envs/robomimic/robomimic/scripts/setup_macros.py\n",
      ")\u001b[0m\n"
     ]
    }
   ],
   "source": [
    "import os\n",
    "import json\n",
    "import h5py\n",
    "import numpy as np\n",
    "\n",
    "import robomimic\n",
    "import robomimic.utils.file_utils as FileUtils\n",
    "import robomimic.utils.env_utils as EnvUtils\n",
    "import robomimic.utils.obs_utils as ObsUtils\n",
    "import imageio\n",
    "import tqdm\n",
    "from robomimic.utils.file_utils import create_hdf5_filter_key"
   ]
  },
  {
   "cell_type": "code",
   "execution_count": 2,
   "id": "c0d6a8ef",
   "metadata": {},
   "outputs": [],
   "source": [
    "dataset_path = \"/home/ns1254/data_franka/bellpepper_oma/akash_100.hdf5\""
   ]
  },
  {
   "cell_type": "code",
   "execution_count": 3,
   "id": "a35cd8e9",
   "metadata": {},
   "outputs": [],
   "source": [
    "f = h5py.File(dataset_path, \"r+\")\n",
    "demos = list(f[\"data\"].keys())"
   ]
  },
  {
   "cell_type": "code",
   "execution_count": 4,
   "id": "eea881c7",
   "metadata": {},
   "outputs": [
    {
     "name": "stdout",
     "output_type": "stream",
     "text": [
      "Number of demos:  100\n",
      "Max length:  635\n",
      "Min length:  88\n",
      "Mean length:  245.45\n"
     ]
    }
   ],
   "source": [
    "lengths=[]\n",
    "demos_minmax={}\n",
    "for demo_name in demos:\n",
    "    demo=f['data'][demo_name]\n",
    "    num_samples=demo.attrs['num_samples']\n",
    "    lengths.append(num_samples)\n",
    "\n",
    "    action=f['data'][demo_name]['actions']\n",
    "    action=np.array(action) \n",
    "    demos_minmax[demo_name] = (np.min(action, axis=0), np.max(action, axis=0))\n",
    "\n",
    "\n",
    "lengths=np.array(lengths)\n",
    "\n",
    "print('Number of demos: ', len(demos))\n",
    "print('Max length: ', np.max(lengths))\n",
    "print('Min length: ', np.min(lengths))\n",
    "print('Mean length: ', np.mean(lengths))"
   ]
  },
  {
   "cell_type": "code",
   "execution_count": null,
   "id": "bc71c014",
   "metadata": {},
   "outputs": [],
   "source": []
  },
  {
   "cell_type": "code",
   "execution_count": 5,
   "id": "3e78f67b",
   "metadata": {},
   "outputs": [
    {
     "name": "stdout",
     "output_type": "stream",
     "text": [
      "bad <HDF5 dataset \"bad\": shape (65,), type \"|S7\">\n",
      "good <HDF5 dataset \"good\": shape (35,), type \"|S7\">\n"
     ]
    }
   ],
   "source": [
    "for key in f['mask'].keys():\n",
    "    print(key, f['mask'][key])"
   ]
  },
  {
   "cell_type": "code",
   "execution_count": null,
   "id": "2757936b",
   "metadata": {},
   "outputs": [],
   "source": []
  },
  {
   "cell_type": "markdown",
   "id": "6fef4d51",
   "metadata": {},
   "source": [
    "### create group from a list in text file"
   ]
  },
  {
   "cell_type": "code",
   "execution_count": 8,
   "id": "c1461eac",
   "metadata": {},
   "outputs": [
    {
     "data": {
      "text/plain": [
       "(65, ['demo_0', 'demo_12', 'demo_13', 'demo_14', 'demo_15'])"
      ]
     },
     "execution_count": 8,
     "metadata": {},
     "output_type": "execute_result"
    }
   ],
   "source": [
    "fn='/home/ns1254/data_franka/bellpepper_oma/bad_akash.txt'\n",
    "with open(fn, 'r') as f:\n",
    "    file_demos = f.readlines()\n",
    "demos = [x.strip().split(\".\")[0] for x in file_demos]\n",
    "len(demos), demos[:5]"
   ]
  },
  {
   "cell_type": "code",
   "execution_count": 9,
   "id": "bc4941ee",
   "metadata": {},
   "outputs": [],
   "source": [
    "demos=np.array(demos, dtype='S8')\n",
    "\n",
    "hdf5_path=dataset_path\n",
    "\n",
    "filter_keys=sorted([elem for elem in demos])\n",
    "filter_name='bad'\n",
    "filter_lengths = create_hdf5_filter_key(hdf5_path=hdf5_path, demo_keys=filter_keys, key_name=filter_name)"
   ]
  },
  {
   "cell_type": "code",
   "execution_count": 6,
   "id": "4eab1500",
   "metadata": {},
   "outputs": [],
   "source": [
    "f.close()"
   ]
  },
  {
   "cell_type": "code",
   "execution_count": null,
   "id": "d4f78980",
   "metadata": {},
   "outputs": [],
   "source": []
  },
  {
   "attachments": {},
   "cell_type": "markdown",
   "id": "4f9c48ca",
   "metadata": {},
   "source": [
    "### create groups from list of names"
   ]
  },
  {
   "cell_type": "code",
   "execution_count": 6,
   "id": "c651c8da",
   "metadata": {},
   "outputs": [],
   "source": [
    "demo_names=\"\"\"\n",
    "demo_12.mp4\n",
    "demo_14.mp4\n",
    "demo_17.mp4\n",
    "demo_19.mp4\n",
    "demo_23.mp4\n",
    "demo_28.mp4\n",
    "demo_32.mp4\n",
    "demo_38.mp4\n",
    "demo_39.mp4\n",
    "demo_3.mp4\n",
    "demo_44.mp4\n",
    "demo_45.mp4\n",
    "demo_46.mp4\n",
    "demo_52.mp4\n",
    "demo_5.mp4\n",
    "\"\"\""
   ]
  },
  {
   "cell_type": "code",
   "execution_count": 7,
   "id": "8b00b522",
   "metadata": {},
   "outputs": [
    {
     "data": {
      "text/plain": [
       "(15, ['demo_12', 'demo_14', 'demo_17', 'demo_19', 'demo_23'])"
      ]
     },
     "execution_count": 7,
     "metadata": {},
     "output_type": "execute_result"
    }
   ],
   "source": [
    "demo_ids  = [line.replace(\".mp4\", \"\") for line in demo_names.strip().split('\\n')]\n",
    "len(demo_ids), demo_ids[:5]"
   ]
  },
  {
   "cell_type": "code",
   "execution_count": null,
   "id": "0bba37d5",
   "metadata": {},
   "outputs": [],
   "source": [
    "#59, 60, 61, 62, 64, 67, 69, 71, 72, 74, 100, 101, 102, 103, 104, 105, 106, 107, 108, 109"
   ]
  },
  {
   "cell_type": "code",
   "execution_count": 8,
   "id": "fbc82614",
   "metadata": {},
   "outputs": [],
   "source": [
    "good_demos=demo_ids\n",
    "good_demos=np.array(good_demos, dtype='S8')\n",
    "\n",
    "hdf5_path=dataset_path\n",
    "\n",
    "filter_keys=sorted([elem for elem in good_demos])\n",
    "filter_name='sg15'\n",
    "filter_lengths = create_hdf5_filter_key(hdf5_path=hdf5_path, demo_keys=filter_keys, key_name=filter_name)"
   ]
  },
  {
   "cell_type": "code",
   "execution_count": 12,
   "id": "806513d2",
   "metadata": {},
   "outputs": [],
   "source": [
    "f.close()"
   ]
  },
  {
   "cell_type": "code",
   "execution_count": 6,
   "id": "daf17c17",
   "metadata": {},
   "outputs": [
    {
     "data": {
      "text/plain": [
       "(18, 22)"
      ]
     },
     "execution_count": 6,
     "metadata": {},
     "output_type": "execute_result"
    }
   ],
   "source": [
    "clean_demos=[demo.decode('utf-8') for demo in f['mask']['good']]\n",
    "bad_demos=[demo.decode('utf-8') for demo in f['mask']['more22']] \n",
    "len(clean_demos), len(bad_demos)"
   ]
  },
  {
   "cell_type": "code",
   "execution_count": 7,
   "id": "93f8550d",
   "metadata": {},
   "outputs": [
    {
     "data": {
      "text/plain": [
       "(40,)"
      ]
     },
     "execution_count": 7,
     "metadata": {},
     "output_type": "execute_result"
    }
   ],
   "source": [
    "goodbad = clean_demos+ bad_demos\n",
    "goodbad=np.array(goodbad, dtype='S8')\n",
    "goodbad.shape"
   ]
  },
  {
   "cell_type": "code",
   "execution_count": 8,
   "id": "d41130ae",
   "metadata": {},
   "outputs": [],
   "source": [
    "hdf5_path=dataset_path\n",
    "\n",
    "filter_keys=sorted([elem for elem in goodbad])\n",
    "filter_name='lay40'\n",
    "filter_lengths = create_hdf5_filter_key(hdf5_path=hdf5_path, demo_keys=filter_keys, key_name=filter_name)"
   ]
  },
  {
   "cell_type": "code",
   "execution_count": null,
   "id": "0cd30c1d",
   "metadata": {},
   "outputs": [],
   "source": []
  },
  {
   "cell_type": "code",
   "execution_count": 22,
   "id": "a7b10328",
   "metadata": {},
   "outputs": [
    {
     "data": {
      "text/plain": [
       "(22, ['demo_10', 'demo_11', 'demo_13', 'demo_16', 'demo_17'])"
      ]
     },
     "execution_count": 22,
     "metadata": {},
     "output_type": "execute_result"
    }
   ],
   "source": [
    "# names_bad=\"\"\"\n",
    "# demo_101.mp4\n",
    "# demo_69.mp4\n",
    "# \"\"\"\n",
    "\n",
    "# demo_ids  = [line.replace(\".mp4\", \"\") for line in names_bad.strip().split('\\n')]\n",
    "# len(demo_ids), demo_ids[:5]"
   ]
  },
  {
   "cell_type": "code",
   "execution_count": 23,
   "id": "d17924dd",
   "metadata": {},
   "outputs": [],
   "source": [
    "# bad_demos=demo_ids\n",
    "# bad_demos=np.array(bad_demos, dtype='S8')\n",
    "\n",
    "# hdf5_path=dataset_path\n",
    "\n",
    "# filter_keys=sorted([elem for elem in bad_demos])\n",
    "# filter_name='bad'\n",
    "# filter_lengths = create_hdf5_filter_key(hdf5_path=hdf5_path, demo_keys=filter_keys, key_name=filter_name)"
   ]
  },
  {
   "cell_type": "code",
   "execution_count": null,
   "id": "31a3324b",
   "metadata": {},
   "outputs": [],
   "source": []
  },
  {
   "cell_type": "code",
   "execution_count": null,
   "id": "d1d2cd1b",
   "metadata": {},
   "outputs": [],
   "source": []
  },
  {
   "cell_type": "markdown",
   "id": "6b122f5e",
   "metadata": {},
   "source": [
    "### verify"
   ]
  },
  {
   "cell_type": "code",
   "execution_count": 10,
   "id": "64e32bc6",
   "metadata": {},
   "outputs": [
    {
     "name": "stdout",
     "output_type": "stream",
     "text": [
      "Number of demos:  54\n",
      "Max length:  4000\n",
      "Min length:  1104\n",
      "Mean length:  2280.1666666666665\n"
     ]
    }
   ],
   "source": [
    "f = h5py.File(dataset_path, \"r\")\n",
    "demos = list(f[\"data\"].keys())\n",
    "  \n",
    "lengths=[]\n",
    "for demo_name in demos:\n",
    "    demo=f['data'][demo_name]\n",
    "    num_samples=demo.attrs['num_samples']\n",
    "    lengths.append(num_samples)\n",
    "\n",
    "lengths=np.array(lengths)\n",
    "\n",
    "print('Number of demos: ', len(demos))\n",
    "print('Max length: ', np.max(lengths))\n",
    "print('Min length: ', np.min(lengths))\n",
    "print('Mean length: ', np.mean(lengths))"
   ]
  },
  {
   "cell_type": "code",
   "execution_count": 11,
   "id": "4400c576",
   "metadata": {},
   "outputs": [
    {
     "data": {
      "text/plain": [
       "<KeysViewHDF5 ['data', 'mask']>"
      ]
     },
     "execution_count": 11,
     "metadata": {},
     "output_type": "execute_result"
    }
   ],
   "source": [
    "f.keys()"
   ]
  },
  {
   "cell_type": "code",
   "execution_count": 12,
   "id": "2f753808",
   "metadata": {},
   "outputs": [
    {
     "name": "stdout",
     "output_type": "stream",
     "text": [
      "good <HDF5 dataset \"good\": shape (18,), type \"|S8\">\n",
      "train <HDF5 dataset \"train\": shape (49,), type \"|S7\">\n",
      "valid <HDF5 dataset \"valid\": shape (5,), type \"|S7\">\n"
     ]
    }
   ],
   "source": [
    "for key in f['mask'].keys():\n",
    "    print(key, f['mask'][key])"
   ]
  },
  {
   "cell_type": "code",
   "execution_count": 13,
   "id": "14bb6396",
   "metadata": {},
   "outputs": [],
   "source": [
    "f.close()"
   ]
  },
  {
   "cell_type": "code",
   "execution_count": null,
   "id": "fb3870a3",
   "metadata": {},
   "outputs": [],
   "source": []
  },
  {
   "cell_type": "code",
   "execution_count": null,
   "id": "195d8ea5",
   "metadata": {},
   "outputs": [],
   "source": []
  },
  {
   "cell_type": "code",
   "execution_count": null,
   "id": "ce2e4074",
   "metadata": {},
   "outputs": [],
   "source": []
  },
  {
   "cell_type": "code",
   "execution_count": null,
   "id": "1dccf39b",
   "metadata": {},
   "outputs": [],
   "source": []
  },
  {
   "cell_type": "code",
   "execution_count": null,
   "id": "6a72e323",
   "metadata": {},
   "outputs": [],
   "source": []
  }
 ],
 "metadata": {
  "kernelspec": {
   "display_name": "Python 3",
   "language": "python",
   "name": "python3"
  },
  "language_info": {
   "codemirror_mode": {
    "name": "ipython",
    "version": 3
   },
   "file_extension": ".py",
   "mimetype": "text/x-python",
   "name": "python",
   "nbconvert_exporter": "python",
   "pygments_lexer": "ipython3",
   "version": "3.8.19"
  }
 },
 "nbformat": 4,
 "nbformat_minor": 5
}
